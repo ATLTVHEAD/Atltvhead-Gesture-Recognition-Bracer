{
 "cells": [
  {
   "cell_type": "code",
   "execution_count": 1,
   "metadata": {},
   "outputs": [],
   "source": [
    "import numpy as np \n",
    "import pandas as pd \n",
    "import datetime\n",
    "import matplotlib.pyplot as plt\n",
    "import seaborn as sb\n",
    "import re\n",
    "import os\n",
    "import time"
   ]
  },
  {
   "cell_type": "code",
   "execution_count": null,
   "metadata": {},
   "outputs": [],
   "source": [
    "sb.set_palette(\"husl\",3)\n",
    "sb.set_style(\"whitegrid\")"
   ]
  },
  {
   "cell_type": "markdown",
   "metadata": {},
   "source": [
    "# Data Preprocess"
   ]
  },
  {
   "cell_type": "markdown",
   "metadata": {},
   "source": [
    "## Data Sampling Inconsistencies \n",
    "From the first set of plots and len(dataframe), each sample set of data seems to have a slightly different number of samples. Which is accurate. \n",
    "\n",
    "You can see in the Arduino sketch and the subsequent python data logging sketch that I did not give it a sampling rate, or the frequency at which samples are taken. So I will have an inconsistent number of data points for each motion captured. With an unknown number of data points in each sample it can become difficult to train a machine learning model. So why did I choose to do this to my data?\n",
    "\n",
    "1. I wanted to test the consistency of my sensor and micro-controller real max data acquisition. With this knowledge I can set a fast but realistic sampling rate. \n",
    "2. The real world is filled with messy data. I wanted to gather a data set that I would have to clean and preprocess to use in model training. In other words, I wanted to test myself. \n",
    "\n",
    "\n",
    "From the Data exploration it seems that the number of samples for each motion is roughly between 250-260 samples per second. \n",
    "\n",
    "100 samples per sec"
   ]
  }
 ],
 "metadata": {
  "kernelspec": {
   "display_name": "Python 3",
   "language": "python",
   "name": "python3"
  },
  "language_info": {
   "codemirror_mode": {
    "name": "ipython",
    "version": 3
   },
   "file_extension": ".py",
   "mimetype": "text/x-python",
   "name": "python",
   "nbconvert_exporter": "python",
   "pygments_lexer": "ipython3",
   "version": "3.7.6"
  }
 },
 "nbformat": 4,
 "nbformat_minor": 4
}