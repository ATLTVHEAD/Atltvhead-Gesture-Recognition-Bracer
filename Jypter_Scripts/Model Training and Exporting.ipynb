{
 "cells": [
  {
   "cell_type": "code",
   "execution_count": 1,
   "metadata": {
    "ExecuteTime": {
     "end_time": "2020-07-07T23:25:45.342277Z",
     "start_time": "2020-07-07T23:25:39.881397Z"
    }
   },
   "outputs": [],
   "source": [
    "import numpy as np \n",
    "import pandas as pd \n",
    "import datetime\n",
    "import re\n",
    "import os, os.path\n",
    "import time\n",
    "from sklearn.model_selection import train_test_split\n",
    "import random\n",
    "import tensorflow as tf\n",
    "import matplotlib.pyplot as plt\n",
    "import seaborn as sb"
   ]
  },
  {
   "cell_type": "code",
   "execution_count": 2,
   "metadata": {
    "ExecuteTime": {
     "end_time": "2020-07-07T23:25:45.349294Z",
     "start_time": "2020-07-07T23:25:45.344008Z"
    },
    "tags": []
   },
   "outputs": [
    {
     "name": "stdout",
     "output_type": "stream",
     "text": [
      "/app/data/Training_Data\n"
     ]
    }
   ],
   "source": [
    "cd ../Training_Data"
   ]
  },
  {
   "cell_type": "code",
   "execution_count": 3,
   "metadata": {
    "ExecuteTime": {
     "end_time": "2020-07-07T23:25:45.359660Z",
     "start_time": "2020-07-07T23:25:45.351515Z"
    },
    "tags": []
   },
   "outputs": [],
   "source": [
    "sb.set_palette(\"husl\",3)\n",
    "sb.set_style(\"whitegrid\")"
   ]
  },
  {
   "cell_type": "code",
   "execution_count": 4,
   "metadata": {
    "ExecuteTime": {
     "end_time": "2020-07-07T23:26:32.085418Z",
     "start_time": "2020-07-07T23:25:45.361348Z"
    }
   },
   "outputs": [],
   "source": [
    "train_set = pd.read_csv('processed_train_set.csv',converters={'acceleration': eval})\n",
    "test_set = pd.read_csv('processed_test_set.csv',converters={'acceleration': eval})\n",
    "val_set = pd.read_csv('processed_val_set.csv',converters={'acceleration': eval})"
   ]
  },
  {
   "cell_type": "code",
   "execution_count": null,
   "metadata": {
    "ExecuteTime": {
     "end_time": "2020-07-05T01:37:43.033315Z",
     "start_time": "2020-07-05T01:37:43.021214Z"
    },
    "tags": []
   },
   "outputs": [],
   "source": [
    "cd ../Model"
   ]
  },
  {
   "cell_type": "code",
   "execution_count": 5,
   "metadata": {
    "ExecuteTime": {
     "end_time": "2020-07-07T23:26:32.120064Z",
     "start_time": "2020-07-07T23:26:32.104650Z"
    }
   },
   "outputs": [],
   "source": [
    "def calculate_model_size(model):\n",
    "    print(model.summary())\n",
    "    var_sizes = [\n",
    "      np.product(list(map(int, v.shape))) * v.dtype.size\n",
    "      for v in model.trainable_variables\n",
    "      ]\n",
    "    print(\"Model size:\", sum(var_sizes) / 1024, \"KB\")"
   ]
  },
  {
   "cell_type": "code",
   "execution_count": 6,
   "metadata": {
    "ExecuteTime": {
     "end_time": "2020-07-07T23:26:33.310893Z",
     "start_time": "2020-07-07T23:26:32.124072Z"
    }
   },
   "outputs": [],
   "source": [
    "samples = len(train_set['acceleration'][0])\n",
    "\n",
    "lstm_model = tf.keras.Sequential([\n",
    "      tf.keras.layers.Bidirectional(\n",
    "          tf.keras.layers.LSTM(22),\n",
    "          input_shape=(samples, 3)),  # output_shape=(batch, 44)\n",
    "      tf.keras.layers.Dense(4, activation=\"sigmoid\")  # (batch, 4)\n",
    "])\n",
    "\n",
    "cnn_model = tf.keras.Sequential([\n",
    "    tf.keras.layers.Conv2D(8, (4, 3),padding=\"same\",activation=\"relu\",\n",
    "                           input_shape=(samples, 3, 1)),  # output_shape=(batch, 128, 3, 8)\n",
    "    tf.keras.layers.MaxPool2D((3, 3)),  # (batch, 42, 1, 8)\n",
    "    tf.keras.layers.Dropout(0.1),  # (batch, 42, 1, 8)\n",
    "    tf.keras.layers.Conv2D(16, (4, 1), padding=\"same\",activation=\"relu\"),  # (batch, 42, 1, 16)\n",
    "    tf.keras.layers.MaxPool2D((3, 1), padding=\"same\"),  # (batch, 14, 1, 16)\n",
    "    tf.keras.layers.Dropout(0.1),  # (batch, 14, 1, 16)\n",
    "    tf.keras.layers.Flatten(),  # (batch, 224)\n",
    "    tf.keras.layers.Dense(16, activation=\"relu\"),  # (batch, 16)\n",
    "    tf.keras.layers.Dropout(0.1),  # (batch, 16)\n",
    "    tf.keras.layers.Dense(4, activation=\"softmax\")  # (batch, 4)\n",
    "])\n",
    "\n",
    "cnn_model2 = tf.keras.Sequential([\n",
    "    tf.keras.layers.Conv2D(8, (4, 3),padding=\"same\",activation=\"relu\",\n",
    "                           input_shape=(samples, 3, 1)),  # output_shape=(batch, 128, 3, 8)\n",
    "    tf.keras.layers.MaxPool2D((3, 3)),  # (batch, 42, 1, 8)\n",
    "    tf.keras.layers.Dropout(0.1),  # (batch, 42, 1, 8)\n",
    "    tf.keras.layers.Conv2D(16, (4, 1), padding=\"same\",activation=\"relu\"),  # (batch, 42, 1, 16)\n",
    "    tf.keras.layers.MaxPool2D((3, 1), padding=\"same\"),  # (batch, 14, 1, 16)\n",
    "    tf.keras.layers.Dropout(0.1),  # (batch, 14, 1, 16)\n",
    "    tf.keras.layers.Flatten(),  # (batch, 224)\n",
    "    tf.keras.layers.Dense(16, activation=\"relu\"),  # (batch, 16)\n",
    "    tf.keras.layers.Dropout(0.1),  # (batch, 16)\n",
    "    tf.keras.layers.Dense(4, activation=\"softmax\")  # (batch, 4)\n",
    "])"
   ]
  },
  {
   "cell_type": "code",
   "execution_count": 7,
   "metadata": {
    "ExecuteTime": {
     "end_time": "2020-07-07T23:27:16.315828Z",
     "start_time": "2020-07-07T23:27:11.773437Z"
    }
   },
   "outputs": [],
   "source": [
    "tensor_train_set = tf.data.Dataset.from_tensor_slices(\n",
    "    (np.array(train_set['acceleration'].tolist(),dtype=np.float64),\n",
    "     train_set['gesture'].tolist()))\n",
    "\n",
    "tensor_test_set = tf.data.Dataset.from_tensor_slices(\n",
    "    (np.array(test_set['acceleration'].tolist(),dtype=np.float64),\n",
    "     test_set['gesture'].tolist()))\n",
    "\n",
    "tensor_val_set = tf.data.Dataset.from_tensor_slices(\n",
    "    (np.array(val_set['acceleration'].tolist(),dtype=np.float64),\n",
    "     val_set['gesture'].tolist()))"
   ]
  },
  {
   "cell_type": "code",
   "execution_count": 15,
   "metadata": {
    "ExecuteTime": {
     "end_time": "2020-07-07T23:49:15.449053Z",
     "start_time": "2020-07-07T23:49:15.395576Z"
    },
    "tags": []
   },
   "outputs": [
    {
     "name": "stdout",
     "output_type": "stream",
     "text": [
      "Model: \"sequential\"\n",
      "_________________________________________________________________\n",
      "Layer (type)                 Output Shape              Param #   \n",
      "=================================================================\n",
      "bidirectional (Bidirectional (None, 44)                4576      \n",
      "_________________________________________________________________\n",
      "dense (Dense)                (None, 4)                 180       \n",
      "=================================================================\n",
      "Total params: 4,756\n",
      "Trainable params: 4,756\n",
      "Non-trainable params: 0\n",
      "_________________________________________________________________\n",
      "None\n",
      "Model size: 18.578125 KB\n",
      "Model: \"sequential_1\"\n",
      "_________________________________________________________________\n",
      "Layer (type)                 Output Shape              Param #   \n",
      "=================================================================\n",
      "conv2d (Conv2D)              (None, 760, 3, 8)         104       \n",
      "_________________________________________________________________\n",
      "max_pooling2d (MaxPooling2D) (None, 253, 1, 8)         0         \n",
      "_________________________________________________________________\n",
      "dropout (Dropout)            (None, 253, 1, 8)         0         \n",
      "_________________________________________________________________\n",
      "conv2d_1 (Conv2D)            (None, 253, 1, 16)        528       \n",
      "_________________________________________________________________\n",
      "max_pooling2d_1 (MaxPooling2 (None, 85, 1, 16)         0         \n",
      "_________________________________________________________________\n",
      "dropout_1 (Dropout)          (None, 85, 1, 16)         0         \n",
      "_________________________________________________________________\n",
      "flatten (Flatten)            (None, 1360)              0         \n",
      "_________________________________________________________________\n",
      "dense_1 (Dense)              (None, 16)                21776     \n",
      "_________________________________________________________________\n",
      "dropout_2 (Dropout)          (None, 16)                0         \n",
      "_________________________________________________________________\n",
      "dense_2 (Dense)              (None, 4)                 68        \n",
      "=================================================================\n",
      "Total params: 22,476\n",
      "Trainable params: 22,476\n",
      "Non-trainable params: 0\n",
      "_________________________________________________________________\n",
      "None\n",
      "Model size: 87.796875 KB\n",
      "Model: \"sequential_2\"\n",
      "_________________________________________________________________\n",
      "Layer (type)                 Output Shape              Param #   \n",
      "=================================================================\n",
      "conv2d_2 (Conv2D)            (None, 760, 3, 8)         104       \n",
      "_________________________________________________________________\n",
      "max_pooling2d_2 (MaxPooling2 (None, 253, 1, 8)         0         \n",
      "_________________________________________________________________\n",
      "dropout_3 (Dropout)          (None, 253, 1, 8)         0         \n",
      "_________________________________________________________________\n",
      "conv2d_3 (Conv2D)            (None, 253, 1, 16)        528       \n",
      "_________________________________________________________________\n",
      "max_pooling2d_3 (MaxPooling2 (None, 85, 1, 16)         0         \n",
      "_________________________________________________________________\n",
      "dropout_4 (Dropout)          (None, 85, 1, 16)         0         \n",
      "_________________________________________________________________\n",
      "flatten_1 (Flatten)          (None, 1360)              0         \n",
      "_________________________________________________________________\n",
      "dense_3 (Dense)              (None, 16)                21776     \n",
      "_________________________________________________________________\n",
      "dropout_5 (Dropout)          (None, 16)                0         \n",
      "_________________________________________________________________\n",
      "dense_4 (Dense)              (None, 4)                 68        \n",
      "=================================================================\n",
      "Total params: 22,476\n",
      "Trainable params: 22,476\n",
      "Non-trainable params: 0\n",
      "_________________________________________________________________\n",
      "None\n",
      "Model size: 87.796875 KB\n"
     ]
    }
   ],
   "source": [
    "calculate_model_size(lstm_model)\n",
    "epochs_cnn = 20\n",
    "epochs_lstm = 10\n",
    "batch_size = 64\n",
    "lstm_model.compile(\n",
    "    optimizer=\"adam\",\n",
    "    loss=\"sparse_categorical_crossentropy\",\n",
    "    metrics=[\"accuracy\"])\n",
    "\n",
    "calculate_model_size(cnn_model)\n",
    "cnn_model.compile(\n",
    "    optimizer=\"adam\",\n",
    "    loss=\"sparse_categorical_crossentropy\",\n",
    "    metrics=[\"accuracy\"])\n",
    "\n",
    "calculate_model_size(cnn_model2)\n",
    "cnn_model2.compile(\n",
    "    optimizer=\"adam\",\n",
    "    loss=\"sparse_categorical_crossentropy\",\n",
    "    metrics=[\"accuracy\"])"
   ]
  },
  {
   "cell_type": "code",
   "execution_count": 9,
   "metadata": {
    "ExecuteTime": {
     "end_time": "2020-07-07T23:27:25.111457Z",
     "start_time": "2020-07-07T23:27:25.099952Z"
    }
   },
   "outputs": [],
   "source": [
    "tensor_train_set_lstm = tensor_train_set.batch(batch_size).repeat()\n",
    "tensor_val_set_lstm = tensor_val_set.batch(batch_size)\n",
    "tensor_test_set_lstm = tensor_test_set.batch(batch_size)"
   ]
  },
  {
   "cell_type": "code",
   "execution_count": 16,
   "metadata": {
    "ExecuteTime": {
     "end_time": "2020-07-07T23:59:02.625357Z",
     "start_time": "2020-07-07T23:49:20.844305Z"
    },
    "tags": []
   },
   "outputs": [
    {
     "name": "stdout",
     "output_type": "stream",
     "text": [
      "Epoch 1/16\n",
      "200/200 [==============================] - 35s 177ms/step - loss: 0.1742 - accuracy: 0.9442 - val_loss: 0.3731 - val_accuracy: 0.9118\n",
      "Epoch 2/16\n",
      "200/200 [==============================] - 35s 173ms/step - loss: 0.1800 - accuracy: 0.9446 - val_loss: 0.4699 - val_accuracy: 0.8529\n",
      "Epoch 3/16\n",
      "200/200 [==============================] - 34s 171ms/step - loss: 0.1297 - accuracy: 0.9607 - val_loss: 0.5107 - val_accuracy: 0.8676\n",
      "Epoch 4/16\n",
      "200/200 [==============================] - 34s 172ms/step - loss: 0.1813 - accuracy: 0.9500 - val_loss: 0.2181 - val_accuracy: 0.9118\n",
      "Epoch 5/16\n",
      "200/200 [==============================] - 34s 172ms/step - loss: 0.1429 - accuracy: 0.9613 - val_loss: 0.2020 - val_accuracy: 0.9412\n",
      "Epoch 6/16\n",
      "200/200 [==============================] - 34s 171ms/step - loss: 0.1550 - accuracy: 0.9605 - val_loss: 0.4928 - val_accuracy: 0.8824\n",
      "Epoch 7/16\n",
      "200/200 [==============================] - 35s 173ms/step - loss: 0.1063 - accuracy: 0.9713 - val_loss: 0.2907 - val_accuracy: 0.9118\n",
      "Epoch 8/16\n",
      "200/200 [==============================] - 38s 189ms/step - loss: 0.0944 - accuracy: 0.9785 - val_loss: 0.3429 - val_accuracy: 0.9118\n",
      "Epoch 9/16\n",
      "200/200 [==============================] - 38s 191ms/step - loss: 0.0630 - accuracy: 0.9841 - val_loss: 0.3040 - val_accuracy: 0.9118\n",
      "Epoch 10/16\n",
      "200/200 [==============================] - 39s 194ms/step - loss: 0.0746 - accuracy: 0.9817 - val_loss: 0.2109 - val_accuracy: 0.9118\n",
      "Epoch 11/16\n",
      "200/200 [==============================] - 38s 189ms/step - loss: 0.0580 - accuracy: 0.9859 - val_loss: 0.1782 - val_accuracy: 0.9412\n",
      "Epoch 12/16\n",
      "200/200 [==============================] - 36s 179ms/step - loss: 0.0744 - accuracy: 0.9797 - val_loss: 0.1403 - val_accuracy: 0.9706\n",
      "Epoch 13/16\n",
      "200/200 [==============================] - 36s 182ms/step - loss: 0.0535 - accuracy: 0.9862 - val_loss: 0.2074 - val_accuracy: 0.9118\n",
      "Epoch 14/16\n",
      "200/200 [==============================] - 36s 181ms/step - loss: 0.1073 - accuracy: 0.9712 - val_loss: 0.1260 - val_accuracy: 0.9706\n",
      "Epoch 15/16\n",
      "200/200 [==============================] - 36s 181ms/step - loss: 0.0706 - accuracy: 0.9778 - val_loss: 0.1078 - val_accuracy: 0.9706\n",
      "Epoch 16/16\n",
      "200/200 [==============================] - 36s 182ms/step - loss: 0.0653 - accuracy: 0.9832 - val_loss: 0.0956 - val_accuracy: 0.9706\n"
     ]
    }
   ],
   "source": [
    "history = lstm_model.fit(\n",
    "    tensor_train_set_lstm,\n",
    "    epochs=epochs_lstm,\n",
    "    validation_data=tensor_val_set_lstm,\n",
    "    steps_per_epoch=200,\n",
    "    validation_steps=int((len(val_set) - 1) / batch_size + 1))"
   ]
  },
  {
   "cell_type": "code",
   "execution_count": 17,
   "metadata": {
    "ExecuteTime": {
     "end_time": "2020-07-07T23:59:03.312069Z",
     "start_time": "2020-07-07T23:59:02.637847Z"
    },
    "tags": []
   },
   "outputs": [
    {
     "name": "stdout",
     "output_type": "stream",
     "text": [
      "1/1 [==============================] - 0s 971us/step - loss: 0.2620 - accuracy: 0.9348\n"
     ]
    }
   ],
   "source": [
    "loss_lstm, acc_lstm = lstm_model.evaluate(tensor_test_set_lstm)\n",
    "pred_lstm = np.argmax(lstm_model.predict(tensor_test_set_lstm), axis=1)\n",
    "confusion_lstm = tf.math.confusion_matrix(\n",
    "    labels=tf.constant(test_set['gesture'].to_numpy()),\n",
    "    predictions=tf.constant(pred_lstm),\n",
    "    num_classes=4)"
   ]
  },
  {
   "cell_type": "code",
   "execution_count": 18,
   "metadata": {
    "ExecuteTime": {
     "end_time": "2020-07-07T23:59:03.322360Z",
     "start_time": "2020-07-07T23:59:03.316974Z"
    },
    "tags": []
   },
   "outputs": [
    {
     "name": "stdout",
     "output_type": "stream",
     "text": [
      "tf.Tensor(\n",
      "[[12  0  2  0]\n",
      " [ 0 10  0  0]\n",
      " [ 0  0 14  0]\n",
      " [ 0  0  1  7]], shape=(4, 4), dtype=int32)\n",
      "Loss 0.2619706988334656, Accuracy 0.9347826242446899\n"
     ]
    }
   ],
   "source": [
    "print(confusion_lstm)\n",
    "print(\"Loss {}, Accuracy {}\".format(loss_lstm, acc_lstm))"
   ]
  },
  {
   "cell_type": "code",
   "execution_count": 19,
   "metadata": {
    "ExecuteTime": {
     "end_time": "2020-07-07T23:59:03.656383Z",
     "start_time": "2020-07-07T23:59:03.328293Z"
    }
   },
   "outputs": [
    {
     "data": {
      "text/plain": [
       "<matplotlib.legend.Legend at 0x7f06d6e857d0>"
      ]
     },
     "execution_count": 19,
     "metadata": {},
     "output_type": "execute_result"
    },
    {
     "data": {
      "image/png": "[encoded data removed]",
      "text/plain": [
       "<Figure size 432x288 with 1 Axes>"
      ]
     },
     "metadata": {},
     "output_type": "display_data"
    }
   ],
   "source": [
    "plt.plot(history.history['accuracy'])\n",
    "plt.plot(history.history['val_accuracy'])\n",
    "plt.xlabel('Epochs')\n",
    "plt.ylabel('Acc')\n",
    "plt.legend(['Training','Validation'],loc='upper right')"
   ]
  },
  {
   "cell_type": "code",
   "execution_count": 20,
   "metadata": {
    "ExecuteTime": {
     "end_time": "2020-07-07T23:59:03.952694Z",
     "start_time": "2020-07-07T23:59:03.657872Z"
    }
   },
   "outputs": [
    {
     "data": {
      "text/plain": [
       "<matplotlib.legend.Legend at 0x7f06d6e28c90>"
      ]
     },
     "execution_count": 20,
     "metadata": {},
     "output_type": "execute_result"
    },
    {
     "data": {
      "image/png": "[encoded data removed]",
      "text/plain": [
       "<Figure size 432x288 with 1 Axes>"
      ]
     },
     "metadata": {},
     "output_type": "display_data"
    }
   ],
   "source": [
    "plt.plot(history.history['loss'])\n",
    "plt.plot(history.history['val_loss'])\n",
    "plt.xlabel('Epochs')\n",
    "plt.ylabel('Loss')\n",
    "plt.legend(['Training','Validation'],loc='upper right')"
   ]
  },
  {
   "cell_type": "code",
   "execution_count": null,
   "metadata": {
    "ExecuteTime": {
     "start_time": "2020-07-07T22:58:22.981Z"
    },
    "tags": []
   },
   "outputs": [],
   "source": [
    "converter = tf.lite.TFLiteConverter.from_keras_model(lstm_model)\n",
    "lstm_tflite_model = converter.convert()\n",
    "\n",
    "open(\"lstm_model.tflite\", \"wb\").write(lstm_tflite_model)"
   ]
  },
  {
   "cell_type": "code",
   "execution_count": null,
   "metadata": {
    "ExecuteTime": {
     "end_time": "2020-07-05T02:15:22.785851Z",
     "start_time": "2020-07-05T02:15:17.931532Z"
    },
    "tags": []
   },
   "outputs": [],
   "source": [
    "converter = tf.lite.TFLiteConverter.from_keras_model(lstm_model)\n",
    "converter.experimental_new_converter = True\n",
    "converter.optimizations = [tf.lite.Optimize.OPTIMIZE_FOR_SIZE]\n",
    "converter.target_spec.supported_types = [tf.float16]\n",
    "lstm_opt_tflite_model = converter.convert()\n",
    "# Save the model to disk\n",
    "open(\"lstm_model_quantized.tflite\", \"wb\").write(lstm_opt_tflite_model)"
   ]
  },
  {
   "cell_type": "code",
   "execution_count": null,
   "metadata": {
    "ExecuteTime": {
     "end_time": "2020-07-05T02:15:32.342762Z",
     "start_time": "2020-07-05T02:15:32.310067Z"
    },
    "tags": []
   },
   "outputs": [],
   "source": [
    "basic_model_size = os.path.getsize(\"lstm_model.tflite\")\n",
    "print(\"Basic model is %d bytes\" % basic_model_size)\n",
    "quantized_model_size = os.path.getsize(\"lstm_model_quantized.tflite\")\n",
    "print(\"Quantized model is %d bytes\" % quantized_model_size)\n",
    "difference = basic_model_size - quantized_model_size\n",
    "print(\"Difference is %d bytes\" % difference)"
   ]
  },
  {
   "cell_type": "code",
   "execution_count": null,
   "metadata": {},
   "outputs": [],
   "source": []
  },
  {
   "cell_type": "code",
   "execution_count": null,
   "metadata": {},
   "outputs": [],
   "source": []
  },
  {
   "cell_type": "code",
   "execution_count": 13,
   "metadata": {
    "ExecuteTime": {
     "end_time": "2020-07-07T21:38:58.923078Z",
     "start_time": "2020-07-07T21:38:58.919901Z"
    }
   },
   "outputs": [],
   "source": [
    "def reshape_function(data, label):\n",
    "    reshaped_data = tf.reshape(data, [-1, 3, 1])\n",
    "    return reshaped_data, label"
   ]
  },
  {
   "cell_type": "code",
   "execution_count": null,
   "metadata": {
    "ExecuteTime": {
     "start_time": "2020-07-07T21:10:47.639Z"
    }
   },
   "outputs": [],
   "source": [
    "train_set = pd.read_csv('processed_train_set.csv',converters={'acceleration': eval})\n",
    "test_set = pd.read_csv('processed_test_set.csv',converters={'acceleration': eval})\n",
    "val_set = pd.read_csv('processed_val_set.csv',converters={'acceleration': eval})\n",
    "\n",
    "tensor_train_set = tf.data.Dataset.from_tensor_slices(\n",
    "    (np.array(train_set['acceleration'].tolist(),dtype=np.float64),\n",
    "     train_set['gesture'].tolist()))\n",
    "\n",
    "tensor_test_set = tf.data.Dataset.from_tensor_slices(\n",
    "    (np.array(test_set['acceleration'].tolist(),dtype=np.float64),\n",
    "     test_set['gesture'].tolist()))\n",
    "\n",
    "tensor_val_set = tf.data.Dataset.from_tensor_slices(\n",
    "    (np.array(val_set['acceleration'].tolist(),dtype=np.float64),\n",
    "     val_set['gesture'].tolist()))"
   ]
  },
  {
   "cell_type": "code",
   "execution_count": 14,
   "metadata": {
    "ExecuteTime": {
     "end_time": "2020-07-07T21:39:01.733408Z",
     "start_time": "2020-07-07T21:39:01.622945Z"
    }
   },
   "outputs": [],
   "source": [
    "tensor_train_set_cnn = tensor_train_set.map(reshape_function)\n",
    "tensor_test_set_cnn = tensor_test_set.map(reshape_function)\n",
    "tensor_val_set_cnn = tensor_val_set.map(reshape_function)"
   ]
  },
  {
   "cell_type": "code",
   "execution_count": 15,
   "metadata": {
    "ExecuteTime": {
     "end_time": "2020-07-07T21:39:02.534970Z",
     "start_time": "2020-07-07T21:39:02.520939Z"
    }
   },
   "outputs": [],
   "source": [
    "tensor_train_set_cnn = tensor_train_set_cnn.batch(batch_size).repeat()\n",
    "tensor_test_set_cnn = tensor_test_set_cnn.batch(batch_size)\n",
    "tensor_val_set_cnn = tensor_val_set_cnn.batch(batch_size)"
   ]
  },
  {
   "cell_type": "code",
   "execution_count": 34,
   "metadata": {
    "ExecuteTime": {
     "end_time": "2020-07-07T22:40:53.985385Z",
     "start_time": "2020-07-07T22:37:30.797338Z"
    }
   },
   "outputs": [
    {
     "name": "stdout",
     "output_type": "stream",
     "text": [
      "Epoch 1/20\n",
      "300/300 [==============================] - 10s 35ms/step - loss: 0.0077 - accuracy: 0.9971 - val_loss: 0.5330 - val_accuracy: 0.9412\n",
      "Epoch 2/20\n",
      "300/300 [==============================] - 11s 37ms/step - loss: 0.0854 - accuracy: 0.9773 - val_loss: 0.4209 - val_accuracy: 0.9412\n",
      "Epoch 3/20\n",
      "300/300 [==============================] - 10s 34ms/step - loss: 0.0276 - accuracy: 0.9908 - val_loss: 0.2897 - val_accuracy: 0.9706\n",
      "Epoch 4/20\n",
      "300/300 [==============================] - 10s 32ms/step - loss: 0.0170 - accuracy: 0.9939 - val_loss: 0.2978 - val_accuracy: 0.9412\n",
      "Epoch 5/20\n",
      "300/300 [==============================] - 10s 33ms/step - loss: 0.0077 - accuracy: 0.9969 - val_loss: 0.2978 - val_accuracy: 0.9412\n",
      "Epoch 6/20\n",
      "300/300 [==============================] - 9s 32ms/step - loss: 0.0133 - accuracy: 0.9952 - val_loss: 0.2992 - val_accuracy: 0.9706\n",
      "Epoch 7/20\n",
      "300/300 [==============================] - 10s 34ms/step - loss: 0.0121 - accuracy: 0.9958 - val_loss: 0.2523 - val_accuracy: 0.9412\n",
      "Epoch 8/20\n",
      "300/300 [==============================] - 10s 33ms/step - loss: 0.0116 - accuracy: 0.9959 - val_loss: 0.3285 - val_accuracy: 0.9412\n",
      "Epoch 9/20\n",
      "300/300 [==============================] - 11s 35ms/step - loss: 0.0100 - accuracy: 0.9968 - val_loss: 0.2759 - val_accuracy: 0.9412\n",
      "Epoch 10/20\n",
      "300/300 [==============================] - 10s 35ms/step - loss: 0.0139 - accuracy: 0.9957 - val_loss: 0.4595 - val_accuracy: 0.9412\n",
      "Epoch 11/20\n",
      "300/300 [==============================] - 11s 35ms/step - loss: 0.0256 - accuracy: 0.9926 - val_loss: 0.4029 - val_accuracy: 0.9118\n",
      "Epoch 12/20\n",
      "300/300 [==============================] - 10s 34ms/step - loss: 0.0135 - accuracy: 0.9953 - val_loss: 0.2975 - val_accuracy: 0.9412\n",
      "Epoch 13/20\n",
      "300/300 [==============================] - 10s 34ms/step - loss: 0.0133 - accuracy: 0.9958 - val_loss: 0.4684 - val_accuracy: 0.9412\n",
      "Epoch 14/20\n",
      "300/300 [==============================] - 10s 32ms/step - loss: 0.0063 - accuracy: 0.9973 - val_loss: 0.4418 - val_accuracy: 0.9412\n",
      "Epoch 15/20\n",
      "300/300 [==============================] - 9s 32ms/step - loss: 0.0090 - accuracy: 0.9961 - val_loss: 0.2720 - val_accuracy: 0.9706\n",
      "Epoch 16/20\n",
      "300/300 [==============================] - 10s 32ms/step - loss: 0.0056 - accuracy: 0.9977 - val_loss: 0.5673 - val_accuracy: 0.9412\n",
      "Epoch 17/20\n",
      "300/300 [==============================] - 10s 33ms/step - loss: 0.0055 - accuracy: 0.9981 - val_loss: 0.5269 - val_accuracy: 0.9706\n",
      "Epoch 18/20\n",
      "300/300 [==============================] - 10s 34ms/step - loss: 0.0150 - accuracy: 0.9956 - val_loss: 0.2875 - val_accuracy: 0.9412\n",
      "Epoch 19/20\n",
      "300/300 [==============================] - 10s 35ms/step - loss: 0.0102 - accuracy: 0.9966 - val_loss: 0.3472 - val_accuracy: 0.9412\n",
      "Epoch 20/20\n",
      "300/300 [==============================] - 10s 34ms/step - loss: 0.0081 - accuracy: 0.9968 - val_loss: 0.3039 - val_accuracy: 0.9706\n"
     ]
    }
   ],
   "source": [
    "history=cnn_model.fit(\n",
    "    tensor_train_set_cnn,\n",
    "    epochs=epochs_cnn,\n",
    "    validation_data=tensor_val_set_cnn,\n",
    "    steps_per_epoch=300,\n",
    "    validation_steps=int((len(val_set) - 1) / batch_size + 1))"
   ]
  },
  {
   "cell_type": "code",
   "execution_count": 37,
   "metadata": {
    "ExecuteTime": {
     "end_time": "2020-07-07T22:54:23.028974Z",
     "start_time": "2020-07-07T22:52:09.353533Z"
    },
    "tags": []
   },
   "outputs": [
    {
     "name": "stdout",
     "output_type": "stream",
     "text": [
      "Epoch 1/20\n",
      "200/200 [==============================] - 7s 33ms/step - loss: 0.0114 - accuracy: 0.9963 - val_loss: 0.5964 - val_accuracy: 0.9706\n",
      "Epoch 2/20\n",
      "200/200 [==============================] - 7s 33ms/step - loss: 0.0170 - accuracy: 0.9946 - val_loss: 0.5799 - val_accuracy: 0.9706\n",
      "Epoch 3/20\n",
      "200/200 [==============================] - 7s 34ms/step - loss: 0.0135 - accuracy: 0.9958 - val_loss: 0.4974 - val_accuracy: 0.9706\n",
      "Epoch 4/20\n",
      "200/200 [==============================] - 7s 33ms/step - loss: 0.0167 - accuracy: 0.9952 - val_loss: 0.4473 - val_accuracy: 0.9706\n",
      "Epoch 5/20\n",
      "200/200 [==============================] - 7s 33ms/step - loss: 0.0273 - accuracy: 0.9929 - val_loss: 0.6802 - val_accuracy: 0.9706\n",
      "Epoch 6/20\n",
      "200/200 [==============================] - 7s 33ms/step - loss: 0.0086 - accuracy: 0.9976 - val_loss: 0.7594 - val_accuracy: 0.9706\n",
      "Epoch 7/20\n",
      "200/200 [==============================] - 7s 33ms/step - loss: 0.0109 - accuracy: 0.9967 - val_loss: 0.7250 - val_accuracy: 0.9706\n",
      "Epoch 8/20\n",
      "200/200 [==============================] - 7s 33ms/step - loss: 0.0195 - accuracy: 0.9940 - val_loss: 0.7008 - val_accuracy: 0.9706\n",
      "Epoch 9/20\n",
      "200/200 [==============================] - 7s 33ms/step - loss: 0.0107 - accuracy: 0.9962 - val_loss: 0.8173 - val_accuracy: 0.9706\n",
      "Epoch 10/20\n",
      "200/200 [==============================] - 7s 34ms/step - loss: 0.0079 - accuracy: 0.9976 - val_loss: 0.6693 - val_accuracy: 0.9706\n",
      "Epoch 11/20\n",
      "200/200 [==============================] - 7s 33ms/step - loss: 0.0141 - accuracy: 0.9959 - val_loss: 0.7478 - val_accuracy: 0.9706\n",
      "Epoch 12/20\n",
      "200/200 [==============================] - 7s 34ms/step - loss: 0.0102 - accuracy: 0.9969 - val_loss: 0.5508 - val_accuracy: 0.9706\n",
      "Epoch 13/20\n",
      "200/200 [==============================] - 7s 33ms/step - loss: 0.0194 - accuracy: 0.9949 - val_loss: 0.6366 - val_accuracy: 0.9706\n",
      "Epoch 14/20\n",
      "200/200 [==============================] - 7s 37ms/step - loss: 0.0320 - accuracy: 0.9927 - val_loss: 1.0917 - val_accuracy: 0.9706\n",
      "Epoch 15/20\n",
      "200/200 [==============================] - 7s 33ms/step - loss: 0.0130 - accuracy: 0.9960 - val_loss: 0.8963 - val_accuracy: 0.9706\n",
      "Epoch 16/20\n",
      "200/200 [==============================] - 7s 33ms/step - loss: 0.0084 - accuracy: 0.9973 - val_loss: 0.8647 - val_accuracy: 0.9706\n",
      "Epoch 17/20\n",
      "200/200 [==============================] - 6s 32ms/step - loss: 0.0085 - accuracy: 0.9971 - val_loss: 0.9682 - val_accuracy: 0.9706\n",
      "Epoch 18/20\n",
      "200/200 [==============================] - 6s 32ms/step - loss: 0.0045 - accuracy: 0.9988 - val_loss: 0.8117 - val_accuracy: 0.9706\n",
      "Epoch 19/20\n",
      "200/200 [==============================] - 6s 32ms/step - loss: 0.0079 - accuracy: 0.9976 - val_loss: 0.8534 - val_accuracy: 0.9706\n",
      "Epoch 20/20\n",
      "200/200 [==============================] - 7s 33ms/step - loss: 0.0060 - accuracy: 0.9982 - val_loss: 1.0063 - val_accuracy: 0.9706\n"
     ]
    }
   ],
   "source": [
    "history2=cnn_model2.fit(\n",
    "    tensor_train_set_cnn,\n",
    "    epochs=epochs_cnn,\n",
    "    validation_data=tensor_val_set_cnn,\n",
    "    steps_per_epoch=200,\n",
    "    validation_steps=int((len(val_set) - 1) / batch_size + 1))"
   ]
  },
  {
   "cell_type": "code",
   "execution_count": 38,
   "metadata": {
    "ExecuteTime": {
     "end_time": "2020-07-07T22:54:54.158889Z",
     "start_time": "2020-07-07T22:54:54.014207Z"
    },
    "tags": []
   },
   "outputs": [
    {
     "name": "stdout",
     "output_type": "stream",
     "text": [
      "1/1 [==============================] - 0s 1ms/step - loss: 0.0036 - accuracy: 1.0000\n",
      "1/1 [==============================] - 0s 4ms/step - loss: 0.1333 - accuracy: 0.9565\n"
     ]
    }
   ],
   "source": [
    "loss_cnn, acc_cnn = cnn_model.evaluate(tensor_test_set_cnn)\n",
    "pred_cnn = np.argmax(cnn_model.predict(tensor_test_set_cnn), axis=1)\n",
    "confusion_cnn = tf.math.confusion_matrix(\n",
    "    labels=tf.constant(test_set['gesture'].to_numpy()),\n",
    "    predictions=tf.constant(pred_cnn),\n",
    "    num_classes=4)\n",
    "\n",
    "loss_cnn2, acc_cnn2 = cnn_model2.evaluate(tensor_test_set_cnn)\n",
    "pred_cnn2 = np.argmax(cnn_model2.predict(tensor_test_set_cnn), axis=1)\n",
    "confusion_cnn2 = tf.math.confusion_matrix(\n",
    "    labels=tf.constant(test_set['gesture'].to_numpy()),\n",
    "    predictions=tf.constant(pred_cnn2),\n",
    "    num_classes=4)"
   ]
  },
  {
   "cell_type": "code",
   "execution_count": 39,
   "metadata": {
    "ExecuteTime": {
     "end_time": "2020-07-07T22:54:58.820678Z",
     "start_time": "2020-07-07T22:54:58.814336Z"
    },
    "tags": []
   },
   "outputs": [
    {
     "name": "stdout",
     "output_type": "stream",
     "text": [
      "tf.Tensor(\n",
      "[[14  0  0  0]\n",
      " [ 0 10  0  0]\n",
      " [ 0  0 14  0]\n",
      " [ 0  0  0  8]], shape=(4, 4), dtype=int32)\n",
      "Loss 0.0035759308375418186, Accuracy 1.0\n",
      "tf.Tensor(\n",
      "[[14  0  0  0]\n",
      " [ 0 10  0  0]\n",
      " [ 0  0 14  0]\n",
      " [ 2  0  0  6]], shape=(4, 4), dtype=int32)\n",
      "Loss 0.13330048322677612, Accuracy 0.95652174949646\n"
     ]
    }
   ],
   "source": [
    "print(confusion_cnn)\n",
    "print(\"Loss {}, Accuracy {}\".format(loss_cnn, acc_cnn))\n",
    "print(confusion_cnn2)\n",
    "print(\"Loss {}, Accuracy {}\".format(loss_cnn2, acc_cnn2))"
   ]
  },
  {
   "cell_type": "code",
   "execution_count": 15,
   "metadata": {
    "ExecuteTime": {
     "end_time": "2020-07-07T16:48:40.511257Z",
     "start_time": "2020-07-07T16:48:40.503305Z"
    }
   },
   "outputs": [
    {
     "data": {
      "text/plain": [
       "{'loss': [0.5136839151382446,\n",
       "  0.17093397676944733,\n",
       "  0.09711793810129166,\n",
       "  0.056820839643478394,\n",
       "  0.043284785002470016,\n",
       "  0.032811589539051056,\n",
       "  0.02892693318426609,\n",
       "  0.0321480967104435,\n",
       "  0.015182502567768097,\n",
       "  0.01316838338971138,\n",
       "  0.013631793670356274,\n",
       "  0.017973553389310837,\n",
       "  0.010530445724725723,\n",
       "  0.02079193666577339,\n",
       "  0.011170466430485249,\n",
       "  0.009354963898658752,\n",
       "  0.008493409492075443,\n",
       "  0.009281544014811516,\n",
       "  0.016916070133447647,\n",
       "  0.008460081182420254],\n",
       " 'accuracy': [0.8091857433319092,\n",
       "  0.933695912361145,\n",
       "  0.9632602334022522,\n",
       "  0.9786374568939209,\n",
       "  0.98592609167099,\n",
       "  0.9903797507286072,\n",
       "  0.989861011505127,\n",
       "  0.9892560839653015,\n",
       "  0.9947969317436218,\n",
       "  0.9954919815063477,\n",
       "  0.9955671429634094,\n",
       "  0.9942982196807861,\n",
       "  0.9964474439620972,\n",
       "  0.9941366910934448,\n",
       "  0.9963558912277222,\n",
       "  0.9967146515846252,\n",
       "  0.9971569776535034,\n",
       "  0.9972648620605469,\n",
       "  0.995067834854126,\n",
       "  0.9972805380821228],\n",
       " 'val_loss': [0.26810377836227417,\n",
       "  0.3351907730102539,\n",
       "  0.3454236090183258,\n",
       "  0.41527441143989563,\n",
       "  0.45207086205482483,\n",
       "  0.6421974897384644,\n",
       "  0.5669791102409363,\n",
       "  0.5218291282653809,\n",
       "  0.5341185927391052,\n",
       "  0.5926377773284912,\n",
       "  0.5213892459869385,\n",
       "  0.7508841156959534,\n",
       "  0.7179163098335266,\n",
       "  0.41053906083106995,\n",
       "  0.601462721824646,\n",
       "  0.7745898962020874,\n",
       "  0.7455412745475769,\n",
       "  0.63134765625,\n",
       "  0.678311288356781,\n",
       "  0.6118963956832886],\n",
       " 'val_accuracy': [0.9411764740943909,\n",
       "  0.9411764740943909,\n",
       "  0.9411764740943909,\n",
       "  0.9411764740943909,\n",
       "  0.9411764740943909,\n",
       "  0.9411764740943909,\n",
       "  0.9411764740943909,\n",
       "  0.9411764740943909,\n",
       "  0.9411764740943909,\n",
       "  0.9411764740943909,\n",
       "  0.9411764740943909,\n",
       "  0.9411764740943909,\n",
       "  0.9411764740943909,\n",
       "  0.970588207244873,\n",
       "  0.9411764740943909,\n",
       "  0.9411764740943909,\n",
       "  0.9411764740943909,\n",
       "  0.970588207244873,\n",
       "  0.9411764740943909,\n",
       "  0.9411764740943909]}"
      ]
     },
     "execution_count": 15,
     "metadata": {},
     "output_type": "execute_result"
    }
   ],
   "source": [
    "history.history"
   ]
  },
  {
   "cell_type": "code",
   "execution_count": 42,
   "metadata": {
    "ExecuteTime": {
     "end_time": "2020-07-07T22:55:58.222199Z",
     "start_time": "2020-07-07T22:55:57.947480Z"
    }
   },
   "outputs": [
    {
     "data": {
      "text/plain": [
       "<matplotlib.legend.Legend at 0x7fcb07065b90>"
      ]
     },
     "execution_count": 42,
     "metadata": {},
     "output_type": "execute_result"
    },
    {
     "data": {
      "image/png": "[encoded data removed]",
      "text/plain": [
       "<Figure size 432x288 with 1 Axes>"
      ]
     },
     "metadata": {},
     "output_type": "display_data"
    }
   ],
   "source": [
    "plt.plot(history.history['accuracy'])\n",
    "plt.plot(history.history['val_accuracy'])\n",
    "\n",
    "\n",
    "plt.plot(history2.history['accuracy'])\n",
    "plt.plot(history2.history['val_accuracy'])\n",
    "\n",
    "plt.xlabel('Epochs')\n",
    "plt.ylabel('Acc')\n",
    "plt.legend(['Training','Validation','Training 2', 'Validation 2'],loc='upper right')\n"
   ]
  },
  {
   "cell_type": "code",
   "execution_count": 43,
   "metadata": {
    "ExecuteTime": {
     "end_time": "2020-07-07T22:56:53.481093Z",
     "start_time": "2020-07-07T22:56:53.206328Z"
    }
   },
   "outputs": [
    {
     "data": {
      "text/plain": [
       "<matplotlib.legend.Legend at 0x7fcb06fdce10>"
      ]
     },
     "execution_count": 43,
     "metadata": {},
     "output_type": "execute_result"
    },
    {
     "data": {
      "image/png": "[encoded data removed]",
      "text/plain": [
       "<Figure size 432x288 with 1 Axes>"
      ]
     },
     "metadata": {},
     "output_type": "display_data"
    }
   ],
   "source": [
    "plt.plot(history.history['loss'])\n",
    "plt.plot(history.history['val_loss'])\n",
    "\n",
    "\n",
    "plt.plot(history2.history['loss'])\n",
    "plt.plot(history2.history['val_loss'])\n",
    "\n",
    "plt.xlabel('Epochs')\n",
    "plt.ylabel('Loss')\n",
    "plt.legend(['Training','Validation','Training 2', 'Validation 2'],loc='upper right')\n",
    "\n"
   ]
  },
  {
   "cell_type": "code",
   "execution_count": null,
   "metadata": {},
   "outputs": [],
   "source": []
  },
  {
   "cell_type": "code",
   "execution_count": null,
   "metadata": {},
   "outputs": [],
   "source": [
    "converter = tf.lite.TFLiteConverter.from_keras_model(cnn_model)\n",
    "cnn_tflite_model = converter.convert()\n",
    "\n",
    " open(\"cnn_model.tflite\", \"wb\").write(cnn_tflite_model)"
   ]
  },
  {
   "cell_type": "code",
   "execution_count": null,
   "metadata": {},
   "outputs": [],
   "source": [
    "converter = tf.lite.TFLiteConverter.from_keras_model(cnn_model)\n",
    "converter.optimizations = [tf.lite.Optimize.OPTIMIZE_FOR_SIZE]\n",
    "cnn_opt_tflite_model = converter.convert()\n",
    "# Save the model to disk\n",
    "open(\"cnn_model_quantized.tflite\", \"wb\").write(cnn_opt_tflite_model)"
   ]
  },
  {
   "cell_type": "code",
   "execution_count": null,
   "metadata": {
    "tags": []
   },
   "outputs": [],
   "source": [
    "basic_model_size = os.path.getsize(\"cnn_model.tflite\")\n",
    "print(\"Basic model is %d bytes\" % basic_model_size)\n",
    "quantized_model_size = os.path.getsize(\"cnn_model_quantized.tflite\")\n",
    "print(\"Quantized model is %d bytes\" % quantized_model_size)\n",
    "difference = basic_model_size - quantized_model_size\n",
    "print(\"Difference is %d bytes\" % difference)"
   ]
  },
  {
   "cell_type": "code",
   "execution_count": null,
   "metadata": {
    "ExecuteTime": {
     "end_time": "2020-07-05T01:27:51.433418Z",
     "start_time": "2020-07-05T01:27:49.772098Z"
    },
    "tags": []
   },
   "outputs": [],
   "source": [
    "# Install xxd if it is not available\n",
    "#!apt-get -qq install xxd\n",
    "# Save the file as a C source file\n",
    "#!xxd -i cnn_model_quantized.tflite > cnn_opt_model.cc\n",
    "# Print the source file\n",
    "#!cat /cnn_opt_model.cc"
   ]
  },
  {
   "cell_type": "code",
   "execution_count": null,
   "metadata": {},
   "outputs": [],
   "source": []
  }
 ],
 "metadata": {
  "kernelspec": {
   "display_name": "Python 3",
   "language": "python",
   "name": "python3"
  },
  "language_info": {
   "codemirror_mode": {
    "name": "ipython",
    "version": 3
   },
   "file_extension": ".py",
   "mimetype": "text/x-python",
   "name": "python",
   "nbconvert_exporter": "python",
   "pygments_lexer": "ipython3",
   "version": "3.7.6"
  },
  "toc": {
   "base_numbering": 1,
   "nav_menu": {},
   "number_sections": true,
   "sideBar": true,
   "skip_h1_title": false,
   "title_cell": "Table of Contents",
   "title_sidebar": "Contents",
   "toc_cell": false,
   "toc_position": {},
   "toc_section_display": true,
   "toc_window_display": false
  }
 },
 "nbformat": 4,
 "nbformat_minor": 4
}
