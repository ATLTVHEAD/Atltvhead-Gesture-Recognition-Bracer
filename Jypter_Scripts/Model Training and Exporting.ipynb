{
 "cells": [
  {
   "cell_type": "code",
   "execution_count": 1,
   "metadata": {
    "ExecuteTime": {
     "end_time": "2020-08-03T02:16:01.769833Z",
     "start_time": "2020-08-03T02:15:56.535281Z"
    }
   },
   "outputs": [],
   "source": [
    "import numpy as np \n",
    "import pandas as pd \n",
    "import datetime\n",
    "import re\n",
    "import os, os.path\n",
    "import time\n",
    "from sklearn.model_selection import train_test_split\n",
    "import random\n",
    "import tensorflow as tf\n",
    "import matplotlib.pyplot as plt\n",
    "import seaborn as sb"
   ]
  },
  {
   "cell_type": "code",
   "execution_count": 2,
   "metadata": {
    "ExecuteTime": {
     "end_time": "2020-07-27T20:34:39.359908Z",
     "start_time": "2020-07-27T20:34:39.353047Z"
    },
    "tags": []
   },
   "outputs": [
    {
     "name": "stdout",
     "output_type": "stream",
     "text": [
      "/app/data/Training_Data\n"
     ]
    }
   ],
   "source": [
    "cd ../Training_Data"
   ]
  },
  {
   "cell_type": "code",
   "execution_count": 2,
   "metadata": {
    "ExecuteTime": {
     "end_time": "2020-08-03T02:16:01.776723Z",
     "start_time": "2020-08-03T02:16:01.771946Z"
    },
    "tags": []
   },
   "outputs": [],
   "source": [
    "sb.set_palette(\"husl\",4)\n",
    "sb.set_style(\"whitegrid\")"
   ]
  },
  {
   "cell_type": "code",
   "execution_count": 4,
   "metadata": {
    "ExecuteTime": {
     "end_time": "2020-07-27T20:35:40.125049Z",
     "start_time": "2020-07-27T20:34:46.923127Z"
    }
   },
   "outputs": [],
   "source": [
    "train_set = pd.read_csv('processed_train_set.csv',converters={'acceleration': eval})\n",
    "test_set = pd.read_csv('processed_test_set.csv',converters={'acceleration': eval})\n",
    "val_set = pd.read_csv('processed_val_set.csv',converters={'acceleration': eval})"
   ]
  },
  {
   "cell_type": "code",
   "execution_count": 4,
   "metadata": {
    "ExecuteTime": {
     "end_time": "2020-08-03T02:16:41.109653Z",
     "start_time": "2020-08-03T02:16:07.487082Z"
    }
   },
   "outputs": [],
   "source": [
    "    trainingData = pd.read_csv('../Training_Data/processed_train_set_half.csv',converters={'acceleration': eval})\n",
    "    testingData = pd.read_csv('../Training_Data/processed_test_set_half.csv',converters={'acceleration': eval})\n",
    "    validationData = pd.read_csv('../Training_Data/processed_val_set_half.csv',converters={'acceleration': eval})"
   ]
  },
  {
   "cell_type": "code",
   "execution_count": 9,
   "metadata": {
    "ExecuteTime": {
     "end_time": "2020-08-03T02:17:38.933306Z",
     "start_time": "2020-08-03T02:17:38.930653Z"
    }
   },
   "outputs": [],
   "source": [
    "train_set = trainingData\n",
    "test_set = testingData\n",
    "val_set = validationData"
   ]
  },
  {
   "cell_type": "code",
   "execution_count": 3,
   "metadata": {
    "ExecuteTime": {
     "end_time": "2020-08-03T02:16:04.357376Z",
     "start_time": "2020-08-03T02:16:04.348259Z"
    },
    "tags": []
   },
   "outputs": [
    {
     "name": "stdout",
     "output_type": "stream",
     "text": [
      "/app/data/Model\n"
     ]
    }
   ],
   "source": [
    "cd ../Model\n"
   ]
  },
  {
   "cell_type": "code",
   "execution_count": 10,
   "metadata": {
    "ExecuteTime": {
     "end_time": "2020-08-03T02:17:43.845171Z",
     "start_time": "2020-08-03T02:17:43.840816Z"
    }
   },
   "outputs": [],
   "source": [
    "def calculate_model_size(model):\n",
    "    print(model.summary())\n",
    "    var_sizes = [\n",
    "      np.product(list(map(int, v.shape))) * v.dtype.size\n",
    "      for v in model.trainable_variables\n",
    "      ]\n",
    "    print(\"Model size:\", sum(var_sizes) / 1024, \"KB\")"
   ]
  },
  {
   "cell_type": "code",
   "execution_count": 19,
   "metadata": {
    "ExecuteTime": {
     "end_time": "2020-08-03T02:20:00.393475Z",
     "start_time": "2020-08-03T02:19:59.668313Z"
    }
   },
   "outputs": [],
   "source": [
    "samples = len(train_set['acceleration'][0])\n",
    "\n",
    "lstm_model = tf.keras.Sequential([\n",
    "      tf.keras.layers.Bidirectional(\n",
    "          tf.keras.layers.LSTM(22),\n",
    "          input_shape=(samples, 3)),  # output_shape=(batch, 253)\n",
    "      tf.keras.layers.Dense(5, activation=\"sigmoid\")  # (batch, 4)\n",
    "])\n",
    "\n",
    "cnn_model = tf.keras.Sequential([\n",
    "    tf.keras.layers.Conv2D(8, (4, 3),padding=\"same\",activation=\"relu\",\n",
    "                           input_shape=(samples, 3, 1)),  # output_shape=(batch, 760, 3, 8)\n",
    "    tf.keras.layers.MaxPool2D((3, 3)),  # (batch, 253, 1, 8)\n",
    "    tf.keras.layers.Dropout(0.1),  # (batch, 253, 1, 8)\n",
    "    tf.keras.layers.Conv2D(16, (4, 1), padding=\"same\",activation=\"relu\"), # (batch, 253, 1, 16)\n",
    "    tf.keras.layers.MaxPool2D((3, 1), padding=\"same\"),  # (batch, 84, 1, 16)\n",
    "    tf.keras.layers.Dropout(0.1),  # (batch, 84, 1, 16)\n",
    "    tf.keras.layers.Flatten(),  # (batch, 1344)\n",
    "    tf.keras.layers.Dense(16, activation=\"relu\"),  # (batch, 16)\n",
    "    tf.keras.layers.Dropout(0.1),  # (batch, 16)\n",
    "    tf.keras.layers.Dense(5, activation=\"softmax\")  # (batch, 4)\n",
    "])\n",
    "\n",
    "cnn_model2 = tf.keras.Sequential([\n",
    "    tf.keras.layers.Conv2D(8, (4, 3),padding=\"same\",activation=\"relu\",\n",
    "                           input_shape=(samples, 3, 1)),  # output_shape=(batch, 760, 3, 8)\n",
    "    tf.keras.layers.MaxPool2D((3, 3)),  # (batch, 253, 1, 8)\n",
    "    tf.keras.layers.Dropout(0.1),  # (batch, 253, 1, 8)\n",
    "    tf.keras.layers.Conv2D(16, (4, 1), padding=\"same\",activation=\"relu\"), # (batch, 253, 1, 16)\n",
    "    tf.keras.layers.MaxPool2D((3, 1), padding=\"same\"),  # (batch, 84, 1, 16)\n",
    "    tf.keras.layers.Dropout(0.1),  # (batch, 84, 1, 16)\n",
    "    tf.keras.layers.Flatten(),  # (batch, 1344)\n",
    "    tf.keras.layers.Dense(16, activation=\"relu\"),  # (batch, 16)\n",
    "    tf.keras.layers.Dropout(0.1),  # (batch, 16)\n",
    "    tf.keras.layers.Dense(5, activation=\"softmax\")  # (batch, 4)\n",
    "])\n",
    "\n",
    "#unused\n",
    "cnn_model3 = tf.keras.Sequential([\n",
    "    tf.keras.layers.Conv2D(8, (4, 3),padding=\"same\",activation=\"relu\",\n",
    "                           input_shape=(samples, 3, 1)),  # output_shape=(batch, 760, 3, 8)\n",
    "    tf.keras.layers.MaxPool2D((6, 3)),  # (batch, 126, 1, 8)\n",
    "    tf.keras.layers.Dropout(0.1),  # (batch, 126, 1, 8)\n",
    "    tf.keras.layers.Conv2D(16, (4, 1), padding=\"same\",activation=\"relu\"), # (batch, 126, 1, 16)\n",
    "    tf.keras.layers.MaxPool2D((6, 1), padding=\"same\"),  # (batch, 21, 1, 16)\n",
    "    tf.keras.layers.Dropout(0.1),  # (batch, 21, 1, 16)\n",
    "    tf.keras.layers.Flatten(),  # (batch, 336)\n",
    "    tf.keras.layers.Dense(16, activation=\"relu\"),  # (batch, 16)\n",
    "    tf.keras.layers.Dropout(0.1),  # (batch, 16)\n",
    "    tf.keras.layers.Dense(5, activation=\"softmax\")  # (batch, 4)\n",
    "])"
   ]
  },
  {
   "cell_type": "code",
   "execution_count": 12,
   "metadata": {
    "ExecuteTime": {
     "end_time": "2020-08-03T02:18:00.753409Z",
     "start_time": "2020-08-03T02:17:57.586086Z"
    }
   },
   "outputs": [],
   "source": [
    "tensor_train_set = tf.data.Dataset.from_tensor_slices(\n",
    "    (np.array(train_set['acceleration'].tolist(),dtype=np.float64),\n",
    "     train_set['gesture'].tolist()))\n",
    "\n",
    "tensor_test_set = tf.data.Dataset.from_tensor_slices(\n",
    "    (np.array(test_set['acceleration'].tolist(),dtype=np.float64),\n",
    "     test_set['gesture'].tolist()))\n",
    "\n",
    "tensor_val_set = tf.data.Dataset.from_tensor_slices(\n",
    "    (np.array(val_set['acceleration'].tolist(),dtype=np.float64),\n",
    "     val_set['gesture'].tolist()))"
   ]
  },
  {
   "cell_type": "code",
   "execution_count": 20,
   "metadata": {
    "ExecuteTime": {
     "end_time": "2020-08-03T02:20:02.194817Z",
     "start_time": "2020-08-03T02:20:02.142340Z"
    },
    "tags": []
   },
   "outputs": [
    {
     "name": "stdout",
     "output_type": "stream",
     "text": [
      "Model: \"sequential_4\"\n",
      "_________________________________________________________________\n",
      "Layer (type)                 Output Shape              Param #   \n",
      "=================================================================\n",
      "bidirectional_1 (Bidirection (None, 44)                4576      \n",
      "_________________________________________________________________\n",
      "dense_7 (Dense)              (None, 5)                 225       \n",
      "=================================================================\n",
      "Total params: 4,801\n",
      "Trainable params: 4,801\n",
      "Non-trainable params: 0\n",
      "_________________________________________________________________\n",
      "None\n",
      "Model size: 18.75390625 KB\n",
      "Model: \"sequential_5\"\n",
      "_________________________________________________________________\n",
      "Layer (type)                 Output Shape              Param #   \n",
      "=================================================================\n",
      "conv2d_6 (Conv2D)            (None, 380, 3, 8)         104       \n",
      "_________________________________________________________________\n",
      "max_pooling2d_6 (MaxPooling2 (None, 126, 1, 8)         0         \n",
      "_________________________________________________________________\n",
      "dropout_9 (Dropout)          (None, 126, 1, 8)         0         \n",
      "_________________________________________________________________\n",
      "conv2d_7 (Conv2D)            (None, 126, 1, 16)        528       \n",
      "_________________________________________________________________\n",
      "max_pooling2d_7 (MaxPooling2 (None, 42, 1, 16)         0         \n",
      "_________________________________________________________________\n",
      "dropout_10 (Dropout)         (None, 42, 1, 16)         0         \n",
      "_________________________________________________________________\n",
      "flatten_3 (Flatten)          (None, 672)               0         \n",
      "_________________________________________________________________\n",
      "dense_8 (Dense)              (None, 16)                10768     \n",
      "_________________________________________________________________\n",
      "dropout_11 (Dropout)         (None, 16)                0         \n",
      "_________________________________________________________________\n",
      "dense_9 (Dense)              (None, 5)                 85        \n",
      "=================================================================\n",
      "Total params: 11,485\n",
      "Trainable params: 11,485\n",
      "Non-trainable params: 0\n",
      "_________________________________________________________________\n",
      "None\n",
      "Model size: 44.86328125 KB\n",
      "Model: \"sequential_6\"\n",
      "_________________________________________________________________\n",
      "Layer (type)                 Output Shape              Param #   \n",
      "=================================================================\n",
      "conv2d_8 (Conv2D)            (None, 380, 3, 8)         104       \n",
      "_________________________________________________________________\n",
      "max_pooling2d_8 (MaxPooling2 (None, 126, 1, 8)         0         \n",
      "_________________________________________________________________\n",
      "dropout_12 (Dropout)         (None, 126, 1, 8)         0         \n",
      "_________________________________________________________________\n",
      "conv2d_9 (Conv2D)            (None, 126, 1, 16)        528       \n",
      "_________________________________________________________________\n",
      "max_pooling2d_9 (MaxPooling2 (None, 42, 1, 16)         0         \n",
      "_________________________________________________________________\n",
      "dropout_13 (Dropout)         (None, 42, 1, 16)         0         \n",
      "_________________________________________________________________\n",
      "flatten_4 (Flatten)          (None, 672)               0         \n",
      "_________________________________________________________________\n",
      "dense_10 (Dense)             (None, 16)                10768     \n",
      "_________________________________________________________________\n",
      "dropout_14 (Dropout)         (None, 16)                0         \n",
      "_________________________________________________________________\n",
      "dense_11 (Dense)             (None, 5)                 85        \n",
      "=================================================================\n",
      "Total params: 11,485\n",
      "Trainable params: 11,485\n",
      "Non-trainable params: 0\n",
      "_________________________________________________________________\n",
      "None\n",
      "Model size: 44.86328125 KB\n",
      "Model: \"sequential_7\"\n",
      "_________________________________________________________________\n",
      "Layer (type)                 Output Shape              Param #   \n",
      "=================================================================\n",
      "conv2d_10 (Conv2D)           (None, 380, 3, 8)         104       \n",
      "_________________________________________________________________\n",
      "max_pooling2d_10 (MaxPooling (None, 63, 1, 8)          0         \n",
      "_________________________________________________________________\n",
      "dropout_15 (Dropout)         (None, 63, 1, 8)          0         \n",
      "_________________________________________________________________\n",
      "conv2d_11 (Conv2D)           (None, 63, 1, 16)         528       \n",
      "_________________________________________________________________\n",
      "max_pooling2d_11 (MaxPooling (None, 11, 1, 16)         0         \n",
      "_________________________________________________________________\n",
      "dropout_16 (Dropout)         (None, 11, 1, 16)         0         \n",
      "_________________________________________________________________\n",
      "flatten_5 (Flatten)          (None, 176)               0         \n",
      "_________________________________________________________________\n",
      "dense_12 (Dense)             (None, 16)                2832      \n",
      "_________________________________________________________________\n",
      "dropout_17 (Dropout)         (None, 16)                0         \n",
      "_________________________________________________________________\n",
      "dense_13 (Dense)             (None, 5)                 85        \n",
      "=================================================================\n",
      "Total params: 3,549\n",
      "Trainable params: 3,549\n",
      "Non-trainable params: 0\n",
      "_________________________________________________________________\n",
      "None\n",
      "Model size: 13.86328125 KB\n"
     ]
    }
   ],
   "source": [
    "calculate_model_size(lstm_model)\n",
    "epochs_cnn = 20\n",
    "epochs_lstm = 20\n",
    "batch_size = 64\n",
    "batch_size2 = 192\n",
    "\n",
    "lstm_model.compile(\n",
    "    optimizer=\"adam\",\n",
    "    loss=\"sparse_categorical_crossentropy\",\n",
    "    metrics=[\"accuracy\"])\n",
    "\n",
    "calculate_model_size(cnn_model)\n",
    "cnn_model.compile(\n",
    "    optimizer=\"adam\",\n",
    "    loss=\"sparse_categorical_crossentropy\",\n",
    "    metrics=[\"accuracy\"])\n",
    "\n",
    "calculate_model_size(cnn_model2)\n",
    "cnn_model2.compile(\n",
    "    optimizer=\"adam\",\n",
    "    loss=\"sparse_categorical_crossentropy\",\n",
    "    metrics=[\"accuracy\"])\n",
    "\n",
    "calculate_model_size(cnn_model3)\n",
    "cnn_model3.compile(\n",
    "    optimizer=\"adam\",\n",
    "    loss=\"sparse_categorical_crossentropy\",\n",
    "    metrics=[\"accuracy\"])"
   ]
  },
  {
   "cell_type": "code",
   "execution_count": 14,
   "metadata": {
    "ExecuteTime": {
     "end_time": "2020-08-03T02:18:10.853845Z",
     "start_time": "2020-08-03T02:18:10.843314Z"
    }
   },
   "outputs": [],
   "source": [
    "tensor_train_set_lstm = tensor_train_set.batch(batch_size).repeat()\n",
    "tensor_val_set_lstm = tensor_val_set.batch(batch_size)\n",
    "tensor_test_set_lstm = tensor_test_set.batch(batch_size)"
   ]
  },
  {
   "cell_type": "code",
   "execution_count": 21,
   "metadata": {
    "ExecuteTime": {
     "end_time": "2020-08-03T02:27:54.009127Z",
     "start_time": "2020-08-03T02:20:06.339511Z"
    },
    "tags": []
   },
   "outputs": [
    {
     "name": "stdout",
     "output_type": "stream",
     "text": [
      "Epoch 1/20\n",
      "200/200 [==============================] - 23s 117ms/step - loss: 1.2752 - accuracy: 0.5774 - val_loss: 0.9944 - val_accuracy: 0.7021\n",
      "Epoch 2/20\n",
      "200/200 [==============================] - 22s 111ms/step - loss: 0.8526 - accuracy: 0.7520 - val_loss: 0.6331 - val_accuracy: 0.7872\n",
      "Epoch 3/20\n",
      "200/200 [==============================] - 22s 112ms/step - loss: 0.5645 - accuracy: 0.8505 - val_loss: 0.3981 - val_accuracy: 0.9149\n",
      "Epoch 4/20\n",
      "200/200 [==============================] - 23s 113ms/step - loss: 0.3760 - accuracy: 0.9135 - val_loss: 0.2944 - val_accuracy: 0.9149\n",
      "Epoch 5/20\n",
      "200/200 [==============================] - 23s 117ms/step - loss: 0.2960 - accuracy: 0.9295 - val_loss: 0.2585 - val_accuracy: 0.9362\n",
      "Epoch 6/20\n",
      "200/200 [==============================] - 24s 119ms/step - loss: 0.2423 - accuracy: 0.9427 - val_loss: 0.2002 - val_accuracy: 0.9362\n",
      "Epoch 7/20\n",
      "200/200 [==============================] - 23s 116ms/step - loss: 0.2002 - accuracy: 0.9503 - val_loss: 0.2064 - val_accuracy: 0.9574\n",
      "Epoch 8/20\n",
      "200/200 [==============================] - 23s 116ms/step - loss: 0.1547 - accuracy: 0.9674 - val_loss: 0.2132 - val_accuracy: 0.9362\n",
      "Epoch 9/20\n",
      "200/200 [==============================] - 23s 114ms/step - loss: 0.1331 - accuracy: 0.9710 - val_loss: 0.2302 - val_accuracy: 0.9362\n",
      "Epoch 10/20\n",
      "200/200 [==============================] - 23s 113ms/step - loss: 0.1110 - accuracy: 0.9761 - val_loss: 0.1747 - val_accuracy: 0.9574\n",
      "Epoch 11/20\n",
      "200/200 [==============================] - 22s 112ms/step - loss: 0.1135 - accuracy: 0.9733 - val_loss: 0.2244 - val_accuracy: 0.9362\n",
      "Epoch 12/20\n",
      "200/200 [==============================] - 23s 114ms/step - loss: 0.0902 - accuracy: 0.9843 - val_loss: 0.1559 - val_accuracy: 0.9574\n",
      "Epoch 13/20\n",
      "200/200 [==============================] - 22s 112ms/step - loss: 0.0898 - accuracy: 0.9794 - val_loss: 0.1116 - val_accuracy: 0.9787\n",
      "Epoch 14/20\n",
      "200/200 [==============================] - 23s 113ms/step - loss: 0.0615 - accuracy: 0.9879 - val_loss: 0.1011 - val_accuracy: 0.9787\n",
      "Epoch 15/20\n",
      "200/200 [==============================] - 23s 114ms/step - loss: 0.0595 - accuracy: 0.9876 - val_loss: 0.1587 - val_accuracy: 0.9574\n",
      "Epoch 16/20\n",
      "200/200 [==============================] - 23s 113ms/step - loss: 0.0481 - accuracy: 0.9918 - val_loss: 0.1337 - val_accuracy: 0.9574\n",
      "Epoch 17/20\n",
      "200/200 [==============================] - 23s 113ms/step - loss: 0.0444 - accuracy: 0.9914 - val_loss: 0.1222 - val_accuracy: 0.9574\n",
      "Epoch 18/20\n",
      "200/200 [==============================] - 23s 113ms/step - loss: 0.0480 - accuracy: 0.9905 - val_loss: 0.1373 - val_accuracy: 0.9574\n",
      "Epoch 19/20\n",
      "200/200 [==============================] - 26s 132ms/step - loss: 0.0363 - accuracy: 0.9932 - val_loss: 0.1377 - val_accuracy: 0.9574\n",
      "Epoch 20/20\n",
      "200/200 [==============================] - 26s 129ms/step - loss: 0.0351 - accuracy: 0.9935 - val_loss: 0.1318 - val_accuracy: 0.9574\n"
     ]
    }
   ],
   "source": [
    "history_LSTM = lstm_model.fit(\n",
    "    tensor_train_set_lstm,\n",
    "    epochs=epochs_lstm,\n",
    "    validation_data=tensor_val_set_lstm,\n",
    "    steps_per_epoch=200,\n",
    "    validation_steps=int((len(val_set) - 1) / batch_size + 1))"
   ]
  },
  {
   "cell_type": "code",
   "execution_count": 23,
   "metadata": {
    "ExecuteTime": {
     "end_time": "2020-08-03T02:28:19.550241Z",
     "start_time": "2020-08-03T02:28:19.473358Z"
    },
    "tags": []
   },
   "outputs": [
    {
     "name": "stdout",
     "output_type": "stream",
     "text": [
      "1/1 [==============================] - 0s 2ms/step - loss: 0.1072 - accuracy: 0.9688\n"
     ]
    }
   ],
   "source": [
    "loss_lstm, acc_lstm = lstm_model.evaluate(tensor_test_set_lstm)\n",
    "pred_lstm = np.argmax(lstm_model.predict(tensor_test_set_lstm), axis=1)\n",
    "confusion_lstm = tf.math.confusion_matrix(\n",
    "    labels=tf.constant(test_set['gesture'].to_numpy()),\n",
    "    predictions=tf.constant(pred_lstm),\n",
    "    num_classes=5)"
   ]
  },
  {
   "cell_type": "code",
   "execution_count": 24,
   "metadata": {
    "ExecuteTime": {
     "end_time": "2020-08-03T02:28:23.185366Z",
     "start_time": "2020-08-03T02:28:23.179255Z"
    },
    "tags": []
   },
   "outputs": [
    {
     "name": "stdout",
     "output_type": "stream",
     "text": [
      "tf.Tensor(\n",
      "[[12  0  0  0  0]\n",
      " [ 0 18  0  0  0]\n",
      " [ 0  0 12  0  0]\n",
      " [ 0  0  0 12  2]\n",
      " [ 0  0  0  0  8]], shape=(5, 5), dtype=int32)\n",
      "Loss 0.10723546892404556, Accuracy 0.96875\n"
     ]
    }
   ],
   "source": [
    "print(confusion_lstm)\n",
    "print(\"Loss {}, Accuracy {}\".format(loss_lstm, acc_lstm))"
   ]
  },
  {
   "cell_type": "code",
   "execution_count": 25,
   "metadata": {
    "ExecuteTime": {
     "end_time": "2020-08-03T02:28:40.675813Z",
     "start_time": "2020-08-03T02:28:40.366999Z"
    }
   },
   "outputs": [
    {
     "data": {
      "text/plain": [
       "<matplotlib.legend.Legend at 0x7f07f1587150>"
      ]
     },
     "execution_count": 25,
     "metadata": {},
     "output_type": "execute_result"
    },
    {
     "data": {
      "image/png": "[encoded data removed]",
      "text/plain": [
       "<Figure size 432x288 with 1 Axes>"
      ]
     },
     "metadata": {},
     "output_type": "display_data"
    }
   ],
   "source": [
    "plt.plot(history_LSTM.history['accuracy'])\n",
    "plt.plot(history_LSTM.history['val_accuracy'])\n",
    "plt.xlabel('Epochs')\n",
    "plt.ylabel('Acc')\n",
    "plt.legend(['Training_LSTM','Validation_LSTM'],loc='upper right')"
   ]
  },
  {
   "cell_type": "code",
   "execution_count": 26,
   "metadata": {
    "ExecuteTime": {
     "end_time": "2020-08-03T02:28:43.027448Z",
     "start_time": "2020-08-03T02:28:42.760006Z"
    }
   },
   "outputs": [
    {
     "data": {
      "text/plain": [
       "<matplotlib.legend.Legend at 0x7f07ef2b36d0>"
      ]
     },
     "execution_count": 26,
     "metadata": {},
     "output_type": "execute_result"
    },
    {
     "data": {
      "image/png": "[encoded data removed]",
      "text/plain": [
       "<Figure size 432x288 with 1 Axes>"
      ]
     },
     "metadata": {},
     "output_type": "display_data"
    }
   ],
   "source": [
    "plt.plot(history_LSTM.history['loss'])\n",
    "plt.plot(history_LSTM.history['val_loss'])\n",
    "plt.xlabel('Epochs')\n",
    "plt.ylabel('Loss')\n",
    "plt.legend(['Training_LSTM','Validation_LSTM'],loc='upper right')"
   ]
  },
  {
   "cell_type": "code",
   "execution_count": 27,
   "metadata": {
    "ExecuteTime": {
     "end_time": "2020-08-03T02:30:04.036473Z",
     "start_time": "2020-08-03T02:29:57.301628Z"
    },
    "tags": []
   },
   "outputs": [
    {
     "data": {
      "text/plain": [
       "88080"
      ]
     },
     "execution_count": 27,
     "metadata": {},
     "output_type": "execute_result"
    }
   ],
   "source": [
    "converter = tf.lite.TFLiteConverter.from_keras_model(lstm_model)\n",
    "lstm_tflite_model = converter.convert()\n",
    "\n",
    "open(\"lstm_model_half.tflite\", \"wb\").write(lstm_tflite_model)"
   ]
  },
  {
   "cell_type": "code",
   "execution_count": 28,
   "metadata": {
    "ExecuteTime": {
     "end_time": "2020-08-03T02:30:05.062354Z",
     "start_time": "2020-08-03T02:30:04.964290Z"
    }
   },
   "outputs": [],
   "source": [
    "lstm_model.save('lstm_model_half.h5') "
   ]
  },
  {
   "cell_type": "code",
   "execution_count": null,
   "metadata": {
    "ExecuteTime": {
     "end_time": "2020-07-05T02:15:22.785851Z",
     "start_time": "2020-07-05T02:15:17.931532Z"
    },
    "tags": []
   },
   "outputs": [],
   "source": [
    "converter = tf.lite.TFLiteConverter.from_keras_model(lstm_model)\n",
    "converter.experimental_new_converter = True\n",
    "converter.optimizations = [tf.lite.Optimize.OPTIMIZE_FOR_SIZE]\n",
    "converter.target_spec.supported_types = [tf.float16]\n",
    "lstm_opt_tflite_model = converter.convert()\n",
    "# Save the model to disk\n",
    "open(\"lstm_model_quantized.tflite\", \"wb\").write(lstm_opt_tflite_model)"
   ]
  },
  {
   "cell_type": "code",
   "execution_count": 18,
   "metadata": {
    "ExecuteTime": {
     "end_time": "2020-07-27T14:45:34.979084Z",
     "start_time": "2020-07-27T14:45:34.961528Z"
    },
    "tags": []
   },
   "outputs": [
    {
     "name": "stdout",
     "output_type": "stream",
     "text": [
      "Basic model is 121340 bytes\n"
     ]
    }
   ],
   "source": [
    "basic_model_size = os.path.getsize(\"../Model/lstm_model_half.tflite\")\n",
    "print(\"Basic model is %d bytes\" % basic_model_size)\n",
    "#quantized_model_size = os.path.getsize(\"lstm_model_quantized.tflite\")\n",
    "#print(\"Quantized model is %d bytes\" % quantized_model_size)\n",
    "#difference = basic_model_size - quantized_model_size\n",
    "#print(\"Difference is %d bytes\" % difference)"
   ]
  },
  {
   "cell_type": "code",
   "execution_count": null,
   "metadata": {},
   "outputs": [],
   "source": []
  },
  {
   "cell_type": "code",
   "execution_count": null,
   "metadata": {},
   "outputs": [],
   "source": []
  },
  {
   "cell_type": "code",
   "execution_count": 15,
   "metadata": {
    "ExecuteTime": {
     "end_time": "2020-08-03T02:18:19.972386Z",
     "start_time": "2020-08-03T02:18:19.966614Z"
    }
   },
   "outputs": [],
   "source": [
    "def reshape_function(data, label):\n",
    "    reshaped_data = tf.reshape(data, [-1, 3, 1])\n",
    "    return reshaped_data, label"
   ]
  },
  {
   "cell_type": "code",
   "execution_count": null,
   "metadata": {
    "ExecuteTime": {
     "start_time": "2020-07-07T21:10:47.639Z"
    }
   },
   "outputs": [],
   "source": [
    "train_set = pd.read_csv('processed_train_set.csv',converters={'acceleration': eval})\n",
    "test_set = pd.read_csv('processed_test_set.csv',converters={'acceleration': eval})\n",
    "val_set = pd.read_csv('processed_val_set.csv',converters={'acceleration': eval})\n",
    "\n",
    "tensor_train_set = tf.data.Dataset.from_tensor_slices(\n",
    "    (np.array(train_set['acceleration'].tolist(),dtype=np.float64),\n",
    "     train_set['gesture'].tolist()))\n",
    "\n",
    "tensor_test_set = tf.data.Dataset.from_tensor_slices(\n",
    "    (np.array(test_set['acceleration'].tolist(),dtype=np.float64),\n",
    "     test_set['gesture'].tolist()))\n",
    "\n",
    "tensor_val_set = tf.data.Dataset.from_tensor_slices(\n",
    "    (np.array(val_set['acceleration'].tolist(),dtype=np.float64),\n",
    "     val_set['gesture'].tolist()))"
   ]
  },
  {
   "cell_type": "code",
   "execution_count": 16,
   "metadata": {
    "ExecuteTime": {
     "end_time": "2020-08-03T02:18:25.417512Z",
     "start_time": "2020-08-03T02:18:25.317231Z"
    }
   },
   "outputs": [],
   "source": [
    "tensor_train_set_cnn = tensor_train_set.map(reshape_function)\n",
    "tensor_test_set_cnn = tensor_test_set.map(reshape_function)\n",
    "tensor_val_set_cnn = tensor_val_set.map(reshape_function)"
   ]
  },
  {
   "cell_type": "code",
   "execution_count": 17,
   "metadata": {
    "ExecuteTime": {
     "end_time": "2020-08-03T02:18:26.286333Z",
     "start_time": "2020-08-03T02:18:26.279608Z"
    }
   },
   "outputs": [],
   "source": [
    "tensor_train_set_cnn = tensor_train_set_cnn.batch(batch_size).repeat()\n",
    "tensor_test_set_cnn = tensor_test_set_cnn.batch(batch_size)\n",
    "tensor_val_set_cnn = tensor_val_set_cnn.batch(batch_size)"
   ]
  },
  {
   "cell_type": "code",
   "execution_count": 29,
   "metadata": {
    "ExecuteTime": {
     "end_time": "2020-08-03T02:32:24.323982Z",
     "start_time": "2020-08-03T02:30:20.777544Z"
    },
    "tags": []
   },
   "outputs": [
    {
     "name": "stdout",
     "output_type": "stream",
     "text": [
      "Epoch 1/20\n",
      "300/300 [==============================] - 6s 20ms/step - loss: 1.1463 - accuracy: 0.5707 - val_loss: 0.7014 - val_accuracy: 0.5745\n",
      "Epoch 2/20\n",
      "300/300 [==============================] - 6s 20ms/step - loss: 0.9029 - accuracy: 0.6595 - val_loss: 0.5756 - val_accuracy: 0.8936\n",
      "Epoch 3/20\n",
      "300/300 [==============================] - 6s 21ms/step - loss: 0.7011 - accuracy: 0.7875 - val_loss: 0.3864 - val_accuracy: 0.9574\n",
      "Epoch 4/20\n",
      "300/300 [==============================] - 6s 21ms/step - loss: 0.5843 - accuracy: 0.8049 - val_loss: 0.2306 - val_accuracy: 0.9362\n",
      "Epoch 5/20\n",
      "300/300 [==============================] - 6s 20ms/step - loss: 0.5759 - accuracy: 0.8121 - val_loss: 0.3279 - val_accuracy: 0.9574\n",
      "Epoch 6/20\n",
      "300/300 [==============================] - 6s 19ms/step - loss: 0.4473 - accuracy: 0.8529 - val_loss: 0.1103 - val_accuracy: 0.9574\n",
      "Epoch 7/20\n",
      "300/300 [==============================] - 6s 20ms/step - loss: 0.3584 - accuracy: 0.8740 - val_loss: 0.1655 - val_accuracy: 0.9149\n",
      "Epoch 8/20\n",
      "300/300 [==============================] - 6s 21ms/step - loss: 0.3124 - accuracy: 0.8913 - val_loss: 0.3319 - val_accuracy: 0.8936\n",
      "Epoch 9/20\n",
      "300/300 [==============================] - 6s 20ms/step - loss: 0.2660 - accuracy: 0.9074 - val_loss: 0.0732 - val_accuracy: 0.9787\n",
      "Epoch 10/20\n",
      "300/300 [==============================] - 6s 20ms/step - loss: 0.2591 - accuracy: 0.9082 - val_loss: 0.0751 - val_accuracy: 0.9787\n",
      "Epoch 11/20\n",
      "300/300 [==============================] - 6s 20ms/step - loss: 0.2024 - accuracy: 0.9253 - val_loss: 0.0491 - val_accuracy: 0.9787\n",
      "Epoch 12/20\n",
      "300/300 [==============================] - 6s 21ms/step - loss: 0.2194 - accuracy: 0.9180 - val_loss: 0.0663 - val_accuracy: 0.9787\n",
      "Epoch 13/20\n",
      "300/300 [==============================] - 6s 21ms/step - loss: 0.1904 - accuracy: 0.9293 - val_loss: 0.1631 - val_accuracy: 0.9362\n",
      "Epoch 14/20\n",
      "300/300 [==============================] - 6s 20ms/step - loss: 0.1663 - accuracy: 0.9354 - val_loss: 0.0537 - val_accuracy: 0.9787\n",
      "Epoch 15/20\n",
      "300/300 [==============================] - 6s 20ms/step - loss: 0.1543 - accuracy: 0.9365 - val_loss: 0.1071 - val_accuracy: 0.9787\n",
      "Epoch 16/20\n",
      "300/300 [==============================] - 6s 21ms/step - loss: 0.1427 - accuracy: 0.9494 - val_loss: 0.0502 - val_accuracy: 1.0000\n",
      "Epoch 17/20\n",
      "300/300 [==============================] - 6s 21ms/step - loss: 0.1448 - accuracy: 0.9483 - val_loss: 0.0400 - val_accuracy: 1.0000\n",
      "Epoch 18/20\n",
      "300/300 [==============================] - 6s 21ms/step - loss: 0.1381 - accuracy: 0.9508 - val_loss: 0.0666 - val_accuracy: 0.9787\n",
      "Epoch 19/20\n",
      "300/300 [==============================] - 6s 22ms/step - loss: 0.1068 - accuracy: 0.9627 - val_loss: 0.0212 - val_accuracy: 1.0000\n",
      "Epoch 20/20\n",
      "300/300 [==============================] - 7s 22ms/step - loss: 0.1058 - accuracy: 0.9633 - val_loss: 0.0274 - val_accuracy: 1.0000\n"
     ]
    }
   ],
   "source": [
    "history=cnn_model.fit(\n",
    "    tensor_train_set_cnn,\n",
    "    epochs=epochs_cnn,\n",
    "    validation_data=tensor_val_set_cnn,\n",
    "    steps_per_epoch=300,\n",
    "    validation_steps=int((len(val_set) - 1) / batch_size + 1))"
   ]
  },
  {
   "cell_type": "code",
   "execution_count": 30,
   "metadata": {
    "ExecuteTime": {
     "end_time": "2020-08-03T02:34:36.068636Z",
     "start_time": "2020-08-03T02:32:31.112884Z"
    },
    "tags": []
   },
   "outputs": [
    {
     "name": "stdout",
     "output_type": "stream",
     "text": [
      "Epoch 1/20\n",
      "300/300 [==============================] - 6s 21ms/step - loss: 1.4529 - accuracy: 0.4082 - val_loss: 0.9475 - val_accuracy: 0.7188\n",
      "Epoch 2/20\n",
      "300/300 [==============================] - 6s 21ms/step - loss: 1.0001 - accuracy: 0.6004 - val_loss: 0.5586 - val_accuracy: 0.8125\n",
      "Epoch 3/20\n",
      "300/300 [==============================] - 6s 21ms/step - loss: 0.6636 - accuracy: 0.7749 - val_loss: 0.3803 - val_accuracy: 0.9688\n",
      "Epoch 4/20\n",
      "300/300 [==============================] - 6s 21ms/step - loss: 0.5778 - accuracy: 0.7948 - val_loss: 0.4439 - val_accuracy: 0.7812\n",
      "Epoch 5/20\n",
      "300/300 [==============================] - 6s 21ms/step - loss: 0.5325 - accuracy: 0.8190 - val_loss: 0.2879 - val_accuracy: 0.9375\n",
      "Epoch 6/20\n",
      "300/300 [==============================] - 6s 21ms/step - loss: 0.2707 - accuracy: 0.9093 - val_loss: 0.1118 - val_accuracy: 0.9688\n",
      "Epoch 7/20\n",
      "300/300 [==============================] - 6s 20ms/step - loss: 0.2527 - accuracy: 0.9136 - val_loss: 0.0873 - val_accuracy: 0.9688\n",
      "Epoch 8/20\n",
      "300/300 [==============================] - 6s 20ms/step - loss: 0.1745 - accuracy: 0.9421 - val_loss: 0.0686 - val_accuracy: 1.0000\n",
      "Epoch 9/20\n",
      "300/300 [==============================] - 6s 20ms/step - loss: 0.1457 - accuracy: 0.9489 - val_loss: 0.0463 - val_accuracy: 1.0000\n",
      "Epoch 10/20\n",
      "300/300 [==============================] - 6s 21ms/step - loss: 0.1432 - accuracy: 0.9524 - val_loss: 0.0459 - val_accuracy: 1.0000\n",
      "Epoch 11/20\n",
      "300/300 [==============================] - 6s 22ms/step - loss: 0.0948 - accuracy: 0.9678 - val_loss: 0.0360 - val_accuracy: 1.0000\n",
      "Epoch 12/20\n",
      "300/300 [==============================] - 6s 21ms/step - loss: 0.1014 - accuracy: 0.9650 - val_loss: 0.0238 - val_accuracy: 1.0000\n",
      "Epoch 13/20\n",
      "300/300 [==============================] - 6s 20ms/step - loss: 0.0945 - accuracy: 0.9686 - val_loss: 0.0306 - val_accuracy: 1.0000\n",
      "Epoch 14/20\n",
      "300/300 [==============================] - 6s 20ms/step - loss: 0.0685 - accuracy: 0.9779 - val_loss: 0.0172 - val_accuracy: 1.0000\n",
      "Epoch 15/20\n",
      "300/300 [==============================] - 6s 21ms/step - loss: 0.0754 - accuracy: 0.9736 - val_loss: 0.0169 - val_accuracy: 1.0000\n",
      "Epoch 16/20\n",
      "300/300 [==============================] - 6s 21ms/step - loss: 0.0569 - accuracy: 0.9808 - val_loss: 0.0083 - val_accuracy: 1.0000\n",
      "Epoch 17/20\n",
      "300/300 [==============================] - 6s 21ms/step - loss: 0.0651 - accuracy: 0.9779 - val_loss: 0.0165 - val_accuracy: 1.0000\n",
      "Epoch 18/20\n",
      "300/300 [==============================] - 6s 21ms/step - loss: 0.0657 - accuracy: 0.9784 - val_loss: 0.0260 - val_accuracy: 1.0000\n",
      "Epoch 19/20\n",
      "300/300 [==============================] - 6s 20ms/step - loss: 0.0458 - accuracy: 0.9851 - val_loss: 0.0124 - val_accuracy: 1.0000\n",
      "Epoch 20/20\n",
      "300/300 [==============================] - 6s 20ms/step - loss: 0.0576 - accuracy: 0.9812 - val_loss: 0.0139 - val_accuracy: 1.0000\n"
     ]
    }
   ],
   "source": [
    "history2=cnn_model2.fit(\n",
    "    tensor_train_set_cnn,\n",
    "    epochs=epochs_cnn,\n",
    "    validation_data=tensor_val_set_cnn,\n",
    "    steps_per_epoch=300,\n",
    "    validation_steps=int((len(val_set) - 1) / batch_size2 + 1))"
   ]
  },
  {
   "cell_type": "code",
   "execution_count": 31,
   "metadata": {
    "ExecuteTime": {
     "end_time": "2020-08-03T02:34:40.160934Z",
     "start_time": "2020-08-03T02:34:39.920103Z"
    },
    "tags": []
   },
   "outputs": [
    {
     "name": "stdout",
     "output_type": "stream",
     "text": [
      "1/1 [==============================] - 0s 2ms/step - loss: 0.0411 - accuracy: 0.9688\n",
      "1/1 [==============================] - 0s 2ms/step - loss: 0.0089 - accuracy: 1.0000\n"
     ]
    }
   ],
   "source": [
    "loss_cnn, acc_cnn = cnn_model.evaluate(tensor_test_set_cnn)\n",
    "pred_cnn = np.argmax(cnn_model.predict(tensor_test_set_cnn), axis=1)\n",
    "confusion_cnn = tf.math.confusion_matrix(\n",
    "    labels=tf.constant(test_set['gesture'].to_numpy()),\n",
    "    predictions=tf.constant(pred_cnn),\n",
    "    num_classes=5)\n",
    "\n",
    "loss_cnn2, acc_cnn2 = cnn_model2.evaluate(tensor_test_set_cnn)\n",
    "pred_cnn2 = np.argmax(cnn_model2.predict(tensor_test_set_cnn), axis=1)\n",
    "confusion_cnn2 = tf.math.confusion_matrix(\n",
    "    labels=tf.constant(test_set['gesture'].to_numpy()),\n",
    "    predictions=tf.constant(pred_cnn2),\n",
    "    num_classes=5)"
   ]
  },
  {
   "cell_type": "code",
   "execution_count": 32,
   "metadata": {
    "ExecuteTime": {
     "end_time": "2020-08-03T02:34:42.631573Z",
     "start_time": "2020-08-03T02:34:42.622905Z"
    },
    "tags": []
   },
   "outputs": [
    {
     "name": "stdout",
     "output_type": "stream",
     "text": [
      "tf.Tensor(\n",
      "[[12  0  0  0  0]\n",
      " [ 0 18  0  0  0]\n",
      " [ 0  0 12  0  0]\n",
      " [ 0  0  0 14  0]\n",
      " [ 0  0  0  2  6]], shape=(5, 5), dtype=int32)\n",
      "Loss 0.0410902164876461, Accuracy 0.96875\n",
      "tf.Tensor(\n",
      "[[12  0  0  0  0]\n",
      " [ 0 18  0  0  0]\n",
      " [ 0  0 12  0  0]\n",
      " [ 0  0  0 14  0]\n",
      " [ 0  0  0  0  8]], shape=(5, 5), dtype=int32)\n",
      "Loss 0.008880273438990116, Accuracy 1.0\n"
     ]
    }
   ],
   "source": [
    "print(confusion_cnn)\n",
    "print(\"Loss {}, Accuracy {}\".format(loss_cnn, acc_cnn))\n",
    "print(confusion_cnn2)\n",
    "print(\"Loss {}, Accuracy {}\".format(loss_cnn2, acc_cnn2))"
   ]
  },
  {
   "cell_type": "code",
   "execution_count": null,
   "metadata": {
    "ExecuteTime": {
     "end_time": "2020-07-07T16:48:40.511257Z",
     "start_time": "2020-07-07T16:48:40.503305Z"
    }
   },
   "outputs": [],
   "source": []
  },
  {
   "cell_type": "code",
   "execution_count": 33,
   "metadata": {
    "ExecuteTime": {
     "end_time": "2020-08-03T02:35:01.868192Z",
     "start_time": "2020-08-03T02:35:01.521229Z"
    }
   },
   "outputs": [
    {
     "data": {
      "text/plain": [
       "<matplotlib.legend.Legend at 0x7f07eddbff50>"
      ]
     },
     "execution_count": 33,
     "metadata": {},
     "output_type": "execute_result"
    },
    {
     "data": {
      "image/png": "[encoded data removed]",
      "text/plain": [
       "<Figure size 432x288 with 1 Axes>"
      ]
     },
     "metadata": {},
     "output_type": "display_data"
    }
   ],
   "source": [
    "plt.plot(history.history['accuracy'])\n",
    "plt.plot(history.history['val_accuracy'])\n",
    "\n",
    "\n",
    "plt.plot(history2.history['accuracy'])\n",
    "plt.plot(history2.history['val_accuracy'])\n",
    "\n",
    "plt.xlabel('Epochs')\n",
    "plt.ylabel('Acc')\n",
    "plt.legend(['Training','Validation','Training 2', 'Validation 2'],loc='lower right')\n"
   ]
  },
  {
   "cell_type": "code",
   "execution_count": 34,
   "metadata": {
    "ExecuteTime": {
     "end_time": "2020-08-03T02:35:04.850536Z",
     "start_time": "2020-08-03T02:35:04.522508Z"
    }
   },
   "outputs": [
    {
     "data": {
      "text/plain": [
       "<matplotlib.legend.Legend at 0x7f07edd38190>"
      ]
     },
     "execution_count": 34,
     "metadata": {},
     "output_type": "execute_result"
    },
    {
     "data": {
      "image/png": "[encoded data removed]",
      "text/plain": [
       "<Figure size 432x288 with 1 Axes>"
      ]
     },
     "metadata": {},
     "output_type": "display_data"
    }
   ],
   "source": [
    "plt.plot(history.history['loss'])\n",
    "plt.plot(history.history['val_loss'])\n",
    "\n",
    "\n",
    "plt.plot(history2.history['loss'])\n",
    "plt.plot(history2.history['val_loss'])\n",
    "\n",
    "plt.xlabel('Epochs')\n",
    "plt.ylabel('Loss')\n",
    "plt.legend(['Training','Validation','Training 2', 'Validation 2'],loc='upper right')\n",
    "\n"
   ]
  },
  {
   "cell_type": "markdown",
   "metadata": {},
   "source": [
    "Overfitting if: training loss << validation loss\n",
    "\n",
    "Underfitting if: training loss >> validation loss"
   ]
  },
  {
   "cell_type": "code",
   "execution_count": 39,
   "metadata": {
    "ExecuteTime": {
     "end_time": "2020-08-03T02:37:36.329265Z",
     "start_time": "2020-08-03T02:37:36.268249Z"
    }
   },
   "outputs": [],
   "source": [
    "cnn_model3.save('cnn_model3_half.h5') "
   ]
  },
  {
   "cell_type": "code",
   "execution_count": 40,
   "metadata": {
    "ExecuteTime": {
     "end_time": "2020-08-03T02:37:43.227807Z",
     "start_time": "2020-08-03T02:37:37.570084Z"
    }
   },
   "outputs": [
    {
     "data": {
      "text/plain": [
       "17052"
      ]
     },
     "execution_count": 40,
     "metadata": {},
     "output_type": "execute_result"
    }
   ],
   "source": [
    "converter = tf.lite.TFLiteConverter.from_keras_model(cnn_model3)\n",
    "cnn_tflite_model = converter.convert()\n",
    "\n",
    "open(\"../Model/cnn_model3_half.tflite\", \"wb\").write(cnn_tflite_model)"
   ]
  },
  {
   "cell_type": "code",
   "execution_count": 41,
   "metadata": {
    "ExecuteTime": {
     "end_time": "2020-08-03T02:37:48.822183Z",
     "start_time": "2020-08-03T02:37:44.377060Z"
    }
   },
   "outputs": [
    {
     "data": {
      "text/plain": [
       "8832"
      ]
     },
     "execution_count": 41,
     "metadata": {},
     "output_type": "execute_result"
    }
   ],
   "source": [
    "converter = tf.lite.TFLiteConverter.from_keras_model(cnn_model3)\n",
    "converter.optimizations = [tf.lite.Optimize.OPTIMIZE_FOR_SIZE]\n",
    "cnn_opt_tflite_model = converter.convert()\n",
    "# Save the model to disk\n",
    "open(\"../Model/cnn_model_quantized3_half.tflite\", \"wb\").write(cnn_opt_tflite_model)"
   ]
  },
  {
   "cell_type": "code",
   "execution_count": 43,
   "metadata": {
    "ExecuteTime": {
     "end_time": "2020-08-03T02:38:09.201308Z",
     "start_time": "2020-08-03T02:38:09.193494Z"
    },
    "tags": []
   },
   "outputs": [
    {
     "name": "stdout",
     "output_type": "stream",
     "text": [
      "Basic model is 17052 bytes\n",
      "Quantized model is 8832 bytes\n",
      "Difference is 8220 bytes\n"
     ]
    }
   ],
   "source": [
    "basic_model_size = os.path.getsize(\"../Model/cnn_model3_half.tflite\")\n",
    "print(\"Basic model is %d bytes\" % basic_model_size)\n",
    "quantized_model_size = os.path.getsize(\"../Model/cnn_model_quantized3_half.tflite\")\n",
    "print(\"Quantized model is %d bytes\" % quantized_model_size)\n",
    "difference = basic_model_size - quantized_model_size\n",
    "print(\"Difference is %d bytes\" % difference)"
   ]
  },
  {
   "cell_type": "code",
   "execution_count": null,
   "metadata": {
    "ExecuteTime": {
     "end_time": "2020-07-05T01:27:51.433418Z",
     "start_time": "2020-07-05T01:27:49.772098Z"
    },
    "tags": []
   },
   "outputs": [],
   "source": [
    "# Install xxd if it is not available\n",
    "!sudo apt-get -qq install xxd\n",
    "# Save the file as a C source file\n",
    "!xxd -i cnn_model_quantized.tflite > cnn_opt_model.cc\n",
    "# Print the source file\n",
    "!cat /cnn_opt_model.cc"
   ]
  },
  {
   "cell_type": "code",
   "execution_count": 35,
   "metadata": {
    "ExecuteTime": {
     "end_time": "2020-08-03T02:37:07.683291Z",
     "start_time": "2020-08-03T02:35:16.671939Z"
    },
    "tags": []
   },
   "outputs": [
    {
     "name": "stdout",
     "output_type": "stream",
     "text": [
      "Epoch 1/20\n",
      "300/300 [==============================] - 6s 19ms/step - loss: 1.4002 - accuracy: 0.4759 - val_loss: 0.6241 - val_accuracy: 0.9062\n",
      "Epoch 2/20\n",
      "300/300 [==============================] - 5s 18ms/step - loss: 0.8905 - accuracy: 0.7069 - val_loss: 0.3382 - val_accuracy: 0.9688\n",
      "Epoch 3/20\n",
      "300/300 [==============================] - 6s 19ms/step - loss: 0.5710 - accuracy: 0.8441 - val_loss: 0.2059 - val_accuracy: 0.9688\n",
      "Epoch 4/20\n",
      "300/300 [==============================] - 6s 18ms/step - loss: 0.4809 - accuracy: 0.8564 - val_loss: 0.1734 - val_accuracy: 0.9688\n",
      "Epoch 5/20\n",
      "300/300 [==============================] - 5s 18ms/step - loss: 0.4150 - accuracy: 0.8788 - val_loss: 0.1749 - val_accuracy: 1.0000\n",
      "Epoch 6/20\n",
      "300/300 [==============================] - 5s 18ms/step - loss: 0.2771 - accuracy: 0.9179 - val_loss: 0.0703 - val_accuracy: 0.9688\n",
      "Epoch 7/20\n",
      "300/300 [==============================] - 6s 19ms/step - loss: 0.3128 - accuracy: 0.8997 - val_loss: 0.0908 - val_accuracy: 0.9688\n",
      "Epoch 8/20\n",
      "300/300 [==============================] - 6s 19ms/step - loss: 0.2423 - accuracy: 0.9184 - val_loss: 0.0548 - val_accuracy: 1.0000\n",
      "Epoch 9/20\n",
      "300/300 [==============================] - 5s 18ms/step - loss: 0.2100 - accuracy: 0.9298 - val_loss: 0.1487 - val_accuracy: 0.9688\n",
      "Epoch 10/20\n",
      "300/300 [==============================] - 5s 18ms/step - loss: 0.2095 - accuracy: 0.9296 - val_loss: 0.1020 - val_accuracy: 0.9688\n",
      "Epoch 11/20\n",
      "300/300 [==============================] - 5s 18ms/step - loss: 0.1476 - accuracy: 0.9530 - val_loss: 0.1220 - val_accuracy: 0.9688\n",
      "Epoch 12/20\n",
      "300/300 [==============================] - 6s 19ms/step - loss: 0.1831 - accuracy: 0.9375 - val_loss: 0.0871 - val_accuracy: 0.9688\n",
      "Epoch 13/20\n",
      "300/300 [==============================] - 5s 18ms/step - loss: 0.1640 - accuracy: 0.9464 - val_loss: 0.0898 - val_accuracy: 0.9688\n",
      "Epoch 14/20\n",
      "300/300 [==============================] - 5s 18ms/step - loss: 0.1206 - accuracy: 0.9609 - val_loss: 0.1589 - val_accuracy: 0.9688\n",
      "Epoch 15/20\n",
      "300/300 [==============================] - 5s 18ms/step - loss: 0.1340 - accuracy: 0.9561 - val_loss: 0.0644 - val_accuracy: 0.9688\n",
      "Epoch 16/20\n",
      "300/300 [==============================] - 6s 19ms/step - loss: 0.1116 - accuracy: 0.9621 - val_loss: 0.0498 - val_accuracy: 0.9688\n",
      "Epoch 17/20\n",
      "300/300 [==============================] - 6s 19ms/step - loss: 0.1234 - accuracy: 0.9611 - val_loss: 0.1420 - val_accuracy: 0.9688\n",
      "Epoch 18/20\n",
      "300/300 [==============================] - 5s 18ms/step - loss: 0.1210 - accuracy: 0.9608 - val_loss: 0.0270 - val_accuracy: 1.0000\n",
      "Epoch 19/20\n",
      "300/300 [==============================] - 5s 18ms/step - loss: 0.0864 - accuracy: 0.9726 - val_loss: 0.1016 - val_accuracy: 0.9688\n",
      "Epoch 20/20\n",
      "300/300 [==============================] - 6s 19ms/step - loss: 0.1044 - accuracy: 0.9665 - val_loss: 0.0768 - val_accuracy: 0.9688\n"
     ]
    }
   ],
   "source": [
    "history3=cnn_model3.fit(\n",
    "    tensor_train_set_cnn,\n",
    "    epochs=epochs_cnn,\n",
    "    validation_data=tensor_val_set_cnn,\n",
    "    steps_per_epoch=300,\n",
    "    validation_steps=int((len(val_set) - 1) / batch_size2 + 1))"
   ]
  },
  {
   "cell_type": "code",
   "execution_count": 36,
   "metadata": {
    "ExecuteTime": {
     "end_time": "2020-08-03T02:37:13.285181Z",
     "start_time": "2020-08-03T02:37:13.173703Z"
    }
   },
   "outputs": [
    {
     "name": "stdout",
     "output_type": "stream",
     "text": [
      "1/1 [==============================] - 0s 2ms/step - loss: 0.0017 - accuracy: 1.0000\n",
      "tf.Tensor(\n",
      "[[12  0  0  0  0]\n",
      " [ 0 18  0  0  0]\n",
      " [ 0  0 12  0  0]\n",
      " [ 0  0  0 14  0]\n",
      " [ 0  0  0  0  8]], shape=(5, 5), dtype=int32)\n",
      "Loss 0.008880273438990116, Accuracy 1.0\n",
      "tf.Tensor(\n",
      "[[12  0  0  0  0]\n",
      " [ 0 18  0  0  0]\n",
      " [ 0  0 12  0  0]\n",
      " [ 0  0  0 14  0]\n",
      " [ 0  0  0  0  8]], shape=(5, 5), dtype=int32)\n",
      "Loss 0.001651971833780408, Accuracy 1.0\n"
     ]
    }
   ],
   "source": [
    "loss_cnn3, acc_cnn3 = cnn_model3.evaluate(tensor_test_set_cnn)\n",
    "pred_cnn3 = np.argmax(cnn_model3.predict(tensor_test_set_cnn), axis=1)\n",
    "confusion_cnn3 = tf.math.confusion_matrix(\n",
    "    labels=tf.constant(test_set['gesture'].to_numpy()),\n",
    "    predictions=tf.constant(pred_cnn3),\n",
    "    num_classes=5)\n",
    "\n",
    "print(confusion_cnn2)\n",
    "print(\"Loss {}, Accuracy {}\".format(loss_cnn2, acc_cnn2))\n",
    "\n",
    "print(confusion_cnn3)\n",
    "print(\"Loss {}, Accuracy {}\".format(loss_cnn3, acc_cnn3))"
   ]
  },
  {
   "cell_type": "code",
   "execution_count": 37,
   "metadata": {
    "ExecuteTime": {
     "end_time": "2020-08-03T02:37:22.205987Z",
     "start_time": "2020-08-03T02:37:21.917013Z"
    }
   },
   "outputs": [
    {
     "data": {
      "text/plain": [
       "<matplotlib.legend.Legend at 0x7f07edb3ecd0>"
      ]
     },
     "execution_count": 37,
     "metadata": {},
     "output_type": "execute_result"
    },
    {
     "data": {
      "image/png": "[encoded data removed]",
      "text/plain": [
       "<Figure size 432x288 with 1 Axes>"
      ]
     },
     "metadata": {},
     "output_type": "display_data"
    }
   ],
   "source": [
    "plt.plot(history2.history['loss'])\n",
    "plt.plot(history2.history['val_loss'])\n",
    "\n",
    "plt.plot(history3.history['loss'])\n",
    "plt.plot(history3.history['val_loss'])\n",
    "\n",
    "plt.xlabel('Epochs')\n",
    "plt.ylabel('Loss')\n",
    "plt.legend(['Training2','Validation2','Training 3', 'Validation 3'],loc='upper right')"
   ]
  },
  {
   "cell_type": "code",
   "execution_count": 38,
   "metadata": {
    "ExecuteTime": {
     "end_time": "2020-08-03T02:37:24.491875Z",
     "start_time": "2020-08-03T02:37:24.201369Z"
    }
   },
   "outputs": [
    {
     "data": {
      "text/plain": [
       "<matplotlib.legend.Legend at 0x7f07edac4bd0>"
      ]
     },
     "execution_count": 38,
     "metadata": {},
     "output_type": "execute_result"
    },
    {
     "data": {
      "image/png": "[encoded data removed]",
      "text/plain": [
       "<Figure size 432x288 with 1 Axes>"
      ]
     },
     "metadata": {},
     "output_type": "display_data"
    }
   ],
   "source": [
    "plt.plot(history2.history['accuracy'])\n",
    "plt.plot(history2.history['val_accuracy'])\n",
    "\n",
    "plt.plot(history3.history['accuracy'])\n",
    "plt.plot(history3.history['val_accuracy'])\n",
    "\n",
    "plt.xlabel('Epochs')\n",
    "plt.ylabel('Acc')\n",
    "plt.legend(['Training2','Validation2','Training 3', 'Validation3 '],loc='lower right')"
   ]
  },
  {
   "cell_type": "code",
   "execution_count": 49,
   "metadata": {
    "ExecuteTime": {
     "end_time": "2020-08-03T02:44:28.293593Z",
     "start_time": "2020-08-03T02:44:27.679029Z"
    }
   },
   "outputs": [],
   "source": [
    "!xxd -i ../Model/cnn_model_quantized3_half.tflite > ../Model/cnn_opt_model3_half.cc"
   ]
  },
  {
   "cell_type": "code",
   "execution_count": 50,
   "metadata": {
    "ExecuteTime": {
     "end_time": "2020-08-03T02:44:29.664125Z",
     "start_time": "2020-08-03T02:44:29.054191Z"
    },
    "scrolled": false
   },
   "outputs": [
    {
     "name": "stdout",
     "output_type": "stream",
     "text": [
      "unsigned char ___Model_cnn_model_quantized3_half_tflite[] = {\r\n",
      "  0x20, 0x00, 0x00, 0x00, 0x54, 0x46, 0x4c, 0x33, 0x00, 0x00, 0x00, 0x00,\r\n",
      "  0x00, 0x00, 0x12, 0x00, 0x1c, 0x00, 0x04, 0x00, 0x08, 0x00, 0x0c, 0x00,\r\n",
      "  0x10, 0x00, 0x14, 0x00, 0x00, 0x00, 0x18, 0x00, 0x12, 0x00, 0x00, 0x00,\r\n",
      "  0x03, 0x00, 0x00, 0x00, 0xfc, 0x21, 0x00, 0x00, 0x78, 0x18, 0x00, 0x00,\r\n",
      "  0x60, 0x18, 0x00, 0x00, 0x3c, 0x00, 0x00, 0x00, 0x04, 0x00, 0x00, 0x00,\r\n",
      "  0x01, 0x00, 0x00, 0x00, 0x0c, 0x00, 0x00, 0x00, 0x08, 0x00, 0x0c, 0x00,\r\n",
      "  0x04, 0x00, 0x08, 0x00, 0x08, 0x00, 0x00, 0x00, 0x08, 0x00, 0x00, 0x00,\r\n",
      "  0x13, 0x00, 0x00, 0x00, 0x13, 0x00, 0x00, 0x00, 0x6d, 0x69, 0x6e, 0x5f,\r\n",
      "  0x72, 0x75, 0x6e, 0x74, 0x69, 0x6d, 0x65, 0x5f, 0x76, 0x65, 0x72, 0x73,\r\n",
      "  0x69, 0x6f, 0x6e, 0x00, 0x14, 0x00, 0x00, 0x00, 0x18, 0x18, 0x00, 0x00,\r\n",
      "  0x04, 0x18, 0x00, 0x00, 0xc8, 0x17, 0x00, 0x00, 0x74, 0x17, 0x00, 0x00,\r\n",
      "  0x20, 0x17, 0x00, 0x00, 0xfc, 0x16, 0x00, 0x00, 0xd8, 0x16, 0x00, 0x00,\r\n",
      "  0xc4, 0x0b, 0x00, 0x00, 0x70, 0x0a, 0x00, 0x00, 0xdc, 0x08, 0x00, 0x00,\r\n",
      "  0xc8, 0x00, 0x00, 0x00, 0xbc, 0x00, 0x00, 0x00, 0xa8, 0x00, 0x00, 0x00,\r\n",
      "  0x94, 0x00, 0x00, 0x00, 0x80, 0x00, 0x00, 0x00, 0x6c, 0x00, 0x00, 0x00,\r\n",
      "  0x58, 0x00, 0x00, 0x00, 0x44, 0x00, 0x00, 0x00, 0x30, 0x00, 0x00, 0x00,\r\n",
      "  0x04, 0x00, 0x00, 0x00, 0xa6, 0xe7, 0xff, 0xff, 0x04, 0x00, 0x00, 0x00,\r\n",
      "  0x10, 0x00, 0x00, 0x00, 0x31, 0x2e, 0x35, 0x2e, 0x30, 0x00, 0x00, 0x00,\r\n",
      "  0x00, 0x00, 0x00, 0x00, 0x00, 0x00, 0x00, 0x00, 0x00, 0x00, 0x00, 0x00,\r\n",
      "  0x00, 0x00, 0x00, 0x00, 0x00, 0x00, 0x00, 0x00, 0xf8, 0xde, 0xff, 0xff,\r\n",
      "  0x00, 0x00, 0x00, 0x00, 0x00, 0x00, 0x00, 0x00, 0x00, 0x00, 0x00, 0x00,\r\n",
      "  0x08, 0xdf, 0xff, 0xff, 0x00, 0x00, 0x00, 0x00, 0x00, 0x00, 0x00, 0x00,\r\n",
      "  0x00, 0x00, 0x00, 0x00, 0x18, 0xdf, 0xff, 0xff, 0x00, 0x00, 0x00, 0x00,\r\n",
      "  0x00, 0x00, 0x00, 0x00, 0x00, 0x00, 0x00, 0x00, 0x28, 0xdf, 0xff, 0xff,\r\n",
      "  0x00, 0x00, 0x00, 0x00, 0x00, 0x00, 0x00, 0x00, 0x00, 0x00, 0x00, 0x00,\r\n",
      "  0x38, 0xdf, 0xff, 0xff, 0x00, 0x00, 0x00, 0x00, 0x00, 0x00, 0x00, 0x00,\r\n",
      "  0x00, 0x00, 0x00, 0x00, 0x48, 0xdf, 0xff, 0xff, 0x00, 0x00, 0x00, 0x00,\r\n",
      "  0x00, 0x00, 0x00, 0x00, 0x00, 0x00, 0x00, 0x00, 0x58, 0xdf, 0xff, 0xff,\r\n",
      "  0x00, 0x00, 0x00, 0x00, 0x00, 0x00, 0x00, 0x00, 0x00, 0x00, 0x00, 0x00,\r\n",
      "  0x68, 0xdf, 0xff, 0xff, 0x00, 0x00, 0x00, 0x00, 0x46, 0xe8, 0xff, 0xff,\r\n",
      "  0x04, 0x00, 0x00, 0x00, 0x00, 0x08, 0x00, 0x00, 0xa7, 0x8a, 0x0e, 0x3e,\r\n",
      "  0xfc, 0xfb, 0xe1, 0x3d, 0x44, 0x03, 0x78, 0x3e, 0x8f, 0xc7, 0x85, 0xbe,\r\n",
      "  0x75, 0x15, 0x74, 0x3d, 0x0a, 0x15, 0x52, 0xbd, 0x46, 0xed, 0x0c, 0x3d,\r\n",
      "  0x02, 0xc1, 0xeb, 0xbc, 0x2d, 0x20, 0x13, 0xbe, 0xa4, 0xec, 0xea, 0x3c,\r\n",
      "  0x1d, 0x5f, 0x83, 0x3e, 0x05, 0xc4, 0xac, 0xbe, 0x81, 0x22, 0x7d, 0x3d,\r\n",
      "  0x6b, 0xe2, 0x54, 0x3e, 0xc6, 0x9a, 0x96, 0xbd, 0x4f, 0xb7, 0xf9, 0xbd,\r\n",
      "  0x92, 0xdc, 0x53, 0xbd, 0xec, 0x6d, 0x1d, 0xbe, 0x56, 0xac, 0x1d, 0x3e,\r\n",
      "  0xf2, 0xbb, 0x22, 0xbe, 0x99, 0x55, 0x3c, 0x3e, 0x25, 0xef, 0xa3, 0x3e,\r\n",
      "  0xbb, 0x25, 0x44, 0xbe, 0xa9, 0x97, 0x90, 0xbe, 0x3b, 0xad, 0x03, 0xbd,\r\n",
      "  0x5b, 0x28, 0x2a, 0x3e, 0x72, 0xd0, 0xe3, 0xbd, 0x47, 0x5f, 0x59, 0xbe,\r\n",
      "  0x2d, 0xca, 0xc6, 0x3d, 0xe9, 0xa8, 0xce, 0xbc, 0x0b, 0x8e, 0x16, 0xbe,\r\n",
      "  0xda, 0x5f, 0x62, 0xbe, 0x3e, 0xdd, 0x82, 0x3e, 0xe7, 0x97, 0xf9, 0xbd,\r\n",
      "  0x4c, 0x14, 0x27, 0x3d, 0x3a, 0xf6, 0xdd, 0x3e, 0xa2, 0x07, 0x9b, 0x3e,\r\n",
      "  0xaa, 0x96, 0x5e, 0xbc, 0x60, 0x13, 0xac, 0x3b, 0xc3, 0x4e, 0x3a, 0xbd,\r\n",
      "  0xfc, 0x7d, 0xcd, 0xbd, 0x95, 0x40, 0x07, 0xbe, 0xaf, 0x68, 0x8e, 0xbd,\r\n",
      "  0xad, 0x7b, 0x9d, 0x3d, 0x36, 0xc1, 0x2c, 0xbe, 0xc6, 0x4e, 0x35, 0xbe,\r\n",
      "  0x20, 0x1e, 0x27, 0xbe, 0x0a, 0x69, 0x65, 0x3e, 0x6a, 0x12, 0x97, 0x3c,\r\n",
      "  0xd6, 0xb6, 0x42, 0xbd, 0xea, 0x67, 0x44, 0xbd, 0x31, 0xe6, 0x6e, 0x3e,\r\n",
      "  0x22, 0x2b, 0x97, 0xbe, 0x2f, 0xf9, 0x45, 0xbe, 0x9d, 0x8b, 0x59, 0x3d,\r\n",
      "  0x57, 0xbc, 0x1c, 0xbe, 0xf3, 0x9b, 0x48, 0xbe, 0x8f, 0x24, 0x51, 0x3e,\r\n",
      "  0x69, 0xd9, 0x45, 0x3e, 0x2e, 0x7c, 0x81, 0xbe, 0x0f, 0x1c, 0x86, 0xbe,\r\n",
      "  0x71, 0x44, 0x45, 0xbe, 0x02, 0xbb, 0x44, 0xbe, 0x77, 0x26, 0x50, 0xbe,\r\n",
      "  0xc2, 0x6a, 0xb3, 0x3c, 0x4c, 0x8f, 0x11, 0x3e, 0x46, 0xf3, 0xe2, 0x3d,\r\n",
      "  0x1b, 0xbe, 0xb5, 0xbd, 0xa4, 0xa3, 0x87, 0xbe, 0x3f, 0x21, 0x8a, 0xbc,\r\n",
      "  0x2f, 0x83, 0x4b, 0xbd, 0x20, 0x38, 0xa3, 0x3e, 0x65, 0xde, 0x0d, 0xbe,\r\n",
      "  0xa7, 0xd5, 0xe1, 0x3a, 0x8e, 0x5f, 0x57, 0x3d, 0x9c, 0xe4, 0x37, 0xbe,\r\n",
      "  0xef, 0x87, 0x85, 0xbe, 0x8d, 0x54, 0x4b, 0x3e, 0x29, 0x29, 0x17, 0xbe,\r\n",
      "  0x53, 0x16, 0x0b, 0xbd, 0xfc, 0xe5, 0x64, 0x3e, 0xa5, 0x85, 0x02, 0xbd,\r\n",
      "  0xa8, 0x5f, 0xb9, 0xbc, 0x71, 0x7a, 0x24, 0xbe, 0x88, 0x39, 0x82, 0xbd,\r\n",
      "  0x17, 0x0f, 0xdd, 0x3d, 0x93, 0x6a, 0x36, 0xbe, 0xc7, 0x88, 0x83, 0x3e,\r\n",
      "  0x64, 0x0d, 0xab, 0x3d, 0x78, 0xd4, 0x67, 0x3e, 0x2a, 0x94, 0xb7, 0xbd,\r\n",
      "  0xc6, 0x0e, 0x85, 0xbe, 0x67, 0x01, 0x01, 0xbe, 0x8e, 0xec, 0x1b, 0xbe,\r\n",
      "  0x50, 0x20, 0xdc, 0xbd, 0xac, 0x8c, 0xa6, 0x3e, 0x15, 0xb4, 0x09, 0x3e,\r\n",
      "  0x46, 0x49, 0x7f, 0xbe, 0x0a, 0x06, 0x1a, 0xbe, 0x7c, 0xab, 0x15, 0xbe,\r\n",
      "  0xfe, 0x3d, 0x2a, 0xbd, 0x29, 0xc5, 0x5b, 0xbe, 0xf4, 0x78, 0x12, 0xbe,\r\n",
      "  0x37, 0xf8, 0x9f, 0x3c, 0x33, 0x33, 0xdf, 0x3d, 0xee, 0xfb, 0xbc, 0xbe,\r\n",
      "  0xde, 0x16, 0x9d, 0xbe, 0x18, 0x5c, 0x7d, 0x3d, 0xfb, 0x75, 0x46, 0x3e,\r\n",
      "  0x7a, 0xae, 0x73, 0xbe, 0x17, 0xd2, 0x21, 0xbe, 0xfd, 0x01, 0x8c, 0xbd,\r\n",
      "  0xe4, 0x75, 0x20, 0x3e, 0x99, 0x16, 0x51, 0xbe, 0x6e, 0x5b, 0x95, 0xbe,\r\n",
      "  0x88, 0xf2, 0xac, 0xbd, 0x3d, 0x36, 0x4e, 0xbc, 0x12, 0xd3, 0xb7, 0xbd,\r\n",
      "  0x54, 0x2f, 0x4c, 0x3d, 0x04, 0x7e, 0x2c, 0x3e, 0x8d, 0xf8, 0x39, 0x3e,\r\n",
      "  0xb1, 0x37, 0xb7, 0xbd, 0x71, 0x28, 0x49, 0x3e, 0xc1, 0x79, 0x15, 0x3d,\r\n",
      "  0x0c, 0x6f, 0x96, 0x3e, 0xf4, 0x8b, 0x7d, 0x3b, 0x35, 0x1d, 0x45, 0x3e,\r\n",
      "  0x9e, 0x5f, 0x89, 0xbc, 0xc2, 0xe2, 0x1a, 0xbc, 0xb1, 0x31, 0xa6, 0xbe,\r\n",
      "  0x26, 0x12, 0x62, 0xbc, 0xe1, 0xfc, 0x94, 0x3e, 0x30, 0x34, 0xcd, 0xbd,\r\n",
      "  0xdc, 0xb4, 0x96, 0x3e, 0x40, 0x05, 0xd3, 0x3d, 0x18, 0x11, 0x99, 0x3d,\r\n",
      "  0xbb, 0x98, 0x29, 0xbe, 0xc1, 0x8c, 0x10, 0xbe, 0xe2, 0x6f, 0x89, 0xbd,\r\n",
      "  0x59, 0x20, 0xe1, 0x3c, 0xe2, 0xd6, 0x0e, 0x3d, 0xa0, 0x3e, 0xef, 0x3d,\r\n",
      "  0xd5, 0x05, 0x60, 0xbd, 0x29, 0x0b, 0xef, 0xbd, 0x6c, 0x06, 0x2a, 0xbe,\r\n",
      "  0x6f, 0x1f, 0x9e, 0xbe, 0xf5, 0x7b, 0x71, 0xbe, 0xe4, 0x9e, 0x64, 0x3e,\r\n",
      "  0x7e, 0x98, 0x32, 0x3e, 0x51, 0xdf, 0xf0, 0xbc, 0x4f, 0x7a, 0xc8, 0xbd,\r\n",
      "  0x38, 0x07, 0x05, 0xbe, 0xb5, 0x74, 0x97, 0x3c, 0x80, 0xbe, 0x74, 0xbd,\r\n",
      "  0xa6, 0x16, 0x7d, 0x3d, 0xa8, 0x13, 0x2b, 0xbe, 0x46, 0x98, 0xa0, 0x3d,\r\n",
      "  0xb0, 0x6c, 0x45, 0x3e, 0xd2, 0x11, 0xad, 0xbd, 0x14, 0x08, 0x2e, 0xbe,\r\n",
      "  0xe0, 0xa6, 0xf0, 0xbd, 0x01, 0x13, 0x57, 0xbe, 0xc1, 0xaf, 0x77, 0xbe,\r\n",
      "  0xf0, 0xc9, 0x0c, 0xbe, 0xe7, 0x3d, 0x1e, 0x3e, 0x7f, 0xc1, 0x58, 0xbe,\r\n",
      "  0x9a, 0x2c, 0x71, 0x3d, 0x92, 0x9c, 0x09, 0x3e, 0x8d, 0xa6, 0x8b, 0x3d,\r\n",
      "  0x3c, 0x41, 0x3b, 0xbb, 0xf0, 0xc3, 0x28, 0x3d, 0x20, 0x58, 0x20, 0xbe,\r\n",
      "  0x5e, 0x62, 0x9b, 0x3e, 0x97, 0x22, 0x4d, 0xbe, 0x56, 0x74, 0x87, 0x3b,\r\n",
      "  0xb5, 0x62, 0x99, 0xbd, 0x3f, 0x64, 0x4d, 0x3b, 0x3f, 0x76, 0xac, 0xb8,\r\n",
      "  0x10, 0xc6, 0x93, 0xbd, 0xeb, 0x86, 0xac, 0xbd, 0x74, 0x6d, 0x33, 0xbd,\r\n",
      "  0x20, 0x01, 0x6e, 0xbd, 0x9e, 0x55, 0x1e, 0xbd, 0x73, 0x48, 0x82, 0x3e,\r\n",
      "  0x50, 0xa8, 0x5a, 0x3e, 0xd5, 0x0a, 0x4c, 0x3e, 0xe5, 0x12, 0x85, 0x3d,\r\n",
      "  0x19, 0x0a, 0xdf, 0xbc, 0x43, 0x09, 0xd5, 0xbd, 0xec, 0x2b, 0x6b, 0xbe,\r\n",
      "  0x18, 0x58, 0x43, 0x3d, 0xb5, 0xb1, 0x7a, 0x3e, 0x5f, 0x3f, 0xa1, 0x3c,\r\n",
      "  0x57, 0xe3, 0x1a, 0xbe, 0x5d, 0xf6, 0x1f, 0xbe, 0x77, 0x66, 0xf0, 0x3d,\r\n",
      "  0x86, 0xa4, 0x10, 0x3e, 0xc8, 0xdc, 0xff, 0xbc, 0x51, 0x87, 0xbd, 0x3d,\r\n",
      "  0x5f, 0xaf, 0x5e, 0x3b, 0xd3, 0xce, 0x92, 0x3e, 0x79, 0x97, 0x91, 0xbd,\r\n",
      "  0xda, 0xbc, 0xce, 0xbd, 0xb1, 0x62, 0x4b, 0xbe, 0xb5, 0xa4, 0xac, 0xbe,\r\n",
      "  0xff, 0x11, 0xd3, 0xbd, 0xcc, 0x13, 0x0d, 0xbd, 0x13, 0xd5, 0x0e, 0xbd,\r\n",
      "  0x21, 0x4a, 0xaa, 0x3d, 0x64, 0xb4, 0xa9, 0x3e, 0x28, 0xdd, 0xfc, 0x3d,\r\n",
      "  0x55, 0x60, 0x9e, 0xbe, 0x86, 0x28, 0xc8, 0xbe, 0xe8, 0x3f, 0xbc, 0x3d,\r\n",
      "  0x01, 0x1e, 0x8e, 0xbc, 0x80, 0x2c, 0x1e, 0xbc, 0xc8, 0x13, 0x93, 0x3c,\r\n",
      "  0x60, 0x6b, 0x5e, 0x3e, 0x68, 0xdb, 0x17, 0x3e, 0xcc, 0x7b, 0xbf, 0xbe,\r\n",
      "  0xb1, 0xa9, 0xbb, 0xbe, 0x76, 0x9c, 0x20, 0x3e, 0xa4, 0x32, 0x86, 0xbe,\r\n",
      "  0x68, 0x23, 0x70, 0x3e, 0xea, 0x05, 0x79, 0xbd, 0x60, 0xd0, 0x87, 0xbd,\r\n",
      "  0xd9, 0x64, 0xb3, 0xbd, 0xf3, 0xd9, 0xa3, 0xbd, 0x81, 0x75, 0x5f, 0xbd,\r\n",
      "  0xd3, 0x15, 0x05, 0xbe, 0x1d, 0x2c, 0x16, 0xbe, 0x0f, 0x41, 0x81, 0x3e,\r\n",
      "  0x68, 0x90, 0x03, 0xbe, 0x7f, 0x9e, 0xc5, 0xbd, 0x9b, 0x78, 0x7b, 0x3e,\r\n",
      "  0xdf, 0xf6, 0x88, 0x3b, 0x03, 0xff, 0x49, 0x3d, 0x80, 0x2e, 0x88, 0xbb,\r\n",
      "  0x72, 0x69, 0x0b, 0xbe, 0x27, 0x33, 0x9f, 0x3e, 0xf2, 0xb6, 0x3d, 0x3e,\r\n",
      "  0xa0, 0xed, 0x4c, 0xbe, 0x67, 0x5f, 0xb3, 0xbd, 0x86, 0x9a, 0xaa, 0xbd,\r\n",
      "  0xcf, 0x01, 0x0e, 0xbe, 0xcb, 0x34, 0xb8, 0xbd, 0x8f, 0x4e, 0x1f, 0xbe,\r\n",
      "  0xa2, 0x6a, 0xc9, 0x3d, 0x94, 0x3f, 0x8c, 0x3e, 0xbf, 0x3d, 0x56, 0xbe,\r\n",
      "  0x04, 0xc5, 0xce, 0xbd, 0x10, 0xc5, 0xe7, 0xbd, 0x52, 0xa3, 0x8d, 0x3d,\r\n",
      "  0xdc, 0x2f, 0x7c, 0x3e, 0x94, 0xf6, 0x0c, 0xbe, 0xec, 0xba, 0x89, 0x3e,\r\n",
      "  0x89, 0xfb, 0x6b, 0x3e, 0x2d, 0xc3, 0x16, 0xbe, 0x89, 0x96, 0xd0, 0xbd,\r\n",
      "  0x1b, 0xd2, 0xab, 0xbd, 0x46, 0xb2, 0x74, 0xbd, 0x77, 0x1e, 0x65, 0xbe,\r\n",
      "  0x1c, 0x20, 0x49, 0x3e, 0x6a, 0x46, 0x9a, 0xbd, 0x73, 0x41, 0x98, 0x3e,\r\n",
      "  0x9d, 0xb2, 0x5d, 0xbd, 0x8d, 0x9b, 0xc0, 0xbd, 0x0e, 0xf7, 0x08, 0xbe,\r\n",
      "  0x1c, 0x20, 0x34, 0x3e, 0x0d, 0xda, 0x56, 0xbe, 0x40, 0x1a, 0xf8, 0x3e,\r\n",
      "  0xc3, 0x56, 0xa4, 0xbd, 0x5b, 0x87, 0xe4, 0x3d, 0x51, 0xb4, 0x3b, 0x3e,\r\n",
      "  0xc4, 0x04, 0x2c, 0xbe, 0xcc, 0x61, 0x32, 0xbe, 0xeb, 0xdf, 0x3f, 0x3e,\r\n",
      "  0x41, 0xfb, 0x69, 0xbe, 0x49, 0xe0, 0x3f, 0x3b, 0xa9, 0x9f, 0x2b, 0x3d,\r\n",
      "  0x87, 0x82, 0x58, 0x3d, 0xee, 0x51, 0x21, 0xbd, 0x84, 0x42, 0x3d, 0xbe,\r\n",
      "  0x8f, 0x00, 0x3c, 0xbe, 0xed, 0x42, 0x33, 0xbd, 0xe1, 0x29, 0xd9, 0xbd,\r\n",
      "  0x97, 0x3a, 0xa2, 0x3e, 0xcd, 0xdd, 0x98, 0xbd, 0x90, 0xd3, 0x7f, 0xbe,\r\n",
      "  0x5c, 0x4b, 0xa0, 0xbd, 0xe0, 0xb4, 0x6f, 0xbc, 0xd5, 0xef, 0x88, 0xbd,\r\n",
      "  0x8a, 0xfa, 0x8d, 0xbe, 0x1b, 0xa3, 0x74, 0xbe, 0x18, 0xde, 0x64, 0xbe,\r\n",
      "  0x30, 0x09, 0x1e, 0xbe, 0x9b, 0x17, 0x62, 0xbc, 0x41, 0x5d, 0x44, 0xbd,\r\n",
      "  0xc5, 0x0d, 0x0b, 0xbd, 0x6f, 0x90, 0x20, 0x3e, 0x2b, 0x35, 0xeb, 0x3d,\r\n",
      "  0xa0, 0xfb, 0x65, 0xbe, 0xfc, 0x2e, 0x38, 0xbe, 0x83, 0xe5, 0x00, 0xbe,\r\n",
      "  0x0b, 0xc0, 0xeb, 0x3d, 0xa1, 0xf5, 0x97, 0x3d, 0x8e, 0x7a, 0xc2, 0xbd,\r\n",
      "  0x7c, 0x41, 0x23, 0xbc, 0xf0, 0x47, 0x94, 0x3e, 0xc1, 0xc8, 0x34, 0xbe,\r\n",
      "  0x23, 0x49, 0x32, 0x3e, 0x0e, 0x10, 0x26, 0xbd, 0x8f, 0x88, 0x72, 0x3e,\r\n",
      "  0x00, 0xd8, 0x43, 0x3e, 0x12, 0x5f, 0x64, 0xbd, 0x88, 0xa7, 0x43, 0x3d,\r\n",
      "  0xf9, 0xf0, 0x38, 0x3e, 0x83, 0xbf, 0xd6, 0x3c, 0x1b, 0xfa, 0x80, 0x3e,\r\n",
      "  0x12, 0xd7, 0x21, 0x3e, 0x87, 0xac, 0x20, 0x3e, 0xaf, 0x2a, 0x18, 0x3e,\r\n",
      "  0x1f, 0x17, 0x81, 0x3d, 0xd0, 0xf6, 0x0a, 0xbe, 0xef, 0x20, 0xab, 0x3d,\r\n",
      "  0x98, 0xda, 0x2b, 0x3e, 0xe0, 0x28, 0xc0, 0xbd, 0x18, 0x85, 0xcb, 0x3d,\r\n",
      "  0x3e, 0x7d, 0x46, 0x3e, 0xf6, 0x69, 0x29, 0xbe, 0x86, 0x5d, 0xc1, 0x3d,\r\n",
      "  0x7c, 0xc5, 0x6d, 0x3c, 0x90, 0x7b, 0x09, 0xbe, 0xdf, 0x8d, 0x84, 0xbe,\r\n",
      "  0x9c, 0x65, 0xf5, 0x3c, 0xa9, 0x79, 0x4b, 0x3e, 0x9c, 0xce, 0x51, 0x3c,\r\n",
      "  0x01, 0x07, 0x22, 0x3e, 0x92, 0xd5, 0x22, 0x3e, 0xd7, 0x48, 0x59, 0xbe,\r\n",
      "  0x24, 0x7f, 0x2b, 0xbe, 0x4d, 0x14, 0x18, 0x3e, 0x61, 0x4a, 0x8f, 0xbd,\r\n",
      "  0x03, 0xab, 0xd1, 0xbd, 0x59, 0x97, 0x5d, 0x3e, 0xf9, 0xc4, 0xd2, 0xbd,\r\n",
      "  0xe3, 0x24, 0x06, 0xbe, 0xcd, 0x57, 0x8e, 0xbd, 0x4b, 0x1e, 0xa0, 0x3a,\r\n",
      "  0xa3, 0x1b, 0x98, 0x3d, 0x35, 0x19, 0x19, 0xbc, 0xe4, 0x61, 0x38, 0x3e,\r\n",
      "  0x4b, 0xb6, 0x99, 0x3d, 0x48, 0xf4, 0x81, 0xbd, 0x3e, 0xe4, 0x20, 0xbd,\r\n",
      "  0x1b, 0x99, 0x8e, 0xbd, 0x18, 0xca, 0x08, 0xbe, 0x2a, 0x6e, 0xfe, 0x3c,\r\n",
      "  0xd1, 0x63, 0xb2, 0x3d, 0x5e, 0xa7, 0x01, 0xbe, 0x82, 0xa2, 0x78, 0xbe,\r\n",
      "  0xc3, 0xa0, 0xab, 0xbc, 0xad, 0x6f, 0xf2, 0xbc, 0xca, 0x72, 0x47, 0x3e,\r\n",
      "  0x97, 0x08, 0x32, 0xbe, 0xb4, 0x85, 0x77, 0xbd, 0x6a, 0xc1, 0x7b, 0xbd,\r\n",
      "  0x57, 0xed, 0x84, 0x3e, 0x5a, 0xcb, 0x5c, 0x3d, 0x0c, 0x8f, 0x90, 0xbd,\r\n",
      "  0x7a, 0xb6, 0xe2, 0x3d, 0x97, 0x95, 0x05, 0xbd, 0x96, 0x37, 0x6d, 0xbe,\r\n",
      "  0xbc, 0xaa, 0x2e, 0xbc, 0xbf, 0xc2, 0x56, 0xbd, 0xaf, 0xd9, 0xbb, 0x3d,\r\n",
      "  0x2f, 0x5a, 0x72, 0x3d, 0x62, 0xc6, 0x8b, 0xbd, 0x13, 0x3c, 0xba, 0x3c,\r\n",
      "  0x66, 0x12, 0xeb, 0x3d, 0xf5, 0xcd, 0x3b, 0xbe, 0x90, 0xee, 0x8e, 0x3d,\r\n",
      "  0x23, 0xea, 0xc2, 0x3d, 0xea, 0x57, 0x7a, 0x3e, 0xaf, 0x7f, 0x0d, 0x3d,\r\n",
      "  0x64, 0x18, 0x6e, 0xbe, 0x29, 0x80, 0x79, 0xbe, 0x56, 0xb8, 0xa7, 0xbc,\r\n",
      "  0xee, 0x57, 0x67, 0xbe, 0xc7, 0x52, 0xbe, 0xbd, 0xda, 0xc0, 0x40, 0xbd,\r\n",
      "  0x57, 0xf5, 0x8c, 0xbe, 0x9c, 0x04, 0xa5, 0xbd, 0x6b, 0xec, 0x4d, 0x3e,\r\n",
      "  0x69, 0x47, 0x0e, 0xbe, 0x82, 0xec, 0x93, 0x3d, 0xf7, 0xaa, 0x24, 0x3c,\r\n",
      "  0x75, 0x4b, 0xdd, 0xbc, 0x07, 0x30, 0x23, 0x3d, 0xd0, 0x8a, 0x21, 0xbd,\r\n",
      "  0x0a, 0x3d, 0xbc, 0x3b, 0xd1, 0x5b, 0xd4, 0x3c, 0xe3, 0x8f, 0xff, 0xbc,\r\n",
      "  0xf5, 0xf9, 0x1d, 0x3c, 0x97, 0x90, 0x1b, 0x3d, 0xa0, 0xe7, 0x50, 0xbd,\r\n",
      "  0x74, 0x0f, 0x90, 0x3d, 0xad, 0xd5, 0x1b, 0x3d, 0x6f, 0xa8, 0xa7, 0x3c,\r\n",
      "  0xb7, 0xcf, 0x2e, 0x3e, 0xb6, 0x79, 0x51, 0x3d, 0x63, 0x3e, 0xfd, 0x3d,\r\n",
      "  0x5d, 0x19, 0x90, 0x3d, 0x78, 0xd7, 0x8d, 0x3e, 0xd9, 0xb3, 0x4b, 0xbd,\r\n",
      "  0x48, 0x78, 0x91, 0xbd, 0x5c, 0xe0, 0x83, 0x3d, 0xfa, 0x45, 0x12, 0xbe,\r\n",
      "  0x95, 0x5d, 0x15, 0xbe, 0x80, 0x02, 0xb4, 0xbd, 0x0a, 0x33, 0x8a, 0x3c,\r\n",
      "  0xa6, 0xda, 0xa4, 0x3c, 0x47, 0x82, 0xe7, 0xbd, 0xae, 0xfc, 0x36, 0xbe,\r\n",
      "  0x71, 0x68, 0x3c, 0x3e, 0x92, 0x71, 0x0c, 0xbe, 0x6b, 0x4d, 0xdc, 0xbd,\r\n",
      "  0x52, 0x93, 0x31, 0xbe, 0xb6, 0xaf, 0x2c, 0x3d, 0x4f, 0x60, 0xe2, 0xbd,\r\n",
      "  0x15, 0x9b, 0x04, 0xbe, 0x06, 0x32, 0xb4, 0xbd, 0x0a, 0xf2, 0x18, 0x3a,\r\n",
      "  0x28, 0xa2, 0x6c, 0x3d, 0x96, 0xa9, 0x14, 0xbd, 0x10, 0xd1, 0xe7, 0x3c,\r\n",
      "  0x9d, 0x3d, 0xd0, 0xbc, 0x70, 0xd4, 0x24, 0x3e, 0x1b, 0x80, 0xb9, 0xbd,\r\n",
      "  0x96, 0x9a, 0xb1, 0x3e, 0x98, 0x3a, 0x45, 0x3e, 0x4c, 0x7f, 0xc0, 0xbc,\r\n",
      "  0xff, 0x1b, 0x90, 0x3e, 0x76, 0x24, 0xc4, 0xbd, 0x04, 0x24, 0x48, 0xbd,\r\n",
      "  0x1e, 0x39, 0x79, 0x3c, 0xf0, 0x57, 0xc8, 0xbc, 0xf2, 0x85, 0x95, 0x3e,\r\n",
      "  0x39, 0x74, 0x08, 0xbe, 0x48, 0xf1, 0x05, 0xbd, 0x10, 0x06, 0x8d, 0xbe,\r\n",
      "  0x19, 0xe1, 0x6c, 0x3c, 0xca, 0xc0, 0x8c, 0x3e, 0xbc, 0x41, 0x84, 0x3d,\r\n",
      "  0x57, 0x6f, 0x9d, 0xbc, 0xa5, 0x2e, 0x68, 0xbd, 0xea, 0x2a, 0x3b, 0x3e,\r\n",
      "  0x02, 0x66, 0x6f, 0xbe, 0x40, 0xc6, 0x00, 0xbe, 0xc2, 0x7c, 0xbd, 0xbd,\r\n",
      "  0xf2, 0x33, 0x4e, 0x3d, 0x0f, 0x45, 0xd3, 0x3d, 0xc5, 0x88, 0xae, 0x3c,\r\n",
      "  0x11, 0xb7, 0xa1, 0xbd, 0x08, 0x28, 0x8f, 0x3e, 0x7d, 0x3c, 0x81, 0xbe,\r\n",
      "  0xbd, 0xb8, 0x34, 0xbe, 0xdc, 0x58, 0xe1, 0x3d, 0x2e, 0xde, 0x97, 0x3e,\r\n",
      "  0xb0, 0x57, 0x1a, 0xbe, 0xd7, 0xc1, 0x1f, 0x3e, 0x8d, 0xa8, 0x9d, 0xbd,\r\n",
      "  0x2a, 0x62, 0xed, 0xbd, 0x62, 0x60, 0x71, 0xbe, 0xe8, 0xd9, 0xb7, 0xbe,\r\n",
      "  0x7b, 0x58, 0x94, 0x3d, 0x9d, 0x8d, 0x38, 0xbc, 0x40, 0x3a, 0x0c, 0xbe,\r\n",
      "  0x49, 0xda, 0xe2, 0x3d, 0xa7, 0x61, 0x4b, 0xbc, 0xe3, 0x7e, 0x38, 0x3e,\r\n",
      "  0x70, 0x9e, 0x74, 0x3c, 0x0d, 0x31, 0x28, 0xbe, 0xbd, 0x4c, 0x21, 0xbd,\r\n",
      "  0x62, 0x10, 0x0f, 0x3e, 0x9d, 0x01, 0x79, 0x3e, 0x32, 0x1a, 0x56, 0xbd,\r\n",
      "  0x21, 0x6f, 0x3e, 0x3e, 0x38, 0x43, 0x8d, 0x3e, 0xc5, 0x78, 0xcd, 0xbd,\r\n",
      "  0xf8, 0xaf, 0x4c, 0xbe, 0xfc, 0xe1, 0xa3, 0x3e, 0xc5, 0xc0, 0x35, 0x3e,\r\n",
      "  0xaf, 0xf3, 0x97, 0xbd, 0x4e, 0x29, 0x11, 0xbe, 0xc7, 0x1d, 0xe9, 0xbd,\r\n",
      "  0x1b, 0xdd, 0x7b, 0x3e, 0x45, 0x5f, 0x6b, 0xbe, 0x9d, 0x18, 0xdd, 0xbd,\r\n",
      "  0xdd, 0x3b, 0x5e, 0x3e, 0x7c, 0xd6, 0xe0, 0xbc, 0x6f, 0x82, 0x8c, 0x3c,\r\n",
      "  0x15, 0x35, 0x2a, 0xbe, 0x4f, 0x7c, 0x59, 0x3d, 0x18, 0xe4, 0xf3, 0xbd,\r\n",
      "  0x00, 0x08, 0xb3, 0xbd, 0x80, 0xc1, 0x7e, 0xbd, 0x25, 0x3a, 0x56, 0xbe,\r\n",
      "  0x3a, 0xc9, 0x5d, 0xbe, 0xf3, 0xa6, 0xcb, 0x3b, 0x6d, 0xcf, 0x46, 0xbe,\r\n",
      "  0x00, 0x7c, 0xc2, 0xbd, 0x00, 0x00, 0x00, 0x00, 0x56, 0xf0, 0xff, 0xff,\r\n",
      "  0x04, 0x00, 0x00, 0x00, 0x80, 0x01, 0x00, 0x00, 0xdf, 0x52, 0x28, 0x3e,\r\n",
      "  0xcb, 0x8b, 0x09, 0x3c, 0xed, 0x4e, 0x51, 0x3e, 0x3c, 0xaf, 0xbe, 0xbd,\r\n",
      "  0xab, 0x5e, 0xd5, 0x3d, 0xa9, 0x94, 0xc2, 0x3c, 0xef, 0x53, 0x53, 0x3e,\r\n",
      "  0x80, 0x56, 0xea, 0xbd, 0xce, 0xf9, 0x5d, 0xbe, 0x7b, 0xad, 0xdd, 0x3d,\r\n",
      "  0x03, 0x28, 0xc4, 0xbd, 0xe3, 0x90, 0xfc, 0x3b, 0x24, 0x6c, 0x9f, 0x3b,\r\n",
      "  0x4f, 0x21, 0x2d, 0xbe, 0xaa, 0x28, 0x10, 0xbe, 0x85, 0xb6, 0x15, 0xbe,\r\n",
      "  0x80, 0xe4, 0xf6, 0x3c, 0xd2, 0x05, 0x9c, 0x3e, 0x05, 0x74, 0x8c, 0xbb,\r\n",
      "  0x8d, 0xfb, 0xe2, 0xbd, 0x01, 0xae, 0x35, 0x3e, 0x82, 0x1f, 0x92, 0x3c,\r\n",
      "  0x0d, 0xdc, 0xeb, 0xbd, 0xfa, 0x63, 0x99, 0xbd, 0x13, 0x4a, 0x47, 0xbe,\r\n",
      "  0xa1, 0x63, 0x20, 0xbe, 0x05, 0x7b, 0x6f, 0x3e, 0xac, 0x33, 0x5d, 0xbe,\r\n",
      "  0xde, 0xf2, 0x37, 0xbe, 0x58, 0xaa, 0xc1, 0x3c, 0x08, 0x5e, 0x3a, 0x3e,\r\n",
      "  0xb6, 0x73, 0xe5, 0x3d, 0xc3, 0xcf, 0xc0, 0x3d, 0x44, 0x17, 0x46, 0xbd,\r\n",
      "  0x15, 0xdb, 0x3f, 0x3e, 0xd8, 0xa3, 0x03, 0xbd, 0xd0, 0xe9, 0x39, 0xbc,\r\n",
      "  0x34, 0x19, 0x48, 0x3e, 0xca, 0xab, 0xb3, 0xbe, 0xf7, 0x48, 0xf1, 0x3d,\r\n",
      "  0xf1, 0x20, 0x1a, 0x3e, 0xe8, 0xc8, 0x58, 0xbe, 0x3a, 0xd6, 0x87, 0x3d,\r\n",
      "  0x9a, 0xd6, 0x9d, 0x3d, 0xc8, 0x4c, 0xa2, 0x3c, 0x1c, 0x72, 0xaf, 0x3c,\r\n",
      "  0xa3, 0x6b, 0xd0, 0x3d, 0xc6, 0xb5, 0xa8, 0x3c, 0x8d, 0x86, 0x17, 0xbe,\r\n",
      "  0x5e, 0x07, 0x14, 0xbd, 0x4f, 0xad, 0x09, 0x3e, 0x92, 0x3d, 0x2d, 0x3e,\r\n",
      "  0xad, 0x7d, 0x6c, 0xbe, 0x1c, 0x32, 0x9d, 0x3d, 0xb0, 0x04, 0x63, 0x3e,\r\n",
      "  0x26, 0x30, 0x07, 0xbd, 0x4c, 0x5b, 0x2d, 0xbd, 0xf3, 0x5d, 0x89, 0x3e,\r\n",
      "  0x42, 0x87, 0xb9, 0xbd, 0x5f, 0x61, 0x32, 0x3e, 0x75, 0x1c, 0xad, 0xbd,\r\n",
      "  0x50, 0x13, 0x28, 0x3d, 0x0b, 0x07, 0x3f, 0x3e, 0xdc, 0x04, 0x27, 0xbe,\r\n",
      "  0xc1, 0x81, 0x97, 0x3d, 0xa0, 0x99, 0x2d, 0x3e, 0x53, 0x3c, 0x13, 0x3e,\r\n",
      "  0x85, 0xe0, 0x4c, 0xbd, 0x64, 0x85, 0x12, 0xbd, 0xab, 0x99, 0xd8, 0x3c,\r\n",
      "  0xc1, 0x36, 0xbf, 0x3d, 0xd6, 0x75, 0x08, 0x3e, 0x0c, 0xd8, 0x99, 0x3d,\r\n",
      "  0xde, 0x0c, 0x81, 0x3e, 0x10, 0xe4, 0xd5, 0x3d, 0xf7, 0x66, 0x4b, 0x3e,\r\n",
      "  0xd2, 0x90, 0x40, 0xbe, 0x62, 0xb6, 0xab, 0x3d, 0x86, 0x52, 0xc0, 0xbc,\r\n",
      "  0xa7, 0x8e, 0x88, 0xbd, 0x98, 0xf7, 0x4e, 0x3e, 0x76, 0xf9, 0x67, 0x3e,\r\n",
      "  0xf1, 0x98, 0x19, 0xbe, 0x07, 0x25, 0x2d, 0x3e, 0x6c, 0x0d, 0x99, 0x3e,\r\n",
      "  0x50, 0x64, 0x24, 0xbd, 0x1e, 0x60, 0x02, 0xbe, 0x21, 0xa4, 0x21, 0x3e,\r\n",
      "  0x1e, 0x14, 0xde, 0x3b, 0x7d, 0xd7, 0x4c, 0xbe, 0x66, 0xcb, 0x1b, 0x3e,\r\n",
      "  0x75, 0xe9, 0x16, 0x3e, 0x18, 0x0b, 0xcd, 0xbd, 0xe6, 0x5d, 0x9f, 0x3e,\r\n",
      "  0x6e, 0xaa, 0x41, 0x3c, 0xa2, 0x78, 0x19, 0x3e, 0x00, 0x00, 0x00, 0x00,\r\n",
      "  0xe6, 0xf1, 0xff, 0xff, 0x04, 0x00, 0x00, 0x00, 0x40, 0x01, 0x00, 0x00,\r\n",
      "  0x7d, 0xfe, 0x64, 0x3e, 0xdc, 0xfe, 0xb3, 0x3e, 0x40, 0x81, 0xea, 0xbe,\r\n",
      "  0x49, 0xe6, 0x9e, 0xbe, 0xbe, 0xa2, 0xb4, 0xbe, 0xf1, 0x40, 0x17, 0xbe,\r\n",
      "  0x9b, 0x5f, 0xab, 0x3d, 0xf6, 0x60, 0x08, 0x3f, 0xe8, 0x8d, 0x9d, 0xbb,\r\n",
      "  0xae, 0x29, 0xe8, 0x3d, 0x6a, 0x12, 0x85, 0xbd, 0xe3, 0xc6, 0xa3, 0x3e,\r\n",
      "  0x6a, 0x75, 0x75, 0xbe, 0xe4, 0x8d, 0x23, 0x3f, 0x24, 0xe8, 0x6d, 0xbe,\r\n",
      "  0x85, 0xf6, 0x1c, 0xbd, 0xf0, 0x5c, 0x93, 0xbc, 0xc4, 0x01, 0xb3, 0x3d,\r\n",
      "  0xcc, 0x42, 0xe0, 0x3e, 0x1d, 0xc6, 0x46, 0x3e, 0x93, 0xa9, 0x43, 0xbe,\r\n",
      "  0x45, 0x80, 0x01, 0xbf, 0xc1, 0x94, 0xc5, 0xbe, 0xfe, 0x55, 0xcb, 0x3e,\r\n",
      "  0xab, 0x27, 0x4d, 0x3e, 0x12, 0x2f, 0xa6, 0xbe, 0x2c, 0xb2, 0x99, 0xbe,\r\n",
      "  0x5d, 0xf7, 0xb5, 0xbe, 0xe9, 0xcc, 0x8f, 0x3d, 0xe4, 0x4a, 0x4b, 0x3d,\r\n",
      "  0x1c, 0x1f, 0x7d, 0x3e, 0x76, 0xe7, 0xde, 0xbb, 0x7e, 0xb4, 0xd5, 0x3e,\r\n",
      "  0xfb, 0xef, 0xe5, 0xbe, 0x65, 0xf1, 0xdb, 0x3e, 0x11, 0x46, 0x4f, 0xbe,\r\n",
      "  0x04, 0x77, 0x1e, 0xbe, 0xf2, 0x83, 0xdb, 0x3e, 0xa6, 0xa6, 0xae, 0xbe,\r\n",
      "  0x3a, 0x2b, 0x39, 0x3d, 0xae, 0xba, 0x1e, 0xbf, 0x24, 0x31, 0x14, 0xbf,\r\n",
      "  0x01, 0x92, 0x3e, 0x3f, 0xbf, 0x7b, 0x56, 0xbe, 0x0b, 0x02, 0xca, 0xbe,\r\n",
      "  0xae, 0xea, 0xaf, 0xbe, 0x97, 0x47, 0x77, 0xbe, 0x0a, 0x4d, 0xb3, 0xbe,\r\n",
      "  0x65, 0x5e, 0x30, 0x3d, 0x9c, 0xb9, 0xd5, 0xbe, 0x71, 0xbe, 0x3e, 0xbe,\r\n",
      "  0x80, 0xf0, 0x00, 0xbf, 0x91, 0x8e, 0xee, 0x3e, 0x5f, 0x53, 0x7f, 0x3e,\r\n",
      "  0x5a, 0x8b, 0xb4, 0x3e, 0x66, 0x2c, 0xc3, 0xbe, 0x5f, 0x49, 0xca, 0xbe,\r\n",
      "  0xac, 0xaa, 0x5c, 0x3e, 0x2c, 0x27, 0xcf, 0xbd, 0xa9, 0xd5, 0xc0, 0xbe,\r\n",
      "  0x2a, 0xe1, 0x27, 0x3e, 0x0f, 0xd5, 0xae, 0xbe, 0x65, 0x4a, 0xba, 0xbe,\r\n",
      "  0xe1, 0x94, 0xe9, 0xbe, 0xf1, 0xa5, 0xe3, 0x3e, 0x89, 0xbf, 0x08, 0xbf,\r\n",
      "  0x2c, 0x49, 0xc6, 0xbe, 0xf9, 0xa0, 0x14, 0x3e, 0x88, 0xa9, 0x99, 0xbd,\r\n",
      "  0x65, 0xb4, 0x68, 0x3e, 0xb9, 0xf3, 0x24, 0xbe, 0xe9, 0xeb, 0x6c, 0x3e,\r\n",
      "  0xf9, 0x0f, 0xd5, 0x3d, 0xc1, 0xb6, 0xdc, 0x3d, 0xdc, 0x18, 0xb3, 0xbe,\r\n",
      "  0x06, 0xb2, 0x00, 0x3e, 0x15, 0x5b, 0xd7, 0x3c, 0x4a, 0x11, 0x1d, 0xbe,\r\n",
      "  0xb3, 0x2a, 0xc6, 0x3e, 0xd7, 0xf6, 0x01, 0xbf, 0x00, 0x00, 0x00, 0x00,\r\n",
      "  0x36, 0xf3, 0xff, 0xff, 0x04, 0x00, 0x00, 0x00, 0x00, 0x0b, 0x00, 0x00,\r\n",
      "  0x17, 0x1d, 0x0c, 0xfd, 0xd8, 0x01, 0x31, 0x04, 0xe6, 0xdc, 0xed, 0x04,\r\n",
      "  0xfe, 0xe7, 0xf2, 0xff, 0x43, 0x28, 0xb1, 0x01, 0x07, 0x11, 0xd1, 0xea,\r\n",
      "  0x15, 0x03, 0xf0, 0xed, 0xe2, 0x06, 0xfd, 0x07, 0x34, 0xe3, 0xb9, 0x1c,\r\n",
      "  0x08, 0x17, 0xfe, 0x10, 0x27, 0xf9, 0x11, 0xfc, 0xfc, 0xdd, 0x3f, 0x26,\r\n",
      "  0xe5, 0xde, 0xcf, 0x1c, 0xfe, 0xfc, 0xe3, 0xea, 0x3e, 0x19, 0x03, 0x0c,\r\n",
      "  0xdb, 0xfd, 0x15, 0x04, 0x0d, 0xeb, 0xd2, 0x10, 0xec, 0xec, 0xf3, 0x01,\r\n",
      "  0x4c, 0x0c, 0xe6, 0xf9, 0x0f, 0x02, 0x0f, 0x07, 0x0a, 0xf2, 0xe2, 0x10,\r\n",
      "  0xff, 0x1a, 0xfe, 0xf9, 0x44, 0x1a, 0xff, 0xeb, 0xff, 0xef, 0x09, 0xd8,\r\n",
      "  0x05, 0xf0, 0xf8, 0x17, 0xf9, 0xf4, 0x01, 0xf1, 0x30, 0x17, 0xe9, 0xff,\r\n",
      "  0x12, 0x0f, 0x00, 0xf0, 0xf3, 0xcf, 0xf7, 0xfd, 0xf0, 0x0a, 0xc0, 0x05,\r\n",
      "  0x15, 0xf7, 0xed, 0xfe, 0x0a, 0x04, 0x0c, 0xf7, 0xf4, 0xf0, 0xec, 0x05,\r\n",
      "  0xf3, 0xf4, 0xbd, 0x0f, 0x2a, 0xf7, 0xf6, 0xfd, 0x02, 0x14, 0x15, 0xee,\r\n",
      "  0xfe, 0xe6, 0xf5, 0x16, 0xe8, 0xfb, 0xe3, 0xf4, 0x0d, 0x20, 0xfb, 0x02,\r\n",
      "  0x1c, 0x0e, 0x02, 0x0d, 0x04, 0xf3, 0x16, 0x12, 0xe6, 0x05, 0xd0, 0x10,\r\n",
      "  0x12, 0x03, 0xe6, 0x14, 0x05, 0xee, 0xfc, 0x05, 0x29, 0x15, 0x05, 0xfa,\r\n",
      "  0xed, 0xef, 0x18, 0xd3, 0x13, 0xf3, 0xfe, 0xe9, 0xfa, 0xdb, 0xed, 0xd5,\r\n",
      "  0x0a, 0xf3, 0xd9, 0x03, 0x01, 0xe9, 0xf2, 0xfd, 0x01, 0xde, 0x0f, 0xdc,\r\n",
      "  0xff, 0xfa, 0xf7, 0xe9, 0x10, 0x0b, 0xcd, 0x10, 0x15, 0x06, 0xeb, 0xd6,\r\n",
      "  0x14, 0xf8, 0xf8, 0xe6, 0xf2, 0xe0, 0xde, 0xd1, 0x18, 0xd9, 0xd9, 0x07,\r\n",
      "  0x07, 0xe2, 0xf0, 0xd4, 0x1a, 0xfd, 0xfc, 0xe2, 0xf4, 0xe7, 0xe9, 0xc8,\r\n",
      "  0x08, 0xd7, 0xe3, 0xe2, 0xd9, 0x0c, 0xef, 0x14, 0x13, 0x09, 0xef, 0xf4,\r\n",
      "  0xea, 0x06, 0xda, 0xdb, 0xdc, 0xf7, 0x05, 0xe9, 0xf9, 0x25, 0x05, 0x0a,\r\n",
      "  0xe4, 0xfc, 0x11, 0x0d, 0x15, 0x03, 0xe1, 0xdd, 0xe2, 0x11, 0x1c, 0xfd,\r\n",
      "  0x00, 0x01, 0xde, 0x19, 0xc5, 0xf6, 0x0f, 0x23, 0xfe, 0x21, 0xf8, 0x05,\r\n",
      "  0xd6, 0x12, 0x19, 0xea, 0x0d, 0x19, 0x02, 0x21, 0xe7, 0xf3, 0x1c, 0x18,\r\n",
      "  0x0c, 0x0f, 0xfc, 0x1b, 0xbf, 0x08, 0x18, 0xf3, 0x08, 0xf7, 0xe3, 0x02,\r\n",
      "  0x00, 0xfa, 0x0d, 0x0c, 0xec, 0x16, 0x0b, 0xfc, 0xc6, 0x18, 0x02, 0xfd,\r\n",
      "  0x07, 0xf9, 0x14, 0xfa, 0xec, 0xec, 0x06, 0x0c, 0x0e, 0xf6, 0x10, 0x03,\r\n",
      "  0xd1, 0x12, 0x13, 0xf1, 0xe8, 0x07, 0x03, 0xf5, 0x02, 0xf5, 0x16, 0xfc,\r\n",
      "  0x08, 0xec, 0x1b, 0xf9, 0x0c, 0xdd, 0xdc, 0xf6, 0xf6, 0x15, 0x0d, 0xee,\r\n",
      "  0x1b, 0xe8, 0xf0, 0xe0, 0x0b, 0xf4, 0xe3, 0x16, 0xd7, 0x14, 0x14, 0x14,\r\n",
      "  0xea, 0x04, 0x14, 0xe3, 0xe2, 0xe9, 0xdd, 0xea, 0x08, 0xfa, 0x01, 0xef,\r\n",
      "  0xff, 0xed, 0x06, 0x0c, 0xe4, 0xe4, 0xfd, 0xfe, 0xf6, 0xef, 0x12, 0xee,\r\n",
      "  0x0f, 0x14, 0xde, 0x08, 0x01, 0xe7, 0xe0, 0x1c, 0x0e, 0x04, 0x07, 0x0d,\r\n",
      "  0xfb, 0x06, 0xe6, 0x1c, 0xe9, 0xf6, 0xdf, 0x0f, 0xf6, 0xdf, 0x13, 0xff,\r\n",
      "  0xde, 0xfa, 0x12, 0x07, 0x0c, 0xdb, 0xff, 0xfa, 0xef, 0xe4, 0xf9, 0x03,\r\n",
      "  0xee, 0xef, 0xff, 0x17, 0x11, 0x00, 0x12, 0xf3, 0xfc, 0xe7, 0xe4, 0xe6,\r\n",
      "  0x19, 0x02, 0x1c, 0x03, 0xda, 0x06, 0x17, 0xf5, 0xe6, 0xee, 0xe0, 0xfe,\r\n",
      "  0xf0, 0xef, 0x05, 0xe4, 0x18, 0xe7, 0x11, 0xe6, 0xfd, 0x00, 0xe1, 0xf0,\r\n",
      "  0xe1, 0xfd, 0xf8, 0xf6, 0x13, 0x10, 0xf9, 0xe0, 0x09, 0xf0, 0xff, 0x04,\r\n",
      "  0xe1, 0x12, 0x09, 0xe9, 0xe5, 0x0e, 0xe3, 0x10, 0xf3, 0xec, 0xfa, 0x0d,\r\n",
      "  0xe7, 0xff, 0xe7, 0xf9, 0xf3, 0xf5, 0xdc, 0xfe, 0xf2, 0x05, 0xe2, 0xe0,\r\n",
      "  0x0a, 0xe4, 0x06, 0x1b, 0x00, 0xe7, 0xe2, 0xfc, 0x04, 0xe9, 0xf5, 0x12,\r\n",
      "  0xed, 0x0b, 0x16, 0xfc, 0xdc, 0xfd, 0x13, 0x1b, 0xed, 0x08, 0x19, 0xf2,\r\n",
      "  0xfd, 0x03, 0x14, 0xf2, 0xe3, 0xec, 0xf9, 0xd5, 0xd8, 0xe4, 0xec, 0xde,\r\n",
      "  0xce, 0xf6, 0xd7, 0xd3, 0xf8, 0x36, 0xfd, 0x03, 0xe5, 0xf2, 0xee, 0xf9,\r\n",
      "  0xfe, 0x16, 0x0d, 0xef, 0x09, 0xf6, 0x0c, 0x14, 0xd8, 0x43, 0xe9, 0x39,\r\n",
      "  0x0b, 0x02, 0x13, 0xf3, 0x24, 0x07, 0xed, 0xed, 0xe2, 0xf3, 0x01, 0x29,\r\n",
      "  0xf6, 0x27, 0xd6, 0x1b, 0x0f, 0xef, 0x37, 0xfc, 0x10, 0x21, 0xf0, 0xe3,\r\n",
      "  0xf5, 0xf8, 0x1b, 0x14, 0xeb, 0x32, 0xe4, 0x41, 0xf4, 0x01, 0xfb, 0x0b,\r\n",
      "  0x0e, 0x1c, 0xe5, 0xeb, 0xeb, 0xf0, 0x22, 0x01, 0xcd, 0x16, 0xe0, 0x05,\r\n",
      "  0xf3, 0x0a, 0xe3, 0xfb, 0x14, 0x21, 0xf7, 0xf5, 0x09, 0x01, 0x22, 0x10,\r\n",
      "  0xea, 0x34, 0xe9, 0x2b, 0xef, 0xff, 0x0b, 0x01, 0xec, 0x13, 0x05, 0xf1,\r\n",
      "  0x06, 0x19, 0x13, 0xff, 0xe6, 0x04, 0xfc, 0x1b, 0xf1, 0x0a, 0x0b, 0xfb,\r\n",
      "  0x00, 0x26, 0xf6, 0x10, 0x1b, 0x09, 0xe8, 0x17, 0x1f, 0x0e, 0xf7, 0xfc,\r\n",
      "  0x0e, 0x07, 0x03, 0xf1, 0xed, 0x09, 0xfa, 0xf7, 0xf7, 0x0a, 0xfc, 0x1a,\r\n",
      "  0x11, 0x09, 0xfc, 0x1d, 0x11, 0x12, 0x0e, 0x11, 0xf0, 0xf9, 0x12, 0x02,\r\n",
      "  0x1d, 0x14, 0x0f, 0x10, 0xf3, 0x01, 0xf6, 0x2f, 0xed, 0x00, 0xee, 0x07,\r\n",
      "  0x06, 0x06, 0x0b, 0x0d, 0x04, 0x1b, 0x13, 0x09, 0xef, 0xdb, 0xe4, 0x19,\r\n",
      "  0x19, 0xbe, 0xe5, 0x10, 0xbc, 0xe2, 0xd6, 0x10, 0xda, 0xfd, 0x22, 0x0a,\r\n",
      "  0xfb, 0xed, 0xe3, 0xe5, 0x01, 0x06, 0xe1, 0xe9, 0x15, 0x16, 0xf5, 0x0f,\r\n",
      "  0x14, 0x27, 0x0b, 0xb2, 0x03, 0x0b, 0x14, 0xd1, 0xed, 0xeb, 0xfc, 0xef,\r\n",
      "  0x0c, 0x1d, 0x04, 0xf7, 0x13, 0xf6, 0xe9, 0xa4, 0xf9, 0xdd, 0xff, 0xe4,\r\n",
      "  0xde, 0x14, 0xcf, 0xf9, 0xff, 0x12, 0x18, 0x10, 0xf4, 0x16, 0x03, 0xeb,\r\n",
      "  0x01, 0xfd, 0x21, 0xf8, 0x00, 0xe8, 0x0b, 0xfb, 0xfb, 0xfe, 0x05, 0xe5,\r\n",
      "  0xf1, 0x13, 0xc6, 0xb9, 0x0c, 0xea, 0xe7, 0xee, 0xf4, 0xff, 0xe0, 0xf5,\r\n",
      "  0x17, 0x33, 0xfe, 0xff, 0xe7, 0x01, 0xf7, 0xe6, 0xf0, 0x18, 0xf5, 0xe2,\r\n",
      "  0x14, 0x05, 0x2a, 0x03, 0x09, 0xfa, 0x0f, 0x01, 0xff, 0xea, 0x0c, 0xe5,\r\n",
      "  0x27, 0xe4, 0x12, 0xde, 0x07, 0xf3, 0x15, 0xec, 0xf6, 0xee, 0x07, 0xc9,\r\n",
      "  0xf7, 0xf9, 0xd7, 0xdd, 0x0f, 0x15, 0x09, 0xdb, 0xe9, 0x18, 0x04, 0x00,\r\n",
      "  0xfa, 0x21, 0xf4, 0xf7, 0xf1, 0xec, 0xe5, 0x08, 0x03, 0x15, 0x04, 0xf5,\r\n",
      "  0xdc, 0x0b, 0x1c, 0x06, 0x12, 0x18, 0x07, 0xf1, 0x10, 0x07, 0xf8, 0x1e,\r\n",
      "  0x07, 0x0a, 0x1c, 0xf1, 0xff, 0x0e, 0x24, 0x02, 0xf3, 0xf7, 0xfb, 0xf4,\r\n",
      "  0xfa, 0x01, 0xe8, 0xe2, 0x24, 0x12, 0x0e, 0xd7, 0xfb, 0xff, 0x10, 0xf8,\r\n",
      "  0x29, 0xde, 0x03, 0x15, 0x07, 0xf2, 0xdb, 0xff, 0x31, 0x07, 0xe0, 0x16,\r\n",
      "  0x0e, 0xfc, 0xf1, 0xe4, 0x03, 0x19, 0x11, 0xeb, 0xea, 0xcb, 0xf0, 0x05,\r\n",
      "  0x03, 0xfd, 0xde, 0xe6, 0xf4, 0x05, 0xdb, 0xf2, 0x2a, 0x0f, 0xf1, 0x19,\r\n",
      "  0xd7, 0xd8, 0x30, 0x01, 0x29, 0x0b, 0xda, 0x13, 0xdc, 0x0c, 0xfd, 0xff,\r\n",
      "  0xf5, 0xeb, 0x00, 0x0c, 0x07, 0xff, 0x11, 0xf2, 0x0b, 0x04, 0xf0, 0x0a,\r\n",
      "  0xe4, 0x06, 0xf0, 0xed, 0x29, 0x16, 0x15, 0xf0, 0xee, 0xf6, 0x13, 0xe6,\r\n",
      "  0x29, 0x00, 0x12, 0x2d, 0xcf, 0xef, 0xf2, 0xe7, 0xf0, 0x02, 0x11, 0x05,\r\n",
      "  0xf5, 0xf8, 0x0d, 0xe7, 0x1e, 0x11, 0xec, 0x0e, 0xd3, 0x12, 0xd9, 0xe1,\r\n",
      "  0xf8, 0x06, 0x1c, 0xf8, 0xe5, 0xea, 0xfd, 0xf2, 0x3c, 0xf1, 0x10, 0xf2,\r\n",
      "  0xe1, 0xf8, 0xdf, 0xfb, 0x0f, 0x0e, 0x09, 0xfd, 0xf7, 0x03, 0xfb, 0xe5,\r\n",
      "  0x23, 0x0f, 0xea, 0xfc, 0xda, 0x0a, 0xe3, 0xc9, 0x13, 0x23, 0x09, 0xe8,\r\n",
      "  0xf5, 0xdc, 0xfa, 0xf5, 0x24, 0xff, 0xf0, 0x0f, 0xe0, 0x12, 0xe6, 0xdb,\r\n",
      "  0x1d, 0x14, 0x04, 0xf1, 0xf0, 0xf0, 0xfb, 0xef, 0x39, 0xfd, 0xdf, 0xfd,\r\n",
      "  0xd8, 0x25, 0xf8, 0xfc, 0x08, 0x1a, 0x0b, 0xd9, 0xf8, 0xdd, 0x0d, 0xe8,\r\n",
      "  0xe7, 0xd7, 0xb7, 0xea, 0x17, 0xc0, 0xdd, 0x09, 0xe9, 0xf6, 0xf8, 0x11,\r\n",
      "  0xf5, 0xd3, 0xfd, 0xf7, 0xd9, 0x06, 0x10, 0xc8, 0x0f, 0xfa, 0xef, 0xdd,\r\n",
      "  0xbd, 0xf3, 0xf9, 0x4b, 0x34, 0x11, 0xd5, 0xbd, 0x04, 0x18, 0x22, 0xe1,\r\n",
      "  0xdd, 0xf4, 0x01, 0xf7, 0x1c, 0x21, 0xfc, 0x1a, 0xf9, 0x07, 0xca, 0xb4,\r\n",
      "  0x0a, 0xd8, 0xe7, 0xe6, 0xed, 0xfd, 0xc8, 0xf9, 0x1a, 0x2a, 0xfc, 0xc7,\r\n",
      "  0xfb, 0x07, 0xe3, 0xbc, 0xe8, 0xf8, 0xe9, 0xe7, 0xbb, 0xfe, 0x13, 0xdc,\r\n",
      "  0x1d, 0x1e, 0x08, 0xcc, 0xf2, 0x12, 0xb1, 0xbd, 0x21, 0xe3, 0xf8, 0xf5,\r\n",
      "  0xd7, 0x25, 0x0d, 0xfd, 0xfe, 0xeb, 0x10, 0xde, 0x10, 0x3d, 0xdd, 0xcb,\r\n",
      "  0x12, 0x0e, 0x15, 0xdc, 0xde, 0x21, 0x1f, 0x26, 0x21, 0x10, 0x06, 0x30,\r\n",
      "  0xeb, 0xf8, 0xbe, 0xf0, 0x05, 0x16, 0x1b, 0xf3, 0x06, 0x1a, 0x32, 0x25,\r\n",
      "  0x15, 0x03, 0xf7, 0x0a, 0xe3, 0xf8, 0x02, 0x0b, 0x0d, 0x15, 0x27, 0x0e,\r\n",
      "  0x05, 0xf7, 0x1c, 0x19, 0x01, 0xf0, 0x00, 0x1e, 0x0b, 0xf2, 0xe5, 0x0b,\r\n",
      "  0xec, 0x09, 0xf7, 0xe5, 0xf1, 0x17, 0x1f, 0xdb, 0xff, 0x06, 0xf5, 0xe9,\r\n",
      "  0xf9, 0xec, 0xf4, 0xd8, 0xf9, 0xd4, 0xcf, 0xe5, 0xdd, 0x20, 0xef, 0xe6,\r\n",
      "  0x3d, 0x0e, 0xed, 0xc0, 0xf6, 0x06, 0xe3, 0x05, 0x2c, 0x2f, 0x24, 0xe2,\r\n",
      "  0xe8, 0x03, 0x33, 0xfa, 0x37, 0xe9, 0xf5, 0xdb, 0xf2, 0xf9, 0xdb, 0xdd,\r\n",
      "  0x3a, 0x01, 0xec, 0xf1, 0x01, 0xde, 0x09, 0xf8, 0xf0, 0xe7, 0xfb, 0xe6,\r\n",
      "  0x0d, 0xf1, 0xd5, 0xbc, 0x23, 0x17, 0x0d, 0xef, 0xf4, 0xf6, 0x27, 0xe0,\r\n",
      "  0xfa, 0xed, 0xf5, 0xcc, 0xf2, 0xd2, 0xe7, 0xf3, 0x24, 0x1a, 0xef, 0x08,\r\n",
      "  0xe7, 0xdd, 0x19, 0xe8, 0x03, 0xfb, 0x11, 0xf9, 0xfa, 0xdb, 0x17, 0xda,\r\n",
      "  0x11, 0xe3, 0xf3, 0x0f, 0xdf, 0xdf, 0xff, 0xf4, 0x0b, 0xff, 0xe4, 0xff,\r\n",
      "  0x09, 0x0a, 0xde, 0xf5, 0xfc, 0xdf, 0xcd, 0x06, 0xdd, 0x1b, 0xdd, 0x16,\r\n",
      "  0xf9, 0xf9, 0xf2, 0x0b, 0x06, 0xfe, 0xf7, 0x12, 0xdf, 0x11, 0xd0, 0xff,\r\n",
      "  0xfe, 0x06, 0xd5, 0x1a, 0xf9, 0x1e, 0xf3, 0x13, 0x05, 0xfc, 0xf4, 0x0b,\r\n",
      "  0xe5, 0x24, 0xfc, 0x06, 0x05, 0x0c, 0xf1, 0x28, 0xe0, 0x00, 0xf8, 0x11,\r\n",
      "  0x10, 0x09, 0xfa, 0x31, 0xe9, 0x34, 0xf4, 0xfc, 0xfe, 0x1a, 0xea, 0x23,\r\n",
      "  0x09, 0x16, 0xf9, 0x30, 0x03, 0x24, 0x11, 0x05, 0xce, 0x27, 0xfa, 0x1c,\r\n",
      "  0x08, 0xe9, 0xd6, 0x1b, 0x15, 0xf9, 0xfe, 0x02, 0xf7, 0x19, 0x0f, 0x0d,\r\n",
      "  0xd4, 0x0f, 0x12, 0x03, 0xfd, 0x03, 0xca, 0x21, 0xec, 0xe2, 0xff, 0x17,\r\n",
      "  0xff, 0xfb, 0x18, 0x1a, 0x09, 0x08, 0x1b, 0x08, 0xc6, 0x03, 0x39, 0xd9,\r\n",
      "  0xf5, 0xdc, 0xe2, 0xd5, 0xef, 0xff, 0xcd, 0xdb, 0x05, 0xdf, 0x03, 0x32,\r\n",
      "  0xda, 0xef, 0x22, 0xf4, 0xe7, 0x03, 0xf8, 0xfd, 0xea, 0xee, 0xf8, 0xe8,\r\n",
      "  0xd9, 0x44, 0xf8, 0x2b, 0xfd, 0x0e, 0xe6, 0xea, 0x1f, 0xeb, 0xeb, 0x06,\r\n",
      "  0xe1, 0xf9, 0x08, 0x08, 0xea, 0x4b, 0x02, 0x10, 0xf1, 0xee, 0xf9, 0x20,\r\n",
      "  0xf3, 0x01, 0xe2, 0x06, 0xf9, 0x04, 0x12, 0x28, 0xf4, 0x31, 0xf1, 0x1f,\r\n",
      "  0xfb, 0x10, 0x1c, 0x15, 0xf2, 0x32, 0xee, 0xec, 0x08, 0x1d, 0x13, 0x1a,\r\n",
      "  0xee, 0x2e, 0x01, 0x22, 0xf4, 0xfc, 0x30, 0x04, 0x08, 0x33, 0xf6, 0xf8,\r\n",
      "  0x0b, 0x12, 0xfc, 0x09, 0xd1, 0x40, 0xde, 0x0b, 0xf8, 0x1a, 0x07, 0x28,\r\n",
      "  0xf0, 0x28, 0x0f, 0xfe, 0x17, 0x15, 0xf8, 0x2b, 0xd2, 0x12, 0xf4, 0x27,\r\n",
      "  0x04, 0x21, 0xfe, 0x0b, 0xfa, 0x07, 0xe9, 0x14, 0xfe, 0x24, 0x13, 0x01,\r\n",
      "  0xe6, 0x10, 0xfd, 0x0e, 0xff, 0x01, 0x00, 0x1a, 0xe2, 0x1a, 0xf9, 0x07,\r\n",
      "  0x13, 0x21, 0x0c, 0x2b, 0xf5, 0x3c, 0xdf, 0xea, 0x08, 0x20, 0x04, 0x1b,\r\n",
      "  0xed, 0x3c, 0xf0, 0xfb, 0x0b, 0x32, 0x0e, 0x06, 0xf2, 0xfd, 0x00, 0x1f,\r\n",
      "  0xeb, 0xf7, 0x2c, 0xf6, 0xda, 0x17, 0x07, 0xf8, 0x00, 0x2a, 0xef, 0x00,\r\n",
      "  0xf7, 0xd0, 0xe8, 0x0b, 0x2f, 0xca, 0xcc, 0x03, 0xba, 0xe0, 0xdb, 0xf9,\r\n",
      "  0xf6, 0x0e, 0xe5, 0x20, 0x02, 0x0d, 0xf3, 0xeb, 0x0d, 0xe4, 0x06, 0x0f,\r\n",
      "  0x1b, 0x0b, 0xf8, 0x1a, 0x24, 0xfd, 0x1a, 0x0e, 0x0c, 0x1a, 0x05, 0xd3,\r\n",
      "  0x0d, 0xf6, 0xee, 0x15, 0x27, 0x02, 0xf8, 0x0e, 0x22, 0x0a, 0xed, 0xd7,\r\n",
      "  0x07, 0x25, 0x0f, 0xf4, 0xd0, 0xfb, 0x0a, 0x00, 0x36, 0x29, 0x01, 0x29,\r\n",
      "  0x07, 0x14, 0xee, 0xff, 0x05, 0xfb, 0x02, 0xff, 0xdc, 0x26, 0xea, 0xf8,\r\n",
      "  0x20, 0x00, 0x01, 0xff, 0x12, 0xf7, 0xd1, 0xec, 0x00, 0xd9, 0x11, 0xe7,\r\n",
      "  0xfe, 0xfe, 0xf6, 0xf7, 0x40, 0x14, 0x05, 0xf6, 0xf3, 0xfb, 0xf2, 0xe5,\r\n",
      "  0x0b, 0x1a, 0x16, 0xf3, 0xe9, 0x01, 0xf1, 0xf3, 0x4e, 0xff, 0xf6, 0xfd,\r\n",
      "  0x05, 0x07, 0x0e, 0xce, 0x09, 0x1e, 0x15, 0xee, 0xd2, 0x1e, 0x04, 0xe4,\r\n",
      "  0x3c, 0x0a, 0xf3, 0xee, 0xfe, 0xf5, 0xe4, 0xf4, 0xf3, 0x22, 0x23, 0xd3,\r\n",
      "  0xc2, 0x11, 0x05, 0x03, 0x42, 0x0a, 0xfa, 0x0e, 0xf3, 0x02, 0xe9, 0xd7,\r\n",
      "  0x01, 0x2d, 0x1f, 0x00, 0xd1, 0x12, 0xeb, 0x11, 0x3d, 0x01, 0x07, 0x1b,\r\n",
      "  0xf3, 0xed, 0xf7, 0xd9, 0xf2, 0xfc, 0x02, 0x36, 0xf6, 0x0e, 0x04, 0x06,\r\n",
      "  0x1f, 0xff, 0x13, 0x02, 0xfe, 0xfc, 0xeb, 0xee, 0x16, 0xfb, 0x0d, 0xe1,\r\n",
      "  0xf0, 0x1c, 0xed, 0x17, 0x38, 0x09, 0x1d, 0x07, 0x23, 0xfe, 0xfd, 0x13,\r\n",
      "  0x05, 0xe2, 0xfd, 0x0b, 0x07, 0xf6, 0xd9, 0x17, 0x05, 0x01, 0x13, 0x0e,\r\n",
      "  0xf9, 0xf8, 0x09, 0x02, 0x18, 0xdb, 0x02, 0xff, 0xf2, 0x07, 0xc6, 0xf9,\r\n",
      "  0x06, 0xe9, 0x1e, 0x18, 0x0d, 0xf9, 0xec, 0x1c, 0x16, 0xd1, 0xe5, 0x05,\r\n",
      "  0xf8, 0xfb, 0xc2, 0xf5, 0x05, 0xf2, 0x14, 0xfa, 0xfb, 0xd7, 0x02, 0xe9,\r\n",
      "  0x11, 0xcd, 0xfe, 0x06, 0x0b, 0x03, 0xbd, 0xf3, 0xbd, 0xcb, 0xfb, 0x0a,\r\n",
      "  0xe3, 0x00, 0xdb, 0xf7, 0x0a, 0xf1, 0xe6, 0xf4, 0xfe, 0xe1, 0xc7, 0xef,\r\n",
      "  0xe2, 0xe0, 0x00, 0x07, 0xdf, 0xf6, 0xee, 0xf8, 0x18, 0xc1, 0xf1, 0xed,\r\n",
      "  0xe9, 0xe2, 0xc4, 0x00, 0xdd, 0xf0, 0x14, 0x19, 0x05, 0x04, 0xf5, 0x08,\r\n",
      "  0x11, 0xe4, 0xfe, 0xd5, 0xee, 0x11, 0xc6, 0xf8, 0xc7, 0xdb, 0x07, 0x1c,\r\n",
      "  0x00, 0x08, 0xdb, 0x1f, 0x15, 0xef, 0xfe, 0xeb, 0xe9, 0xef, 0xe4, 0x01,\r\n",
      "  0xc3, 0xea, 0x03, 0x0d, 0xfa, 0x09, 0xe8, 0x1d, 0x14, 0xf0, 0xfe, 0xfd,\r\n",
      "  0xf9, 0xea, 0xe5, 0xf6, 0xc0, 0xe4, 0x09, 0x1a, 0xf2, 0x0b, 0xf1, 0x01,\r\n",
      "  0x07, 0xf1, 0xee, 0xeb, 0x02, 0xfd, 0xc9, 0x0f, 0xe4, 0xe7, 0x17, 0x14,\r\n",
      "  0x01, 0xf9, 0xd4, 0x0c, 0x13, 0x11, 0x16, 0xe1, 0x07, 0x02, 0x09, 0xf0,\r\n",
      "  0xdb, 0xfd, 0x00, 0x0c, 0xf1, 0xe2, 0x0c, 0xea, 0x1d, 0xe6, 0x09, 0x0d,\r\n",
      "  0xff, 0xe0, 0xa6, 0x08, 0xfa, 0xea, 0xf1, 0xeb, 0x0f, 0xdf, 0x09, 0xf1,\r\n",
      "  0x03, 0xcd, 0x09, 0xef, 0x0c, 0x04, 0xd5, 0xff, 0xfc, 0xd2, 0xfc, 0x01,\r\n",
      "  0xe7, 0xfa, 0xf9, 0xff, 0xef, 0xd7, 0x09, 0xfd, 0xe3, 0x2c, 0xee, 0x07,\r\n",
      "  0xee, 0xf4, 0x11, 0xfd, 0x08, 0x11, 0xea, 0xf6, 0xf0, 0xda, 0x0b, 0x16,\r\n",
      "  0xfa, 0x1e, 0xcb, 0x14, 0xe5, 0xf7, 0x1b, 0x20, 0x14, 0x18, 0xef, 0xf4,\r\n",
      "  0xc6, 0xe9, 0x00, 0x22, 0xed, 0x0e, 0xd8, 0x14, 0x22, 0x0f, 0xf5, 0xf8,\r\n",
      "  0x0a, 0x10, 0x11, 0x08, 0xd1, 0xfe, 0x18, 0x0b, 0xe1, 0x17, 0x07, 0x03,\r\n",
      "  0x23, 0x13, 0x15, 0x0f, 0xf0, 0x23, 0x09, 0x00, 0xd4, 0xe9, 0x35, 0x0d,\r\n",
      "  0xe5, 0xf7, 0x02, 0x0c, 0x2e, 0x16, 0xf6, 0x11, 0xf2, 0xf5, 0x08, 0x04,\r\n",
      "  0x02, 0x0c, 0xcc, 0xed, 0xf4, 0xee, 0x00, 0xbc, 0x25, 0x27, 0xe7, 0xf2,\r\n",
      "  0xef, 0xdf, 0xeb, 0xed, 0xf0, 0xcd, 0xc6, 0x15, 0xee, 0xfd, 0xe3, 0xe8,\r\n",
      "  0x2d, 0x0d, 0xe6, 0xe5, 0xee, 0xda, 0xfe, 0xda, 0xe2, 0xf4, 0xae, 0x17,\r\n",
      "  0xe8, 0xfc, 0xe9, 0xda, 0x24, 0x1f, 0xf0, 0xf7, 0xec, 0xdd, 0x10, 0xf6,\r\n",
      "  0xd6, 0xda, 0xdf, 0xff, 0xff, 0xcf, 0xbb, 0x1e, 0x81, 0xda, 0xd2, 0x1d,\r\n",
      "  0xc4, 0xfd, 0x02, 0xef, 0xee, 0x1d, 0x01, 0x25, 0x1e, 0xfa, 0xed, 0xf2,\r\n",
      "  0x05, 0x09, 0xe2, 0xf4, 0x12, 0xf7, 0x15, 0xed, 0xf3, 0x1a, 0xf2, 0xf4,\r\n",
      "  0xf4, 0xff, 0xee, 0xfb, 0x2c, 0x13, 0xe5, 0xf9, 0x25, 0x1a, 0x11, 0xdb,\r\n",
      "  0xe5, 0x16, 0xed, 0xff, 0xf4, 0x12, 0x19, 0xf0, 0x1f, 0x24, 0x08, 0xec,\r\n",
      "  0x0e, 0xfe, 0xf3, 0xff, 0xf3, 0x41, 0x07, 0xf3, 0x06, 0xef, 0x2e, 0x08,\r\n",
      "  0x20, 0x27, 0x01, 0x13, 0x18, 0x11, 0xe2, 0x06, 0x02, 0x1c, 0xfc, 0x27,\r\n",
      "  0x10, 0x1b, 0x11, 0x07, 0x08, 0x16, 0xf6, 0xf1, 0x02, 0x17, 0x09, 0x0c,\r\n",
      "  0x13, 0x1f, 0xfa, 0x0f, 0x0f, 0x01, 0x0f, 0xdd, 0x03, 0x1d, 0xfd, 0xec,\r\n",
      "  0xfe, 0x10, 0x08, 0x0f, 0x10, 0x29, 0x10, 0xf6, 0x19, 0x08, 0x36, 0xeb,\r\n",
      "  0x0d, 0x12, 0x01, 0xe9, 0x06, 0xfc, 0x04, 0x10, 0x1a, 0x16, 0xf6, 0x12,\r\n",
      "  0xff, 0xea, 0x1f, 0xf1, 0x13, 0x1b, 0x0c, 0xff, 0x00, 0xff, 0xf9, 0x0e,\r\n",
      "  0x1f, 0x23, 0x07, 0xf8, 0xf1, 0xfa, 0x23, 0x22, 0xf9, 0x2f, 0x0d, 0x04,\r\n",
      "  0xf4, 0x24, 0xdc, 0x20, 0x18, 0x1f, 0x23, 0xe3, 0xff, 0x25, 0xf9, 0x22,\r\n",
      "  0xd5, 0x1a, 0x1c, 0xfc, 0x18, 0x13, 0xd2, 0x18, 0x13, 0x06, 0xec, 0xf2,\r\n",
      "  0x04, 0xf3, 0xda, 0x17, 0x3a, 0x01, 0x29, 0x03, 0x18, 0x21, 0xed, 0x07,\r\n",
      "  0x0c, 0xe9, 0x12, 0xf6, 0xfc, 0xff, 0xa9, 0x13, 0x00, 0xe2, 0xfc, 0x1c,\r\n",
      "  0x08, 0x04, 0xfb, 0x02, 0xfa, 0xc6, 0xfd, 0xf2, 0xdb, 0xfd, 0xde, 0x1c,\r\n",
      "  0xf6, 0xee, 0x24, 0x0a, 0x0b, 0x20, 0xe8, 0xf8, 0xc4, 0x08, 0x1c, 0xf2,\r\n",
      "  0xd6, 0x32, 0xdd, 0x2c, 0xfe, 0x10, 0x0a, 0x0b, 0x02, 0x1c, 0xdc, 0x07,\r\n",
      "  0xc3, 0xf3, 0x09, 0xe5, 0xdc, 0x20, 0xdc, 0x21, 0x2c, 0x0f, 0x1e, 0xeb,\r\n",
      "  0xe2, 0x0e, 0xf7, 0xf7, 0xc7, 0xf6, 0x1c, 0xe7, 0xf8, 0x0f, 0x1e, 0x07,\r\n",
      "  0x1a, 0x14, 0xfd, 0xf2, 0xe7, 0xfb, 0x19, 0x12, 0xc2, 0x28, 0x08, 0x0d,\r\n",
      "  0xf9, 0x12, 0x21, 0x0d, 0x17, 0x1e, 0xe6, 0xfe, 0x14, 0xf2, 0xe7, 0xe8,\r\n",
      "  0xd7, 0x30, 0xf3, 0x0e, 0xc7, 0xed, 0x30, 0xd0, 0x05, 0x12, 0xf4, 0xdb,\r\n",
      "  0xec, 0xe7, 0xf1, 0xdb, 0xc5, 0xea, 0xf3, 0xf3, 0xe7, 0xd1, 0xde, 0xeb,\r\n",
      "  0x17, 0xf6, 0xe7, 0xe7, 0x09, 0xf4, 0xe3, 0xe0, 0xcd, 0xfc, 0xd7, 0x08,\r\n",
      "  0xfb, 0xd8, 0xce, 0xdb, 0x0c, 0x00, 0xe5, 0xe3, 0xf8, 0xd9, 0xf5, 0xdf,\r\n",
      "  0xed, 0xf6, 0xd4, 0xd9, 0xd8, 0xe6, 0xf2, 0xf1, 0x21, 0xed, 0x0a, 0x04,\r\n",
      "  0xf5, 0xcd, 0xfa, 0xf0, 0xfd, 0xff, 0x09, 0xf8, 0x00, 0xee, 0x05, 0xeb,\r\n",
      "  0xbb, 0xde, 0xef, 0xe8, 0xe6, 0xfd, 0x04, 0xff, 0xfd, 0xd7, 0x0c, 0xd8,\r\n",
      "  0xda, 0x04, 0x13, 0xe6, 0x06, 0xd4, 0x12, 0xff, 0x02, 0xe6, 0xcf, 0x0a,\r\n",
      "  0x22, 0xd7, 0xfd, 0x23, 0xd7, 0xc1, 0xed, 0xff, 0xe7, 0x08, 0xe9, 0xf4,\r\n",
      "  0x03, 0xf7, 0x2a, 0xdc, 0x0a, 0x08, 0xe9, 0x28, 0xf7, 0xfa, 0xd5, 0xe9,\r\n",
      "  0x1a, 0xf3, 0xd8, 0xdb, 0x0f, 0xd8, 0x25, 0xec, 0xff, 0xfe, 0xd5, 0x29,\r\n",
      "  0x02, 0xf7, 0x19, 0xee, 0x19, 0x0a, 0xdc, 0xe6, 0x0d, 0xd1, 0x1e, 0x18,\r\n",
      "  0x1a, 0xfd, 0xdb, 0xff, 0x00, 0xf3, 0xf6, 0xd2, 0xf7, 0x03, 0xeb, 0xe1,\r\n",
      "  0xf1, 0xe5, 0x01, 0x01, 0x02, 0x1d, 0xf7, 0x1e, 0xff, 0x25, 0x14, 0xf9,\r\n",
      "  0xfa, 0x08, 0xf7, 0x0e, 0x04, 0x20, 0x07, 0xfd, 0xfb, 0x11, 0xd6, 0x26,\r\n",
      "  0xe7, 0x07, 0xfc, 0xfb, 0x0c, 0x1f, 0xe7, 0xdd, 0x20, 0xe9, 0x13, 0xf1,\r\n",
      "  0xf7, 0xf8, 0xd3, 0x16, 0x06, 0xee, 0xdd, 0xe4, 0x2b, 0x2e, 0xe4, 0x02,\r\n",
      "  0x00, 0xfc, 0x04, 0xfd, 0x0f, 0x0f, 0xc2, 0x08, 0xf3, 0x1a, 0xf9, 0x07,\r\n",
      "  0x0e, 0x15, 0xfa, 0x05, 0x00, 0x17, 0x11, 0x18, 0x02, 0x1d, 0xe4, 0x28,\r\n",
      "  0x1d, 0x1c, 0x02, 0x0b, 0x0d, 0xf8, 0xf9, 0x0b, 0x0e, 0x0d, 0x1d, 0x08,\r\n",
      "  0xf5, 0xc9, 0x03, 0x0f, 0xe7, 0x0b, 0xf1, 0xda, 0x15, 0x11, 0xe2, 0xf2,\r\n",
      "  0xed, 0xd8, 0x08, 0xfc, 0xd3, 0xfc, 0x10, 0x04, 0xe8, 0x13, 0xe8, 0xf8,\r\n",
      "  0x08, 0xda, 0xf8, 0xe6, 0x05, 0xfe, 0xf7, 0xea, 0xe5, 0xea, 0xfb, 0x0e,\r\n",
      "  0xeb, 0x19, 0xf3, 0xff, 0xf5, 0x16, 0xfd, 0xf0, 0xef, 0xfe, 0xda, 0xee,\r\n",
      "  0xc5, 0x18, 0x11, 0x1e, 0xf5, 0x06, 0xef, 0x24, 0xd3, 0x1c, 0x34, 0x11,\r\n",
      "  0x12, 0x17, 0xd3, 0x20, 0xc1, 0x11, 0x0d, 0x0e, 0x07, 0x20, 0x1b, 0x0e,\r\n",
      "  0xec, 0xfd, 0x1f, 0x00, 0x01, 0x23, 0xff, 0x05, 0xc6, 0x1f, 0x04, 0xef,\r\n",
      "  0x00, 0xff, 0x07, 0x2c, 0xed, 0x0b, 0x19, 0x1d, 0x19, 0x29, 0xf8, 0x11,\r\n",
      "  0xd3, 0x40, 0x13, 0xfe, 0xf8, 0xfb, 0x26, 0x0c, 0xe2, 0x03, 0x0a, 0x0a,\r\n",
      "  0x0f, 0x3c, 0x07, 0x04, 0xde, 0x1b, 0x19, 0xee, 0x03, 0xff, 0xfd, 0x26,\r\n",
      "  0xf7, 0x06, 0x16, 0xef, 0xe5, 0x1c, 0x09, 0xf8, 0xcf, 0x25, 0xf9, 0xde,\r\n",
      "  0xff, 0xf4, 0xff, 0x03, 0xf7, 0x02, 0xff, 0xd9, 0xfb, 0xee, 0xec, 0x29,\r\n",
      "  0xd6, 0x03, 0xe5, 0xeb, 0xe3, 0xf1, 0x26, 0x08, 0x03, 0x15, 0xf5, 0xf7,\r\n",
      "  0xea, 0xef, 0xee, 0x06, 0xcf, 0xed, 0xd2, 0xec, 0xd7, 0xf8, 0xe5, 0xfd,\r\n",
      "  0x08, 0x12, 0xda, 0xe7, 0x08, 0xf2, 0xfd, 0x0f, 0x00, 0x00, 0x00, 0x00,\r\n",
      "  0x46, 0xfe, 0xff, 0xff, 0x04, 0x00, 0x00, 0x00, 0x08, 0x00, 0x00, 0x00,\r\n",
      "  0xff, 0xff, 0xff, 0xff, 0xb0, 0x00, 0x00, 0x00, 0x00, 0x00, 0x00, 0x00,\r\n",
      "  0x00, 0x00, 0x00, 0x00, 0x00, 0x00, 0x00, 0x00, 0x66, 0xfe, 0xff, 0xff,\r\n",
      "  0x04, 0x00, 0x00, 0x00, 0x14, 0x00, 0x00, 0x00, 0x5f, 0x6c, 0x6b, 0xbc,\r\n",
      "  0x36, 0x10, 0x9c, 0xbe, 0x22, 0x6d, 0x67, 0x3f, 0xde, 0xe9, 0xc2, 0xbd,\r\n",
      "  0x19, 0xdf, 0xd4, 0xbe, 0x86, 0xfe, 0xff, 0xff, 0x04, 0x00, 0x00, 0x00,\r\n",
      "  0x40, 0x00, 0x00, 0x00, 0x77, 0xb5, 0xa8, 0x3c, 0x1b, 0x84, 0x52, 0x3e,\r\n",
      "  0x7d, 0x2f, 0x7f, 0xbd, 0x76, 0x8c, 0x61, 0xbe, 0x18, 0x7f, 0x54, 0xbe,\r\n",
      "  0x40, 0xed, 0xe2, 0x3e, 0x04, 0xd1, 0x50, 0xbc, 0x7a, 0x7a, 0x0b, 0x3e,\r\n",
      "  0x56, 0x75, 0xae, 0xbe, 0x04, 0x25, 0xa0, 0xbe, 0xcf, 0x7c, 0x04, 0x3f,\r\n",
      "  0x60, 0xd7, 0x45, 0x3e, 0x6c, 0x25, 0x1f, 0xbf, 0xd3, 0xfc, 0x9d, 0x3e,\r\n",
      "  0x86, 0x34, 0x9d, 0xbd, 0x9b, 0x89, 0x1d, 0x3e, 0x00, 0x00, 0x00, 0x00,\r\n",
      "  0xd6, 0xfe, 0xff, 0xff, 0x04, 0x00, 0x00, 0x00, 0x40, 0x00, 0x00, 0x00,\r\n",
      "  0xaa, 0x2d, 0x3a, 0x3e, 0xd6, 0x75, 0x00, 0xbf, 0xcb, 0x8f, 0xa9, 0xbe,\r\n",
      "  0x12, 0x82, 0xfb, 0xbd, 0x87, 0x08, 0x9a, 0xbe, 0x72, 0x57, 0x58, 0xbe,\r\n",
      "  0xbe, 0xc5, 0x17, 0xbf, 0x1c, 0x4b, 0x37, 0xbe, 0xd6, 0xfc, 0x00, 0xbe,\r\n",
      "  0x9c, 0x90, 0x01, 0xbf, 0x4b, 0x83, 0xc4, 0x3e, 0x96, 0x48, 0x4d, 0x3b,\r\n",
      "  0x0d, 0x16, 0x5a, 0xbe, 0x22, 0xba, 0xd9, 0xbe, 0x63, 0xe8, 0x87, 0xbe,\r\n",
      "  0x06, 0x6c, 0x96, 0xbe, 0x00, 0x00, 0x00, 0x00, 0x26, 0xff, 0xff, 0xff,\r\n",
      "  0x04, 0x00, 0x00, 0x00, 0x20, 0x00, 0x00, 0x00, 0x24, 0xd6, 0xd4, 0xbe,\r\n",
      "  0x46, 0xc8, 0x04, 0xbf, 0x98, 0xaf, 0x0d, 0x3d, 0x87, 0x51, 0x7b, 0xbe,\r\n",
      "  0xb9, 0x66, 0xc3, 0xbe, 0x02, 0x6f, 0x3a, 0x3e, 0xdb, 0x5c, 0xda, 0xbe,\r\n",
      "  0x60, 0x52, 0xe2, 0xbe, 0x00, 0x00, 0x00, 0x00, 0x00, 0x00, 0x00, 0x00,\r\n",
      "  0x00, 0x00, 0x00, 0x00, 0x88, 0xf6, 0xff, 0xff, 0x00, 0x00, 0x00, 0x00,\r\n",
      "  0x00, 0x00, 0x00, 0x00, 0x00, 0x00, 0x00, 0x00, 0x98, 0xf6, 0xff, 0xff,\r\n",
      "  0x0f, 0x00, 0x00, 0x00, 0x4d, 0x4c, 0x49, 0x52, 0x20, 0x43, 0x6f, 0x6e,\r\n",
      "  0x76, 0x65, 0x72, 0x74, 0x65, 0x64, 0x2e, 0x00, 0x01, 0x00, 0x00, 0x00,\r\n",
      "  0x14, 0x00, 0x00, 0x00, 0x00, 0x00, 0x0e, 0x00, 0x18, 0x00, 0x04, 0x00,\r\n",
      "  0x08, 0x00, 0x0c, 0x00, 0x10, 0x00, 0x14, 0x00, 0x0e, 0x00, 0x00, 0x00,\r\n",
      "  0x78, 0x02, 0x00, 0x00, 0x6c, 0x02, 0x00, 0x00, 0x60, 0x02, 0x00, 0x00,\r\n",
      "  0x14, 0x00, 0x00, 0x00, 0x04, 0x00, 0x00, 0x00, 0x04, 0x00, 0x00, 0x00,\r\n",
      "  0x6d, 0x61, 0x69, 0x6e, 0x00, 0x00, 0x00, 0x00, 0x08, 0x00, 0x00, 0x00,\r\n",
      "  0xfc, 0x01, 0x00, 0x00, 0x98, 0x01, 0x00, 0x00, 0x48, 0x01, 0x00, 0x00,\r\n",
      "  0xf8, 0x00, 0x00, 0x00, 0xd0, 0x00, 0x00, 0x00, 0x88, 0x00, 0x00, 0x00,\r\n",
      "  0x40, 0x00, 0x00, 0x00, 0x04, 0x00, 0x00, 0x00, 0x92, 0xfe, 0xff, 0xff,\r\n",
      "  0x00, 0x00, 0x00, 0x09, 0x04, 0x00, 0x00, 0x00, 0x24, 0x00, 0x00, 0x00,\r\n",
      "  0x18, 0x00, 0x00, 0x00, 0x0c, 0x00, 0x00, 0x00, 0x00, 0x00, 0x06, 0x00,\r\n",
      "  0x08, 0x00, 0x04, 0x00, 0x06, 0x00, 0x00, 0x00, 0x00, 0x00, 0x80, 0x3f,\r\n",
      "  0x01, 0x00, 0x00, 0x00, 0x11, 0x00, 0x00, 0x00, 0x01, 0x00, 0x00, 0x00,\r\n",
      "  0x10, 0x00, 0x00, 0x00, 0xca, 0xff, 0xff, 0xff, 0x00, 0x00, 0x00, 0x08,\r\n",
      "  0x03, 0x00, 0x00, 0x00, 0x18, 0x00, 0x00, 0x00, 0x0c, 0x00, 0x00, 0x00,\r\n",
      "  0x04, 0x00, 0x00, 0x00, 0x60, 0xf7, 0xff, 0xff, 0x01, 0x00, 0x00, 0x00,\r\n",
      "  0x10, 0x00, 0x00, 0x00, 0x03, 0x00, 0x00, 0x00, 0x0f, 0x00, 0x00, 0x00,\r\n",
      "  0x07, 0x00, 0x00, 0x00, 0x04, 0x00, 0x00, 0x00, 0x00, 0x00, 0x0e, 0x00,\r\n",
      "  0x18, 0x00, 0x08, 0x00, 0x0c, 0x00, 0x10, 0x00, 0x07, 0x00, 0x14, 0x00,\r\n",
      "  0x0e, 0x00, 0x00, 0x00, 0x00, 0x00, 0x00, 0x08, 0x03, 0x00, 0x00, 0x00,\r\n",
      "  0x1c, 0x00, 0x00, 0x00, 0x10, 0x00, 0x00, 0x00, 0x04, 0x00, 0x00, 0x00,\r\n",
      "  0x5a, 0xf7, 0xff, 0xff, 0x00, 0x00, 0x00, 0x01, 0x01, 0x00, 0x00, 0x00,\r\n",
      "  0x0f, 0x00, 0x00, 0x00, 0x03, 0x00, 0x00, 0x00, 0x0e, 0x00, 0x00, 0x00,\r\n",
      "  0x06, 0x00, 0x00, 0x00, 0x03, 0x00, 0x00, 0x00, 0x00, 0x00, 0x0a, 0x00,\r\n",
      "  0x10, 0x00, 0x04, 0x00, 0x08, 0x00, 0x0c, 0x00, 0x0a, 0x00, 0x00, 0x00,\r\n",
      "  0x02, 0x00, 0x00, 0x00, 0x10, 0x00, 0x00, 0x00, 0x04, 0x00, 0x00, 0x00,\r\n",
      "  0x01, 0x00, 0x00, 0x00, 0x0e, 0x00, 0x00, 0x00, 0x02, 0x00, 0x00, 0x00,\r\n",
      "  0x0d, 0x00, 0x00, 0x00, 0x05, 0x00, 0x00, 0x00, 0x76, 0xff, 0xff, 0xff,\r\n",
      "  0x00, 0x00, 0x00, 0x05, 0x01, 0x00, 0x00, 0x00, 0x38, 0x00, 0x00, 0x00,\r\n",
      "  0x2c, 0x00, 0x00, 0x00, 0x14, 0x00, 0x00, 0x00, 0x00, 0x00, 0x0e, 0x00,\r\n",
      "  0x14, 0x00, 0x00, 0x00, 0x04, 0x00, 0x08, 0x00, 0x0c, 0x00, 0x10, 0x00,\r\n",
      "  0x0e, 0x00, 0x00, 0x00, 0x01, 0x00, 0x00, 0x00, 0x06, 0x00, 0x00, 0x00,\r\n",
      "  0x01, 0x00, 0x00, 0x00, 0x06, 0x00, 0x00, 0x00, 0x01, 0x00, 0x00, 0x00,\r\n",
      "  0x0d, 0x00, 0x00, 0x00, 0x01, 0x00, 0x00, 0x00, 0x0c, 0x00, 0x00, 0x00,\r\n",
      "  0x62, 0xff, 0xff, 0xff, 0x00, 0x00, 0x00, 0x01, 0x24, 0x00, 0x00, 0x00,\r\n",
      "  0x18, 0x00, 0x00, 0x00, 0x04, 0x00, 0x00, 0x00, 0x54, 0xff, 0xff, 0xff,\r\n",
      "  0x00, 0x00, 0x00, 0x01, 0x01, 0x00, 0x00, 0x00, 0x01, 0x00, 0x00, 0x00,\r\n",
      "  0x01, 0x00, 0x00, 0x00, 0x0c, 0x00, 0x00, 0x00, 0x03, 0x00, 0x00, 0x00,\r\n",
      "  0x0b, 0x00, 0x00, 0x00, 0x09, 0x00, 0x00, 0x00, 0x02, 0x00, 0x00, 0x00,\r\n",
      "  0x00, 0x00, 0x0e, 0x00, 0x1a, 0x00, 0x08, 0x00, 0x0c, 0x00, 0x10, 0x00,\r\n",
      "  0x07, 0x00, 0x14, 0x00, 0x0e, 0x00, 0x00, 0x00, 0x00, 0x00, 0x00, 0x05,\r\n",
      "  0x01, 0x00, 0x00, 0x00, 0x3c, 0x00, 0x00, 0x00, 0x30, 0x00, 0x00, 0x00,\r\n",
      "  0x14, 0x00, 0x00, 0x00, 0x00, 0x00, 0x0e, 0x00, 0x18, 0x00, 0x07, 0x00,\r\n",
      "  0x08, 0x00, 0x0c, 0x00, 0x10, 0x00, 0x14, 0x00, 0x0e, 0x00, 0x00, 0x00,\r\n",
      "  0x00, 0x00, 0x00, 0x01, 0x03, 0x00, 0x00, 0x00, 0x06, 0x00, 0x00, 0x00,\r\n",
      "  0x03, 0x00, 0x00, 0x00, 0x06, 0x00, 0x00, 0x00, 0x01, 0x00, 0x00, 0x00,\r\n",
      "  0x0b, 0x00, 0x00, 0x00, 0x01, 0x00, 0x00, 0x00, 0x0a, 0x00, 0x00, 0x00,\r\n",
      "  0x00, 0x00, 0x0e, 0x00, 0x14, 0x00, 0x00, 0x00, 0x08, 0x00, 0x0c, 0x00,\r\n",
      "  0x07, 0x00, 0x10, 0x00, 0x0e, 0x00, 0x00, 0x00, 0x00, 0x00, 0x00, 0x01,\r\n",
      "  0x30, 0x00, 0x00, 0x00, 0x24, 0x00, 0x00, 0x00, 0x10, 0x00, 0x00, 0x00,\r\n",
      "  0x0c, 0x00, 0x10, 0x00, 0x00, 0x00, 0x08, 0x00, 0x0c, 0x00, 0x07, 0x00,\r\n",
      "  0x0c, 0x00, 0x00, 0x00, 0x00, 0x00, 0x00, 0x01, 0x01, 0x00, 0x00, 0x00,\r\n",
      "  0x01, 0x00, 0x00, 0x00, 0x01, 0x00, 0x00, 0x00, 0x0a, 0x00, 0x00, 0x00,\r\n",
      "  0x03, 0x00, 0x00, 0x00, 0x00, 0x00, 0x00, 0x00, 0x08, 0x00, 0x00, 0x00,\r\n",
      "  0x01, 0x00, 0x00, 0x00, 0x01, 0x00, 0x00, 0x00, 0x11, 0x00, 0x00, 0x00,\r\n",
      "  0x01, 0x00, 0x00, 0x00, 0x00, 0x00, 0x00, 0x00, 0x12, 0x00, 0x00, 0x00,\r\n",
      "  0xa4, 0x06, 0x00, 0x00, 0x3c, 0x06, 0x00, 0x00, 0xe4, 0x05, 0x00, 0x00,\r\n",
      "  0x8c, 0x05, 0x00, 0x00, 0x34, 0x05, 0x00, 0x00, 0xe8, 0x04, 0x00, 0x00,\r\n",
      "  0x60, 0x04, 0x00, 0x00, 0x14, 0x04, 0x00, 0x00, 0xc0, 0x03, 0x00, 0x00,\r\n",
      "  0x6c, 0x03, 0x00, 0x00, 0xb0, 0x02, 0x00, 0x00, 0x54, 0x02, 0x00, 0x00,\r\n",
      "  0x98, 0x01, 0x00, 0x00, 0x3c, 0x01, 0x00, 0x00, 0xf0, 0x00, 0x00, 0x00,\r\n",
      "  0x88, 0x00, 0x00, 0x00, 0x3c, 0x00, 0x00, 0x00, 0x04, 0x00, 0x00, 0x00,\r\n",
      "  0xb2, 0xf9, 0xff, 0xff, 0x24, 0x00, 0x00, 0x00, 0x12, 0x00, 0x00, 0x00,\r\n",
      "  0x0c, 0x00, 0x00, 0x00, 0x04, 0x00, 0x00, 0x00, 0xa4, 0xf9, 0xff, 0xff,\r\n",
      "  0x08, 0x00, 0x00, 0x00, 0x49, 0x64, 0x65, 0x6e, 0x74, 0x69, 0x74, 0x79,\r\n",
      "  0x00, 0x00, 0x00, 0x00, 0x02, 0x00, 0x00, 0x00, 0x01, 0x00, 0x00, 0x00,\r\n",
      "  0x05, 0x00, 0x00, 0x00, 0xe6, 0xf9, 0xff, 0xff, 0x38, 0x00, 0x00, 0x00,\r\n",
      "  0x11, 0x00, 0x00, 0x00, 0x0c, 0x00, 0x00, 0x00, 0x04, 0x00, 0x00, 0x00,\r\n",
      "  0xd8, 0xf9, 0xff, 0xff, 0x1d, 0x00, 0x00, 0x00, 0x73, 0x65, 0x71, 0x75,\r\n",
      "  0x65, 0x6e, 0x74, 0x69, 0x61, 0x6c, 0x5f, 0x37, 0x2f, 0x64, 0x65, 0x6e,\r\n",
      "  0x73, 0x65, 0x5f, 0x31, 0x33, 0x2f, 0x42, 0x69, 0x61, 0x73, 0x41, 0x64,\r\n",
      "  0x64, 0x00, 0x00, 0x00, 0x02, 0x00, 0x00, 0x00, 0x01, 0x00, 0x00, 0x00,\r\n",
      "  0x05, 0x00, 0x00, 0x00, 0x2e, 0xfa, 0xff, 0xff, 0x54, 0x00, 0x00, 0x00,\r\n",
      "  0x10, 0x00, 0x00, 0x00, 0x0c, 0x00, 0x00, 0x00, 0x04, 0x00, 0x00, 0x00,\r\n",
      "  0x20, 0xfa, 0xff, 0xff, 0x38, 0x00, 0x00, 0x00, 0x73, 0x65, 0x71, 0x75,\r\n",
      "  0x65, 0x6e, 0x74, 0x69, 0x61, 0x6c, 0x5f, 0x37, 0x2f, 0x64, 0x65, 0x6e,\r\n",
      "  0x73, 0x65, 0x5f, 0x31, 0x32, 0x2f, 0x52, 0x65, 0x6c, 0x75, 0x3b, 0x73,\r\n",
      "  0x65, 0x71, 0x75, 0x65, 0x6e, 0x74, 0x69, 0x61, 0x6c, 0x5f, 0x37, 0x2f,\r\n",
      "  0x64, 0x65, 0x6e, 0x73, 0x65, 0x5f, 0x31, 0x32, 0x2f, 0x42, 0x69, 0x61,\r\n",
      "  0x73, 0x41, 0x64, 0x64, 0x00, 0x00, 0x00, 0x00, 0x02, 0x00, 0x00, 0x00,\r\n",
      "  0x01, 0x00, 0x00, 0x00, 0x10, 0x00, 0x00, 0x00, 0x92, 0xfa, 0xff, 0xff,\r\n",
      "  0x38, 0x00, 0x00, 0x00, 0x0f, 0x00, 0x00, 0x00, 0x0c, 0x00, 0x00, 0x00,\r\n",
      "  0x04, 0x00, 0x00, 0x00, 0x84, 0xfa, 0xff, 0xff, 0x1e, 0x00, 0x00, 0x00,\r\n",
      "  0x73, 0x65, 0x71, 0x75, 0x65, 0x6e, 0x74, 0x69, 0x61, 0x6c, 0x5f, 0x37,\r\n",
      "  0x2f, 0x66, 0x6c, 0x61, 0x74, 0x74, 0x65, 0x6e, 0x5f, 0x35, 0x2f, 0x52,\r\n",
      "  0x65, 0x73, 0x68, 0x61, 0x70, 0x65, 0x00, 0x00, 0x02, 0x00, 0x00, 0x00,\r\n",
      "  0x01, 0x00, 0x00, 0x00, 0xb0, 0x00, 0x00, 0x00, 0xda, 0xfa, 0xff, 0xff,\r\n",
      "  0x40, 0x00, 0x00, 0x00, 0x0e, 0x00, 0x00, 0x00, 0x0c, 0x00, 0x00, 0x00,\r\n",
      "  0x04, 0x00, 0x00, 0x00, 0xcc, 0xfa, 0xff, 0xff, 0x25, 0x00, 0x00, 0x00,\r\n",
      "  0x73, 0x65, 0x71, 0x75, 0x65, 0x6e, 0x74, 0x69, 0x61, 0x6c, 0x5f, 0x37,\r\n",
      "  0x2f, 0x6d, 0x61, 0x78, 0x5f, 0x70, 0x6f, 0x6f, 0x6c, 0x69, 0x6e, 0x67,\r\n",
      "  0x32, 0x64, 0x5f, 0x31, 0x31, 0x2f, 0x4d, 0x61, 0x78, 0x50, 0x6f, 0x6f,\r\n",
      "  0x6c, 0x00, 0x00, 0x00, 0x04, 0x00, 0x00, 0x00, 0x01, 0x00, 0x00, 0x00,\r\n",
      "  0x0b, 0x00, 0x00, 0x00, 0x01, 0x00, 0x00, 0x00, 0x10, 0x00, 0x00, 0x00,\r\n",
      "  0x32, 0xfb, 0xff, 0xff, 0xa0, 0x00, 0x00, 0x00, 0x0d, 0x00, 0x00, 0x00,\r\n",
      "  0x0c, 0x00, 0x00, 0x00, 0x04, 0x00, 0x00, 0x00, 0x24, 0xfb, 0xff, 0xff,\r\n",
      "  0x86, 0x00, 0x00, 0x00, 0x73, 0x65, 0x71, 0x75, 0x65, 0x6e, 0x74, 0x69,\r\n",
      "  0x61, 0x6c, 0x5f, 0x37, 0x2f, 0x63, 0x6f, 0x6e, 0x76, 0x32, 0x64, 0x5f,\r\n",
      "  0x31, 0x31, 0x2f, 0x52, 0x65, 0x6c, 0x75, 0x3b, 0x73, 0x65, 0x71, 0x75,\r\n",
      "  0x65, 0x6e, 0x74, 0x69, 0x61, 0x6c, 0x5f, 0x37, 0x2f, 0x63, 0x6f, 0x6e,\r\n",
      "  0x76, 0x32, 0x64, 0x5f, 0x31, 0x31, 0x2f, 0x42, 0x69, 0x61, 0x73, 0x41,\r\n",
      "  0x64, 0x64, 0x3b, 0x73, 0x65, 0x71, 0x75, 0x65, 0x6e, 0x74, 0x69, 0x61,\r\n",
      "  0x6c, 0x5f, 0x37, 0x2f, 0x63, 0x6f, 0x6e, 0x76, 0x32, 0x64, 0x5f, 0x31,\r\n",
      "  0x31, 0x2f, 0x43, 0x6f, 0x6e, 0x76, 0x32, 0x44, 0x3b, 0x73, 0x65, 0x71,\r\n",
      "  0x75, 0x65, 0x6e, 0x74, 0x69, 0x61, 0x6c, 0x5f, 0x37, 0x2f, 0x63, 0x6f,\r\n",
      "  0x6e, 0x76, 0x32, 0x64, 0x5f, 0x31, 0x31, 0x2f, 0x42, 0x69, 0x61, 0x73,\r\n",
      "  0x41, 0x64, 0x64, 0x2f, 0x52, 0x65, 0x61, 0x64, 0x56, 0x61, 0x72, 0x69,\r\n",
      "  0x61, 0x62, 0x6c, 0x65, 0x4f, 0x70, 0x00, 0x00, 0x04, 0x00, 0x00, 0x00,\r\n",
      "  0x01, 0x00, 0x00, 0x00, 0x3f, 0x00, 0x00, 0x00, 0x01, 0x00, 0x00, 0x00,\r\n",
      "  0x10, 0x00, 0x00, 0x00, 0xea, 0xfb, 0xff, 0xff, 0x40, 0x00, 0x00, 0x00,\r\n",
      "  0x0c, 0x00, 0x00, 0x00, 0x0c, 0x00, 0x00, 0x00, 0x04, 0x00, 0x00, 0x00,\r\n",
      "  0xdc, 0xfb, 0xff, 0xff, 0x25, 0x00, 0x00, 0x00, 0x73, 0x65, 0x71, 0x75,\r\n",
      "  0x65, 0x6e, 0x74, 0x69, 0x61, 0x6c, 0x5f, 0x37, 0x2f, 0x6d, 0x61, 0x78,\r\n",
      "  0x5f, 0x70, 0x6f, 0x6f, 0x6c, 0x69, 0x6e, 0x67, 0x32, 0x64, 0x5f, 0x31,\r\n",
      "  0x30, 0x2f, 0x4d, 0x61, 0x78, 0x50, 0x6f, 0x6f, 0x6c, 0x00, 0x00, 0x00,\r\n",
      "  0x04, 0x00, 0x00, 0x00, 0x01, 0x00, 0x00, 0x00, 0x3f, 0x00, 0x00, 0x00,\r\n",
      "  0x01, 0x00, 0x00, 0x00, 0x08, 0x00, 0x00, 0x00, 0x42, 0xfc, 0xff, 0xff,\r\n",
      "  0xa0, 0x00, 0x00, 0x00, 0x0b, 0x00, 0x00, 0x00, 0x0c, 0x00, 0x00, 0x00,\r\n",
      "  0x04, 0x00, 0x00, 0x00, 0x34, 0xfc, 0xff, 0xff, 0x86, 0x00, 0x00, 0x00,\r\n",
      "  0x73, 0x65, 0x71, 0x75, 0x65, 0x6e, 0x74, 0x69, 0x61, 0x6c, 0x5f, 0x37,\r\n",
      "  0x2f, 0x63, 0x6f, 0x6e, 0x76, 0x32, 0x64, 0x5f, 0x31, 0x30, 0x2f, 0x52,\r\n",
      "  0x65, 0x6c, 0x75, 0x3b, 0x73, 0x65, 0x71, 0x75, 0x65, 0x6e, 0x74, 0x69,\r\n",
      "  0x61, 0x6c, 0x5f, 0x37, 0x2f, 0x63, 0x6f, 0x6e, 0x76, 0x32, 0x64, 0x5f,\r\n",
      "  0x31, 0x30, 0x2f, 0x42, 0x69, 0x61, 0x73, 0x41, 0x64, 0x64, 0x3b, 0x73,\r\n",
      "  0x65, 0x71, 0x75, 0x65, 0x6e, 0x74, 0x69, 0x61, 0x6c, 0x5f, 0x37, 0x2f,\r\n",
      "  0x63, 0x6f, 0x6e, 0x76, 0x32, 0x64, 0x5f, 0x31, 0x30, 0x2f, 0x43, 0x6f,\r\n",
      "  0x6e, 0x76, 0x32, 0x44, 0x3b, 0x73, 0x65, 0x71, 0x75, 0x65, 0x6e, 0x74,\r\n",
      "  0x69, 0x61, 0x6c, 0x5f, 0x37, 0x2f, 0x63, 0x6f, 0x6e, 0x76, 0x32, 0x64,\r\n",
      "  0x5f, 0x31, 0x30, 0x2f, 0x42, 0x69, 0x61, 0x73, 0x41, 0x64, 0x64, 0x2f,\r\n",
      "  0x52, 0x65, 0x61, 0x64, 0x56, 0x61, 0x72, 0x69, 0x61, 0x62, 0x6c, 0x65,\r\n",
      "  0x4f, 0x70, 0x00, 0x00, 0x04, 0x00, 0x00, 0x00, 0x01, 0x00, 0x00, 0x00,\r\n",
      "  0x7c, 0x01, 0x00, 0x00, 0x03, 0x00, 0x00, 0x00, 0x08, 0x00, 0x00, 0x00,\r\n",
      "  0xfa, 0xfc, 0xff, 0xff, 0x38, 0x00, 0x00, 0x00, 0x0a, 0x00, 0x00, 0x00,\r\n",
      "  0x0c, 0x00, 0x00, 0x00, 0x04, 0x00, 0x00, 0x00, 0xec, 0xfc, 0xff, 0xff,\r\n",
      "  0x1d, 0x00, 0x00, 0x00, 0x73, 0x65, 0x71, 0x75, 0x65, 0x6e, 0x74, 0x69,\r\n",
      "  0x61, 0x6c, 0x5f, 0x37, 0x2f, 0x63, 0x6f, 0x6e, 0x76, 0x32, 0x64, 0x5f,\r\n",
      "  0x31, 0x31, 0x2f, 0x43, 0x6f, 0x6e, 0x76, 0x32, 0x44, 0x00, 0x00, 0x00,\r\n",
      "  0x04, 0x00, 0x00, 0x00, 0x10, 0x00, 0x00, 0x00, 0x04, 0x00, 0x00, 0x00,\r\n",
      "  0x01, 0x00, 0x00, 0x00, 0x08, 0x00, 0x00, 0x00, 0x4a, 0xfd, 0xff, 0xff,\r\n",
      "  0x38, 0x00, 0x00, 0x00, 0x09, 0x00, 0x00, 0x00, 0x0c, 0x00, 0x00, 0x00,\r\n",
      "  0x04, 0x00, 0x00, 0x00, 0x3c, 0xfd, 0xff, 0xff, 0x1d, 0x00, 0x00, 0x00,\r\n",
      "  0x73, 0x65, 0x71, 0x75, 0x65, 0x6e, 0x74, 0x69, 0x61, 0x6c, 0x5f, 0x37,\r\n",
      "  0x2f, 0x63, 0x6f, 0x6e, 0x76, 0x32, 0x64, 0x5f, 0x31, 0x30, 0x2f, 0x43,\r\n",
      "  0x6f, 0x6e, 0x76, 0x32, 0x44, 0x00, 0x00, 0x00, 0x04, 0x00, 0x00, 0x00,\r\n",
      "  0x08, 0x00, 0x00, 0x00, 0x04, 0x00, 0x00, 0x00, 0x03, 0x00, 0x00, 0x00,\r\n",
      "  0x01, 0x00, 0x00, 0x00, 0x9a, 0xfd, 0xff, 0xff, 0x38, 0x00, 0x00, 0x00,\r\n",
      "  0x08, 0x00, 0x00, 0x00, 0x0c, 0x00, 0x00, 0x00, 0x04, 0x00, 0x00, 0x00,\r\n",
      "  0x8c, 0xfd, 0xff, 0xff, 0x1c, 0x00, 0x00, 0x00, 0x73, 0x65, 0x71, 0x75,\r\n",
      "  0x65, 0x6e, 0x74, 0x69, 0x61, 0x6c, 0x5f, 0x37, 0x2f, 0x64, 0x65, 0x6e,\r\n",
      "  0x73, 0x65, 0x5f, 0x31, 0x33, 0x2f, 0x4d, 0x61, 0x74, 0x4d, 0x75, 0x6c,\r\n",
      "  0x00, 0x00, 0x00, 0x00, 0x02, 0x00, 0x00, 0x00, 0x05, 0x00, 0x00, 0x00,\r\n",
      "  0x10, 0x00, 0x00, 0x00, 0x8a, 0xff, 0xff, 0xff, 0x00, 0x00, 0x00, 0x09,\r\n",
      "  0x60, 0x00, 0x00, 0x00, 0x07, 0x00, 0x00, 0x00, 0x34, 0x00, 0x00, 0x00,\r\n",
      "  0x10, 0x00, 0x00, 0x00, 0x0c, 0x00, 0x0c, 0x00, 0x00, 0x00, 0x00, 0x00,\r\n",
      "  0x04, 0x00, 0x08, 0x00, 0x0c, 0x00, 0x00, 0x00, 0x14, 0x00, 0x00, 0x00,\r\n",
      "  0x04, 0x00, 0x00, 0x00, 0x01, 0x00, 0x00, 0x00, 0x00, 0x00, 0x00, 0x00,\r\n",
      "  0x00, 0x00, 0x00, 0x00, 0x01, 0x00, 0x00, 0x00, 0x21, 0x3b, 0xb3, 0x3b,\r\n",
      "  0x1c, 0x00, 0x00, 0x00, 0x73, 0x65, 0x71, 0x75, 0x65, 0x6e, 0x74, 0x69,\r\n",
      "  0x61, 0x6c, 0x5f, 0x37, 0x2f, 0x64, 0x65, 0x6e, 0x73, 0x65, 0x5f, 0x31,\r\n",
      "  0x32, 0x2f, 0x4d, 0x61, 0x74, 0x4d, 0x75, 0x6c, 0x00, 0x00, 0x00, 0x00,\r\n",
      "  0x02, 0x00, 0x00, 0x00, 0x10, 0x00, 0x00, 0x00, 0xb0, 0x00, 0x00, 0x00,\r\n",
      "  0x00, 0x00, 0x0e, 0x00, 0x18, 0x00, 0x08, 0x00, 0x07, 0x00, 0x0c, 0x00,\r\n",
      "  0x10, 0x00, 0x14, 0x00, 0x0e, 0x00, 0x00, 0x00, 0x00, 0x00, 0x00, 0x02,\r\n",
      "  0x38, 0x00, 0x00, 0x00, 0x06, 0x00, 0x00, 0x00, 0x0c, 0x00, 0x00, 0x00,\r\n",
      "  0x04, 0x00, 0x00, 0x00, 0x5c, 0xfe, 0xff, 0xff, 0x1c, 0x00, 0x00, 0x00,\r\n",
      "  0x73, 0x65, 0x71, 0x75, 0x65, 0x6e, 0x74, 0x69, 0x61, 0x6c, 0x5f, 0x37,\r\n",
      "  0x2f, 0x66, 0x6c, 0x61, 0x74, 0x74, 0x65, 0x6e, 0x5f, 0x35, 0x2f, 0x43,\r\n",
      "  0x6f, 0x6e, 0x73, 0x74, 0x00, 0x00, 0x00, 0x00, 0x01, 0x00, 0x00, 0x00,\r\n",
      "  0x02, 0x00, 0x00, 0x00, 0xae, 0xfe, 0xff, 0xff, 0x48, 0x00, 0x00, 0x00,\r\n",
      "  0x05, 0x00, 0x00, 0x00, 0x0c, 0x00, 0x00, 0x00, 0x04, 0x00, 0x00, 0x00,\r\n",
      "  0xa0, 0xfe, 0xff, 0xff, 0x2c, 0x00, 0x00, 0x00, 0x73, 0x65, 0x71, 0x75,\r\n",
      "  0x65, 0x6e, 0x74, 0x69, 0x61, 0x6c, 0x5f, 0x37, 0x2f, 0x64, 0x65, 0x6e,\r\n",
      "  0x73, 0x65, 0x5f, 0x31, 0x33, 0x2f, 0x42, 0x69, 0x61, 0x73, 0x41, 0x64,\r\n",
      "  0x64, 0x2f, 0x52, 0x65, 0x61, 0x64, 0x56, 0x61, 0x72, 0x69, 0x61, 0x62,\r\n",
      "  0x6c, 0x65, 0x4f, 0x70, 0x00, 0x00, 0x00, 0x00, 0x01, 0x00, 0x00, 0x00,\r\n",
      "  0x05, 0x00, 0x00, 0x00, 0x02, 0xff, 0xff, 0xff, 0x48, 0x00, 0x00, 0x00,\r\n",
      "  0x04, 0x00, 0x00, 0x00, 0x0c, 0x00, 0x00, 0x00, 0x04, 0x00, 0x00, 0x00,\r\n",
      "  0xf4, 0xfe, 0xff, 0xff, 0x2c, 0x00, 0x00, 0x00, 0x73, 0x65, 0x71, 0x75,\r\n",
      "  0x65, 0x6e, 0x74, 0x69, 0x61, 0x6c, 0x5f, 0x37, 0x2f, 0x64, 0x65, 0x6e,\r\n",
      "  0x73, 0x65, 0x5f, 0x31, 0x32, 0x2f, 0x42, 0x69, 0x61, 0x73, 0x41, 0x64,\r\n",
      "  0x64, 0x2f, 0x52, 0x65, 0x61, 0x64, 0x56, 0x61, 0x72, 0x69, 0x61, 0x62,\r\n",
      "  0x6c, 0x65, 0x4f, 0x70, 0x00, 0x00, 0x00, 0x00, 0x01, 0x00, 0x00, 0x00,\r\n",
      "  0x10, 0x00, 0x00, 0x00, 0x56, 0xff, 0xff, 0xff, 0x48, 0x00, 0x00, 0x00,\r\n",
      "  0x03, 0x00, 0x00, 0x00, 0x0c, 0x00, 0x00, 0x00, 0x04, 0x00, 0x00, 0x00,\r\n",
      "  0x48, 0xff, 0xff, 0xff, 0x2d, 0x00, 0x00, 0x00, 0x73, 0x65, 0x71, 0x75,\r\n",
      "  0x65, 0x6e, 0x74, 0x69, 0x61, 0x6c, 0x5f, 0x37, 0x2f, 0x63, 0x6f, 0x6e,\r\n",
      "  0x76, 0x32, 0x64, 0x5f, 0x31, 0x31, 0x2f, 0x42, 0x69, 0x61, 0x73, 0x41,\r\n",
      "  0x64, 0x64, 0x2f, 0x52, 0x65, 0x61, 0x64, 0x56, 0x61, 0x72, 0x69, 0x61,\r\n",
      "  0x62, 0x6c, 0x65, 0x4f, 0x70, 0x00, 0x00, 0x00, 0x01, 0x00, 0x00, 0x00,\r\n",
      "  0x10, 0x00, 0x00, 0x00, 0xaa, 0xff, 0xff, 0xff, 0x48, 0x00, 0x00, 0x00,\r\n",
      "  0x02, 0x00, 0x00, 0x00, 0x0c, 0x00, 0x00, 0x00, 0x04, 0x00, 0x00, 0x00,\r\n",
      "  0x9c, 0xff, 0xff, 0xff, 0x2d, 0x00, 0x00, 0x00, 0x73, 0x65, 0x71, 0x75,\r\n",
      "  0x65, 0x6e, 0x74, 0x69, 0x61, 0x6c, 0x5f, 0x37, 0x2f, 0x63, 0x6f, 0x6e,\r\n",
      "  0x76, 0x32, 0x64, 0x5f, 0x31, 0x30, 0x2f, 0x42, 0x69, 0x61, 0x73, 0x41,\r\n",
      "  0x64, 0x64, 0x2f, 0x52, 0x65, 0x61, 0x64, 0x56, 0x61, 0x72, 0x69, 0x61,\r\n",
      "  0x62, 0x6c, 0x65, 0x4f, 0x70, 0x00, 0x00, 0x00, 0x01, 0x00, 0x00, 0x00,\r\n",
      "  0x08, 0x00, 0x00, 0x00, 0x00, 0x00, 0x0e, 0x00, 0x14, 0x00, 0x04, 0x00,\r\n",
      "  0x00, 0x00, 0x08, 0x00, 0x0c, 0x00, 0x10, 0x00, 0x0e, 0x00, 0x00, 0x00,\r\n",
      "  0x2c, 0x00, 0x00, 0x00, 0x01, 0x00, 0x00, 0x00, 0x10, 0x00, 0x00, 0x00,\r\n",
      "  0x08, 0x00, 0x00, 0x00, 0x04, 0x00, 0x04, 0x00, 0x04, 0x00, 0x00, 0x00,\r\n",
      "  0x0f, 0x00, 0x00, 0x00, 0x63, 0x6f, 0x6e, 0x76, 0x32, 0x64, 0x5f, 0x31,\r\n",
      "  0x30, 0x5f, 0x69, 0x6e, 0x70, 0x75, 0x74, 0x00, 0x04, 0x00, 0x00, 0x00,\r\n",
      "  0x01, 0x00, 0x00, 0x00, 0x7c, 0x01, 0x00, 0x00, 0x03, 0x00, 0x00, 0x00,\r\n",
      "  0x01, 0x00, 0x00, 0x00, 0x05, 0x00, 0x00, 0x00, 0x4c, 0x00, 0x00, 0x00,\r\n",
      "  0x38, 0x00, 0x00, 0x00, 0x28, 0x00, 0x00, 0x00, 0x18, 0x00, 0x00, 0x00,\r\n",
      "  0x0c, 0x00, 0x00, 0x00, 0x00, 0x00, 0x06, 0x00, 0x08, 0x00, 0x07, 0x00,\r\n",
      "  0x06, 0x00, 0x00, 0x00, 0x00, 0x00, 0x00, 0x19, 0xe2, 0xff, 0xff, 0xff,\r\n",
      "  0x00, 0x00, 0x00, 0x09, 0x03, 0x00, 0x00, 0x00, 0xfa, 0xff, 0xff, 0xff,\r\n",
      "  0x00, 0x16, 0x06, 0x00, 0x06, 0x00, 0x05, 0x00, 0x06, 0x00, 0x00, 0x00,\r\n",
      "  0x00, 0x11, 0x0a, 0x00, 0x0c, 0x00, 0x07, 0x00, 0x00, 0x00, 0x08, 0x00,\r\n",
      "  0x0a, 0x00, 0x00, 0x00, 0x00, 0x00, 0x00, 0x03, 0x02, 0x00, 0x00, 0x00\r\n",
      "};\r\n",
      "unsigned int ___Model_cnn_model_quantized3_half_tflite_len = 8832;\r\n"
     ]
    }
   ],
   "source": [
    "!cat ../Model/cnn_opt_model3_half.cc"
   ]
  },
  {
   "cell_type": "code",
   "execution_count": 46,
   "metadata": {
    "ExecuteTime": {
     "end_time": "2020-08-03T02:39:06.404903Z",
     "start_time": "2020-08-03T02:39:06.050423Z"
    }
   },
   "outputs": [
    {
     "data": {
      "text/plain": [
       "<matplotlib.legend.Legend at 0x7f07ed9c7590>"
      ]
     },
     "execution_count": 46,
     "metadata": {},
     "output_type": "execute_result"
    },
    {
     "data": {
      "image/png": "[encoded data removed]",
      "text/plain": [
       "<Figure size 432x288 with 1 Axes>"
      ]
     },
     "metadata": {},
     "output_type": "display_data"
    }
   ],
   "source": [
    "plt.plot(history_LSTM.history['accuracy'])\n",
    "plt.plot(history_LSTM.history['val_accuracy'])\n",
    "plt.plot(history3.history['accuracy'])\n",
    "plt.plot(history3.history['val_accuracy'])\n",
    "plt.xlabel('Epochs')\n",
    "plt.ylabel('Accuracy')\n",
    "plt.title('CNN VS LSTM Accuracy')\n",
    "plt.legend(['Training_LSTM','Validation_LSTM','Training_CNN','Validation_CNN'],loc='lower right')"
   ]
  },
  {
   "cell_type": "code",
   "execution_count": 47,
   "metadata": {
    "ExecuteTime": {
     "end_time": "2020-08-03T02:39:09.343526Z",
     "start_time": "2020-08-03T02:39:08.991475Z"
    }
   },
   "outputs": [
    {
     "data": {
      "text/plain": [
       "<matplotlib.legend.Legend at 0x7f07edaa84d0>"
      ]
     },
     "execution_count": 47,
     "metadata": {},
     "output_type": "execute_result"
    },
    {
     "data": {
      "image/png": "[encoded data removed]",
      "text/plain": [
       "<Figure size 432x288 with 1 Axes>"
      ]
     },
     "metadata": {},
     "output_type": "display_data"
    }
   ],
   "source": [
    "plt.plot(history_LSTM.history['loss'])\n",
    "plt.plot(history_LSTM.history['val_loss'])\n",
    "plt.plot(history3.history['loss'])\n",
    "plt.plot(history3.history['val_loss'])\n",
    "plt.xlabel('Epochs')\n",
    "plt.ylabel('Loss')\n",
    "plt.title('CNN VS LSTM LOSS')\n",
    "plt.legend(['Training_LSTM','Validation_LSTM','Training_CNN','Validation_CNN'],loc='upper right')"
   ]
  },
  {
   "cell_type": "code",
   "execution_count": 48,
   "metadata": {
    "ExecuteTime": {
     "end_time": "2020-08-03T02:39:13.145942Z",
     "start_time": "2020-08-03T02:39:13.133345Z"
    },
    "scrolled": true
   },
   "outputs": [
    {
     "name": "stdout",
     "output_type": "stream",
     "text": [
      "tf.Tensor(\n",
      "[[12  0  0  0  0]\n",
      " [ 0 18  0  0  0]\n",
      " [ 0  0 12  0  0]\n",
      " [ 0  0  0 12  2]\n",
      " [ 0  0  0  0  8]], shape=(5, 5), dtype=int32)\n",
      "Loss 0.10723546892404556, Accuracy 0.96875\n",
      "\n",
      "tf.Tensor(\n",
      "[[12  0  0  0  0]\n",
      " [ 0 18  0  0  0]\n",
      " [ 0  0 12  0  0]\n",
      " [ 0  0  0 14  0]\n",
      " [ 0  0  0  0  8]], shape=(5, 5), dtype=int32)\n",
      "Loss 0.001651971833780408, Accuracy 1.0\n"
     ]
    }
   ],
   "source": [
    "print(confusion_lstm)\n",
    "print(\"Loss {}, Accuracy {}\".format(loss_lstm, acc_lstm))\n",
    "print(\"\")\n",
    "print(confusion_cnn3)\n",
    "print(\"Loss {}, Accuracy {}\".format(loss_cnn3, acc_cnn3))"
   ]
  },
  {
   "cell_type": "code",
   "execution_count": null,
   "metadata": {},
   "outputs": [],
   "source": []
  }
 ],
 "metadata": {
  "kernelspec": {
   "display_name": "Python 3",
   "language": "python",
   "name": "python3"
  },
  "language_info": {
   "codemirror_mode": {
    "name": "ipython",
    "version": 3
   },
   "file_extension": ".py",
   "mimetype": "text/x-python",
   "name": "python",
   "nbconvert_exporter": "python",
   "pygments_lexer": "ipython3",
   "version": "3.7.6"
  },
  "toc": {
   "base_numbering": 1,
   "nav_menu": {},
   "number_sections": true,
   "sideBar": true,
   "skip_h1_title": false,
   "title_cell": "Table of Contents",
   "title_sidebar": "Contents",
   "toc_cell": false,
   "toc_position": {},
   "toc_section_display": true,
   "toc_window_display": false
  }
 },
 "nbformat": 4,
 "nbformat_minor": 4
}
