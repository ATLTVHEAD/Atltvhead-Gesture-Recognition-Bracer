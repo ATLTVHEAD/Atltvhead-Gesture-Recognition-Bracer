{
 "cells": [
  {
   "cell_type": "code",
   "execution_count": 1,
   "metadata": {
    "ExecuteTime": {
     "end_time": "2020-07-02T00:24:00.382973Z",
     "start_time": "2020-07-02T00:23:59.912982Z"
    }
   },
   "outputs": [],
   "source": [
    "import numpy as np \n",
    "import pandas as pd \n",
    "import datetime\n",
    "import re\n",
    "import os, os.path\n",
    "import time\n",
    "from sklearn.model_selection import train_test_split"
   ]
  },
  {
   "cell_type": "code",
   "execution_count": null,
   "metadata": {},
   "outputs": [],
   "source": []
  },
  {
   "cell_type": "markdown",
   "metadata": {
    "heading_collapsed": true
   },
   "source": [
    "# Save to Single File"
   ]
  },
  {
   "cell_type": "markdown",
   "metadata": {
    "hidden": true
   },
   "source": [
    "Lets change our directory to the training data. Then go through all folders and files, appending all the data to a single data frame. Finally export that dataframe to a csv file."
   ]
  },
  {
   "cell_type": "code",
   "execution_count": 2,
   "metadata": {
    "ExecuteTime": {
     "end_time": "2020-07-02T00:24:03.131077Z",
     "start_time": "2020-07-02T00:24:03.127064Z"
    },
    "hidden": true
   },
   "outputs": [
    {
     "name": "stdout",
     "output_type": "stream",
     "text": [
      "/app/data/Training_Data\n"
     ]
    }
   ],
   "source": [
    "cd ../Training_Data"
   ]
  },
  {
   "cell_type": "code",
   "execution_count": 3,
   "metadata": {
    "ExecuteTime": {
     "end_time": "2020-07-02T00:24:11.744799Z",
     "start_time": "2020-07-02T00:24:09.641161Z"
    },
    "hidden": true
   },
   "outputs": [],
   "source": [
    "folders = [\"fist_pump\",\"single_wave\",\"speed_mode\",\"random_motion\"]\n",
    "files =[]\n",
    "completedf = pd.DataFrame(columns=['gesture','acceleration'])\n",
    "for idx1,folder in enumerate(folders):\n",
    "    files = os.listdir(folder)\n",
    "    for idx2,file in enumerate(files):\n",
    "        df_temp = pd.read_csv(folder+'/'+file)\n",
    "        #print(df_temp[['Acc_X','Acc_Y','Acc_Z','Gyro_X', 'Gyro_Y', 'Gyro_Z']].to_numpy())\n",
    "        x=df_temp[['Acc_X','Acc_Y','Acc_Z']].to_numpy()\n",
    "        series = pd.Series(data={'gesture': folder, 'acceleration':x.tolist()})\n",
    "        df_temp2= pd.DataFrame([series])\n",
    "        completedf=pd.concat([completedf,df_temp2], ignore_index=True)  \n",
    "completedf.to_csv('complete_data.csv', index=False)"
   ]
  },
  {
   "cell_type": "markdown",
   "metadata": {
    "heading_collapsed": true
   },
   "source": [
    "# Split data into Training, Validation, and Testing"
   ]
  },
  {
   "cell_type": "markdown",
   "metadata": {
    "hidden": true
   },
   "source": [
    "## Using Scikit Learn"
   ]
  },
  {
   "cell_type": "code",
   "execution_count": 5,
   "metadata": {
    "ExecuteTime": {
     "end_time": "2020-07-02T00:24:45.260205Z",
     "start_time": "2020-07-02T00:24:44.694969Z"
    },
    "hidden": true
   },
   "outputs": [
    {
     "name": "stdout",
     "output_type": "stream",
     "text": [
      "len of train_set: 168\n",
      "len of test_set: 23\n",
      "len of val_set: 34\n"
     ]
    }
   ],
   "source": [
    "train_ratio = 0.75\n",
    "validation_ratio = 0.15\n",
    "test_ratio = 0.10\n",
    "\n",
    "# train is now 75% of the entire data set\n",
    "# the _junk suffix means that we drop that variable completely\n",
    "train_set, test_set = train_test_split(completedf, test_size=1 - train_ratio, random_state=0)\n",
    "\n",
    "# test is now 10% of the initial data set\n",
    "# validation is now 15% of the initial data set\n",
    "val_set, test_set = train_test_split(test_set, test_size=test_ratio/(test_ratio + validation_ratio), random_state=0) \n",
    "print('len of train_set: '+ str(len(train_set)))\n",
    "print('len of test_set: '+ str(len(test_set)))\n",
    "print('len of val_set: '+ str(len(val_set)))\n",
    "#print(x_train, x_val, x_test)\n",
    "train_set.to_csv('train_set.csv', index=False)\n",
    "test_set.to_csv('test_set.csv', index=False)\n",
    "val_set.to_csv('val_set.csv', index=False)"
   ]
  },
  {
   "cell_type": "code",
   "execution_count": 8,
   "metadata": {
    "ExecuteTime": {
     "end_time": "2020-07-02T00:26:03.635964Z",
     "start_time": "2020-07-02T00:26:03.597411Z"
    },
    "hidden": true
   },
   "outputs": [
    {
     "name": "stdout",
     "output_type": "stream",
     "text": [
      "len of train_set Speed mode: 18\n",
      "len of val_set Speed mode: 4\n",
      "len of test_set Speed mode: 4\n",
      "len of train_set fist_pump: 49\n",
      "len of val_set fist_pump: 6\n",
      "len of test_set fist_pump: 5\n",
      "len of train_set single_wave: 43\n",
      "len of val_set single_wave: 11\n",
      "len of test_set single_wave: 7\n",
      "len of train_set random_motion: 58\n",
      "len of val_set random_motion: 13\n",
      "len of test_set random_motion: 7\n"
     ]
    }
   ],
   "source": [
    "print('len of train_set Speed mode: '+ str(len(train_set.query('gesture == \"speed_mode\"'))))\n",
    "print('len of val_set Speed mode: '+ str(len(val_set.query('gesture == \"speed_mode\"'))))\n",
    "print('len of test_set Speed mode: '+ str(len(test_set.query('gesture == \"speed_mode\"'))))\n",
    "\n",
    "print('len of train_set fist_pump: '+ str(len(train_set.query('gesture == \"fist_pump\"'))))\n",
    "print('len of val_set fist_pump: '+ str(len(val_set.query('gesture == \"fist_pump\"'))))\n",
    "print('len of test_set fist_pump: '+ str(len(test_set.query('gesture == \"fist_pump\"'))))\n",
    "\n",
    "print('len of train_set single_wave: '+ str(len(train_set.query('gesture == \"single_wave\"'))))\n",
    "print('len of val_set single_wave: '+ str(len(val_set.query('gesture == \"single_wave\"'))))\n",
    "print('len of test_set single_wave: '+ str(len(test_set.query('gesture == \"single_wave\"'))))\n",
    "\n",
    "print('len of train_set random_motion: '+ str(len(train_set.query('gesture == \"random_motion\"'))))\n",
    "print('len of val_set random_motion: '+ str(len(val_set.query('gesture == \"random_motion\"'))))\n",
    "print('len of test_set random_motion: '+ str(len(test_set.query('gesture == \"random_motion\"'))))"
   ]
  },
  {
   "cell_type": "markdown",
   "metadata": {
    "heading_collapsed": true,
    "hidden": true
   },
   "source": [
    "## Using Pandas"
   ]
  },
  {
   "cell_type": "code",
   "execution_count": null,
   "metadata": {
    "hidden": true
   },
   "outputs": [],
   "source": [
    "completedf_copy= completedf.copy()\n",
    "train_set1 = completedf_copy.sample(frac=0.75, random_state=4)\n",
    "test_set1 = completedf_copy.drop(train_set1.index)\n",
    "val_set1 = test_set1.sample(frac=0.6, random_state=4)\n",
    "test_set1 = test_set1.drop(val_set.index)"
   ]
  },
  {
   "cell_type": "code",
   "execution_count": null,
   "metadata": {
    "hidden": true
   },
   "outputs": [],
   "source": [
    "print(len(train_set),len(val_set),len(test_set))\n",
    "\n",
    "print('len of x_train Speed mode: '+ str(len(train_set.query('gesture == \"speed_mode\"'))))\n",
    "print('len of x_val Speed mode: '+ str(len(x_val.query('gesture == \"speed_mode\"'))))\n",
    "print('len of x_test Speed mode: '+ str(len(test_set.query('gesture == \"speed_mode\"'))))\n",
    "\n",
    "print('len of x_train fist_pump: '+ str(len(train_set.query('gesture == \"fist_pump\"'))))\n",
    "print('len of x_val fist_pump: '+ str(len(x_val.query('gesture == \"fist_pump\"'))))\n",
    "print('len of x_test fist_pump: '+ str(len(test_set.query('gesture == \"fist_pump\"'))))\n",
    "\n",
    "print('len of x_train single_wave: '+ str(len(train_set.query('gesture == \"single_wave\"'))))\n",
    "print('len of x_val single_wave: '+ str(len(x_val.query('gesture == \"single_wave\"'))))\n",
    "print('len of x_test single_wave: '+ str(len(test_set.query('gesture == \"single_wave\"'))))\n",
    "\n",
    "print('len of x_train random_motion: '+ str(len(train_set.query('gesture == \"random_motion\"'))))\n",
    "print('len of x_val random_motion: '+ str(len(x_val.query('gesture == \"random_motion\"'))))\n",
    "print('len of x_test random_motion: '+ str(len(test_set.query('gesture == \"random_motion\"'))))"
   ]
  },
  {
   "cell_type": "markdown",
   "metadata": {},
   "source": [
    "# Data Preprocess"
   ]
  },
  {
   "cell_type": "markdown",
   "metadata": {},
   "source": [
    "## Load Data From CSV"
   ]
  },
  {
   "cell_type": "code",
   "execution_count": null,
   "metadata": {},
   "outputs": [],
   "source": [
    "cd ../Training_Data"
   ]
  },
  {
   "cell_type": "code",
   "execution_count": 9,
   "metadata": {
    "ExecuteTime": {
     "end_time": "2020-07-02T00:28:33.361607Z",
     "start_time": "2020-07-02T00:28:32.330305Z"
    }
   },
   "outputs": [
    {
     "name": "stdout",
     "output_type": "stream",
     "text": [
      "           gesture                                       acceleration\n",
      "71     single_wave  [[-7.851, -1.138, 6.209], [-7.851, -1.138, 6.2...\n",
      "22       fist_pump  [[-8.13, -0.575, 3.906], [-8.13, -0.575, 3.906...\n",
      "204  random_motion  [[-11.991, -1.032, 4.165], [-12.01700000000000...\n",
      "45       fist_pump  [[-8.477, -2.352, 2.727], [-8.477, -2.352, 2.7...\n",
      "199  random_motion  [[-10.081, 1.054, 2.576], [-10.081, 1.054, 2.5...\n",
      "..             ...                                                ...\n",
      "67     single_wave  [[-5.607, -5.888, 4.223], [-5.607, -5.888, 4.2...\n",
      "192  random_motion  [[-9.102, -2.658, 2.386], [-9.102, -2.658, 2.3...\n",
      "117    single_wave  [[-7.3660000000000005, -2.628, 5.154], [-7.627...\n",
      "47       fist_pump  [[-3.992, -2.7510000000000003, 3.002], [-3.992...\n",
      "172  random_motion  [[-8.097000000000001, 0.529, 3.385], [-8.09700...\n",
      "\n",
      "[168 rows x 2 columns]            gesture                                       acceleration\n",
      "44       fist_pump  [[-12.818, -5.899, 8.401], [-12.304, -5.94, 7....\n",
      "16       fist_pump  [[-10.325, 0.726, 0.455], [-10.193, 1.015, 0.4...\n",
      "97     single_wave  [[-7.617999999999999, -1.895, 1.954], [-7.6179...\n",
      "156  random_motion  [[-2.5610000000000004, -2.055, 8.824], [-2.561...\n",
      "64     single_wave  [[-7.817, -2.795, 2.234], [-7.817, -2.795, 2.2...\n",
      "161  random_motion  [[-10.11, -2.949, 1.1079999999999999], [-10.11...\n",
      "108    single_wave  [[-7.045, -2.784, 8.832], [-7.045, -2.784, 8.8...\n",
      "83     single_wave  [[-4.133, -5.078, 7.664], [-5.218, -5.078, 7.6...\n",
      "176  random_motion  [[-5.8, -4.168, 3.097], [-5.8, -4.168, 3.097],...\n",
      "201  random_motion  [[-8.868, -0.8240000000000001, 3.884], [-8.519...\n",
      "207  random_motion  [[-10.2, -2.5269999999999997, 1.84599999999999...\n",
      "8        fist_pump  [[-9.315, -4.673, -0.868], [-9.379, -5.058, -0...\n",
      "125     speed_mode  [[-6.285, 0.778, 3.168], [-6.285, 0.778, 3.168...\n",
      "5        fist_pump  [[-9.216000000000001, -2.645, 2.469], [-9.426,...\n",
      "144     speed_mode  [[-8.825, -1.25, 2.8510000000000004], [-8.825,...\n",
      "212  random_motion  [[-12.302, -5.001, 3.955], [-12.302, -5.001, 3...\n",
      "7        fist_pump  [[-9.213, -1.508, 2.7939999999999996], [-9.301...\n",
      "101    single_wave  [[-11.638, -0.785, 4.1419999999999995], [-11.6...\n",
      "107    single_wave  [[-15.639000000000001, -6.479, 2.295], [-15.63...\n",
      "92     single_wave  [[-8.402000000000001, -1.834, 5.24], [-8.40200...\n",
      "106    single_wave  [[-10.328, -1.32, -1.6369999999999998], [-10.3...\n",
      "145     speed_mode  [[-7.341, -8.17, 0.539], [-7.341, -8.17, 0.539...\n",
      "179  random_motion  [[-4.372, -0.598, 2.171], [-4.372, -0.598, 2.1...\n",
      "15       fist_pump  [[-8.791, -1.0659999999999998, 3.06], [-8.791,...\n",
      "153  random_motion  [[-7.729, -4.204, 0.867], [-7.729, -4.204, 0.8...\n",
      "139     speed_mode  [[-8.448, -5.452999999999999, 10.4720000000000...\n",
      "168  random_motion  [[-8.836, -0.84, 0.87], [-8.836, -0.765, 1.013...\n",
      "159  random_motion  [[-8.852, 0.61, 2.255], [-8.852, 0.61, 2.255],...\n",
      "189  random_motion  [[-8.277999999999999, -4.11, 2.838], [-8.27799...\n",
      "183  random_motion  [[-6.285, -2.116, 0.8190000000000001], [-6.285...\n",
      "111    single_wave  [[-12.745999999999999, -5.348, 5.182], [-14.29...\n",
      "74     single_wave  [[-7.608, -1.9469999999999998, 4.877], [-7.412...\n",
      "170  random_motion  [[-10.295, -3.154, 1.567], [-10.162, -3.072, 1...\n",
      "63     single_wave  [[-5.857, -3.738, 5.221], [-5.857, -3.738, 5.2...            gesture                                       acceleration\n",
      "18       fist_pump  [[-8.427, -0.564, 3.985], [-8.427, -0.564, 3.9...\n",
      "89     single_wave  [[-9.017999999999999, -3.533, 3.79600000000000...\n",
      "90     single_wave  [[-12.388, -1.65, 1.412], [-12.388, -1.65, 1.4...\n",
      "37       fist_pump  [[-8.084, -2.841, 2.9189999999999996], [-8.084...\n",
      "166  random_motion  [[-4.289, -1.64, 2.737], [-4.289, -1.64, 2.737...\n",
      "197  random_motion  [[-9.497, -1.225, 3.6689999999999996], [-9.273...\n",
      "55       fist_pump  [[-13.944, -4.303999999999999, 9.09], [-15.264...\n",
      "76     single_wave  [[-4.67, -2.26, 7.0120000000000005], [-4.67, -...\n",
      "187  random_motion  [[-6.14, -6.978, 3.147], [-6.14, -6.978, 3.147...\n",
      "110    single_wave  [[-8.315, -4.71, 6.995], [-8.315, -4.71, 6.995...\n",
      "75     single_wave  [[-7.3260000000000005, -3.4, 5.65], [-7.326000...\n",
      "143     speed_mode  [[-5.311, -2.424, 4.54], [-5.311, -2.424, 4.54...\n",
      "202  random_motion  [[-7.364, -1.341, 4.23], [-7.364, -1.341, 4.23...\n",
      "185  random_motion  [[-13.937999999999999, -0.342, 1.9569999999999...\n",
      "104    single_wave  [[-9.511000000000001, -2.657, 0.59200000000000...\n",
      "178  random_motion  [[-10.135, -2.725, 1.796], [-10.135, -2.725, 1...\n",
      "149  random_motion  [[-8.946, -3.159, 4.2780000000000005], [-8.946...\n",
      "137     speed_mode  [[-5.183, -5.841, 0.053], [-5.183, -5.841, 0.0...\n",
      "126     speed_mode  [[-9.672, 0.9359999999999999, 0.602], [-9.672,...\n",
      "134     speed_mode  [[-8.363, -2.147, 3.3310000000000004], [-8.363...\n",
      "12       fist_pump  [[-9.654, -1.5090000000000001, 3.265], [-9.654...\n",
      "33       fist_pump  [[-8.812999999999999, -1.381, 3.424], [-8.898,...\n",
      "118    single_wave  [[-9.03, -2.113, 1.442], [-9.03, -2.113, 1.442...\n"
     ]
    }
   ],
   "source": [
    "train_set = pd.read_csv('train_set.csv')\n",
    "test_set = pd.read_csv('test_set.csv')\n",
    "val_set = pd.read_csv('val_set.csv')"
   ]
  },
  {
   "cell_type": "markdown",
   "metadata": {},
   "source": [
    "## Data Sampling Inconsistencies \n",
    "You can see in the Arduino sketch and the subsequent python data logging sketch that I did not give it a sampling rate, or the frequency at which samples are taken. So I will have an inconsistent number of data points for each motion captured. With an unknown number of data points in each sample it can become difficult to train a machine learning model. So why did I choose to do this to my data?\n",
    "\n",
    "1. I wanted to test the consistency of my sensor and micro-controller real max data acquisition. With this knowledge I can set a fast but realistic sampling rate. \n",
    "2. The real world is filled with messy data. I wanted to gather a data set that I would have to clean and preprocess to use in model training. \n",
    "\n",
    "\n",
    "From the Data exploration it seems that the number of samples for each motion is roughly between 250-260 samples per second or 750-780 samples for a single gesture. \n",
    "The output of the processed data should be a consistant number, because we need a known number of inputs into our model. This number will be 750 data points. "
   ]
  },
  {
   "cell_type": "code",
   "execution_count": null,
   "metadata": {},
   "outputs": [],
   "source": []
  }
 ],
 "metadata": {
  "kernelspec": {
   "display_name": "Python 3",
   "language": "python",
   "name": "python3"
  },
  "language_info": {
   "codemirror_mode": {
    "name": "ipython",
    "version": 3
   },
   "file_extension": ".py",
   "mimetype": "text/x-python",
   "name": "python",
   "nbconvert_exporter": "python",
   "pygments_lexer": "ipython3",
   "version": "3.7.6"
  },
  "toc": {
   "base_numbering": 1,
   "nav_menu": {},
   "number_sections": true,
   "sideBar": true,
   "skip_h1_title": false,
   "title_cell": "Table of Contents",
   "title_sidebar": "Contents",
   "toc_cell": false,
   "toc_position": {},
   "toc_section_display": true,
   "toc_window_display": false
  }
 },
 "nbformat": 4,
 "nbformat_minor": 4
}
