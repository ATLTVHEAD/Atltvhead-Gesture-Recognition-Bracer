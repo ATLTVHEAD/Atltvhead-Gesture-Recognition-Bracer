{
 "cells": [
  {
   "cell_type": "code",
   "execution_count": 3,
   "metadata": {},
   "outputs": [],
   "source": [
    "import numpy as np \n",
    "import pandas as pd \n",
    "import datetime\n",
    "import re\n",
    "import os, os.path\n",
    "import time\n",
    "import random\n",
    "import tensorflow as tf\n",
    "import matplotlib.pyplot as plt\n",
    "import seaborn as sb"
   ]
  },
  {
   "cell_type": "code",
   "execution_count": 5,
   "metadata": {},
   "outputs": [],
   "source": [
    "my_test_model = tf.keras.models.load_model('../Model/cnn_model.h5')"
   ]
  },
  {
   "cell_type": "code",
   "execution_count": 6,
   "metadata": {
    "scrolled": true
   },
   "outputs": [
    {
     "name": "stdout",
     "output_type": "stream",
     "text": [
      "Model: \"sequential_6\"\n",
      "_________________________________________________________________\n",
      "Layer (type)                 Output Shape              Param #   \n",
      "=================================================================\n",
      "conv2d_8 (Conv2D)            (None, 760, 3, 8)         104       \n",
      "_________________________________________________________________\n",
      "max_pooling2d_8 (MaxPooling2 (None, 253, 1, 8)         0         \n",
      "_________________________________________________________________\n",
      "dropout_12 (Dropout)         (None, 253, 1, 8)         0         \n",
      "_________________________________________________________________\n",
      "conv2d_9 (Conv2D)            (None, 253, 1, 16)        528       \n",
      "_________________________________________________________________\n",
      "max_pooling2d_9 (MaxPooling2 (None, 85, 1, 16)         0         \n",
      "_________________________________________________________________\n",
      "dropout_13 (Dropout)         (None, 85, 1, 16)         0         \n",
      "_________________________________________________________________\n",
      "flatten_4 (Flatten)          (None, 1360)              0         \n",
      "_________________________________________________________________\n",
      "dense_10 (Dense)             (None, 16)                21776     \n",
      "_________________________________________________________________\n",
      "dropout_14 (Dropout)         (None, 16)                0         \n",
      "_________________________________________________________________\n",
      "dense_11 (Dense)             (None, 4)                 68        \n",
      "=================================================================\n",
      "Total params: 22,476\n",
      "Trainable params: 22,476\n",
      "Non-trainable params: 0\n",
      "_________________________________________________________________\n"
     ]
    }
   ],
   "source": [
    "my_test_model.summary()"
   ]
  },
  {
   "cell_type": "code",
   "execution_count": 10,
   "metadata": {},
   "outputs": [],
   "source": [
    "def reshape_function(data, label):\n",
    "    reshaped_data = tf.reshape(data, [-1, 3, 1])\n",
    "    return reshaped_data, label"
   ]
  },
  {
   "cell_type": "code",
   "execution_count": 12,
   "metadata": {},
   "outputs": [],
   "source": [
    "test_set = pd.read_csv('../Training_Data/processed_test_set.csv',converters={'acceleration': eval})\n",
    "\n",
    "tensor_test_set = tf.data.Dataset.from_tensor_slices(\n",
    "    (np.array(test_set['acceleration'].tolist(),dtype=np.float64),\n",
    "     test_set['gesture'].tolist()))\n",
    "\n",
    "tensor_test_set_cnn = tensor_test_set.map(reshape_function)\n",
    "\n",
    "tensor_test_set_cnn = tensor_test_set_cnn.batch(192)"
   ]
  },
  {
   "cell_type": "code",
   "execution_count": 13,
   "metadata": {
    "scrolled": true
   },
   "outputs": [
    {
     "name": "stdout",
     "output_type": "stream",
     "text": [
      "1/1 [==============================] - 0s 2ms/step - loss: 0.0071 - accuracy: 1.0000\n"
     ]
    }
   ],
   "source": [
    "loss_cnn, acc_cnn = my_test_model.evaluate(tensor_test_set_cnn)"
   ]
  },
  {
   "cell_type": "code",
   "execution_count": 15,
   "metadata": {},
   "outputs": [
    {
     "name": "stdout",
     "output_type": "stream",
     "text": [
      "tf.Tensor(\n",
      "[[14  0  0  0]\n",
      " [ 0 10  0  0]\n",
      " [ 0  0 14  0]\n",
      " [ 0  0  0  8]], shape=(4, 4), dtype=int32)\n",
      "Loss 0.007122741546481848, Accuracy 1.0\n"
     ]
    }
   ],
   "source": [
    "pred_cnn = np.argmax(my_test_model.predict(tensor_test_set_cnn), axis=1)\n",
    "confusion_cnn = tf.math.confusion_matrix(\n",
    "    labels=tf.constant(test_set['gesture'].to_numpy()),\n",
    "    predictions=tf.constant(pred_cnn),\n",
    "    num_classes=4)\n",
    "print(confusion_cnn)\n",
    "print(\"Loss {}, Accuracy {}\".format(loss_cnn, acc_cnn))"
   ]
  },
  {
   "cell_type": "code",
   "execution_count": 19,
   "metadata": {},
   "outputs": [
    {
     "data": {
      "text/plain": [
       "array([1, 1, 0, 0, 0, 0, 1, 1, 2, 2, 2, 2, 1, 1, 0, 0, 2, 2, 0, 0, 0, 0,\n",
       "       3, 3, 2, 2, 2, 2, 0, 0, 2, 2, 2, 2, 3, 3, 3, 3, 3, 3, 1, 1, 1, 1,\n",
       "       0, 0])"
      ]
     },
     "execution_count": 19,
     "metadata": {},
     "output_type": "execute_result"
    }
   ],
   "source": [
    "pred_cnn"
   ]
  },
  {
   "cell_type": "code",
   "execution_count": 35,
   "metadata": {},
   "outputs": [],
   "source": [
    "pred_cnn = np.argmax(my_test_model.predict(tensor_test_set_cnn), axis=1)"
   ]
  },
  {
   "cell_type": "code",
   "execution_count": null,
   "metadata": {},
   "outputs": [],
   "source": []
  },
  {
   "cell_type": "code",
   "execution_count": null,
   "metadata": {},
   "outputs": [],
   "source": []
  }
 ],
 "metadata": {
  "kernelspec": {
   "display_name": "Python 3",
   "language": "python",
   "name": "python3"
  },
  "language_info": {
   "codemirror_mode": {
    "name": "ipython",
    "version": 3
   },
   "file_extension": ".py",
   "mimetype": "text/x-python",
   "name": "python",
   "nbconvert_exporter": "python",
   "pygments_lexer": "ipython3",
   "version": "3.7.6"
  }
 },
 "nbformat": 4,
 "nbformat_minor": 4
}
