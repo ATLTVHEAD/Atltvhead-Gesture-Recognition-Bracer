{
 "cells": [
  {
   "cell_type": "code",
   "execution_count": 1,
   "metadata": {
    "ExecuteTime": {
     "end_time": "2020-07-27T14:18:00.483690Z",
     "start_time": "2020-07-27T14:17:55.863075Z"
    }
   },
   "outputs": [],
   "source": [
    "import numpy as np \n",
    "import pandas as pd \n",
    "import datetime\n",
    "import re\n",
    "import os, os.path\n",
    "import time\n",
    "from sklearn.model_selection import train_test_split\n",
    "import random\n",
    "import tensorflow as tf\n",
    "import matplotlib.pyplot as plt\n",
    "import seaborn as sb"
   ]
  },
  {
   "cell_type": "code",
   "execution_count": 2,
   "metadata": {
    "ExecuteTime": {
     "end_time": "2020-07-27T14:18:01.437398Z",
     "start_time": "2020-07-27T14:18:01.427980Z"
    },
    "tags": []
   },
   "outputs": [
    {
     "name": "stdout",
     "output_type": "stream",
     "text": [
      "/app/data/Training_Data\n"
     ]
    }
   ],
   "source": [
    "cd ../Training_Data"
   ]
  },
  {
   "cell_type": "code",
   "execution_count": 3,
   "metadata": {
    "ExecuteTime": {
     "end_time": "2020-07-27T14:18:02.812094Z",
     "start_time": "2020-07-27T14:18:02.807045Z"
    },
    "tags": []
   },
   "outputs": [],
   "source": [
    "sb.set_palette(\"husl\",4)\n",
    "sb.set_style(\"whitegrid\")"
   ]
  },
  {
   "cell_type": "code",
   "execution_count": 4,
   "metadata": {
    "ExecuteTime": {
     "end_time": "2020-07-27T14:18:49.605374Z",
     "start_time": "2020-07-27T14:18:03.961087Z"
    }
   },
   "outputs": [],
   "source": [
    "train_set = pd.read_csv('processed_train_set.csv',converters={'acceleration': eval})\n",
    "test_set = pd.read_csv('processed_test_set.csv',converters={'acceleration': eval})\n",
    "val_set = pd.read_csv('processed_val_set.csv',converters={'acceleration': eval})"
   ]
  },
  {
   "cell_type": "code",
   "execution_count": 3,
   "metadata": {
    "ExecuteTime": {
     "end_time": "2020-07-05T01:37:43.033315Z",
     "start_time": "2020-07-05T01:37:43.021214Z"
    },
    "tags": []
   },
   "outputs": [
    {
     "name": "stdout",
     "output_type": "stream",
     "text": [
      "/app/data/Model\n"
     ]
    }
   ],
   "source": [
    "cd ../Model\n"
   ]
  },
  {
   "cell_type": "code",
   "execution_count": 5,
   "metadata": {
    "ExecuteTime": {
     "end_time": "2020-07-27T14:19:35.790563Z",
     "start_time": "2020-07-27T14:19:35.779543Z"
    }
   },
   "outputs": [],
   "source": [
    "def calculate_model_size(model):\n",
    "    print(model.summary())\n",
    "    var_sizes = [\n",
    "      np.product(list(map(int, v.shape))) * v.dtype.size\n",
    "      for v in model.trainable_variables\n",
    "      ]\n",
    "    print(\"Model size:\", sum(var_sizes) / 1024, \"KB\")"
   ]
  },
  {
   "cell_type": "code",
   "execution_count": 6,
   "metadata": {
    "ExecuteTime": {
     "end_time": "2020-07-27T14:19:38.511232Z",
     "start_time": "2020-07-27T14:19:37.245194Z"
    }
   },
   "outputs": [],
   "source": [
    "samples = len(train_set['acceleration'][0])\n",
    "\n",
    "lstm_model = tf.keras.Sequential([\n",
    "      tf.keras.layers.Bidirectional(\n",
    "          tf.keras.layers.LSTM(22),\n",
    "          input_shape=(samples, 3)),  # output_shape=(batch, 253)\n",
    "      tf.keras.layers.Dense(4, activation=\"sigmoid\")  # (batch, 4)\n",
    "])\n",
    "\n",
    "cnn_model = tf.keras.Sequential([\n",
    "    tf.keras.layers.Conv2D(8, (4, 3),padding=\"same\",activation=\"relu\",\n",
    "                           input_shape=(samples, 3, 1)),  # output_shape=(batch, 760, 3, 8)\n",
    "    tf.keras.layers.MaxPool2D((3, 3)),  # (batch, 253, 1, 8)\n",
    "    tf.keras.layers.Dropout(0.1),  # (batch, 253, 1, 8)\n",
    "    tf.keras.layers.Conv2D(16, (4, 1), padding=\"same\",activation=\"relu\"), # (batch, 253, 1, 16)\n",
    "    tf.keras.layers.MaxPool2D((3, 1), padding=\"same\"),  # (batch, 84, 1, 16)\n",
    "    tf.keras.layers.Dropout(0.1),  # (batch, 84, 1, 16)\n",
    "    tf.keras.layers.Flatten(),  # (batch, 1344)\n",
    "    tf.keras.layers.Dense(16, activation=\"relu\"),  # (batch, 16)\n",
    "    tf.keras.layers.Dropout(0.1),  # (batch, 16)\n",
    "    tf.keras.layers.Dense(4, activation=\"softmax\")  # (batch, 4)\n",
    "])\n",
    "\n",
    "cnn_model2 = tf.keras.Sequential([\n",
    "    tf.keras.layers.Conv2D(8, (4, 3),padding=\"same\",activation=\"relu\",\n",
    "                           input_shape=(samples, 3, 1)),  # output_shape=(batch, 760, 3, 8)\n",
    "    tf.keras.layers.MaxPool2D((3, 3)),  # (batch, 253, 1, 8)\n",
    "    tf.keras.layers.Dropout(0.1),  # (batch, 253, 1, 8)\n",
    "    tf.keras.layers.Conv2D(16, (4, 1), padding=\"same\",activation=\"relu\"), # (batch, 253, 1, 16)\n",
    "    tf.keras.layers.MaxPool2D((3, 1), padding=\"same\"),  # (batch, 84, 1, 16)\n",
    "    tf.keras.layers.Dropout(0.1),  # (batch, 84, 1, 16)\n",
    "    tf.keras.layers.Flatten(),  # (batch, 1344)\n",
    "    tf.keras.layers.Dense(16, activation=\"relu\"),  # (batch, 16)\n",
    "    tf.keras.layers.Dropout(0.1),  # (batch, 16)\n",
    "    tf.keras.layers.Dense(4, activation=\"softmax\")  # (batch, 4)\n",
    "])\n",
    "\n",
    "#unused\n",
    "cnn_model3 = tf.keras.Sequential([\n",
    "    tf.keras.layers.Conv2D(8, (4, 3),padding=\"same\",activation=\"relu\",\n",
    "                           input_shape=(samples, 3, 1)),  # output_shape=(batch, 760, 3, 8)\n",
    "    tf.keras.layers.MaxPool2D((6, 3)),  # (batch, 126, 1, 8)\n",
    "    tf.keras.layers.Dropout(0.1),  # (batch, 126, 1, 8)\n",
    "    tf.keras.layers.Conv2D(16, (4, 1), padding=\"same\",activation=\"relu\"), # (batch, 126, 1, 16)\n",
    "    tf.keras.layers.MaxPool2D((6, 1), padding=\"same\"),  # (batch, 21, 1, 16)\n",
    "    tf.keras.layers.Dropout(0.1),  # (batch, 21, 1, 16)\n",
    "    tf.keras.layers.Flatten(),  # (batch, 336)\n",
    "    tf.keras.layers.Dense(16, activation=\"relu\"),  # (batch, 16)\n",
    "    tf.keras.layers.Dropout(0.1),  # (batch, 16)\n",
    "    tf.keras.layers.Dense(4, activation=\"softmax\")  # (batch, 4)\n",
    "])"
   ]
  },
  {
   "cell_type": "code",
   "execution_count": 7,
   "metadata": {
    "ExecuteTime": {
     "end_time": "2020-07-27T14:19:47.455830Z",
     "start_time": "2020-07-27T14:19:42.801666Z"
    }
   },
   "outputs": [],
   "source": [
    "tensor_train_set = tf.data.Dataset.from_tensor_slices(\n",
    "    (np.array(train_set['acceleration'].tolist(),dtype=np.float64),\n",
    "     train_set['gesture'].tolist()))\n",
    "\n",
    "tensor_test_set = tf.data.Dataset.from_tensor_slices(\n",
    "    (np.array(test_set['acceleration'].tolist(),dtype=np.float64),\n",
    "     test_set['gesture'].tolist()))\n",
    "\n",
    "tensor_val_set = tf.data.Dataset.from_tensor_slices(\n",
    "    (np.array(val_set['acceleration'].tolist(),dtype=np.float64),\n",
    "     val_set['gesture'].tolist()))"
   ]
  },
  {
   "cell_type": "code",
   "execution_count": 8,
   "metadata": {
    "ExecuteTime": {
     "end_time": "2020-07-27T14:19:47.599242Z",
     "start_time": "2020-07-27T14:19:47.461874Z"
    },
    "tags": []
   },
   "outputs": [
    {
     "name": "stdout",
     "output_type": "stream",
     "text": [
      "Model: \"sequential\"\n",
      "_________________________________________________________________\n",
      "Layer (type)                 Output Shape              Param #   \n",
      "=================================================================\n",
      "bidirectional (Bidirectional (None, 44)                4576      \n",
      "_________________________________________________________________\n",
      "dense (Dense)                (None, 4)                 180       \n",
      "=================================================================\n",
      "Total params: 4,756\n",
      "Trainable params: 4,756\n",
      "Non-trainable params: 0\n",
      "_________________________________________________________________\n",
      "None\n",
      "Model size: 18.578125 KB\n",
      "Model: \"sequential_1\"\n",
      "_________________________________________________________________\n",
      "Layer (type)                 Output Shape              Param #   \n",
      "=================================================================\n",
      "conv2d (Conv2D)              (None, 760, 3, 8)         104       \n",
      "_________________________________________________________________\n",
      "max_pooling2d (MaxPooling2D) (None, 253, 1, 8)         0         \n",
      "_________________________________________________________________\n",
      "dropout (Dropout)            (None, 253, 1, 8)         0         \n",
      "_________________________________________________________________\n",
      "conv2d_1 (Conv2D)            (None, 253, 1, 16)        528       \n",
      "_________________________________________________________________\n",
      "max_pooling2d_1 (MaxPooling2 (None, 85, 1, 16)         0         \n",
      "_________________________________________________________________\n",
      "dropout_1 (Dropout)          (None, 85, 1, 16)         0         \n",
      "_________________________________________________________________\n",
      "flatten (Flatten)            (None, 1360)              0         \n",
      "_________________________________________________________________\n",
      "dense_1 (Dense)              (None, 16)                21776     \n",
      "_________________________________________________________________\n",
      "dropout_2 (Dropout)          (None, 16)                0         \n",
      "_________________________________________________________________\n",
      "dense_2 (Dense)              (None, 4)                 68        \n",
      "=================================================================\n",
      "Total params: 22,476\n",
      "Trainable params: 22,476\n",
      "Non-trainable params: 0\n",
      "_________________________________________________________________\n",
      "None\n",
      "Model size: 87.796875 KB\n",
      "Model: \"sequential_2\"\n",
      "_________________________________________________________________\n",
      "Layer (type)                 Output Shape              Param #   \n",
      "=================================================================\n",
      "conv2d_2 (Conv2D)            (None, 760, 3, 8)         104       \n",
      "_________________________________________________________________\n",
      "max_pooling2d_2 (MaxPooling2 (None, 253, 1, 8)         0         \n",
      "_________________________________________________________________\n",
      "dropout_3 (Dropout)          (None, 253, 1, 8)         0         \n",
      "_________________________________________________________________\n",
      "conv2d_3 (Conv2D)            (None, 253, 1, 16)        528       \n",
      "_________________________________________________________________\n",
      "max_pooling2d_3 (MaxPooling2 (None, 85, 1, 16)         0         \n",
      "_________________________________________________________________\n",
      "dropout_4 (Dropout)          (None, 85, 1, 16)         0         \n",
      "_________________________________________________________________\n",
      "flatten_1 (Flatten)          (None, 1360)              0         \n",
      "_________________________________________________________________\n",
      "dense_3 (Dense)              (None, 16)                21776     \n",
      "_________________________________________________________________\n",
      "dropout_5 (Dropout)          (None, 16)                0         \n",
      "_________________________________________________________________\n",
      "dense_4 (Dense)              (None, 4)                 68        \n",
      "=================================================================\n",
      "Total params: 22,476\n",
      "Trainable params: 22,476\n",
      "Non-trainable params: 0\n",
      "_________________________________________________________________\n",
      "None\n",
      "Model size: 87.796875 KB\n",
      "Model: \"sequential_3\"\n",
      "_________________________________________________________________\n",
      "Layer (type)                 Output Shape              Param #   \n",
      "=================================================================\n",
      "conv2d_4 (Conv2D)            (None, 760, 3, 8)         104       \n",
      "_________________________________________________________________\n",
      "max_pooling2d_4 (MaxPooling2 (None, 126, 1, 8)         0         \n",
      "_________________________________________________________________\n",
      "dropout_6 (Dropout)          (None, 126, 1, 8)         0         \n",
      "_________________________________________________________________\n",
      "conv2d_5 (Conv2D)            (None, 126, 1, 16)        528       \n",
      "_________________________________________________________________\n",
      "max_pooling2d_5 (MaxPooling2 (None, 21, 1, 16)         0         \n",
      "_________________________________________________________________\n",
      "dropout_7 (Dropout)          (None, 21, 1, 16)         0         \n",
      "_________________________________________________________________\n",
      "flatten_2 (Flatten)          (None, 336)               0         \n",
      "_________________________________________________________________\n",
      "dense_5 (Dense)              (None, 16)                5392      \n",
      "_________________________________________________________________\n",
      "dropout_8 (Dropout)          (None, 16)                0         \n",
      "_________________________________________________________________\n",
      "dense_6 (Dense)              (None, 4)                 68        \n",
      "=================================================================\n",
      "Total params: 6,092\n",
      "Trainable params: 6,092\n",
      "Non-trainable params: 0\n",
      "_________________________________________________________________\n",
      "None\n",
      "Model size: 23.796875 KB\n"
     ]
    }
   ],
   "source": [
    "calculate_model_size(lstm_model)\n",
    "epochs_cnn = 20\n",
    "epochs_lstm = 20\n",
    "batch_size = 64\n",
    "batch_size2 = 192\n",
    "\n",
    "lstm_model.compile(\n",
    "    optimizer=\"adam\",\n",
    "    loss=\"sparse_categorical_crossentropy\",\n",
    "    metrics=[\"accuracy\"])\n",
    "\n",
    "calculate_model_size(cnn_model)\n",
    "cnn_model.compile(\n",
    "    optimizer=\"adam\",\n",
    "    loss=\"sparse_categorical_crossentropy\",\n",
    "    metrics=[\"accuracy\"])\n",
    "\n",
    "calculate_model_size(cnn_model2)\n",
    "cnn_model2.compile(\n",
    "    optimizer=\"adam\",\n",
    "    loss=\"sparse_categorical_crossentropy\",\n",
    "    metrics=[\"accuracy\"])\n",
    "\n",
    "calculate_model_size(cnn_model3)\n",
    "cnn_model3.compile(\n",
    "    optimizer=\"adam\",\n",
    "    loss=\"sparse_categorical_crossentropy\",\n",
    "    metrics=[\"accuracy\"])"
   ]
  },
  {
   "cell_type": "code",
   "execution_count": 13,
   "metadata": {
    "ExecuteTime": {
     "end_time": "2020-07-07T23:27:25.111457Z",
     "start_time": "2020-07-07T23:27:25.099952Z"
    }
   },
   "outputs": [],
   "source": [
    "tensor_train_set_lstm = tensor_train_set.batch(batch_size).repeat()\n",
    "tensor_val_set_lstm = tensor_val_set.batch(batch_size)\n",
    "tensor_test_set_lstm = tensor_test_set.batch(batch_size)"
   ]
  },
  {
   "cell_type": "code",
   "execution_count": 23,
   "metadata": {
    "ExecuteTime": {
     "end_time": "2020-07-07T23:59:02.625357Z",
     "start_time": "2020-07-07T23:49:20.844305Z"
    },
    "tags": []
   },
   "outputs": [
    {
     "name": "stdout",
     "output_type": "stream",
     "text": [
      "Epoch 1/20\n",
      "200/200 [==============================] - 50s 252ms/step - loss: 1.1708 - accuracy: 0.5038 - val_loss: 1.2219 - val_accuracy: 0.3824\n",
      "Epoch 2/20\n",
      "200/200 [==============================] - 50s 250ms/step - loss: 0.9475 - accuracy: 0.6209 - val_loss: 1.0014 - val_accuracy: 0.5588\n",
      "Epoch 3/20\n",
      "200/200 [==============================] - 50s 251ms/step - loss: 0.6700 - accuracy: 0.7546 - val_loss: 0.7682 - val_accuracy: 0.6176\n",
      "Epoch 4/20\n",
      "200/200 [==============================] - 50s 251ms/step - loss: 0.6416 - accuracy: 0.7543 - val_loss: 0.7650 - val_accuracy: 0.7647\n",
      "Epoch 5/20\n",
      "200/200 [==============================] - 49s 247ms/step - loss: 0.5170 - accuracy: 0.7993 - val_loss: 0.6845 - val_accuracy: 0.7941\n",
      "Epoch 6/20\n",
      "200/200 [==============================] - 41s 205ms/step - loss: 0.4968 - accuracy: 0.8175 - val_loss: 0.5047 - val_accuracy: 0.8529\n",
      "Epoch 7/20\n",
      "200/200 [==============================] - 44s 220ms/step - loss: 0.3459 - accuracy: 0.8813 - val_loss: 0.4133 - val_accuracy: 0.9118\n",
      "Epoch 8/20\n",
      "200/200 [==============================] - 41s 204ms/step - loss: 0.3362 - accuracy: 0.8879 - val_loss: 0.3615 - val_accuracy: 0.9118\n",
      "Epoch 9/20\n",
      "200/200 [==============================] - 40s 199ms/step - loss: 0.2522 - accuracy: 0.9184 - val_loss: 0.3362 - val_accuracy: 0.9118\n",
      "Epoch 10/20\n",
      "200/200 [==============================] - 40s 201ms/step - loss: 0.2574 - accuracy: 0.9228 - val_loss: 0.3104 - val_accuracy: 0.9118\n",
      "Epoch 11/20\n",
      "200/200 [==============================] - 40s 199ms/step - loss: 0.1656 - accuracy: 0.9499 - val_loss: 0.4189 - val_accuracy: 0.8529\n",
      "Epoch 12/20\n",
      "200/200 [==============================] - 43s 217ms/step - loss: 0.2104 - accuracy: 0.9347 - val_loss: 0.4402 - val_accuracy: 0.8235\n",
      "Epoch 13/20\n",
      "200/200 [==============================] - 40s 201ms/step - loss: 0.1673 - accuracy: 0.9492 - val_loss: 0.3098 - val_accuracy: 0.8824\n",
      "Epoch 14/20\n",
      "200/200 [==============================] - 42s 209ms/step - loss: 0.1705 - accuracy: 0.9486 - val_loss: 0.2974 - val_accuracy: 0.8824\n",
      "Epoch 15/20\n",
      "200/200 [==============================] - 41s 206ms/step - loss: 0.1066 - accuracy: 0.9692 - val_loss: 0.2614 - val_accuracy: 0.9412\n",
      "Epoch 16/20\n",
      "200/200 [==============================] - 45s 226ms/step - loss: 0.1334 - accuracy: 0.9602 - val_loss: 0.2889 - val_accuracy: 0.9118\n",
      "Epoch 17/20\n",
      "200/200 [==============================] - 42s 209ms/step - loss: 0.0891 - accuracy: 0.9723 - val_loss: 0.2735 - val_accuracy: 0.9412\n",
      "Epoch 18/20\n",
      "200/200 [==============================] - 41s 206ms/step - loss: 0.1008 - accuracy: 0.9712 - val_loss: 0.3245 - val_accuracy: 0.9118\n",
      "Epoch 19/20\n",
      "200/200 [==============================] - 40s 202ms/step - loss: 0.0702 - accuracy: 0.9793 - val_loss: 0.3380 - val_accuracy: 0.9118\n",
      "Epoch 20/20\n",
      "200/200 [==============================] - 37s 185ms/step - loss: 0.1523 - accuracy: 0.9484 - val_loss: 0.3262 - val_accuracy: 0.9412\n"
     ]
    }
   ],
   "source": [
    "history = lstm_model.fit(\n",
    "    tensor_train_set_lstm,\n",
    "    epochs=epochs_lstm,\n",
    "    validation_data=tensor_val_set_lstm,\n",
    "    steps_per_epoch=200,\n",
    "    validation_steps=int((len(val_set) - 1) / batch_size + 1))"
   ]
  },
  {
   "cell_type": "code",
   "execution_count": 24,
   "metadata": {
    "ExecuteTime": {
     "end_time": "2020-07-07T23:59:03.312069Z",
     "start_time": "2020-07-07T23:59:02.637847Z"
    },
    "tags": []
   },
   "outputs": [
    {
     "name": "stdout",
     "output_type": "stream",
     "text": [
      "1/1 [==============================] - 0s 841us/step - loss: 0.0479 - accuracy: 1.0000\n"
     ]
    }
   ],
   "source": [
    "loss_lstm, acc_lstm = lstm_model.evaluate(tensor_test_set_lstm)\n",
    "pred_lstm = np.argmax(lstm_model.predict(tensor_test_set_lstm), axis=1)\n",
    "confusion_lstm = tf.math.confusion_matrix(\n",
    "    labels=tf.constant(test_set['gesture'].to_numpy()),\n",
    "    predictions=tf.constant(pred_lstm),\n",
    "    num_classes=4)"
   ]
  },
  {
   "cell_type": "code",
   "execution_count": 25,
   "metadata": {
    "ExecuteTime": {
     "end_time": "2020-07-07T23:59:03.322360Z",
     "start_time": "2020-07-07T23:59:03.316974Z"
    },
    "tags": []
   },
   "outputs": [
    {
     "name": "stdout",
     "output_type": "stream",
     "text": [
      "tf.Tensor(\n",
      "[[14  0  0  0]\n",
      " [ 0 10  0  0]\n",
      " [ 0  0 14  0]\n",
      " [ 0  0  0  8]], shape=(4, 4), dtype=int32)\n",
      "Loss 0.04790152609348297, Accuracy 1.0\n"
     ]
    }
   ],
   "source": [
    "print(confusion_lstm)\n",
    "print(\"Loss {}, Accuracy {}\".format(loss_lstm, acc_lstm))"
   ]
  },
  {
   "cell_type": "code",
   "execution_count": 26,
   "metadata": {
    "ExecuteTime": {
     "end_time": "2020-07-07T23:59:03.656383Z",
     "start_time": "2020-07-07T23:59:03.328293Z"
    }
   },
   "outputs": [
    {
     "data": {
      "text/plain": [
       "<matplotlib.legend.Legend at 0x7f3b6d3d7d90>"
      ]
     },
     "execution_count": 26,
     "metadata": {},
     "output_type": "execute_result"
    },
    {
     "data": {
      "image/png": "[encoded data removed]",
      "text/plain": [
       "<Figure size 432x288 with 1 Axes>"
      ]
     },
     "metadata": {},
     "output_type": "display_data"
    }
   ],
   "source": [
    "plt.plot(history.history['accuracy'])\n",
    "plt.plot(history.history['val_accuracy'])\n",
    "plt.xlabel('Epochs')\n",
    "plt.ylabel('Acc')\n",
    "plt.legend(['Training','Validation'],loc='upper right')"
   ]
  },
  {
   "cell_type": "code",
   "execution_count": 27,
   "metadata": {
    "ExecuteTime": {
     "end_time": "2020-07-07T23:59:03.952694Z",
     "start_time": "2020-07-07T23:59:03.657872Z"
    }
   },
   "outputs": [
    {
     "data": {
      "text/plain": [
       "<matplotlib.legend.Legend at 0x7f3b6d355b50>"
      ]
     },
     "execution_count": 27,
     "metadata": {},
     "output_type": "execute_result"
    },
    {
     "data": {
      "image/png": "[encoded data removed]",
      "text/plain": [
       "<Figure size 432x288 with 1 Axes>"
      ]
     },
     "metadata": {},
     "output_type": "display_data"
    }
   ],
   "source": [
    "plt.plot(history.history['loss'])\n",
    "plt.plot(history.history['val_loss'])\n",
    "plt.xlabel('Epochs')\n",
    "plt.ylabel('Loss')\n",
    "plt.legend(['Training','Validation'],loc='upper right')"
   ]
  },
  {
   "cell_type": "code",
   "execution_count": 28,
   "metadata": {
    "ExecuteTime": {
     "start_time": "2020-07-07T22:58:22.981Z"
    },
    "tags": []
   },
   "outputs": [
    {
     "data": {
      "text/plain": [
       "121340"
      ]
     },
     "execution_count": 28,
     "metadata": {},
     "output_type": "execute_result"
    }
   ],
   "source": [
    "converter = tf.lite.TFLiteConverter.from_keras_model(lstm_model)\n",
    "lstm_tflite_model = converter.convert()\n",
    "\n",
    "open(\"lstm_model.tflite\", \"wb\").write(lstm_tflite_model)"
   ]
  },
  {
   "cell_type": "code",
   "execution_count": 31,
   "metadata": {},
   "outputs": [],
   "source": [
    "lstm_model.save('lstm_model.h5') "
   ]
  },
  {
   "cell_type": "code",
   "execution_count": null,
   "metadata": {
    "ExecuteTime": {
     "end_time": "2020-07-05T02:15:22.785851Z",
     "start_time": "2020-07-05T02:15:17.931532Z"
    },
    "tags": []
   },
   "outputs": [],
   "source": [
    "converter = tf.lite.TFLiteConverter.from_keras_model(lstm_model)\n",
    "converter.experimental_new_converter = True\n",
    "converter.optimizations = [tf.lite.Optimize.OPTIMIZE_FOR_SIZE]\n",
    "converter.target_spec.supported_types = [tf.float16]\n",
    "lstm_opt_tflite_model = converter.convert()\n",
    "# Save the model to disk\n",
    "open(\"lstm_model_quantized.tflite\", \"wb\").write(lstm_opt_tflite_model)"
   ]
  },
  {
   "cell_type": "code",
   "execution_count": 18,
   "metadata": {
    "ExecuteTime": {
     "end_time": "2020-07-27T14:45:34.979084Z",
     "start_time": "2020-07-27T14:45:34.961528Z"
    },
    "tags": []
   },
   "outputs": [
    {
     "name": "stdout",
     "output_type": "stream",
     "text": [
      "Basic model is 121340 bytes\n"
     ]
    }
   ],
   "source": [
    "basic_model_size = os.path.getsize(\"../Model/lstm_model.tflite\")\n",
    "print(\"Basic model is %d bytes\" % basic_model_size)\n",
    "#quantized_model_size = os.path.getsize(\"lstm_model_quantized.tflite\")\n",
    "#print(\"Quantized model is %d bytes\" % quantized_model_size)\n",
    "#difference = basic_model_size - quantized_model_size\n",
    "#print(\"Difference is %d bytes\" % difference)"
   ]
  },
  {
   "cell_type": "code",
   "execution_count": null,
   "metadata": {},
   "outputs": [],
   "source": []
  },
  {
   "cell_type": "code",
   "execution_count": null,
   "metadata": {},
   "outputs": [],
   "source": []
  },
  {
   "cell_type": "code",
   "execution_count": 9,
   "metadata": {
    "ExecuteTime": {
     "end_time": "2020-07-27T14:19:58.608516Z",
     "start_time": "2020-07-27T14:19:58.605099Z"
    }
   },
   "outputs": [],
   "source": [
    "def reshape_function(data, label):\n",
    "    reshaped_data = tf.reshape(data, [-1, 3, 1])\n",
    "    return reshaped_data, label"
   ]
  },
  {
   "cell_type": "code",
   "execution_count": null,
   "metadata": {
    "ExecuteTime": {
     "start_time": "2020-07-07T21:10:47.639Z"
    }
   },
   "outputs": [],
   "source": [
    "train_set = pd.read_csv('processed_train_set.csv',converters={'acceleration': eval})\n",
    "test_set = pd.read_csv('processed_test_set.csv',converters={'acceleration': eval})\n",
    "val_set = pd.read_csv('processed_val_set.csv',converters={'acceleration': eval})\n",
    "\n",
    "tensor_train_set = tf.data.Dataset.from_tensor_slices(\n",
    "    (np.array(train_set['acceleration'].tolist(),dtype=np.float64),\n",
    "     train_set['gesture'].tolist()))\n",
    "\n",
    "tensor_test_set = tf.data.Dataset.from_tensor_slices(\n",
    "    (np.array(test_set['acceleration'].tolist(),dtype=np.float64),\n",
    "     test_set['gesture'].tolist()))\n",
    "\n",
    "tensor_val_set = tf.data.Dataset.from_tensor_slices(\n",
    "    (np.array(val_set['acceleration'].tolist(),dtype=np.float64),\n",
    "     val_set['gesture'].tolist()))"
   ]
  },
  {
   "cell_type": "code",
   "execution_count": 10,
   "metadata": {
    "ExecuteTime": {
     "end_time": "2020-07-27T14:20:01.786390Z",
     "start_time": "2020-07-27T14:20:01.620037Z"
    }
   },
   "outputs": [],
   "source": [
    "tensor_train_set_cnn = tensor_train_set.map(reshape_function)\n",
    "tensor_test_set_cnn = tensor_test_set.map(reshape_function)\n",
    "tensor_val_set_cnn = tensor_val_set.map(reshape_function)"
   ]
  },
  {
   "cell_type": "code",
   "execution_count": 11,
   "metadata": {
    "ExecuteTime": {
     "end_time": "2020-07-27T14:20:02.613593Z",
     "start_time": "2020-07-27T14:20:02.606122Z"
    }
   },
   "outputs": [],
   "source": [
    "tensor_train_set_cnn = tensor_train_set_cnn.batch(batch_size).repeat()\n",
    "tensor_test_set_cnn = tensor_test_set_cnn.batch(batch_size)\n",
    "tensor_val_set_cnn = tensor_val_set_cnn.batch(batch_size)"
   ]
  },
  {
   "cell_type": "code",
   "execution_count": 19,
   "metadata": {
    "ExecuteTime": {
     "end_time": "2020-07-27T14:49:59.805974Z",
     "start_time": "2020-07-27T14:46:34.966432Z"
    },
    "tags": []
   },
   "outputs": [
    {
     "name": "stdout",
     "output_type": "stream",
     "text": [
      "Epoch 1/20\n",
      "300/300 [==============================] - 10s 33ms/step - loss: 0.7721 - accuracy: 0.7594 - val_loss: 0.3392 - val_accuracy: 0.9118\n",
      "Epoch 2/20\n",
      "300/300 [==============================] - 10s 33ms/step - loss: 0.3129 - accuracy: 0.8943 - val_loss: 0.1897 - val_accuracy: 0.9412\n",
      "Epoch 3/20\n",
      "300/300 [==============================] - 10s 33ms/step - loss: 0.1923 - accuracy: 0.9358 - val_loss: 0.3340 - val_accuracy: 0.8824\n",
      "Epoch 4/20\n",
      "300/300 [==============================] - 10s 34ms/step - loss: 0.1640 - accuracy: 0.9454 - val_loss: 0.3249 - val_accuracy: 0.8824\n",
      "Epoch 5/20\n",
      "300/300 [==============================] - 10s 33ms/step - loss: 0.1149 - accuracy: 0.9611 - val_loss: 0.2652 - val_accuracy: 0.9412\n",
      "Epoch 6/20\n",
      "300/300 [==============================] - 10s 34ms/step - loss: 0.0996 - accuracy: 0.9690 - val_loss: 0.2831 - val_accuracy: 0.9412\n",
      "Epoch 7/20\n",
      "300/300 [==============================] - 10s 33ms/step - loss: 0.0940 - accuracy: 0.9696 - val_loss: 0.3103 - val_accuracy: 0.9118\n",
      "Epoch 8/20\n",
      "300/300 [==============================] - 10s 33ms/step - loss: 0.0867 - accuracy: 0.9713 - val_loss: 0.2537 - val_accuracy: 0.9412\n",
      "Epoch 9/20\n",
      "300/300 [==============================] - 10s 34ms/step - loss: 0.0704 - accuracy: 0.9760 - val_loss: 0.2505 - val_accuracy: 0.9412\n",
      "Epoch 10/20\n",
      "300/300 [==============================] - 10s 34ms/step - loss: 0.0534 - accuracy: 0.9821 - val_loss: 0.2702 - val_accuracy: 0.9412\n",
      "Epoch 11/20\n",
      "300/300 [==============================] - 10s 34ms/step - loss: 0.0557 - accuracy: 0.9804 - val_loss: 0.2355 - val_accuracy: 0.9706\n",
      "Epoch 12/20\n",
      "300/300 [==============================] - 10s 33ms/step - loss: 0.0438 - accuracy: 0.9840 - val_loss: 0.3346 - val_accuracy: 0.9412\n",
      "Epoch 13/20\n",
      "300/300 [==============================] - 10s 35ms/step - loss: 0.0432 - accuracy: 0.9851 - val_loss: 0.3017 - val_accuracy: 0.9412\n",
      "Epoch 14/20\n",
      "300/300 [==============================] - 10s 33ms/step - loss: 0.0262 - accuracy: 0.9903 - val_loss: 0.3037 - val_accuracy: 0.9412\n",
      "Epoch 15/20\n",
      "300/300 [==============================] - 10s 34ms/step - loss: 0.0333 - accuracy: 0.9892 - val_loss: 0.2130 - val_accuracy: 0.9412\n",
      "Epoch 16/20\n",
      "300/300 [==============================] - 10s 34ms/step - loss: 0.0403 - accuracy: 0.9864 - val_loss: 0.3657 - val_accuracy: 0.9412\n",
      "Epoch 17/20\n",
      "300/300 [==============================] - 10s 34ms/step - loss: 0.0287 - accuracy: 0.9898 - val_loss: 0.3958 - val_accuracy: 0.9412\n",
      "Epoch 18/20\n",
      "300/300 [==============================] - 10s 35ms/step - loss: 0.0287 - accuracy: 0.9905 - val_loss: 0.3251 - val_accuracy: 0.9412\n",
      "Epoch 19/20\n",
      "300/300 [==============================] - 10s 35ms/step - loss: 0.0359 - accuracy: 0.9880 - val_loss: 0.4742 - val_accuracy: 0.9412\n",
      "Epoch 20/20\n",
      "300/300 [==============================] - 10s 34ms/step - loss: 0.0449 - accuracy: 0.9858 - val_loss: 0.3140 - val_accuracy: 0.9412\n"
     ]
    }
   ],
   "source": [
    "history=cnn_model.fit(\n",
    "    tensor_train_set_cnn,\n",
    "    epochs=epochs_cnn,\n",
    "    validation_data=tensor_val_set_cnn,\n",
    "    steps_per_epoch=300,\n",
    "    validation_steps=int((len(val_set) - 1) / batch_size + 1))"
   ]
  },
  {
   "cell_type": "code",
   "execution_count": 26,
   "metadata": {
    "ExecuteTime": {
     "end_time": "2020-07-27T15:03:18.853082Z",
     "start_time": "2020-07-27T14:59:53.021076Z"
    },
    "tags": []
   },
   "outputs": [
    {
     "name": "stdout",
     "output_type": "stream",
     "text": [
      "Epoch 1/20\n",
      "300/300 [==============================] - 10s 33ms/step - loss: 0.9488 - accuracy: 0.6922 - val_loss: 0.5771 - val_accuracy: 0.8125\n",
      "Epoch 2/20\n",
      "300/300 [==============================] - 10s 33ms/step - loss: 0.4955 - accuracy: 0.8208 - val_loss: 0.2279 - val_accuracy: 0.9062\n",
      "Epoch 3/20\n",
      "300/300 [==============================] - 10s 33ms/step - loss: 0.2614 - accuracy: 0.9044 - val_loss: 0.2009 - val_accuracy: 0.8750\n",
      "Epoch 4/20\n",
      "300/300 [==============================] - 10s 34ms/step - loss: 0.2109 - accuracy: 0.9215 - val_loss: 0.1012 - val_accuracy: 0.9688\n",
      "Epoch 5/20\n",
      "300/300 [==============================] - 10s 33ms/step - loss: 0.1276 - accuracy: 0.9553 - val_loss: 0.0719 - val_accuracy: 0.9688\n",
      "Epoch 6/20\n",
      "300/300 [==============================] - 10s 32ms/step - loss: 0.1157 - accuracy: 0.9600 - val_loss: 0.1028 - val_accuracy: 0.9688\n",
      "Epoch 7/20\n",
      "300/300 [==============================] - 10s 32ms/step - loss: 0.1034 - accuracy: 0.9640 - val_loss: 0.1854 - val_accuracy: 0.8750\n",
      "Epoch 8/20\n",
      "300/300 [==============================] - 10s 32ms/step - loss: 0.0763 - accuracy: 0.9721 - val_loss: 0.0863 - val_accuracy: 0.9688\n",
      "Epoch 9/20\n",
      "300/300 [==============================] - 10s 33ms/step - loss: 0.0627 - accuracy: 0.9773 - val_loss: 0.0273 - val_accuracy: 0.9688\n",
      "Epoch 10/20\n",
      "300/300 [==============================] - 10s 33ms/step - loss: 0.0642 - accuracy: 0.9776 - val_loss: 0.1568 - val_accuracy: 0.9688\n",
      "Epoch 11/20\n",
      "300/300 [==============================] - 10s 32ms/step - loss: 0.0639 - accuracy: 0.9772 - val_loss: 0.0346 - val_accuracy: 0.9688\n",
      "Epoch 12/20\n",
      "300/300 [==============================] - 11s 35ms/step - loss: 0.0426 - accuracy: 0.9848 - val_loss: 0.1323 - val_accuracy: 0.9688\n",
      "Epoch 13/20\n",
      "300/300 [==============================] - 10s 34ms/step - loss: 0.0430 - accuracy: 0.9857 - val_loss: 0.0592 - val_accuracy: 0.9688\n",
      "Epoch 14/20\n",
      "300/300 [==============================] - 11s 36ms/step - loss: 0.0403 - accuracy: 0.9869 - val_loss: 0.0746 - val_accuracy: 0.9688\n",
      "Epoch 15/20\n",
      "300/300 [==============================] - 10s 35ms/step - loss: 0.0418 - accuracy: 0.9840 - val_loss: 0.1322 - val_accuracy: 0.9688\n",
      "Epoch 16/20\n",
      "300/300 [==============================] - 10s 34ms/step - loss: 0.0263 - accuracy: 0.9909 - val_loss: 0.1274 - val_accuracy: 0.9688\n",
      "Epoch 17/20\n",
      "300/300 [==============================] - 11s 36ms/step - loss: 0.0320 - accuracy: 0.9886 - val_loss: 0.0993 - val_accuracy: 0.9688\n",
      "Epoch 18/20\n",
      "300/300 [==============================] - 11s 35ms/step - loss: 0.0254 - accuracy: 0.9919 - val_loss: 0.0241 - val_accuracy: 1.0000\n",
      "Epoch 19/20\n",
      "300/300 [==============================] - 11s 37ms/step - loss: 0.0248 - accuracy: 0.9915 - val_loss: 0.1750 - val_accuracy: 0.9688\n",
      "Epoch 20/20\n",
      "300/300 [==============================] - 11s 36ms/step - loss: 0.0377 - accuracy: 0.9873 - val_loss: 0.0825 - val_accuracy: 0.9688\n"
     ]
    }
   ],
   "source": [
    "history2=cnn_model2.fit(\n",
    "    tensor_train_set_cnn,\n",
    "    epochs=epochs_cnn,\n",
    "    validation_data=tensor_val_set_cnn,\n",
    "    steps_per_epoch=300,\n",
    "    validation_steps=int((len(val_set) - 1) / batch_size2 + 1))"
   ]
  },
  {
   "cell_type": "code",
   "execution_count": 27,
   "metadata": {
    "ExecuteTime": {
     "end_time": "2020-07-27T15:03:19.172237Z",
     "start_time": "2020-07-27T15:03:18.863531Z"
    },
    "tags": []
   },
   "outputs": [
    {
     "name": "stdout",
     "output_type": "stream",
     "text": [
      "1/1 [==============================] - 0s 1ms/step - loss: 0.0140 - accuracy: 1.0000\n",
      "1/1 [==============================] - 0s 2ms/step - loss: 0.2153 - accuracy: 0.9565\n"
     ]
    }
   ],
   "source": [
    "loss_cnn, acc_cnn = cnn_model.evaluate(tensor_test_set_cnn)\n",
    "pred_cnn = np.argmax(cnn_model.predict(tensor_test_set_cnn), axis=1)\n",
    "confusion_cnn = tf.math.confusion_matrix(\n",
    "    labels=tf.constant(test_set['gesture'].to_numpy()),\n",
    "    predictions=tf.constant(pred_cnn),\n",
    "    num_classes=4)\n",
    "\n",
    "loss_cnn2, acc_cnn2 = cnn_model2.evaluate(tensor_test_set_cnn)\n",
    "pred_cnn2 = np.argmax(cnn_model2.predict(tensor_test_set_cnn), axis=1)\n",
    "confusion_cnn2 = tf.math.confusion_matrix(\n",
    "    labels=tf.constant(test_set['gesture'].to_numpy()),\n",
    "    predictions=tf.constant(pred_cnn2),\n",
    "    num_classes=4)"
   ]
  },
  {
   "cell_type": "code",
   "execution_count": 28,
   "metadata": {
    "ExecuteTime": {
     "end_time": "2020-07-27T15:03:19.198798Z",
     "start_time": "2020-07-27T15:03:19.175473Z"
    },
    "tags": []
   },
   "outputs": [
    {
     "name": "stdout",
     "output_type": "stream",
     "text": [
      "tf.Tensor(\n",
      "[[14  0  0  0]\n",
      " [ 0 10  0  0]\n",
      " [ 0  0 14  0]\n",
      " [ 0  0  0  8]], shape=(4, 4), dtype=int32)\n",
      "Loss 0.013968262821435928, Accuracy 1.0\n",
      "tf.Tensor(\n",
      "[[14  0  0  0]\n",
      " [ 0 10  0  0]\n",
      " [ 0  0 14  0]\n",
      " [ 2  0  0  6]], shape=(4, 4), dtype=int32)\n",
      "Loss 0.21532900631427765, Accuracy 0.95652174949646\n"
     ]
    }
   ],
   "source": [
    "print(confusion_cnn)\n",
    "print(\"Loss {}, Accuracy {}\".format(loss_cnn, acc_cnn))\n",
    "print(confusion_cnn2)\n",
    "print(\"Loss {}, Accuracy {}\".format(loss_cnn2, acc_cnn2))"
   ]
  },
  {
   "cell_type": "code",
   "execution_count": null,
   "metadata": {
    "ExecuteTime": {
     "end_time": "2020-07-07T16:48:40.511257Z",
     "start_time": "2020-07-07T16:48:40.503305Z"
    }
   },
   "outputs": [],
   "source": []
  },
  {
   "cell_type": "code",
   "execution_count": 29,
   "metadata": {
    "ExecuteTime": {
     "end_time": "2020-07-27T15:19:30.256695Z",
     "start_time": "2020-07-27T15:19:29.939746Z"
    }
   },
   "outputs": [
    {
     "data": {
      "text/plain": [
       "<matplotlib.legend.Legend at 0x7fefb411f850>"
      ]
     },
     "execution_count": 29,
     "metadata": {},
     "output_type": "execute_result"
    },
    {
     "data": {
      "image/png": "[encoded data removed]",
      "text/plain": [
       "<Figure size 432x288 with 1 Axes>"
      ]
     },
     "metadata": {},
     "output_type": "display_data"
    }
   ],
   "source": [
    "plt.plot(history.history['accuracy'])\n",
    "plt.plot(history.history['val_accuracy'])\n",
    "\n",
    "\n",
    "plt.plot(history2.history['accuracy'])\n",
    "plt.plot(history2.history['val_accuracy'])\n",
    "\n",
    "plt.xlabel('Epochs')\n",
    "plt.ylabel('Acc')\n",
    "plt.legend(['Training','Validation','Training 2', 'Validation 2'],loc='lower right')\n"
   ]
  },
  {
   "cell_type": "code",
   "execution_count": 30,
   "metadata": {
    "ExecuteTime": {
     "end_time": "2020-07-27T15:19:33.589026Z",
     "start_time": "2020-07-27T15:19:33.297185Z"
    }
   },
   "outputs": [
    {
     "data": {
      "text/plain": [
       "<matplotlib.legend.Legend at 0x7fefb4063e90>"
      ]
     },
     "execution_count": 30,
     "metadata": {},
     "output_type": "execute_result"
    },
    {
     "data": {
      "image/png": "[encoded data removed]",
      "text/plain": [
       "<Figure size 432x288 with 1 Axes>"
      ]
     },
     "metadata": {},
     "output_type": "display_data"
    }
   ],
   "source": [
    "plt.plot(history.history['loss'])\n",
    "plt.plot(history.history['val_loss'])\n",
    "\n",
    "\n",
    "plt.plot(history2.history['loss'])\n",
    "plt.plot(history2.history['val_loss'])\n",
    "\n",
    "plt.xlabel('Epochs')\n",
    "plt.ylabel('Loss')\n",
    "plt.legend(['Training','Validation','Training 2', 'Validation 2'],loc='upper right')\n",
    "\n"
   ]
  },
  {
   "cell_type": "markdown",
   "metadata": {},
   "source": [
    "Overfitting if: training loss << validation loss\n",
    "\n",
    "Underfitting if: training loss >> validation loss"
   ]
  },
  {
   "cell_type": "code",
   "execution_count": 36,
   "metadata": {
    "ExecuteTime": {
     "end_time": "2020-07-27T15:23:45.655984Z",
     "start_time": "2020-07-27T15:23:45.559730Z"
    }
   },
   "outputs": [],
   "source": [
    "cnn_model3.save('cnn_model3.h5') "
   ]
  },
  {
   "cell_type": "code",
   "execution_count": 38,
   "metadata": {
    "ExecuteTime": {
     "end_time": "2020-07-27T15:24:20.088589Z",
     "start_time": "2020-07-27T15:24:13.509032Z"
    }
   },
   "outputs": [
    {
     "data": {
      "text/plain": [
       "27196"
      ]
     },
     "execution_count": 38,
     "metadata": {},
     "output_type": "execute_result"
    }
   ],
   "source": [
    "converter = tf.lite.TFLiteConverter.from_keras_model(cnn_model3)\n",
    "cnn_tflite_model = converter.convert()\n",
    "\n",
    "open(\"../Model/cnn_model3.tflite\", \"wb\").write(cnn_tflite_model)"
   ]
  },
  {
   "cell_type": "code",
   "execution_count": 39,
   "metadata": {
    "ExecuteTime": {
     "end_time": "2020-07-27T15:24:24.902564Z",
     "start_time": "2020-07-27T15:24:20.095909Z"
    }
   },
   "outputs": [
    {
     "data": {
      "text/plain": [
       "11312"
      ]
     },
     "execution_count": 39,
     "metadata": {},
     "output_type": "execute_result"
    }
   ],
   "source": [
    "converter = tf.lite.TFLiteConverter.from_keras_model(cnn_model3)\n",
    "converter.optimizations = [tf.lite.Optimize.OPTIMIZE_FOR_SIZE]\n",
    "cnn_opt_tflite_model = converter.convert()\n",
    "# Save the model to disk\n",
    "open(\"../Model/cnn_model_quantized3.tflite\", \"wb\").write(cnn_opt_tflite_model)"
   ]
  },
  {
   "cell_type": "code",
   "execution_count": 40,
   "metadata": {
    "ExecuteTime": {
     "end_time": "2020-07-27T15:24:27.253081Z",
     "start_time": "2020-07-27T15:24:27.247125Z"
    },
    "tags": []
   },
   "outputs": [
    {
     "name": "stdout",
     "output_type": "stream",
     "text": [
      "Basic model is 27196 bytes\n",
      "Quantized model is 11312 bytes\n",
      "Difference is 15884 bytes\n"
     ]
    }
   ],
   "source": [
    "basic_model_size = os.path.getsize(\"../Model/cnn_model3.tflite\")\n",
    "print(\"Basic model is %d bytes\" % basic_model_size)\n",
    "quantized_model_size = os.path.getsize(\"../Model/cnn_model_quantized3.tflite\")\n",
    "print(\"Quantized model is %d bytes\" % quantized_model_size)\n",
    "difference = basic_model_size - quantized_model_size\n",
    "print(\"Difference is %d bytes\" % difference)"
   ]
  },
  {
   "cell_type": "code",
   "execution_count": null,
   "metadata": {
    "ExecuteTime": {
     "end_time": "2020-07-05T01:27:51.433418Z",
     "start_time": "2020-07-05T01:27:49.772098Z"
    },
    "tags": []
   },
   "outputs": [],
   "source": [
    "# Install xxd if it is not available\n",
    "#!apt-get -qq install xxd\n",
    "# Save the file as a C source file\n",
    "#!xxd -i cnn_model_quantized.tflite > cnn_opt_model.cc\n",
    "# Print the source file\n",
    "#!cat /cnn_opt_model.cc"
   ]
  },
  {
   "cell_type": "code",
   "execution_count": 12,
   "metadata": {
    "ExecuteTime": {
     "end_time": "2020-07-27T14:23:47.195657Z",
     "start_time": "2020-07-27T14:20:49.296962Z"
    },
    "tags": []
   },
   "outputs": [
    {
     "name": "stdout",
     "output_type": "stream",
     "text": [
      "Epoch 1/20\n",
      "300/300 [==============================] - 9s 30ms/step - loss: 1.0525 - accuracy: 0.6501 - val_loss: 0.4469 - val_accuracy: 0.9531\n",
      "Epoch 2/20\n",
      "300/300 [==============================] - 9s 29ms/step - loss: 0.4852 - accuracy: 0.8396 - val_loss: 0.1570 - val_accuracy: 0.9688\n",
      "Epoch 3/20\n",
      "300/300 [==============================] - 9s 29ms/step - loss: 0.2820 - accuracy: 0.9014 - val_loss: 0.1943 - val_accuracy: 0.9375\n",
      "Epoch 4/20\n",
      "300/300 [==============================] - 9s 29ms/step - loss: 0.2315 - accuracy: 0.9130 - val_loss: 0.1676 - val_accuracy: 0.9375\n",
      "Epoch 5/20\n",
      "300/300 [==============================] - 9s 29ms/step - loss: 0.1588 - accuracy: 0.9435 - val_loss: 0.1557 - val_accuracy: 0.9688\n",
      "Epoch 6/20\n",
      "300/300 [==============================] - 9s 29ms/step - loss: 0.1400 - accuracy: 0.9525 - val_loss: 0.0484 - val_accuracy: 0.9688\n",
      "Epoch 7/20\n",
      "300/300 [==============================] - 9s 30ms/step - loss: 0.1408 - accuracy: 0.9532 - val_loss: 0.1127 - val_accuracy: 0.9688\n",
      "Epoch 8/20\n",
      "300/300 [==============================] - 9s 29ms/step - loss: 0.1055 - accuracy: 0.9660 - val_loss: 0.1278 - val_accuracy: 0.9688\n",
      "Epoch 9/20\n",
      "300/300 [==============================] - 9s 29ms/step - loss: 0.0893 - accuracy: 0.9692 - val_loss: 0.0562 - val_accuracy: 0.9688\n",
      "Epoch 10/20\n",
      "300/300 [==============================] - 9s 30ms/step - loss: 0.0768 - accuracy: 0.9757 - val_loss: 0.0209 - val_accuracy: 1.0000\n",
      "Epoch 11/20\n",
      "300/300 [==============================] - 9s 29ms/step - loss: 0.0877 - accuracy: 0.9702 - val_loss: 0.0070 - val_accuracy: 1.0000\n",
      "Epoch 12/20\n",
      "300/300 [==============================] - 9s 29ms/step - loss: 0.0581 - accuracy: 0.9812 - val_loss: 0.0381 - val_accuracy: 0.9688\n",
      "Epoch 13/20\n",
      "300/300 [==============================] - 9s 30ms/step - loss: 0.0643 - accuracy: 0.9781 - val_loss: 0.0044 - val_accuracy: 1.0000\n",
      "Epoch 14/20\n",
      "300/300 [==============================] - 9s 29ms/step - loss: 0.0590 - accuracy: 0.9809 - val_loss: 0.0032 - val_accuracy: 1.0000\n",
      "Epoch 15/20\n",
      "300/300 [==============================] - 9s 29ms/step - loss: 0.0579 - accuracy: 0.9805 - val_loss: 0.0062 - val_accuracy: 1.0000\n",
      "Epoch 16/20\n",
      "300/300 [==============================] - 9s 29ms/step - loss: 0.0610 - accuracy: 0.9812 - val_loss: 0.0217 - val_accuracy: 1.0000\n",
      "Epoch 17/20\n",
      "300/300 [==============================] - 9s 29ms/step - loss: 0.0513 - accuracy: 0.9812 - val_loss: 0.0050 - val_accuracy: 1.0000\n",
      "Epoch 18/20\n",
      "300/300 [==============================] - 9s 29ms/step - loss: 0.0428 - accuracy: 0.9857 - val_loss: 0.1791 - val_accuracy: 0.9375\n",
      "Epoch 19/20\n",
      "300/300 [==============================] - 9s 29ms/step - loss: 0.0440 - accuracy: 0.9863 - val_loss: 0.0196 - val_accuracy: 1.0000\n",
      "Epoch 20/20\n",
      "300/300 [==============================] - 9s 29ms/step - loss: 0.0443 - accuracy: 0.9843 - val_loss: 0.0202 - val_accuracy: 1.0000\n"
     ]
    }
   ],
   "source": [
    "history3=cnn_model3.fit(\n",
    "    tensor_train_set_cnn,\n",
    "    epochs=epochs_cnn,\n",
    "    validation_data=tensor_val_set_cnn,\n",
    "    steps_per_epoch=300,\n",
    "    validation_steps=int((len(val_set) - 1) / batch_size2 + 1))"
   ]
  },
  {
   "cell_type": "code",
   "execution_count": 35,
   "metadata": {
    "ExecuteTime": {
     "end_time": "2020-07-27T15:21:07.016718Z",
     "start_time": "2020-07-27T15:21:06.947070Z"
    }
   },
   "outputs": [
    {
     "name": "stdout",
     "output_type": "stream",
     "text": [
      "1/1 [==============================] - 0s 1ms/step - loss: 0.0152 - accuracy: 1.0000\n",
      "tf.Tensor(\n",
      "[[14  0  0  0]\n",
      " [ 0 10  0  0]\n",
      " [ 0  0 14  0]\n",
      " [ 2  0  0  6]], shape=(4, 4), dtype=int32)\n",
      "Loss 0.21532900631427765, Accuracy 0.95652174949646\n",
      "tf.Tensor(\n",
      "[[14  0  0  0]\n",
      " [ 0 10  0  0]\n",
      " [ 0  0 14  0]\n",
      " [ 0  0  0  8]], shape=(4, 4), dtype=int32)\n",
      "Loss 0.015218148939311504, Accuracy 1.0\n"
     ]
    }
   ],
   "source": [
    "loss_cnn3, acc_cnn3 = cnn_model3.evaluate(tensor_test_set_cnn)\n",
    "pred_cnn3 = np.argmax(cnn_model3.predict(tensor_test_set_cnn), axis=1)\n",
    "confusion_cnn3 = tf.math.confusion_matrix(\n",
    "    labels=tf.constant(test_set['gesture'].to_numpy()),\n",
    "    predictions=tf.constant(pred_cnn3),\n",
    "    num_classes=4)\n",
    "\n",
    "print(confusion_cnn2)\n",
    "print(\"Loss {}, Accuracy {}\".format(loss_cnn2, acc_cnn2))\n",
    "\n",
    "print(confusion_cnn3)\n",
    "print(\"Loss {}, Accuracy {}\".format(loss_cnn3, acc_cnn3))"
   ]
  },
  {
   "cell_type": "code",
   "execution_count": 33,
   "metadata": {
    "ExecuteTime": {
     "end_time": "2020-07-27T15:20:28.562389Z",
     "start_time": "2020-07-27T15:20:28.288505Z"
    }
   },
   "outputs": [
    {
     "data": {
      "text/plain": [
       "<matplotlib.legend.Legend at 0x7fefa7ed2890>"
      ]
     },
     "execution_count": 33,
     "metadata": {},
     "output_type": "execute_result"
    },
    {
     "data": {
      "image/png": "[encoded data removed]",
      "text/plain": [
       "<Figure size 432x288 with 1 Axes>"
      ]
     },
     "metadata": {},
     "output_type": "display_data"
    }
   ],
   "source": [
    "plt.plot(history2.history['loss'])\n",
    "plt.plot(history2.history['val_loss'])\n",
    "\n",
    "plt.plot(history3.history['loss'])\n",
    "plt.plot(history3.history['val_loss'])\n",
    "\n",
    "plt.xlabel('Epochs')\n",
    "plt.ylabel('Loss')\n",
    "plt.legend(['Training2','Validation2','Training 3', 'Validation 3'],loc='upper right')"
   ]
  },
  {
   "cell_type": "code",
   "execution_count": 34,
   "metadata": {
    "ExecuteTime": {
     "end_time": "2020-07-27T15:20:29.611476Z",
     "start_time": "2020-07-27T15:20:29.330711Z"
    }
   },
   "outputs": [
    {
     "data": {
      "text/plain": [
       "<matplotlib.legend.Legend at 0x7fefa7e749d0>"
      ]
     },
     "execution_count": 34,
     "metadata": {},
     "output_type": "execute_result"
    },
    {
     "data": {
      "image/png": "[encoded data removed]",
      "text/plain": [
       "<Figure size 432x288 with 1 Axes>"
      ]
     },
     "metadata": {},
     "output_type": "display_data"
    }
   ],
   "source": [
    "plt.plot(history2.history['accuracy'])\n",
    "plt.plot(history2.history['val_accuracy'])\n",
    "\n",
    "plt.plot(history3.history['accuracy'])\n",
    "plt.plot(history3.history['val_accuracy'])\n",
    "\n",
    "plt.xlabel('Epochs')\n",
    "plt.ylabel('Acc')\n",
    "plt.legend(['Training2','Validation2','Training 3', 'Validation3 '],loc='lower right')"
   ]
  },
  {
   "cell_type": "code",
   "execution_count": 42,
   "metadata": {
    "ExecuteTime": {
     "end_time": "2020-07-27T15:37:30.049992Z",
     "start_time": "2020-07-27T15:37:29.453989Z"
    }
   },
   "outputs": [],
   "source": [
    "!xxd -i ../Model/cnn_model_quantized3.tflite > ../Model/cnn_opt_model3.cc"
   ]
  },
  {
   "cell_type": "code",
   "execution_count": 43,
   "metadata": {
    "ExecuteTime": {
     "end_time": "2020-07-27T15:37:58.901082Z",
     "start_time": "2020-07-27T15:37:58.301132Z"
    },
    "scrolled": false
   },
   "outputs": [
    {
     "name": "stdout",
     "output_type": "stream",
     "text": [
      "unsigned char ___Model_cnn_model_quantized3_tflite[] = {\r\n",
      "  0x20, 0x00, 0x00, 0x00, 0x54, 0x46, 0x4c, 0x33, 0x00, 0x00, 0x00, 0x00,\r\n",
      "  0x00, 0x00, 0x12, 0x00, 0x1c, 0x00, 0x04, 0x00, 0x08, 0x00, 0x0c, 0x00,\r\n",
      "  0x10, 0x00, 0x14, 0x00, 0x00, 0x00, 0x18, 0x00, 0x12, 0x00, 0x00, 0x00,\r\n",
      "  0x03, 0x00, 0x00, 0x00, 0xac, 0x2b, 0x00, 0x00, 0x40, 0x22, 0x00, 0x00,\r\n",
      "  0x28, 0x22, 0x00, 0x00, 0x3c, 0x00, 0x00, 0x00, 0x04, 0x00, 0x00, 0x00,\r\n",
      "  0x01, 0x00, 0x00, 0x00, 0x0c, 0x00, 0x00, 0x00, 0x08, 0x00, 0x0c, 0x00,\r\n",
      "  0x04, 0x00, 0x08, 0x00, 0x08, 0x00, 0x00, 0x00, 0x08, 0x00, 0x00, 0x00,\r\n",
      "  0x13, 0x00, 0x00, 0x00, 0x13, 0x00, 0x00, 0x00, 0x6d, 0x69, 0x6e, 0x5f,\r\n",
      "  0x72, 0x75, 0x6e, 0x74, 0x69, 0x6d, 0x65, 0x5f, 0x76, 0x65, 0x72, 0x73,\r\n",
      "  0x69, 0x6f, 0x6e, 0x00, 0x14, 0x00, 0x00, 0x00, 0xd8, 0x21, 0x00, 0x00,\r\n",
      "  0xc4, 0x21, 0x00, 0x00, 0x88, 0x21, 0x00, 0x00, 0x34, 0x21, 0x00, 0x00,\r\n",
      "  0xe0, 0x20, 0x00, 0x00, 0xbc, 0x20, 0x00, 0x00, 0x98, 0x20, 0x00, 0x00,\r\n",
      "  0x84, 0x0b, 0x00, 0x00, 0x70, 0x0a, 0x00, 0x00, 0xdc, 0x08, 0x00, 0x00,\r\n",
      "  0xc8, 0x00, 0x00, 0x00, 0xbc, 0x00, 0x00, 0x00, 0xa8, 0x00, 0x00, 0x00,\r\n",
      "  0x94, 0x00, 0x00, 0x00, 0x80, 0x00, 0x00, 0x00, 0x6c, 0x00, 0x00, 0x00,\r\n",
      "  0x58, 0x00, 0x00, 0x00, 0x44, 0x00, 0x00, 0x00, 0x30, 0x00, 0x00, 0x00,\r\n",
      "  0x04, 0x00, 0x00, 0x00, 0xde, 0xdd, 0xff, 0xff, 0x04, 0x00, 0x00, 0x00,\r\n",
      "  0x10, 0x00, 0x00, 0x00, 0x31, 0x2e, 0x35, 0x2e, 0x30, 0x00, 0x00, 0x00,\r\n",
      "  0x00, 0x00, 0x00, 0x00, 0x00, 0x00, 0x00, 0x00, 0x00, 0x00, 0x00, 0x00,\r\n",
      "  0x00, 0x00, 0x00, 0x00, 0x00, 0x00, 0x00, 0x00, 0x48, 0xd5, 0xff, 0xff,\r\n",
      "  0x00, 0x00, 0x00, 0x00, 0x00, 0x00, 0x00, 0x00, 0x00, 0x00, 0x00, 0x00,\r\n",
      "  0x58, 0xd5, 0xff, 0xff, 0x00, 0x00, 0x00, 0x00, 0x00, 0x00, 0x00, 0x00,\r\n",
      "  0x00, 0x00, 0x00, 0x00, 0x68, 0xd5, 0xff, 0xff, 0x00, 0x00, 0x00, 0x00,\r\n",
      "  0x00, 0x00, 0x00, 0x00, 0x00, 0x00, 0x00, 0x00, 0x78, 0xd5, 0xff, 0xff,\r\n",
      "  0x00, 0x00, 0x00, 0x00, 0x00, 0x00, 0x00, 0x00, 0x00, 0x00, 0x00, 0x00,\r\n",
      "  0x88, 0xd5, 0xff, 0xff, 0x00, 0x00, 0x00, 0x00, 0x00, 0x00, 0x00, 0x00,\r\n",
      "  0x00, 0x00, 0x00, 0x00, 0x98, 0xd5, 0xff, 0xff, 0x00, 0x00, 0x00, 0x00,\r\n",
      "  0x00, 0x00, 0x00, 0x00, 0x00, 0x00, 0x00, 0x00, 0xa8, 0xd5, 0xff, 0xff,\r\n",
      "  0x00, 0x00, 0x00, 0x00, 0x00, 0x00, 0x00, 0x00, 0x00, 0x00, 0x00, 0x00,\r\n",
      "  0xb8, 0xd5, 0xff, 0xff, 0x00, 0x00, 0x00, 0x00, 0x7e, 0xde, 0xff, 0xff,\r\n",
      "  0x04, 0x00, 0x00, 0x00, 0x00, 0x08, 0x00, 0x00, 0xcd, 0xf3, 0x76, 0xbe,\r\n",
      "  0x74, 0xe3, 0x72, 0x3e, 0xab, 0xea, 0x50, 0x3b, 0x36, 0x4a, 0x81, 0x3d,\r\n",
      "  0xe8, 0x1b, 0x7f, 0x3c, 0x02, 0xb2, 0x4e, 0x3e, 0x7d, 0x29, 0x4f, 0xbc,\r\n",
      "  0x9d, 0x5a, 0xef, 0xbd, 0x1b, 0x7d, 0xb8, 0xbe, 0x83, 0x18, 0x66, 0x3e,\r\n",
      "  0x1e, 0x2f, 0x5a, 0x3d, 0xdb, 0x1d, 0x91, 0x3e, 0xa1, 0xe8, 0x5e, 0xbd,\r\n",
      "  0xa3, 0xde, 0x93, 0x3d, 0x5b, 0x3c, 0x02, 0xbe, 0xcd, 0xe8, 0x7d, 0x3e,\r\n",
      "  0xf2, 0x09, 0xe5, 0xbe, 0xbd, 0x38, 0x63, 0x3d, 0x74, 0x15, 0x47, 0x3e,\r\n",
      "  0xa8, 0x72, 0x56, 0x3e, 0xc9, 0x8e, 0x07, 0xbe, 0x97, 0x6b, 0x4a, 0x3e,\r\n",
      "  0xa2, 0x09, 0xdb, 0xbd, 0x7e, 0xd6, 0x50, 0x3d, 0x23, 0x41, 0xbb, 0xbe,\r\n",
      "  0xa3, 0x45, 0x68, 0x3e, 0xf1, 0xa2, 0xce, 0xbb, 0xba, 0x47, 0x40, 0xbe,\r\n",
      "  0x28, 0x71, 0x0c, 0xbe, 0xd1, 0x03, 0x63, 0xbd, 0x28, 0x06, 0x0a, 0xbe,\r\n",
      "  0xb6, 0xdf, 0x57, 0x3e, 0x78, 0x40, 0xb9, 0xbd, 0x93, 0x32, 0x65, 0x3d,\r\n",
      "  0xbf, 0x85, 0x0c, 0x3e, 0xe8, 0x92, 0xc0, 0x3e, 0xd7, 0x54, 0xc8, 0xbe,\r\n",
      "  0x81, 0x3e, 0x2f, 0xbe, 0xce, 0x14, 0x54, 0x3e, 0xec, 0x0a, 0x65, 0xbe,\r\n",
      "  0x0a, 0xc9, 0xa5, 0x3e, 0xf7, 0xdf, 0xbf, 0xbd, 0xac, 0x42, 0xae, 0x3d,\r\n",
      "  0x14, 0x0f, 0xed, 0x3e, 0x47, 0xb4, 0xee, 0xbe, 0xd7, 0xcc, 0x1d, 0xbe,\r\n",
      "  0xdf, 0x15, 0x63, 0xbd, 0x1a, 0xb9, 0xe1, 0xbe, 0xce, 0x3c, 0x2d, 0xbd,\r\n",
      "  0x08, 0x0b, 0x29, 0x3e, 0x0a, 0x47, 0x82, 0x3e, 0x42, 0x16, 0x03, 0x3e,\r\n",
      "  0xc8, 0x76, 0xbd, 0xbe, 0xda, 0x9f, 0x42, 0xbe, 0xe5, 0x6e, 0x01, 0x3e,\r\n",
      "  0x50, 0x22, 0xd9, 0xbe, 0x84, 0x55, 0xdc, 0xbd, 0x55, 0xc1, 0x02, 0xbe,\r\n",
      "  0x8d, 0x13, 0x58, 0x3e, 0xf7, 0x66, 0x57, 0x3d, 0x5b, 0x3b, 0x9f, 0xbe,\r\n",
      "  0x34, 0x53, 0x40, 0xbe, 0xc6, 0x38, 0x17, 0xbe, 0x97, 0x86, 0x48, 0xbe,\r\n",
      "  0x31, 0x6f, 0x1f, 0xbe, 0x29, 0x63, 0x95, 0xbd, 0x3e, 0xe0, 0xdb, 0xbd,\r\n",
      "  0xa2, 0x51, 0xdb, 0xbd, 0x60, 0xe0, 0xaa, 0xbe, 0x57, 0x12, 0x6a, 0xbe,\r\n",
      "  0xa9, 0xf7, 0x0c, 0xbe, 0x0e, 0x6b, 0x8c, 0xbd, 0x81, 0xb4, 0x00, 0xbe,\r\n",
      "  0x9f, 0xf2, 0x24, 0x3c, 0x3b, 0xc0, 0xe5, 0x3d, 0x50, 0x0d, 0x1b, 0x3d,\r\n",
      "  0x4c, 0x1a, 0xe6, 0xbe, 0x75, 0xb1, 0x20, 0xbe, 0x85, 0x9c, 0xe8, 0xbd,\r\n",
      "  0xf0, 0xb6, 0x5f, 0xbe, 0x75, 0xbd, 0xb9, 0xbd, 0xe6, 0x97, 0x2a, 0xbd,\r\n",
      "  0x60, 0x74, 0xab, 0x3e, 0x7c, 0x66, 0x3c, 0x3e, 0xc0, 0xda, 0xdc, 0xbe,\r\n",
      "  0xef, 0x24, 0x9d, 0x3d, 0x50, 0x91, 0x81, 0x3d, 0x5d, 0x94, 0xae, 0x3c,\r\n",
      "  0xc3, 0xa9, 0x43, 0x3e, 0x38, 0xd7, 0x11, 0xbe, 0x1d, 0x50, 0xb7, 0x3d,\r\n",
      "  0x90, 0x22, 0x06, 0x3e, 0xff, 0x48, 0xaf, 0xbe, 0x8b, 0x4c, 0x58, 0xbd,\r\n",
      "  0x67, 0x08, 0xf9, 0x3e, 0xe7, 0x84, 0x1b, 0xbe, 0xad, 0x89, 0x25, 0x3e,\r\n",
      "  0x18, 0x01, 0xd6, 0xbd, 0xac, 0xb1, 0x4e, 0xbe, 0x4a, 0x94, 0x49, 0xbe,\r\n",
      "  0x04, 0x48, 0x37, 0xbe, 0xb4, 0x9e, 0x11, 0xbe, 0xca, 0x7f, 0x86, 0x3e,\r\n",
      "  0x75, 0x5a, 0x25, 0xbe, 0xb3, 0x86, 0x6c, 0xbd, 0x14, 0x7f, 0xf0, 0xbd,\r\n",
      "  0xb3, 0x88, 0x03, 0xbe, 0x2b, 0xee, 0x22, 0xbd, 0xe4, 0x5b, 0x9e, 0xbd,\r\n",
      "  0x73, 0x5e, 0xda, 0x3b, 0xcb, 0x89, 0xd2, 0x3d, 0xc7, 0x24, 0xcf, 0xbd,\r\n",
      "  0x28, 0x16, 0x34, 0x3d, 0xfc, 0xc0, 0xb1, 0xbd, 0xb0, 0x41, 0xb1, 0x3d,\r\n",
      "  0xbf, 0x08, 0x81, 0xbd, 0x1f, 0xf9, 0xc3, 0x3d, 0x5e, 0x96, 0x12, 0xbe,\r\n",
      "  0x38, 0x73, 0x72, 0x3e, 0x45, 0x42, 0x2e, 0xbd, 0xba, 0xa9, 0xa5, 0xbd,\r\n",
      "  0x5a, 0xb9, 0x23, 0xbe, 0x9a, 0x8d, 0xe1, 0xbd, 0xbd, 0x31, 0x16, 0x3e,\r\n",
      "  0xab, 0xf4, 0x2b, 0x3e, 0x5d, 0x78, 0x43, 0xbe, 0xc6, 0x91, 0x7f, 0x3c,\r\n",
      "  0xd4, 0xab, 0xb1, 0xbd, 0xcd, 0xc4, 0x31, 0x3d, 0x2f, 0xb4, 0x95, 0xbe,\r\n",
      "  0x93, 0xa8, 0xa4, 0x3e, 0x98, 0xea, 0x5a, 0xbd, 0x33, 0x37, 0x54, 0xbe,\r\n",
      "  0x0f, 0x1c, 0x01, 0xbc, 0x8e, 0x50, 0x97, 0x3e, 0xf5, 0x6c, 0x82, 0x3d,\r\n",
      "  0x06, 0xe5, 0x3a, 0x3e, 0x7a, 0xa8, 0x0c, 0xbe, 0xb0, 0xc0, 0x29, 0x3e,\r\n",
      "  0x2e, 0x49, 0xcf, 0xbd, 0xca, 0xaa, 0x0f, 0xbe, 0x47, 0x85, 0x11, 0xbd,\r\n",
      "  0x7c, 0x98, 0xa1, 0xbd, 0xbe, 0x20, 0x43, 0x3c, 0x3e, 0x5e, 0x0d, 0xbc,\r\n",
      "  0x02, 0x70, 0x8b, 0xbe, 0x9e, 0x0c, 0x35, 0xbe, 0xb7, 0x5c, 0x65, 0x3e,\r\n",
      "  0xb2, 0xed, 0x25, 0xbe, 0x46, 0x99, 0xdc, 0x3d, 0xb1, 0x1b, 0x88, 0xbd,\r\n",
      "  0x9f, 0x51, 0xef, 0x3d, 0xa3, 0xa1, 0x84, 0xbd, 0xcf, 0x19, 0x81, 0xbe,\r\n",
      "  0x08, 0xc1, 0xa3, 0xbd, 0xf6, 0xa8, 0xb4, 0xbd, 0xd7, 0x41, 0x8d, 0x3d,\r\n",
      "  0x28, 0x7f, 0x66, 0x3b, 0x30, 0x60, 0xf9, 0xbd, 0x73, 0x29, 0x45, 0x3e,\r\n",
      "  0x53, 0x0d, 0x26, 0xbd, 0x33, 0xf2, 0xd1, 0xbd, 0xff, 0xc8, 0x36, 0xbe,\r\n",
      "  0xc0, 0x47, 0x64, 0x3e, 0xa9, 0xe2, 0x8e, 0xbb, 0x52, 0xe4, 0x02, 0x3e,\r\n",
      "  0xa7, 0x33, 0x52, 0x3e, 0xbd, 0x98, 0x90, 0x3d, 0x0f, 0x24, 0x62, 0xbe,\r\n",
      "  0xda, 0x25, 0x35, 0xbd, 0x71, 0x73, 0xb1, 0xbd, 0xa1, 0x33, 0x30, 0x3b,\r\n",
      "  0x2d, 0x72, 0xd4, 0xbd, 0x6e, 0xd6, 0xac, 0xbb, 0xa7, 0x53, 0x87, 0x3e,\r\n",
      "  0x96, 0x00, 0x0e, 0xbe, 0x74, 0x55, 0x8f, 0xbe, 0x05, 0xa0, 0x2f, 0xbe,\r\n",
      "  0x26, 0x65, 0x50, 0xbe, 0x19, 0x0b, 0x90, 0xbd, 0x09, 0xd6, 0xc2, 0x3c,\r\n",
      "  0xf7, 0xc0, 0xdc, 0xbd, 0x26, 0xe2, 0xc9, 0x3d, 0xf6, 0x57, 0x38, 0x3e,\r\n",
      "  0x39, 0x9f, 0x90, 0xbe, 0x62, 0x96, 0x1f, 0xbe, 0x2d, 0x5b, 0x5c, 0xbe,\r\n",
      "  0xde, 0x88, 0x62, 0x3d, 0x12, 0x3e, 0x3f, 0x3d, 0x05, 0xbd, 0xa0, 0xbd,\r\n",
      "  0x8c, 0x5e, 0xb2, 0xbc, 0xd9, 0xc6, 0xe5, 0x3d, 0x9f, 0x03, 0x24, 0x3e,\r\n",
      "  0xe1, 0x85, 0x78, 0xbe, 0xab, 0x7a, 0x3d, 0x3e, 0xc6, 0x37, 0x7b, 0x3d,\r\n",
      "  0xe3, 0x74, 0x17, 0xbe, 0xb3, 0x0c, 0xae, 0xbd, 0xaa, 0x5e, 0x80, 0xbd,\r\n",
      "  0x17, 0x59, 0x40, 0xbe, 0x71, 0x45, 0x37, 0x3e, 0x91, 0x3a, 0x9e, 0xbd,\r\n",
      "  0x7c, 0xe9, 0x2c, 0xbe, 0xd5, 0x07, 0x81, 0xbc, 0x17, 0xfc, 0x15, 0xbe,\r\n",
      "  0x9f, 0x26, 0xd3, 0xbd, 0x59, 0xb4, 0xbe, 0xbc, 0x3f, 0x08, 0x83, 0xbe,\r\n",
      "  0x8b, 0xbb, 0x85, 0xbd, 0xdd, 0x16, 0x3e, 0xbe, 0xa9, 0x1c, 0xe9, 0xbb,\r\n",
      "  0x2d, 0x84, 0xd5, 0xbd, 0x7c, 0xda, 0x18, 0xbe, 0x12, 0x77, 0x0e, 0xbd,\r\n",
      "  0xbc, 0xe5, 0xd9, 0x3e, 0xb8, 0xc6, 0x59, 0xbe, 0x90, 0xfa, 0x86, 0xbd,\r\n",
      "  0x8c, 0x0f, 0x07, 0xbe, 0x2b, 0x32, 0x33, 0x3d, 0x86, 0x64, 0x13, 0x3e,\r\n",
      "  0x4d, 0x2f, 0x30, 0xbe, 0x6f, 0x49, 0x0c, 0x3e, 0x2f, 0x56, 0xdd, 0x3e,\r\n",
      "  0x50, 0xc2, 0x5a, 0xbe, 0x14, 0xfd, 0xc8, 0xbd, 0x84, 0x6a, 0xad, 0xbd,\r\n",
      "  0x8b, 0x36, 0xba, 0x3e, 0xb9, 0xfe, 0x38, 0xbd, 0x36, 0xc4, 0x32, 0x3e,\r\n",
      "  0x4e, 0xab, 0xd0, 0xbd, 0x3f, 0xb9, 0x18, 0xbe, 0x5f, 0x5b, 0xdf, 0x3d,\r\n",
      "  0x0c, 0x00, 0xeb, 0xbd, 0x2c, 0xbe, 0x6d, 0xbd, 0x2f, 0x77, 0xd6, 0x3c,\r\n",
      "  0x47, 0x7a, 0xac, 0x3b, 0x1a, 0x67, 0xcc, 0x3d, 0xab, 0x7c, 0x17, 0x3e,\r\n",
      "  0x2c, 0x80, 0x57, 0xbe, 0xaa, 0xfe, 0x3d, 0x3c, 0x3a, 0xb2, 0x40, 0x3e,\r\n",
      "  0xb1, 0x22, 0xee, 0xbc, 0x7d, 0x9b, 0x96, 0x3e, 0xf5, 0x7f, 0x29, 0xbd,\r\n",
      "  0x49, 0x2d, 0x2f, 0xbe, 0x67, 0xb3, 0x41, 0x3e, 0xbb, 0x97, 0x5c, 0xbe,\r\n",
      "  0xd9, 0xab, 0x89, 0x3b, 0x42, 0xc7, 0x27, 0x3e, 0xef, 0x1d, 0xeb, 0xbc,\r\n",
      "  0x44, 0xd7, 0xf5, 0x3d, 0x11, 0x26, 0x37, 0xbe, 0x7a, 0x38, 0xf9, 0xbd,\r\n",
      "  0x0c, 0x2e, 0xfc, 0x3c, 0x72, 0xc9, 0x32, 0xbe, 0x01, 0x3c, 0x37, 0xbe,\r\n",
      "  0xe3, 0xac, 0x01, 0x3e, 0xa5, 0x6e, 0x5d, 0xbd, 0xac, 0xa6, 0x15, 0x3d,\r\n",
      "  0x6f, 0x25, 0xb4, 0xbd, 0xdd, 0xd2, 0xb9, 0xbd, 0x54, 0x32, 0xc8, 0xbd,\r\n",
      "  0xc8, 0x6e, 0xdd, 0x3c, 0x19, 0xa2, 0x02, 0x3d, 0xf6, 0xdd, 0x63, 0xbd,\r\n",
      "  0x65, 0x15, 0xff, 0x3d, 0x93, 0xbc, 0xf2, 0x3b, 0xe7, 0xe2, 0x98, 0xbe,\r\n",
      "  0xc3, 0xb5, 0x2f, 0xbe, 0x01, 0xb5, 0x71, 0x3e, 0x21, 0x77, 0x02, 0xbe,\r\n",
      "  0xe7, 0x8b, 0x4d, 0xbd, 0xc3, 0xde, 0x98, 0x3d, 0x96, 0xc6, 0xb9, 0x3d,\r\n",
      "  0xf7, 0x71, 0x40, 0x3d, 0x2a, 0x0c, 0xac, 0xbe, 0x95, 0x2d, 0x08, 0x3d,\r\n",
      "  0x0f, 0xd0, 0x41, 0x3e, 0x54, 0x34, 0xcd, 0xbd, 0x4c, 0x71, 0xd0, 0x3d,\r\n",
      "  0xfa, 0x2d, 0x29, 0x3d, 0x66, 0x0a, 0xd9, 0x3d, 0x05, 0xa7, 0x3c, 0xbd,\r\n",
      "  0x7e, 0xc6, 0x97, 0xbe, 0x89, 0x43, 0x82, 0xbe, 0x1e, 0xe0, 0x58, 0x3e,\r\n",
      "  0x2c, 0x98, 0x15, 0xbe, 0x8e, 0x9b, 0x50, 0xbe, 0x7b, 0x49, 0x1a, 0xbb,\r\n",
      "  0x50, 0x2c, 0x8e, 0xbe, 0x98, 0xcd, 0xfb, 0xbd, 0xab, 0x8b, 0x11, 0x3e,\r\n",
      "  0xb6, 0x5c, 0x76, 0x3e, 0x8d, 0x99, 0x17, 0xbd, 0x34, 0xfb, 0x11, 0xbe,\r\n",
      "  0xe6, 0x34, 0x9f, 0xbd, 0x97, 0x73, 0x92, 0xbe, 0x27, 0xdd, 0x8f, 0xbe,\r\n",
      "  0xec, 0x37, 0xf6, 0x3d, 0xa9, 0x67, 0x25, 0xbd, 0x33, 0x15, 0x90, 0x3e,\r\n",
      "  0x33, 0x04, 0x93, 0xbe, 0x1c, 0x3f, 0x10, 0x3b, 0xea, 0x3e, 0x60, 0x3e,\r\n",
      "  0xe4, 0xf9, 0x62, 0xbe, 0xac, 0xeb, 0x7e, 0xbe, 0x52, 0xe1, 0x72, 0x3b,\r\n",
      "  0xcf, 0x51, 0xb4, 0xbd, 0x38, 0x54, 0xf6, 0x3c, 0x8e, 0xee, 0x22, 0xbe,\r\n",
      "  0xc4, 0xb5, 0xeb, 0x3d, 0x8f, 0x0f, 0x9f, 0xbd, 0xc1, 0x07, 0xa1, 0xbe,\r\n",
      "  0x37, 0xa5, 0x98, 0xbe, 0x98, 0x93, 0x20, 0x3c, 0xef, 0xfd, 0x52, 0xbe,\r\n",
      "  0xb1, 0x63, 0xfa, 0xbd, 0x8d, 0x35, 0x44, 0xbe, 0xc6, 0x42, 0xd9, 0xbc,\r\n",
      "  0x47, 0x23, 0xd6, 0xbd, 0xf8, 0x90, 0x64, 0xbe, 0x99, 0x95, 0xa2, 0x3d,\r\n",
      "  0xe3, 0xb5, 0x04, 0x3e, 0x26, 0xed, 0x41, 0x3e, 0x3c, 0x8c, 0xa5, 0x3d,\r\n",
      "  0xe6, 0x08, 0x53, 0x3e, 0x0b, 0x55, 0x1a, 0x3d, 0x90, 0x8c, 0x32, 0xb9,\r\n",
      "  0xa2, 0xae, 0x60, 0xbe, 0x8b, 0x6b, 0x4f, 0x3e, 0x65, 0x28, 0x49, 0xbe,\r\n",
      "  0xe5, 0xd5, 0x20, 0x3e, 0x93, 0x47, 0x54, 0x3d, 0x42, 0x6e, 0x84, 0x3e,\r\n",
      "  0x14, 0xa0, 0xec, 0xbd, 0xf1, 0xab, 0x4f, 0xbe, 0x77, 0xc0, 0x7c, 0xbe,\r\n",
      "  0x4d, 0x57, 0x36, 0x3c, 0xb4, 0xa6, 0x5a, 0x3d, 0x8e, 0xbb, 0x94, 0x3d,\r\n",
      "  0x3e, 0x03, 0x2b, 0xbe, 0xa3, 0x60, 0x71, 0x3e, 0xec, 0xa9, 0xe9, 0xbd,\r\n",
      "  0xdd, 0x05, 0x4e, 0xbc, 0x00, 0x16, 0x3b, 0xbe, 0xd9, 0xce, 0xe9, 0xbd,\r\n",
      "  0x8a, 0x7b, 0x73, 0xbe, 0x22, 0x1b, 0xfc, 0xbd, 0x51, 0xc7, 0xd1, 0xbd,\r\n",
      "  0x92, 0xb6, 0x53, 0x3e, 0xe1, 0x66, 0x10, 0x3d, 0xd3, 0x15, 0xae, 0xbd,\r\n",
      "  0x9e, 0x7c, 0x80, 0x3e, 0x04, 0x53, 0x15, 0xbe, 0x00, 0xb5, 0x6a, 0x3e,\r\n",
      "  0x7c, 0x1c, 0x41, 0xbe, 0xfd, 0xe6, 0xc1, 0x3c, 0xc5, 0x20, 0x24, 0xbe,\r\n",
      "  0x3b, 0x90, 0x63, 0xbe, 0x29, 0x7f, 0xfb, 0xbd, 0x44, 0xe1, 0x90, 0x3e,\r\n",
      "  0x4f, 0xe1, 0x98, 0x3d, 0x62, 0x85, 0x2d, 0x3e, 0x90, 0x43, 0x7b, 0xbe,\r\n",
      "  0x1c, 0x58, 0x8d, 0x3d, 0x49, 0x9f, 0xa5, 0xbd, 0x68, 0xe6, 0x4c, 0xbe,\r\n",
      "  0x37, 0x27, 0x30, 0x3d, 0xe6, 0x93, 0xfc, 0x3d, 0x26, 0x1e, 0x00, 0xbe,\r\n",
      "  0x1f, 0x5e, 0x2b, 0xbe, 0x80, 0xef, 0x04, 0x3e, 0x76, 0x45, 0xcb, 0xbc,\r\n",
      "  0x4c, 0x0a, 0x7b, 0xbc, 0x4d, 0x0d, 0x73, 0xbe, 0xaf, 0xca, 0xef, 0x3d,\r\n",
      "  0x76, 0x04, 0x8a, 0x3e, 0x8c, 0x1e, 0x0c, 0xbe, 0x66, 0xa5, 0x2b, 0x3e,\r\n",
      "  0x1e, 0x09, 0x97, 0x3d, 0x39, 0x16, 0xe8, 0x3d, 0xda, 0x39, 0xac, 0xbd,\r\n",
      "  0x76, 0x94, 0x5c, 0xbe, 0x21, 0xae, 0x0b, 0x3e, 0x49, 0x24, 0x15, 0x3e,\r\n",
      "  0xdc, 0xf8, 0x8b, 0xbd, 0x8f, 0xbc, 0xa1, 0xbd, 0xaa, 0x57, 0x49, 0x3a,\r\n",
      "  0xc7, 0x45, 0xbf, 0xbd, 0xe3, 0xa0, 0x62, 0xbc, 0x46, 0xcd, 0xe0, 0x3d,\r\n",
      "  0x57, 0x40, 0xb8, 0xbe, 0x3e, 0xc8, 0xf9, 0x3d, 0x65, 0x56, 0x00, 0xbe,\r\n",
      "  0x73, 0xde, 0x5e, 0x3d, 0xe4, 0x78, 0xd2, 0xbd, 0xba, 0x28, 0xd9, 0xbd,\r\n",
      "  0x30, 0xd6, 0x8a, 0xbd, 0xef, 0x41, 0x25, 0x3e, 0x31, 0xe1, 0x19, 0xbe,\r\n",
      "  0x98, 0x2b, 0x89, 0x3e, 0x5a, 0xc3, 0x10, 0xbe, 0xae, 0x4d, 0x4c, 0xbd,\r\n",
      "  0x8b, 0xc3, 0x77, 0xbe, 0xbf, 0x0c, 0x88, 0xbc, 0xb9, 0x23, 0x81, 0xbd,\r\n",
      "  0x71, 0xab, 0x92, 0x3e, 0xcc, 0x5b, 0x69, 0xbe, 0x3a, 0x95, 0xb4, 0xbb,\r\n",
      "  0xb0, 0x58, 0x02, 0xbe, 0x09, 0x53, 0xad, 0xbd, 0x4c, 0x73, 0x45, 0xbe,\r\n",
      "  0xad, 0xe2, 0xd6, 0x3c, 0x17, 0x10, 0xf2, 0x3d, 0xb2, 0xe7, 0x87, 0xbd,\r\n",
      "  0x86, 0x17, 0xe1, 0xbe, 0x53, 0x56, 0xfa, 0x3d, 0x2d, 0x28, 0xe0, 0x3d,\r\n",
      "  0x7c, 0x89, 0x8d, 0xbe, 0x22, 0xb9, 0x48, 0xbd, 0x86, 0x07, 0x4b, 0xbd,\r\n",
      "  0x0a, 0xb2, 0x3c, 0x3e, 0x70, 0xc3, 0x6a, 0x3e, 0x1f, 0x7c, 0x5e, 0xbe,\r\n",
      "  0x2a, 0x29, 0xf0, 0x3d, 0xd7, 0x42, 0xf4, 0x3c, 0xdf, 0x98, 0x46, 0xbe,\r\n",
      "  0xbe, 0x84, 0xc5, 0xbd, 0xdb, 0x22, 0xb7, 0xbc, 0x5d, 0xdd, 0xb4, 0x3d,\r\n",
      "  0x90, 0x46, 0x1c, 0xbe, 0x0c, 0xdd, 0xbf, 0xbb, 0xb9, 0x91, 0x30, 0xbd,\r\n",
      "  0x61, 0xd0, 0x40, 0x3e, 0x0b, 0x3e, 0x13, 0xbe, 0x67, 0xed, 0xc5, 0xbd,\r\n",
      "  0xf2, 0xdd, 0x52, 0x3e, 0x1c, 0x9c, 0x6e, 0xbe, 0xfd, 0x5d, 0x05, 0xbd,\r\n",
      "  0x9f, 0xf9, 0x7f, 0xbe, 0x17, 0x58, 0xed, 0x3c, 0x7e, 0xd2, 0x7d, 0x3d,\r\n",
      "  0x46, 0x45, 0x51, 0xbe, 0x81, 0xf5, 0xcd, 0xbd, 0x84, 0x9d, 0xdb, 0x3d,\r\n",
      "  0x66, 0x9c, 0x7f, 0xbd, 0xb6, 0x70, 0xfc, 0x3d, 0x91, 0x8d, 0x9d, 0xbd,\r\n",
      "  0x39, 0x9a, 0x59, 0xbe, 0xd5, 0x61, 0xac, 0xbd, 0xb3, 0x73, 0x42, 0xbe,\r\n",
      "  0xad, 0xae, 0x36, 0x3d, 0xf4, 0x22, 0x67, 0x3d, 0x93, 0x13, 0x3f, 0x3e,\r\n",
      "  0x26, 0xb8, 0x19, 0x3e, 0x33, 0xba, 0x7c, 0x3e, 0xd9, 0xfa, 0x6d, 0xbe,\r\n",
      "  0xe3, 0xcd, 0x19, 0xbd, 0x49, 0x62, 0x3f, 0xbc, 0x18, 0x2b, 0x84, 0xbd,\r\n",
      "  0x83, 0xfc, 0x80, 0xbd, 0x14, 0x07, 0x91, 0x3d, 0x8f, 0x66, 0x5a, 0x3e,\r\n",
      "  0xec, 0x85, 0x8c, 0x3d, 0xe0, 0xfc, 0x72, 0xbe, 0x6f, 0x2b, 0x55, 0x3e,\r\n",
      "  0x07, 0x08, 0x15, 0xbe, 0x97, 0x8c, 0xd0, 0x3d, 0xb8, 0x0e, 0xe3, 0xbd,\r\n",
      "  0xc5, 0x17, 0x25, 0x3e, 0x0a, 0xe5, 0x8a, 0xbd, 0x32, 0xe4, 0xb4, 0xbd,\r\n",
      "  0xa2, 0xac, 0x5a, 0xbe, 0xdf, 0xaa, 0x42, 0x3e, 0x28, 0x17, 0x4d, 0xbe,\r\n",
      "  0x1d, 0xae, 0xa3, 0xbc, 0x0b, 0x09, 0xcd, 0xbd, 0xaa, 0x09, 0xc2, 0x3c,\r\n",
      "  0xa1, 0x6d, 0xdd, 0xbd, 0xa0, 0xb5, 0x2a, 0xbd, 0xb3, 0x13, 0x68, 0x3c,\r\n",
      "  0xa5, 0xdd, 0x0a, 0xbe, 0xd3, 0x37, 0x05, 0xbc, 0x1c, 0x45, 0xd7, 0xbd,\r\n",
      "  0x26, 0x83, 0x53, 0xbe, 0x76, 0x4b, 0xc5, 0x3c, 0x91, 0x6c, 0x5d, 0x3e,\r\n",
      "  0xc9, 0x47, 0xeb, 0xbd, 0x68, 0x49, 0x23, 0x3e, 0xd0, 0x82, 0x73, 0xbe,\r\n",
      "  0x23, 0x39, 0x14, 0xbe, 0xa4, 0xf9, 0x97, 0x3c, 0xc6, 0x27, 0x6c, 0xbe,\r\n",
      "  0x03, 0x33, 0x6c, 0x3c, 0xa1, 0xe4, 0x30, 0x3e, 0x37, 0x4f, 0xb8, 0x3a,\r\n",
      "  0x22, 0x68, 0x2a, 0x3e, 0x57, 0x87, 0x5b, 0xbe, 0x1c, 0x36, 0x50, 0xbe,\r\n",
      "  0xba, 0xff, 0x1e, 0xbe, 0x9d, 0x1f, 0x4d, 0xbe, 0x93, 0x1b, 0x4d, 0x3e,\r\n",
      "  0x9f, 0x3a, 0x15, 0xbd, 0xe0, 0x9a, 0xf7, 0x3d, 0xf8, 0xfe, 0xa9, 0x3c,\r\n",
      "  0xf8, 0x9e, 0xcf, 0xbd, 0x5e, 0x6f, 0x01, 0xbd, 0x81, 0xcf, 0x28, 0x3c,\r\n",
      "  0xc5, 0x0f, 0x2f, 0xbd, 0x01, 0x19, 0x95, 0xba, 0xa3, 0xf6, 0x3a, 0x3e,\r\n",
      "  0xff, 0xa4, 0x0d, 0x3e, 0x00, 0x00, 0x00, 0x00, 0x8e, 0xe6, 0xff, 0xff,\r\n",
      "  0x04, 0x00, 0x00, 0x00, 0x80, 0x01, 0x00, 0x00, 0x96, 0x8d, 0x3a, 0x3d,\r\n",
      "  0x7e, 0x01, 0x08, 0xbe, 0x95, 0xc3, 0x3a, 0x3e, 0x1b, 0x81, 0x3a, 0x3e,\r\n",
      "  0xb6, 0x72, 0xae, 0xbc, 0xda, 0xe5, 0x18, 0x3e, 0xb9, 0x0e, 0x96, 0x3e,\r\n",
      "  0xce, 0x95, 0xa1, 0x3c, 0x48, 0x41, 0x97, 0x3d, 0x40, 0xe8, 0x25, 0x3e,\r\n",
      "  0xc9, 0x9c, 0x6b, 0xbc, 0x0a, 0x35, 0x44, 0xbe, 0x74, 0x84, 0x78, 0xbe,\r\n",
      "  0xfa, 0x2d, 0x66, 0x3d, 0x25, 0x78, 0x21, 0x3d, 0x1b, 0xe7, 0xef, 0xbd,\r\n",
      "  0x79, 0x0e, 0xa2, 0xbd, 0xce, 0x36, 0xf8, 0xbc, 0x0f, 0xd9, 0x13, 0xbe,\r\n",
      "  0xa0, 0xf9, 0x0d, 0x3e, 0xe9, 0x50, 0x7f, 0xbd, 0x14, 0xb2, 0x0d, 0x3e,\r\n",
      "  0x20, 0x6f, 0x91, 0x3e, 0xe5, 0xd7, 0x41, 0x3e, 0x6f, 0xac, 0x71, 0x3e,\r\n",
      "  0xf5, 0x6e, 0x22, 0xbe, 0x4e, 0xf8, 0x3e, 0xbe, 0x9a, 0x52, 0xba, 0x3c,\r\n",
      "  0xd5, 0x27, 0x9e, 0x3d, 0x33, 0x3a, 0x64, 0xbe, 0xe8, 0xc0, 0x71, 0x3e,\r\n",
      "  0x4c, 0xf7, 0xb4, 0x3d, 0x71, 0x3c, 0x71, 0x3d, 0x0c, 0x39, 0x38, 0xbc,\r\n",
      "  0xf4, 0x99, 0x7e, 0xbd, 0x9b, 0x5a, 0xe6, 0xbb, 0x6b, 0x8d, 0x1f, 0x3e,\r\n",
      "  0x1d, 0x14, 0x3e, 0xbe, 0x31, 0x8f, 0x1a, 0x3c, 0x13, 0x97, 0x85, 0xbd,\r\n",
      "  0xeb, 0xe6, 0x68, 0x3d, 0x96, 0x2f, 0x8f, 0x3d, 0x94, 0xe7, 0x84, 0xbc,\r\n",
      "  0xfe, 0x8a, 0x4d, 0xbe, 0x1c, 0xcb, 0x19, 0xbe, 0xa9, 0xf7, 0x32, 0x3e,\r\n",
      "  0xe5, 0x7f, 0x03, 0x3e, 0x91, 0x0e, 0xd0, 0xbd, 0xd8, 0x22, 0x4d, 0xbe,\r\n",
      "  0x28, 0xa1, 0x3b, 0x3e, 0x3a, 0x9b, 0x84, 0x3b, 0x62, 0x0b, 0x20, 0xbe,\r\n",
      "  0xd5, 0x19, 0xd1, 0xbd, 0x4c, 0xac, 0xb8, 0x3d, 0xd7, 0x2e, 0x0c, 0xbe,\r\n",
      "  0x33, 0x1f, 0x22, 0x38, 0xe1, 0xea, 0xe6, 0xbd, 0xdb, 0x1b, 0x8c, 0x3d,\r\n",
      "  0x91, 0x36, 0x3f, 0xbd, 0x82, 0xb9, 0x86, 0xbd, 0x81, 0x35, 0xd2, 0xbc,\r\n",
      "  0x31, 0x48, 0x65, 0x3d, 0x70, 0x42, 0xa1, 0x3d, 0x8c, 0x20, 0x17, 0x3d,\r\n",
      "  0x53, 0x57, 0x4e, 0xbe, 0x3c, 0x85, 0x1c, 0x3e, 0xb5, 0xd5, 0xe0, 0x3c,\r\n",
      "  0x84, 0xf2, 0x83, 0x3c, 0xa1, 0x08, 0x59, 0x3e, 0xfa, 0x61, 0x92, 0x3d,\r\n",
      "  0xec, 0x0d, 0xf2, 0xbc, 0x3d, 0x86, 0xab, 0x3d, 0x69, 0xda, 0xae, 0x3e,\r\n",
      "  0xbd, 0xdc, 0x6e, 0xbe, 0x38, 0xe5, 0xda, 0xbb, 0x4a, 0x1d, 0x8f, 0x3e,\r\n",
      "  0x7a, 0xdd, 0x63, 0xbe, 0xcf, 0x94, 0xa1, 0x3e, 0x1b, 0xfe, 0x93, 0xbc,\r\n",
      "  0x8f, 0x57, 0x96, 0xbe, 0x8b, 0xe7, 0xec, 0xbd, 0x97, 0xba, 0xaa, 0x3e,\r\n",
      "  0xea, 0x5c, 0x36, 0xbc, 0x85, 0xea, 0x34, 0x3e, 0x61, 0x3e, 0xd5, 0x3d,\r\n",
      "  0x47, 0x16, 0xd0, 0xbd, 0x5f, 0x2a, 0x44, 0xbd, 0x3a, 0x34, 0x12, 0xbe,\r\n",
      "  0xde, 0xcb, 0x87, 0xbd, 0x90, 0x0f, 0x01, 0xbe, 0x0a, 0x80, 0x5d, 0xbe,\r\n",
      "  0x79, 0xf5, 0x08, 0xbd, 0x01, 0x4d, 0xd2, 0xbd, 0x89, 0xc8, 0x1f, 0x3e,\r\n",
      "  0x78, 0x6c, 0xb0, 0xbc, 0x47, 0x0d, 0xd2, 0x3d, 0x00, 0x00, 0x00, 0x00,\r\n",
      "  0x1e, 0xe8, 0xff, 0xff, 0x04, 0x00, 0x00, 0x00, 0x00, 0x01, 0x00, 0x00,\r\n",
      "  0xfd, 0x0d, 0x64, 0x3e, 0x40, 0x72, 0x2b, 0x3e, 0x20, 0xa2, 0x0c, 0xbe,\r\n",
      "  0x81, 0x83, 0x15, 0x3e, 0x29, 0x02, 0xf1, 0x3e, 0xe7, 0x86, 0x71, 0x3d,\r\n",
      "  0x12, 0x90, 0xa3, 0xbd, 0x54, 0x7f, 0xf1, 0xbe, 0x6c, 0x18, 0x69, 0xbe,\r\n",
      "  0x7d, 0x3e, 0x16, 0x3e, 0x07, 0x48, 0xbe, 0xbe, 0x07, 0xbd, 0x93, 0x3e,\r\n",
      "  0xe7, 0xab, 0x8a, 0xbe, 0x49, 0x9f, 0x6f, 0x3e, 0x90, 0x78, 0x9d, 0xbe,\r\n",
      "  0x17, 0x94, 0xf1, 0xbc, 0x35, 0x7f, 0x7b, 0x3e, 0x0e, 0xd6, 0x8b, 0x3e,\r\n",
      "  0x19, 0x53, 0x1d, 0xbf, 0x7f, 0x5e, 0x00, 0xbf, 0xb9, 0x98, 0x0d, 0x3f,\r\n",
      "  0x53, 0x2b, 0x3c, 0xbe, 0xb5, 0x35, 0xf1, 0x3e, 0xcc, 0xee, 0xcb, 0xbe,\r\n",
      "  0x51, 0x53, 0xf5, 0x3e, 0x07, 0xb1, 0x1b, 0xbd, 0x64, 0x62, 0x10, 0xbd,\r\n",
      "  0x9f, 0x99, 0xaf, 0x3e, 0xa7, 0xf3, 0x3c, 0x3e, 0x28, 0x5f, 0x18, 0x3f,\r\n",
      "  0x0a, 0x7f, 0xf2, 0xbc, 0xab, 0x47, 0x07, 0xbf, 0x36, 0xa9, 0x13, 0xbf,\r\n",
      "  0xd0, 0x2f, 0xcf, 0xbe, 0x8b, 0xbd, 0xe9, 0xbd, 0x14, 0x99, 0x0a, 0x3e,\r\n",
      "  0xc5, 0xfa, 0xc9, 0xbe, 0x48, 0x7f, 0xe7, 0xbe, 0x4b, 0x2b, 0x31, 0xbe,\r\n",
      "  0xc9, 0xf4, 0xbd, 0x3c, 0xe2, 0x22, 0x2a, 0xbf, 0xb4, 0x08, 0x16, 0xbf,\r\n",
      "  0x4c, 0x14, 0x27, 0xbe, 0xfb, 0x40, 0x0d, 0xbf, 0x0a, 0x0c, 0xbf, 0x3e,\r\n",
      "  0xf4, 0xe1, 0x11, 0x3f, 0x31, 0x79, 0x8c, 0x3e, 0x2d, 0x22, 0x7f, 0x3e,\r\n",
      "  0xe7, 0xb4, 0xd4, 0xbe, 0x8d, 0x74, 0xa5, 0x3e, 0xf9, 0x5c, 0x89, 0x3c,\r\n",
      "  0x93, 0xb5, 0x11, 0xbf, 0x0d, 0x25, 0x92, 0xbe, 0xb0, 0x02, 0x83, 0x3e,\r\n",
      "  0xef, 0x6a, 0xf8, 0xbd, 0xab, 0xbc, 0x7d, 0xbe, 0x49, 0x05, 0x90, 0xbe,\r\n",
      "  0xd6, 0x69, 0x11, 0xbf, 0x08, 0x30, 0xed, 0x3e, 0x81, 0x3c, 0xc2, 0xbe,\r\n",
      "  0x04, 0x28, 0x4f, 0xbe, 0x81, 0x74, 0x41, 0x3e, 0x24, 0x43, 0xe1, 0x3e,\r\n",
      "  0x80, 0xc3, 0xe8, 0xbd, 0x00, 0x00, 0x00, 0x00, 0x2e, 0xe9, 0xff, 0xff,\r\n",
      "  0x04, 0x00, 0x00, 0x00, 0x00, 0x15, 0x00, 0x00, 0xfa, 0xce, 0xdd, 0x06,\r\n",
      "  0x03, 0x11, 0xea, 0xe9, 0xf3, 0x09, 0xe6, 0xed, 0xd6, 0xdf, 0x0e, 0xf1,\r\n",
      "  0xfb, 0xd2, 0xd2, 0x08, 0xf8, 0x0e, 0xc3, 0xe8, 0xde, 0x1c, 0xff, 0xd9,\r\n",
      "  0xca, 0xf3, 0x02, 0xf8, 0xfb, 0xd7, 0xed, 0xfe, 0x14, 0xfd, 0xdd, 0x00,\r\n",
      "  0xf2, 0x20, 0xe7, 0xda, 0xc5, 0xd9, 0x0d, 0xeb, 0xfe, 0xdb, 0xd7, 0xec,\r\n",
      "  0x02, 0x16, 0xd4, 0xe2, 0xf6, 0xfc, 0xfe, 0xe8, 0xd5, 0xed, 0x1c, 0xdd,\r\n",
      "  0x0c, 0xce, 0x01, 0xe6, 0xe9, 0x08, 0xda, 0xe6, 0xf7, 0xf9, 0x1a, 0xd7,\r\n",
      "  0xda, 0xf8, 0x14, 0xf0, 0xff, 0xe1, 0x1a, 0xdb, 0x0a, 0x00, 0xd9, 0x02,\r\n",
      "  0xf8, 0xfc, 0x15, 0xf5, 0xe8, 0xfa, 0x15, 0xee, 0x07, 0x07, 0x35, 0xee,\r\n",
      "  0xf1, 0xfc, 0x0d, 0xfc, 0x03, 0xf0, 0xf7, 0xf5, 0x0d, 0xef, 0x22, 0xfc,\r\n",
      "  0xfe, 0x02, 0x18, 0xf4, 0x0d, 0xf2, 0x18, 0xfc, 0x05, 0xe7, 0x1c, 0xf4,\r\n",
      "  0x00, 0xf9, 0x0d, 0xe9, 0xf4, 0x0b, 0x1d, 0x0a, 0x09, 0x0b, 0x03, 0x0b,\r\n",
      "  0xfe, 0x12, 0x1a, 0x02, 0x10, 0x04, 0x19, 0x11, 0xfd, 0x24, 0x2a, 0xfc,\r\n",
      "  0xfd, 0xe5, 0x12, 0x15, 0xee, 0xea, 0xfd, 0x0d, 0x05, 0x09, 0x07, 0x16,\r\n",
      "  0x10, 0x2a, 0x17, 0xfc, 0xfb, 0xf7, 0x2b, 0x0e, 0xf0, 0xe2, 0x08, 0xee,\r\n",
      "  0x1f, 0xf7, 0xf8, 0x28, 0x0a, 0x21, 0x17, 0x07, 0xef, 0xf1, 0x19, 0x03,\r\n",
      "  0xee, 0x00, 0x04, 0x10, 0x17, 0x0e, 0x07, 0x27, 0x09, 0x11, 0x09, 0xf7,\r\n",
      "  0xf2, 0xf2, 0x34, 0x03, 0xec, 0xe6, 0x1c, 0x09, 0x0e, 0x08, 0xf5, 0x18,\r\n",
      "  0x16, 0x1a, 0x2d, 0xdc, 0x02, 0xe6, 0x05, 0x14, 0xfe, 0x0b, 0x02, 0x10,\r\n",
      "  0x0e, 0xfc, 0xfa, 0xeb, 0xf9, 0x1a, 0x0b, 0xe9, 0x17, 0xdb, 0x1a, 0x1a,\r\n",
      "  0xfc, 0xfa, 0x06, 0x10, 0x0e, 0xef, 0xee, 0x0b, 0x00, 0x1d, 0x1c, 0xe0,\r\n",
      "  0xf9, 0xec, 0x2a, 0x18, 0xf5, 0xec, 0x03, 0x14, 0x2a, 0x02, 0xd1, 0x0c,\r\n",
      "  0xf7, 0x43, 0x0f, 0x09, 0x1d, 0xf6, 0x0d, 0x16, 0xfd, 0x14, 0xec, 0x1e,\r\n",
      "  0x0d, 0xed, 0xf0, 0x04, 0x0c, 0x1f, 0x2f, 0x0a, 0xf0, 0x02, 0x24, 0x13,\r\n",
      "  0xfb, 0x0a, 0xd6, 0x23, 0xfb, 0x05, 0xe9, 0xf5, 0xfb, 0x2e, 0xf3, 0x11,\r\n",
      "  0x0b, 0x07, 0x13, 0x01, 0x09, 0x19, 0xed, 0x11, 0x19, 0x01, 0x03, 0xe8,\r\n",
      "  0x07, 0xf7, 0x16, 0x10, 0xfd, 0x0c, 0xf9, 0xfb, 0xf2, 0xf8, 0xdf, 0x15,\r\n",
      "  0xee, 0xf8, 0x05, 0x00, 0xf5, 0x25, 0x16, 0x11, 0x0e, 0x26, 0x06, 0x01,\r\n",
      "  0xe4, 0x13, 0x01, 0x0c, 0xfa, 0x19, 0xfc, 0x0d, 0xe2, 0xf6, 0x07, 0xef,\r\n",
      "  0x19, 0xfa, 0xd5, 0xe1, 0xe5, 0x2f, 0xe0, 0xf8, 0xf5, 0xd9, 0xe8, 0x01,\r\n",
      "  0xe7, 0xea, 0x26, 0x0f, 0xf2, 0x17, 0x0a, 0xe1, 0xf6, 0x18, 0xf0, 0xf8,\r\n",
      "  0xd7, 0xd9, 0xe8, 0xfe, 0x0d, 0x25, 0x1e, 0x06, 0x02, 0x02, 0x20, 0x10,\r\n",
      "  0x02, 0x08, 0x09, 0xef, 0x04, 0xfa, 0x03, 0xf4, 0x19, 0x3a, 0x16, 0x06,\r\n",
      "  0xfa, 0x04, 0xf4, 0x20, 0x11, 0x1e, 0x12, 0xfe, 0xf7, 0x0e, 0xfb, 0xf2,\r\n",
      "  0x19, 0x06, 0x19, 0x00, 0x03, 0xf4, 0x07, 0x0c, 0x14, 0xf2, 0x03, 0x05,\r\n",
      "  0x0b, 0xf3, 0x0f, 0x11, 0x1f, 0x18, 0x29, 0xf2, 0xf9, 0xeb, 0x26, 0xfe,\r\n",
      "  0xf0, 0x0d, 0x01, 0xf7, 0x10, 0x05, 0xfe, 0x22, 0x10, 0x12, 0x18, 0x09,\r\n",
      "  0xfd, 0x15, 0x09, 0xf2, 0xec, 0xf3, 0x14, 0xd7, 0x14, 0x08, 0x13, 0x00,\r\n",
      "  0xfc, 0xee, 0x2f, 0x1b, 0xe8, 0x18, 0x16, 0x0a, 0xf4, 0x14, 0xea, 0xea,\r\n",
      "  0x09, 0x03, 0xfb, 0x14, 0x0b, 0xff, 0x49, 0xf5, 0xf3, 0xfe, 0xfe, 0x0b,\r\n",
      "  0x17, 0xeb, 0xf2, 0x13, 0x01, 0xf4, 0x0f, 0x0f, 0x17, 0x25, 0x43, 0x03,\r\n",
      "  0x06, 0x0a, 0x12, 0x1b, 0xfe, 0xd1, 0x0a, 0xf7, 0x13, 0x02, 0x0a, 0x1b,\r\n",
      "  0x01, 0xfb, 0x2a, 0xf6, 0xf6, 0x00, 0xf9, 0x04, 0xf2, 0xde, 0x16, 0x07,\r\n",
      "  0x08, 0x0b, 0xeb, 0x02, 0x05, 0x18, 0x0e, 0xc4, 0xec, 0xe3, 0xfc, 0x13,\r\n",
      "  0xde, 0xff, 0x0b, 0xf6, 0xf3, 0xd5, 0xfe, 0xf1, 0xf9, 0x0a, 0x21, 0xe1,\r\n",
      "  0xff, 0x03, 0x05, 0x0b, 0xf2, 0xec, 0xed, 0xfb, 0xf8, 0xff, 0xf6, 0xee,\r\n",
      "  0x27, 0x1b, 0xf5, 0x03, 0x05, 0xf2, 0x06, 0x05, 0xed, 0xe8, 0x0d, 0xf1,\r\n",
      "  0x15, 0xeb, 0xf8, 0xe1, 0x00, 0x14, 0xfc, 0xf7, 0x06, 0x09, 0x15, 0xf7,\r\n",
      "  0xf1, 0xe2, 0x0e, 0x0a, 0xfe, 0x00, 0xfb, 0xe8, 0xf1, 0x0f, 0xda, 0x0e,\r\n",
      "  0xe5, 0x05, 0xde, 0xfa, 0x02, 0xf5, 0xe1, 0xe6, 0x1c, 0x04, 0xfc, 0xf1,\r\n",
      "  0xf0, 0x1a, 0xe8, 0x22, 0xed, 0x1d, 0xed, 0xe4, 0xf7, 0x0b, 0x04, 0xf7,\r\n",
      "  0xfb, 0x00, 0x02, 0xe8, 0x0a, 0xe9, 0xdd, 0x09, 0xfd, 0x25, 0xd8, 0xe3,\r\n",
      "  0xdb, 0x11, 0x09, 0xeb, 0xe8, 0xef, 0x0b, 0xe4, 0x09, 0xe3, 0x22, 0x00,\r\n",
      "  0xfb, 0x01, 0x06, 0x0d, 0x02, 0x0e, 0x12, 0xf8, 0xf0, 0xf4, 0x11, 0xfe,\r\n",
      "  0x02, 0xe5, 0xf6, 0x05, 0x03, 0xf9, 0x19, 0x03, 0x17, 0x11, 0xff, 0x07,\r\n",
      "  0x04, 0x0b, 0x0a, 0xf9, 0x17, 0xd8, 0xeb, 0xe7, 0x01, 0xf7, 0xcc, 0xfa,\r\n",
      "  0xed, 0xfd, 0xfe, 0xdf, 0x03, 0xf0, 0xfa, 0x04, 0xe2, 0x18, 0x03, 0x09,\r\n",
      "  0xee, 0xdd, 0x2d, 0x0f, 0x15, 0xeb, 0xe3, 0xf8, 0x35, 0x11, 0xee, 0x08,\r\n",
      "  0xfc, 0x18, 0x48, 0xfa, 0xf5, 0xde, 0x3f, 0x07, 0x07, 0xf1, 0x00, 0x00,\r\n",
      "  0x0e, 0x19, 0x14, 0x16, 0x17, 0x3c, 0xf4, 0x18, 0x04, 0xff, 0x13, 0x15,\r\n",
      "  0x0c, 0xe9, 0x05, 0xfe, 0x1f, 0x24, 0x06, 0x25, 0x0a, 0xee, 0xf4, 0xf2,\r\n",
      "  0xf2, 0xea, 0x1c, 0x07, 0x0e, 0x2a, 0x12, 0xf5, 0xf7, 0x2b, 0x14, 0x14,\r\n",
      "  0x17, 0xef, 0xd1, 0x19, 0xf1, 0xfe, 0xff, 0xf4, 0xe9, 0x19, 0x29, 0xec,\r\n",
      "  0x04, 0x18, 0x20, 0x08, 0x1e, 0xb9, 0xcf, 0xf9, 0xfb, 0xf9, 0xda, 0xfd,\r\n",
      "  0x07, 0x23, 0x11, 0xed, 0x07, 0x12, 0x20, 0x0a, 0x30, 0xc3, 0xe3, 0x03,\r\n",
      "  0xe1, 0x07, 0xeb, 0x0a, 0xf3, 0x2d, 0x34, 0xe2, 0x0f, 0x03, 0x2e, 0x09,\r\n",
      "  0x08, 0xef, 0xf1, 0x01, 0xfe, 0xf2, 0xf1, 0xf6, 0x0e, 0x23, 0x23, 0xf1,\r\n",
      "  0x0b, 0x08, 0x19, 0x29, 0xff, 0xef, 0xe9, 0xf0, 0xfc, 0x14, 0xe8, 0xf9,\r\n",
      "  0x07, 0xfd, 0x25, 0x17, 0xf7, 0xf4, 0xef, 0x11, 0x30, 0xe8, 0xd6, 0xee,\r\n",
      "  0xf7, 0xef, 0xea, 0xf6, 0x14, 0x00, 0x22, 0x03, 0xfd, 0xfb, 0x03, 0xf5,\r\n",
      "  0x1d, 0xef, 0xf8, 0xf4, 0xf8, 0x09, 0xeb, 0x13, 0x24, 0xf4, 0x09, 0xfe,\r\n",
      "  0x01, 0xee, 0x0a, 0xf4, 0x25, 0xfa, 0xe8, 0xf0, 0xe7, 0x00, 0xee, 0xfb,\r\n",
      "  0x04, 0xf9, 0x17, 0xfc, 0x12, 0x09, 0xff, 0xe5, 0x2d, 0xfc, 0xdf, 0xf7,\r\n",
      "  0xe4, 0xf7, 0xef, 0x13, 0x19, 0x0e, 0x17, 0xf2, 0x0f, 0x12, 0xe9, 0x02,\r\n",
      "  0x2f, 0xf3, 0xbf, 0xfd, 0xe5, 0xfb, 0x0b, 0xf5, 0xf8, 0x20, 0x10, 0x04,\r\n",
      "  0x0a, 0xf8, 0x09, 0x0c, 0x16, 0xc2, 0xd5, 0xfc, 0xe1, 0xec, 0xdf, 0xfc,\r\n",
      "  0xea, 0x1f, 0x0d, 0xe8, 0xee, 0x02, 0x0e, 0xfc, 0x36, 0xda, 0xbb, 0x06,\r\n",
      "  0xef, 0xff, 0xf5, 0x14, 0xfc, 0xfe, 0x0d, 0xfd, 0x08, 0x10, 0x04, 0xfb,\r\n",
      "  0x19, 0xff, 0xce, 0x0f, 0xdc, 0xf8, 0xf0, 0xed, 0xf4, 0x18, 0x18, 0xed,\r\n",
      "  0xfa, 0xfe, 0x19, 0xfb, 0x03, 0x02, 0xc8, 0x1f, 0xe7, 0xf3, 0x0e, 0x09,\r\n",
      "  0x02, 0xe9, 0xee, 0x00, 0x09, 0x09, 0x14, 0x12, 0x0e, 0xd4, 0xfd, 0x1c,\r\n",
      "  0xe6, 0x08, 0x07, 0x0d, 0xf9, 0xea, 0x03, 0xed, 0x0c, 0x03, 0x03, 0xf4,\r\n",
      "  0x06, 0xf0, 0xd2, 0x0d, 0xfb, 0x00, 0x1f, 0xf3, 0x0a, 0xee, 0xf2, 0xef,\r\n",
      "  0x17, 0x0e, 0x26, 0x0a, 0x15, 0xe0, 0xc3, 0x02, 0x00, 0x06, 0xec, 0xec,\r\n",
      "  0xf3, 0xd8, 0x01, 0xfe, 0x02, 0x03, 0x0e, 0x17, 0x08, 0x26, 0xfd, 0x2d,\r\n",
      "  0x03, 0x14, 0xf6, 0x08, 0x20, 0x05, 0x0d, 0xfd, 0xed, 0x25, 0x38, 0xef,\r\n",
      "  0x0b, 0x15, 0xe7, 0x08, 0xff, 0x12, 0xf1, 0x17, 0x0e, 0x1a, 0x1e, 0x03,\r\n",
      "  0xe8, 0x08, 0x0a, 0x13, 0x17, 0xef, 0xe1, 0xf5, 0x07, 0x06, 0xe7, 0xfc,\r\n",
      "  0xfb, 0x0c, 0xf7, 0xe9, 0xf7, 0x11, 0x15, 0xf0, 0xf9, 0xe5, 0xde, 0xf1,\r\n",
      "  0xff, 0x16, 0xed, 0x01, 0x0e, 0x07, 0xfb, 0x03, 0x05, 0xf4, 0x03, 0x12,\r\n",
      "  0xed, 0x0f, 0xe7, 0xf3, 0x11, 0x02, 0xf7, 0xff, 0x17, 0xfb, 0xf0, 0xf5,\r\n",
      "  0x0c, 0xfa, 0x0b, 0xf8, 0x00, 0xec, 0xca, 0xf8, 0xf3, 0xf2, 0xf4, 0xff,\r\n",
      "  0x02, 0x04, 0xf6, 0x20, 0x05, 0xf1, 0xea, 0xf5, 0xea, 0xef, 0xdf, 0xf8,\r\n",
      "  0x06, 0xed, 0x00, 0xf6, 0x25, 0x0c, 0xf5, 0x18, 0xfe, 0xfd, 0x05, 0xe8,\r\n",
      "  0xf2, 0xf9, 0xe8, 0xef, 0xf2, 0xea, 0xfb, 0x06, 0x0e, 0xe7, 0xec, 0x11,\r\n",
      "  0xff, 0x05, 0xfa, 0xf0, 0xee, 0xf4, 0xee, 0xfe, 0xfc, 0xf1, 0xf4, 0xf8,\r\n",
      "  0x17, 0xf1, 0xfe, 0xed, 0x00, 0x20, 0x04, 0x0c, 0xf6, 0x03, 0xd4, 0x13,\r\n",
      "  0xee, 0x06, 0x05, 0xfb, 0x08, 0x27, 0xe3, 0xf6, 0x08, 0x16, 0x00, 0x0d,\r\n",
      "  0xe5, 0xee, 0xe3, 0x05, 0xd7, 0xf5, 0xf8, 0xe5, 0x12, 0x02, 0xf5, 0x0c,\r\n",
      "  0x11, 0x17, 0xff, 0x0a, 0xe0, 0xef, 0xd9, 0x16, 0xf3, 0xff, 0x0a, 0xfd,\r\n",
      "  0x05, 0x1b, 0xfd, 0xf1, 0xfb, 0x05, 0xfd, 0xf5, 0xed, 0xd7, 0xe5, 0x08,\r\n",
      "  0xf5, 0xef, 0x0d, 0xea, 0x00, 0x20, 0xe8, 0x0d, 0x07, 0x13, 0xf1, 0x0a,\r\n",
      "  0xdb, 0xf1, 0xdf, 0x0e, 0xfe, 0x12, 0x01, 0xe7, 0x14, 0x19, 0xf2, 0xe9,\r\n",
      "  0x12, 0x0e, 0x01, 0x00, 0xc6, 0xd5, 0xd5, 0x10, 0xf1, 0xf9, 0x0e, 0xd9,\r\n",
      "  0xfc, 0xfb, 0xee, 0xeb, 0x11, 0x11, 0xfc, 0xeb, 0xdc, 0xd4, 0xe9, 0xf7,\r\n",
      "  0xeb, 0x0c, 0x19, 0xf7, 0x04, 0xf4, 0x02, 0xe4, 0x17, 0x10, 0xff, 0xec,\r\n",
      "  0xdf, 0xda, 0xe9, 0x1b, 0xec, 0x0f, 0x0e, 0xdb, 0xed, 0xff, 0xf4, 0xfb,\r\n",
      "  0x07, 0x16, 0x02, 0x00, 0xed, 0xd9, 0xe0, 0x0f, 0xe7, 0x0f, 0x1e, 0xd2,\r\n",
      "  0x00, 0x17, 0x11, 0xdd, 0x04, 0x15, 0x00, 0x02, 0xfc, 0xe5, 0xec, 0x12,\r\n",
      "  0xf9, 0x08, 0x0c, 0xd6, 0xf5, 0x04, 0x06, 0xf8, 0x13, 0x17, 0x06, 0x0d,\r\n",
      "  0xfc, 0xf8, 0xf3, 0x1a, 0xf7, 0xf3, 0xf3, 0xd7, 0xea, 0x03, 0xf7, 0x07,\r\n",
      "  0xf8, 0xfd, 0x09, 0x0c, 0xed, 0xef, 0xf3, 0x27, 0x08, 0xf9, 0x01, 0xe3,\r\n",
      "  0xf5, 0x0f, 0xea, 0xf3, 0x0d, 0x0e, 0x12, 0xed, 0xf7, 0xe2, 0xdd, 0xed,\r\n",
      "  0x00, 0x0a, 0xc6, 0xe2, 0xea, 0x08, 0xf5, 0x02, 0xe7, 0xd8, 0xfc, 0xe7,\r\n",
      "  0x13, 0xd9, 0xf5, 0xe6, 0xf2, 0xee, 0xc7, 0xf2, 0x01, 0xfa, 0x08, 0x05,\r\n",
      "  0xe9, 0xfb, 0x0a, 0xff, 0x09, 0x0b, 0x26, 0xd8, 0xf5, 0xe9, 0xe3, 0x01,\r\n",
      "  0xe8, 0xf7, 0x00, 0xfb, 0x05, 0xef, 0x0e, 0xdf, 0xeb, 0x20, 0x52, 0xe8,\r\n",
      "  0x08, 0xe7, 0x19, 0xfd, 0x21, 0xf7, 0x1b, 0x0d, 0x09, 0xf1, 0xf7, 0x0c,\r\n",
      "  0xf1, 0x1b, 0x2f, 0x0a, 0x10, 0x04, 0x27, 0x12, 0x19, 0x09, 0x09, 0xf1,\r\n",
      "  0x0e, 0xfe, 0xfb, 0xfd, 0xda, 0x44, 0x42, 0x10, 0x0a, 0xdb, 0x30, 0x10,\r\n",
      "  0xf9, 0xf7, 0xeb, 0x0f, 0x2e, 0x05, 0xf3, 0x01, 0xd6, 0x4f, 0x25, 0xee,\r\n",
      "  0x0c, 0xf3, 0x19, 0x11, 0x06, 0x09, 0xf8, 0x0e, 0x1c, 0xf9, 0xe2, 0xfe,\r\n",
      "  0xeb, 0x31, 0x1e, 0x06, 0xf0, 0xde, 0xfe, 0x05, 0xf8, 0x0a, 0xfc, 0x16,\r\n",
      "  0x20, 0x0b, 0xf8, 0xeb, 0xec, 0x1c, 0x14, 0x02, 0xe8, 0xde, 0xf9, 0x0c,\r\n",
      "  0xe5, 0xf7, 0x04, 0xf5, 0x02, 0xf3, 0xf1, 0x00, 0xf0, 0x39, 0x14, 0x02,\r\n",
      "  0xf7, 0xf9, 0x03, 0x09, 0xeb, 0x26, 0xf4, 0xe8, 0xf3, 0xff, 0x05, 0x02,\r\n",
      "  0x08, 0xf9, 0x05, 0x11, 0xed, 0xfb, 0x12, 0x03, 0xeb, 0x19, 0x01, 0xfc,\r\n",
      "  0xf5, 0xf4, 0x04, 0xf4, 0x01, 0x2d, 0x12, 0xf8, 0x01, 0xfd, 0xf9, 0xff,\r\n",
      "  0x04, 0xef, 0x1b, 0xf1, 0xf6, 0x07, 0xfa, 0xf8, 0xf8, 0x13, 0x23, 0xea,\r\n",
      "  0x07, 0xf3, 0xff, 0x06, 0xf7, 0xdb, 0x03, 0x04, 0xef, 0x00, 0xf3, 0xec,\r\n",
      "  0xfb, 0x07, 0x08, 0x0a, 0x09, 0xf1, 0x11, 0x04, 0xf8, 0xf7, 0xfb, 0xdf,\r\n",
      "  0x0e, 0xe5, 0xff, 0xfa, 0x0a, 0x2f, 0x24, 0x27, 0xfa, 0x08, 0x16, 0xf3,\r\n",
      "  0xfc, 0xeb, 0xfc, 0xed, 0x10, 0xed, 0xfd, 0x0b, 0x00, 0x15, 0x0a, 0x29,\r\n",
      "  0xfa, 0x16, 0x10, 0xdd, 0xdf, 0x19, 0xf1, 0xed, 0xff, 0x07, 0x00, 0x12,\r\n",
      "  0x05, 0x00, 0x0c, 0x24, 0xf6, 0x0b, 0x14, 0xdb, 0xf7, 0xe4, 0x01, 0xde,\r\n",
      "  0xf2, 0x0b, 0x08, 0x08, 0x00, 0x0e, 0x22, 0x02, 0x0c, 0x0e, 0x0a, 0xdc,\r\n",
      "  0xf6, 0x0b, 0x05, 0xe8, 0x11, 0x02, 0x15, 0xf7, 0xf5, 0x23, 0xf1, 0xfc,\r\n",
      "  0x02, 0xf9, 0xf4, 0x04, 0xde, 0x28, 0x0e, 0xdd, 0xfe, 0x00, 0xfa, 0x0d,\r\n",
      "  0xf0, 0x0f, 0xf8, 0x02, 0xe6, 0x13, 0x06, 0xe1, 0xea, 0x04, 0x08, 0xda,\r\n",
      "  0xe4, 0x00, 0x15, 0xe3, 0x03, 0xdc, 0xff, 0x04, 0xea, 0xfd, 0xf0, 0xe5,\r\n",
      "  0x01, 0x10, 0xfd, 0xe3, 0xf0, 0xf7, 0x00, 0xf8, 0x08, 0xf1, 0x0a, 0xfd,\r\n",
      "  0xf3, 0x00, 0xe7, 0x00, 0x0c, 0x08, 0xe4, 0xf2, 0x0b, 0xf3, 0xfb, 0xf7,\r\n",
      "  0xe9, 0x0b, 0xf2, 0xfe, 0xe6, 0x10, 0xe9, 0xea, 0x09, 0xf5, 0x01, 0x00,\r\n",
      "  0x0f, 0xf4, 0xf3, 0xf4, 0xeb, 0xf4, 0x05, 0xe8, 0x03, 0xec, 0x02, 0x03,\r\n",
      "  0xff, 0xeb, 0x0d, 0x12, 0xea, 0x0c, 0xf1, 0xe4, 0xf7, 0x01, 0xff, 0x03,\r\n",
      "  0x07, 0x00, 0xfb, 0xf9, 0xf5, 0x07, 0xe8, 0xee, 0x05, 0xef, 0xf2, 0xee,\r\n",
      "  0x00, 0x13, 0xf5, 0xfc, 0x0d, 0x05, 0xff, 0xf2, 0xf9, 0xe7, 0xf0, 0x0d,\r\n",
      "  0xef, 0xfa, 0xf2, 0x06, 0x12, 0xe8, 0x07, 0x09, 0xfa, 0xff, 0x0c, 0x03,\r\n",
      "  0xeb, 0x1d, 0xe8, 0xeb, 0x09, 0xfd, 0x0a, 0x11, 0xf1, 0xe2, 0x09, 0xf4,\r\n",
      "  0x00, 0xfc, 0xf9, 0xdd, 0x08, 0xf4, 0xf2, 0x10, 0x05, 0xf3, 0x02, 0xeb,\r\n",
      "  0x0b, 0x0f, 0xf7, 0x0c, 0xf5, 0xe9, 0xf6, 0x0e, 0xe4, 0x0a, 0xea, 0xf3,\r\n",
      "  0xec, 0xfd, 0xfa, 0x0c, 0xfa, 0xee, 0xf1, 0xf9, 0xe8, 0x0c, 0xf3, 0xf8,\r\n",
      "  0x10, 0x04, 0xf1, 0x14, 0xeb, 0xf1, 0xf7, 0x00, 0x06, 0xee, 0x09, 0x0a,\r\n",
      "  0xed, 0xeb, 0xe2, 0xeb, 0x10, 0xf6, 0x10, 0x02, 0xe5, 0x0c, 0xf9, 0xfd,\r\n",
      "  0xf3, 0xf0, 0xf3, 0xe1, 0xfe, 0xe1, 0xf9, 0xfb, 0xe9, 0xfb, 0x09, 0x14,\r\n",
      "  0xf3, 0xed, 0xf9, 0xf5, 0x09, 0x05, 0x07, 0xf7, 0xfc, 0xf3, 0xf7, 0x07,\r\n",
      "  0xf3, 0x07, 0x08, 0xf9, 0xfa, 0xf3, 0x0c, 0xf1, 0xf0, 0xed, 0x0a, 0xf9,\r\n",
      "  0xff, 0xed, 0x07, 0x0d, 0x21, 0xec, 0xfa, 0x00, 0x06, 0x0a, 0xfb, 0x0d,\r\n",
      "  0xe6, 0xf7, 0xf0, 0xf1, 0xeb, 0x0b, 0xfc, 0x00, 0xfd, 0x01, 0x0c, 0xfb,\r\n",
      "  0xef, 0xf8, 0xe4, 0xec, 0xe8, 0x10, 0xf9, 0x0c, 0xe5, 0x0d, 0xfc, 0xe8,\r\n",
      "  0x07, 0xfb, 0xef, 0xfc, 0x19, 0x0d, 0x0a, 0xea, 0xfe, 0xf3, 0x00, 0xf6,\r\n",
      "  0xed, 0x04, 0x0c, 0x04, 0x17, 0xee, 0xfd, 0xf3, 0x00, 0x0c, 0xf4, 0x01,\r\n",
      "  0xfe, 0xde, 0x0a, 0xee, 0xe0, 0xf8, 0x0f, 0x1a, 0x1e, 0xf0, 0x16, 0xf2,\r\n",
      "  0xff, 0xee, 0xf0, 0xf3, 0x08, 0x09, 0xea, 0xeb, 0xea, 0xfc, 0xe8, 0x04,\r\n",
      "  0x07, 0x05, 0xe9, 0xfa, 0xf6, 0xe7, 0x07, 0x12, 0x04, 0x02, 0x07, 0xf6,\r\n",
      "  0xf2, 0x0d, 0x15, 0xe7, 0xec, 0x13, 0xf5, 0xfb, 0xe7, 0xf7, 0xfd, 0xfb,\r\n",
      "  0xef, 0x01, 0x0e, 0x0a, 0xe6, 0xfa, 0xe7, 0xec, 0xf5, 0x01, 0xf0, 0xfb,\r\n",
      "  0xe4, 0x05, 0x0e, 0xe9, 0xff, 0xf9, 0xf6, 0xed, 0x01, 0xef, 0x08, 0xff,\r\n",
      "  0x04, 0x18, 0xf5, 0xf8, 0xef, 0xfa, 0x10, 0xf8, 0xf1, 0xef, 0xec, 0xee,\r\n",
      "  0x09, 0xee, 0xf3, 0xf7, 0xef, 0x13, 0x0a, 0xe5, 0xe4, 0xfd, 0xf9, 0xe8,\r\n",
      "  0xff, 0xf8, 0xf9, 0xea, 0xfa, 0xea, 0xf2, 0x06, 0xe1, 0x16, 0x0a, 0x0a,\r\n",
      "  0xf2, 0xea, 0xf6, 0x0b, 0xf5, 0xed, 0xee, 0xf4, 0x17, 0x06, 0xf8, 0xe9,\r\n",
      "  0x01, 0x04, 0x14, 0xf2, 0xed, 0xdc, 0xf7, 0xde, 0xf0, 0x1a, 0x00, 0xf4,\r\n",
      "  0xf3, 0xe8, 0xed, 0xf8, 0xf3, 0x00, 0xf2, 0x03, 0x01, 0xf9, 0xe4, 0xe7,\r\n",
      "  0x01, 0xfa, 0xd4, 0xd6, 0x1a, 0xf8, 0xf0, 0x03, 0xf4, 0x2b, 0xe5, 0xf6,\r\n",
      "  0xed, 0xf5, 0x01, 0xdf, 0xee, 0xd6, 0xe4, 0x05, 0xe7, 0x05, 0xe4, 0xf3,\r\n",
      "  0x0e, 0x0d, 0x07, 0xee, 0xf6, 0xe7, 0xe3, 0xdd, 0x07, 0xce, 0xef, 0xf6,\r\n",
      "  0xe1, 0xec, 0xd9, 0xfd, 0x08, 0xf0, 0x06, 0xdc, 0xe4, 0x03, 0xe6, 0x05,\r\n",
      "  0xfd, 0x15, 0x0d, 0x0d, 0xfb, 0xf2, 0x05, 0xf4, 0x04, 0xe7, 0xfa, 0xd3,\r\n",
      "  0x0d, 0xe0, 0xe5, 0x0c, 0xdc, 0xfc, 0x25, 0x07, 0x17, 0xf9, 0x0f, 0xe4,\r\n",
      "  0xf1, 0xf4, 0x01, 0xe4, 0xf1, 0xff, 0xf1, 0x16, 0x04, 0xdb, 0x10, 0x15,\r\n",
      "  0xf4, 0x17, 0xf5, 0xe6, 0xeb, 0x17, 0x12, 0xe4, 0xfe, 0x08, 0x0b, 0xf8,\r\n",
      "  0x01, 0x16, 0x23, 0x01, 0xff, 0xfa, 0x0c, 0x0a, 0xfd, 0x00, 0x13, 0xf8,\r\n",
      "  0xe2, 0xe4, 0x09, 0x20, 0xf0, 0x30, 0x2e, 0x1c, 0x15, 0x15, 0x1f, 0xf1,\r\n",
      "  0xe7, 0xe7, 0x05, 0xf3, 0x11, 0xe6, 0x10, 0x11, 0x1b, 0x04, 0x1f, 0x24,\r\n",
      "  0x1b, 0x3b, 0x0d, 0xf4, 0xe0, 0xed, 0xf5, 0xf6, 0x09, 0x0e, 0x17, 0x10,\r\n",
      "  0x25, 0x1f, 0x17, 0x18, 0x01, 0x11, 0x12, 0x03, 0xee, 0x18, 0x02, 0xf3,\r\n",
      "  0x0b, 0xf7, 0x0d, 0x0d, 0x02, 0x0e, 0x24, 0x0a, 0x10, 0x1b, 0x10, 0x02,\r\n",
      "  0xf8, 0xf8, 0xfd, 0xf9, 0x09, 0xec, 0x01, 0x0e, 0xf7, 0x1d, 0x32, 0x01,\r\n",
      "  0x38, 0x06, 0x11, 0x06, 0x01, 0xe1, 0xec, 0xf9, 0xed, 0xf0, 0x19, 0x08,\r\n",
      "  0x17, 0x06, 0x2c, 0xef, 0xf8, 0xec, 0x06, 0x0d, 0xee, 0x1a, 0xea, 0x21,\r\n",
      "  0xfe, 0xed, 0x0b, 0x0d, 0xea, 0x1a, 0x2a, 0xec, 0x25, 0xed, 0x14, 0x11,\r\n",
      "  0xe5, 0xef, 0xfc, 0xf8, 0x12, 0x02, 0xeb, 0xf9, 0xdf, 0x0c, 0x1e, 0xf1,\r\n",
      "  0x12, 0xe9, 0xf1, 0xfc, 0xef, 0xeb, 0xf8, 0x11, 0x03, 0xe3, 0xec, 0xec,\r\n",
      "  0xfb, 0x2d, 0x24, 0xf5, 0x01, 0xe5, 0x15, 0xfc, 0xfa, 0xfb, 0x0d, 0xfc,\r\n",
      "  0xf8, 0xe9, 0x10, 0xfd, 0xe4, 0x2f, 0x23, 0xf2, 0xff, 0xed, 0x07, 0xf4,\r\n",
      "  0x05, 0x08, 0xe6, 0x06, 0x08, 0xef, 0xf3, 0x10, 0xf5, 0xea, 0x00, 0xf8,\r\n",
      "  0xfa, 0xfb, 0x4f, 0x05, 0x3b, 0xee, 0xf9, 0x03, 0x61, 0x1a, 0x02, 0x07,\r\n",
      "  0x0a, 0x0a, 0xe3, 0xfd, 0xd6, 0xf1, 0x32, 0xdb, 0x1b, 0xd5, 0xfd, 0xe7,\r\n",
      "  0x5f, 0x0e, 0x21, 0x15, 0x04, 0xa5, 0xe4, 0xf4, 0xf8, 0xf6, 0x0e, 0xdd,\r\n",
      "  0x25, 0xfe, 0xee, 0xf8, 0x39, 0x24, 0x07, 0xf2, 0xee, 0xa7, 0xcb, 0xff,\r\n",
      "  0xdf, 0x01, 0x06, 0xd7, 0xda, 0xff, 0x10, 0xd4, 0xea, 0x0c, 0x09, 0xf6,\r\n",
      "  0xfa, 0x97, 0xbc, 0xed, 0xd0, 0xe7, 0xfd, 0xc2, 0xfd, 0x07, 0xf6, 0xd7,\r\n",
      "  0xf2, 0x0e, 0x18, 0x05, 0x03, 0xb7, 0xce, 0xfe, 0xdf, 0xf5, 0xff, 0xd7,\r\n",
      "  0xe9, 0x16, 0x10, 0xdf, 0xe4, 0x1b, 0x06, 0x09, 0xe3, 0x95, 0xe5, 0x07,\r\n",
      "  0xe4, 0xef, 0x01, 0xd7, 0xec, 0x00, 0x0e, 0xed, 0xc7, 0xfc, 0x16, 0xe0,\r\n",
      "  0xf4, 0xb4, 0xeb, 0x19, 0xdb, 0xeb, 0xe7, 0xc7, 0xf3, 0x0b, 0x08, 0xda,\r\n",
      "  0xe6, 0x0c, 0xfe, 0xf2, 0xe6, 0xeb, 0xdc, 0x07, 0x05, 0xfd, 0x0b, 0xde,\r\n",
      "  0x06, 0x05, 0xfd, 0xfb, 0x04, 0x20, 0x16, 0x0c, 0xeb, 0xbd, 0xfa, 0x08,\r\n",
      "  0xfc, 0xf4, 0xf3, 0xbd, 0x04, 0xec, 0xf6, 0xff, 0x04, 0x13, 0x1e, 0x04,\r\n",
      "  0xdd, 0xb3, 0xef, 0xf6, 0xff, 0x0f, 0x0b, 0xbe, 0x06, 0x09, 0x05, 0xef,\r\n",
      "  0x02, 0x19, 0x0a, 0xf1, 0xd6, 0xcb, 0xeb, 0xf9, 0xfb, 0x09, 0xfb, 0xce,\r\n",
      "  0x12, 0xfa, 0xf6, 0x08, 0xf7, 0x24, 0x1d, 0xe8, 0xed, 0x81, 0xed, 0x16,\r\n",
      "  0xf9, 0xe8, 0xeb, 0xd0, 0xfc, 0x12, 0x08, 0xdf, 0xe5, 0x1b, 0xfd, 0xe3,\r\n",
      "  0xeb, 0xb7, 0xed, 0x09, 0xd8, 0x11, 0x07, 0xc9, 0x0c, 0xe7, 0x0a, 0xf8,\r\n",
      "  0xf6, 0x14, 0x06, 0xe3, 0xd8, 0xd5, 0xe8, 0x17, 0xdb, 0xe8, 0x00, 0xda,\r\n",
      "  0xf3, 0x00, 0xe9, 0xd8, 0x0c, 0x0f, 0xf5, 0xea, 0xd9, 0xaa, 0xea, 0x14,\r\n",
      "  0xd7, 0x05, 0x13, 0xe7, 0x37, 0x13, 0xfb, 0xf2, 0xef, 0x04, 0xf4, 0xed,\r\n",
      "  0xdd, 0xc4, 0xeb, 0xfc, 0xf1, 0xf9, 0xf8, 0xd6, 0x08, 0xea, 0xf4, 0xdd,\r\n",
      "  0xe3, 0xf8, 0x11, 0xea, 0xe8, 0xbd, 0x0e, 0x03, 0xeb, 0xef, 0x02, 0xea,\r\n",
      "  0x0f, 0xf4, 0xee, 0xfe, 0xfb, 0x12, 0x09, 0xf9, 0xf7, 0xfa, 0xde, 0xef,\r\n",
      "  0xee, 0xf7, 0x05, 0xd4, 0xe7, 0xe7, 0xf1, 0xfa, 0xf8, 0xfe, 0xfe, 0x07,\r\n",
      "  0xee, 0xbe, 0xff, 0x12, 0xef, 0x09, 0x02, 0xd9, 0xff, 0x00, 0x17, 0xdf,\r\n",
      "  0xef, 0x0a, 0x11, 0x04, 0x0f, 0xc6, 0xbd, 0x08, 0xe2, 0xe8, 0xe5, 0xdd,\r\n",
      "  0xe7, 0xef, 0x08, 0xe7, 0xee, 0x02, 0xf5, 0xeb, 0xfb, 0xf9, 0xe4, 0xdd,\r\n",
      "  0xf8, 0xd3, 0xd4, 0xf6, 0xec, 0x05, 0xe7, 0x07, 0xfc, 0xd6, 0xff, 0xed,\r\n",
      "  0xfe, 0x09, 0xe5, 0xeb, 0xe4, 0x00, 0xd4, 0xe4, 0xea, 0xf1, 0xee, 0x08,\r\n",
      "  0xd6, 0xe7, 0xfe, 0xdd, 0xfb, 0xf4, 0x1d, 0xf0, 0xf0, 0xe6, 0xf9, 0x01,\r\n",
      "  0x02, 0xf7, 0x08, 0xf4, 0xe6, 0xe3, 0xff, 0xe7, 0xe1, 0xe7, 0x20, 0x04,\r\n",
      "  0x07, 0xef, 0x17, 0xe3, 0xec, 0xf5, 0xeb, 0xff, 0xff, 0xf9, 0xfb, 0x05,\r\n",
      "  0xfd, 0xeb, 0x30, 0x2c, 0x0a, 0xe6, 0x19, 0x05, 0xfc, 0xdf, 0x0e, 0xe4,\r\n",
      "  0xf9, 0x0b, 0xfd, 0x1b, 0xf4, 0x07, 0x20, 0x2c, 0x08, 0x00, 0x21, 0x02,\r\n",
      "  0xec, 0x18, 0x10, 0x04, 0x1a, 0x08, 0x04, 0x1e, 0xe5, 0x26, 0x36, 0x16,\r\n",
      "  0x1a, 0xf7, 0x10, 0x00, 0xf7, 0xee, 0x07, 0xff, 0x02, 0x15, 0xf6, 0x1a,\r\n",
      "  0x01, 0x08, 0x37, 0x05, 0xfe, 0x03, 0x0f, 0xe4, 0xea, 0xf4, 0xf9, 0x04,\r\n",
      "  0x03, 0xe6, 0x0e, 0x14, 0xf8, 0x11, 0x39, 0xf4, 0x10, 0x0b, 0xff, 0x0f,\r\n",
      "  0x09, 0xe8, 0xf0, 0x0b, 0x0b, 0xf4, 0x0d, 0xfa, 0x06, 0x2b, 0x21, 0xfa,\r\n",
      "  0x00, 0xec, 0x02, 0x09, 0xe8, 0x0c, 0xfa, 0xe5, 0x08, 0xf5, 0xfc, 0x0f,\r\n",
      "  0xfb, 0x30, 0x30, 0xf3, 0x10, 0xe5, 0x01, 0x1b, 0xfb, 0x0c, 0xf6, 0xf4,\r\n",
      "  0x01, 0x01, 0xf0, 0xf6, 0xf6, 0x0a, 0x33, 0xea, 0x24, 0x0a, 0xf2, 0x16,\r\n",
      "  0xef, 0xe3, 0xff, 0x01, 0xfb, 0xf6, 0xfc, 0x06, 0xf0, 0x1c, 0x18, 0xf3,\r\n",
      "  0x01, 0xf8, 0x08, 0xf8, 0xee, 0xf7, 0xe9, 0x09, 0xf9, 0xe7, 0xf6, 0x05,\r\n",
      "  0xcf, 0x30, 0x11, 0xf8, 0x10, 0x03, 0xe5, 0x11, 0x09, 0xff, 0xe2, 0x17,\r\n",
      "  0xf7, 0x00, 0x06, 0xf7, 0xd5, 0x25, 0x37, 0xf0, 0xf3, 0xf5, 0x0e, 0x01,\r\n",
      "  0x0a, 0x00, 0xe7, 0x19, 0x0d, 0xf2, 0x0b, 0x05, 0xdb, 0x15, 0x11, 0xf5,\r\n",
      "  0xfb, 0xf0, 0x0d, 0xf6, 0xf4, 0x06, 0xe3, 0x06, 0x19, 0xf5, 0xfe, 0xf8,\r\n",
      "  0xdf, 0x0b, 0xeb, 0xf9, 0xf7, 0x16, 0xfd, 0x0c, 0xff, 0xf6, 0xfe, 0x10,\r\n",
      "  0x0b, 0x0e, 0x0f, 0xf9, 0xe7, 0x0b, 0x13, 0xf3, 0xf6, 0x0f, 0xf9, 0xfb,\r\n",
      "  0x0f, 0xe6, 0xf6, 0x14, 0xf5, 0xeb, 0x06, 0x00, 0xe0, 0x22, 0x0a, 0xfb,\r\n",
      "  0xf0, 0x08, 0xf6, 0xfd, 0x00, 0xe8, 0xf7, 0x0a, 0x0e, 0x10, 0x06, 0x01,\r\n",
      "  0xfe, 0x0d, 0x06, 0xe4, 0x1b, 0xf9, 0xf9, 0x06, 0xed, 0x03, 0xff, 0xf4,\r\n",
      "  0xff, 0x13, 0xfd, 0x0f, 0xef, 0x12, 0x0d, 0xf7, 0x12, 0xf2, 0x0f, 0x01,\r\n",
      "  0x10, 0xf1, 0x06, 0x03, 0xfd, 0x06, 0x03, 0xf0, 0x03, 0xe7, 0x06, 0x36,\r\n",
      "  0x00, 0x2a, 0xe0, 0xf1, 0xe1, 0x2b, 0xec, 0xed, 0xe9, 0xf1, 0x02, 0xdf,\r\n",
      "  0xfb, 0xf8, 0x06, 0xf3, 0x18, 0x11, 0xec, 0x09, 0xfb, 0x05, 0xef, 0xed,\r\n",
      "  0xef, 0xd4, 0x08, 0xe2, 0x0e, 0xea, 0x0b, 0xfd, 0x11, 0x31, 0xd1, 0xea,\r\n",
      "  0xf2, 0x09, 0x11, 0xe4, 0xd8, 0xe6, 0x1e, 0xfd, 0x1e, 0xe4, 0x09, 0xe5,\r\n",
      "  0xff, 0x16, 0xf8, 0xfd, 0xf1, 0xed, 0xf7, 0xde, 0xf1, 0xf9, 0x0d, 0x0d,\r\n",
      "  0xf8, 0x3b, 0xf8, 0xf3, 0x08, 0x0b, 0xf7, 0xf6, 0x07, 0x01, 0xff, 0xe8,\r\n",
      "  0x10, 0xf3, 0x0f, 0x04, 0xef, 0x23, 0xfd, 0xe6, 0xf3, 0x11, 0xe5, 0x05,\r\n",
      "  0x24, 0xe8, 0xe4, 0xf4, 0xf2, 0xff, 0x0f, 0xf9, 0x01, 0x18, 0xf5, 0xe3,\r\n",
      "  0xde, 0x05, 0x04, 0x1a, 0x1b, 0xcb, 0xef, 0x0b, 0xfd, 0x10, 0x0b, 0x00,\r\n",
      "  0x0d, 0x1d, 0xe3, 0xf9, 0xff, 0xe2, 0xfc, 0x20, 0x0c, 0xbd, 0x02, 0x1a,\r\n",
      "  0x13, 0x07, 0xe9, 0x07, 0x05, 0xfd, 0xf6, 0xf5, 0xe6, 0xf3, 0x01, 0x0e,\r\n",
      "  0x12, 0xfa, 0x0f, 0x1d, 0x1b, 0xfc, 0xf1, 0xed, 0x0a, 0xf1, 0xf0, 0xf2,\r\n",
      "  0xf0, 0xdf, 0x14, 0x0c, 0x11, 0xfe, 0x08, 0x25, 0x16, 0x1e, 0xe5, 0x04,\r\n",
      "  0x08, 0xd2, 0xf2, 0xec, 0xe8, 0xc6, 0x14, 0xfa, 0x1b, 0x01, 0xee, 0x15,\r\n",
      "  0x13, 0x08, 0xe4, 0x1e, 0x11, 0xfb, 0x16, 0x02, 0xf0, 0xd2, 0x25, 0x02,\r\n",
      "  0xfd, 0xe0, 0xe9, 0x0d, 0x13, 0x0e, 0xd8, 0x1f, 0xf5, 0xf4, 0x07, 0x0a,\r\n",
      "  0x01, 0xd1, 0x30, 0xfa, 0x05, 0xe1, 0x10, 0xf6, 0x1f, 0x0b, 0xe6, 0x18,\r\n",
      "  0xee, 0xff, 0xf2, 0x05, 0x07, 0xe3, 0x13, 0xf3, 0xf9, 0xe9, 0x02, 0x12,\r\n",
      "  0x27, 0x0c, 0xe9, 0x01, 0x00, 0xf5, 0xf8, 0x1a, 0x03, 0xfe, 0xfd, 0xff,\r\n",
      "  0xf1, 0xef, 0xea, 0xeb, 0x1f, 0x08, 0xef, 0xf4, 0xf3, 0xca, 0x06, 0x25,\r\n",
      "  0xe8, 0x00, 0x13, 0x05, 0xf2, 0xf6, 0xf8, 0x03, 0xf2, 0xfe, 0xf5, 0x05,\r\n",
      "  0x12, 0xda, 0x01, 0x15, 0x0b, 0x11, 0xff, 0xfe, 0xe6, 0x0d, 0xf6, 0x0f,\r\n",
      "  0xfb, 0x04, 0xf5, 0xfc, 0x19, 0xe2, 0x06, 0x21, 0x02, 0x05, 0x01, 0x0a,\r\n",
      "  0xed, 0x26, 0xe9, 0xe9, 0x05, 0x08, 0xfd, 0x0c, 0x0d, 0x05, 0xe2, 0x0f,\r\n",
      "  0xf7, 0x03, 0xf4, 0x08, 0xdf, 0x0e, 0xe8, 0xf5, 0xfe, 0xfe, 0x02, 0x11,\r\n",
      "  0xfe, 0xe0, 0xd8, 0x11, 0xf7, 0x13, 0xf4, 0xf0, 0xe4, 0x29, 0xfa, 0xf7,\r\n",
      "  0xf5, 0xff, 0xfe, 0xdf, 0x07, 0xce, 0xf7, 0x00, 0xeb, 0x09, 0xdb, 0x0f,\r\n",
      "  0xe2, 0x1b, 0x00, 0xee, 0xeb, 0xf1, 0x09, 0xf6, 0xf6, 0x02, 0x13, 0xe8,\r\n",
      "  0x02, 0xee, 0x04, 0x11, 0xe7, 0x0a, 0xf6, 0xfb, 0x1d, 0xfa, 0xcb, 0xff,\r\n",
      "  0xfa, 0x0c, 0x25, 0xf6, 0xfb, 0xd8, 0x32, 0x01, 0xeb, 0x11, 0xe2, 0x1f,\r\n",
      "  0x29, 0x05, 0xdf, 0x01, 0x16, 0xc9, 0xfe, 0xf6, 0xee, 0xe0, 0x44, 0x19,\r\n",
      "  0xf1, 0xf8, 0xfc, 0x0f, 0x24, 0x07, 0xe9, 0xff, 0x0e, 0xde, 0x02, 0x1b,\r\n",
      "  0x03, 0x07, 0x18, 0xf1, 0xe5, 0x03, 0xfd, 0xf7, 0x25, 0x0c, 0x07, 0x08,\r\n",
      "  0xfe, 0x2f, 0x0f, 0x1d, 0x07, 0x0b, 0x04, 0xf4, 0xe4, 0x0a, 0x02, 0x10,\r\n",
      "  0x0d, 0x0a, 0xfc, 0x03, 0x18, 0xf4, 0x0c, 0xfa, 0x0d, 0x0c, 0xde, 0x18,\r\n",
      "  0xe7, 0x0a, 0x15, 0x06, 0xe6, 0x03, 0x0c, 0xf8, 0x12, 0x29, 0x20, 0xf0,\r\n",
      "  0x10, 0x05, 0x00, 0x05, 0xe0, 0x17, 0x02, 0xf6, 0xed, 0xf4, 0xfb, 0xff,\r\n",
      "  0x19, 0xff, 0xee, 0x0a, 0x18, 0xfb, 0x08, 0x01, 0xe0, 0x17, 0x0b, 0xf8,\r\n",
      "  0xea, 0xf1, 0x10, 0xf0, 0x14, 0x05, 0x00, 0x11, 0xec, 0x04, 0xe1, 0x04,\r\n",
      "  0xfe, 0xf0, 0xf3, 0xeb, 0xff, 0x04, 0xf1, 0xf7, 0x23, 0xfd, 0xf9, 0xf8,\r\n",
      "  0xf2, 0xff, 0x06, 0xfb, 0xe4, 0xea, 0xfc, 0xef, 0xf2, 0xf1, 0xf6, 0x07,\r\n",
      "  0x0b, 0xd4, 0x1b, 0xfe, 0xf8, 0x0e, 0x1d, 0x0a, 0xd8, 0xe6, 0x19, 0xe7,\r\n",
      "  0xec, 0x01, 0x1a, 0x07, 0x1c, 0xf4, 0x12, 0xf7, 0x17, 0x0e, 0x2e, 0xfd,\r\n",
      "  0xea, 0xee, 0x16, 0xea, 0xf3, 0xf7, 0x00, 0x15, 0x09, 0x05, 0x15, 0x00,\r\n",
      "  0x0e, 0xff, 0xed, 0xeb, 0xde, 0x0d, 0x0e, 0xe2, 0x0c, 0xff, 0x1e, 0x0a,\r\n",
      "  0x17, 0xeb, 0xed, 0xfc, 0xf2, 0x10, 0x0c, 0xf0, 0xfa, 0x02, 0x09, 0xf6,\r\n",
      "  0xef, 0xf3, 0x02, 0x13, 0x20, 0xeb, 0x15, 0xf5, 0x06, 0x0d, 0x14, 0xf9,\r\n",
      "  0xdb, 0xf4, 0x03, 0xe9, 0x13, 0xf7, 0x04, 0xf4, 0x16, 0x1f, 0x0d, 0x02,\r\n",
      "  0xf7, 0x02, 0xda, 0x08, 0xce, 0x16, 0x02, 0xfb, 0x09, 0xf8, 0x09, 0xec,\r\n",
      "  0x0b, 0x19, 0x02, 0xed, 0xe6, 0x0c, 0xf7, 0x0d, 0xd2, 0x05, 0x13, 0xe5,\r\n",
      "  0x12, 0xef, 0x07, 0xfe, 0x03, 0x27, 0x12, 0xff, 0x0a, 0xf8, 0x15, 0xd8,\r\n",
      "  0xd7, 0xec, 0xf2, 0xf2, 0x09, 0xf7, 0x02, 0xf5, 0xf7, 0xe9, 0x24, 0xeb,\r\n",
      "  0xf5, 0x0b, 0x04, 0xfd, 0xef, 0x05, 0x02, 0xf1, 0x08, 0xf6, 0xeb, 0x08,\r\n",
      "  0x03, 0xef, 0x1c, 0xfb, 0xe9, 0x04, 0x09, 0xea, 0xf8, 0xf6, 0x04, 0xda,\r\n",
      "  0x1b, 0x01, 0xf5, 0xf1, 0xfb, 0xee, 0xea, 0xf9, 0xe2, 0xf5, 0xe1, 0xe4,\r\n",
      "  0xf2, 0xf8, 0xfc, 0xd2, 0x00, 0x0a, 0xff, 0x0f, 0x0d, 0x0e, 0xf2, 0x11,\r\n",
      "  0xf9, 0x14, 0xdb, 0xf6, 0xed, 0xf8, 0xec, 0xf1, 0xea, 0xee, 0x05, 0xef,\r\n",
      "  0xe8, 0x05, 0xf2, 0xfe, 0x02, 0xff, 0xe1, 0xf0, 0xd8, 0x02, 0xdb, 0xeb,\r\n",
      "  0xe2, 0xd7, 0xeb, 0xe6, 0x0b, 0xd0, 0xe3, 0x07, 0xed, 0xff, 0xd0, 0xf1,\r\n",
      "  0xe2, 0x12, 0xf0, 0xd4, 0xe9, 0xf8, 0x14, 0x01, 0x0d, 0xe7, 0xf3, 0x10,\r\n",
      "  0xfc, 0x0e, 0xe9, 0xf5, 0xfc, 0x11, 0x0a, 0xe7, 0xd8, 0xfa, 0x16, 0xde,\r\n",
      "  0x1a, 0x16, 0x20, 0xfa, 0xfe, 0x0c, 0xfb, 0xec, 0x0a, 0xf8, 0x12, 0xdf,\r\n",
      "  0xf9, 0xf1, 0x25, 0xea, 0x05, 0x3c, 0x25, 0x03, 0x0d, 0xfe, 0xef, 0x0a,\r\n",
      "  0xf6, 0xeb, 0x01, 0xfc, 0xea, 0xf3, 0x1d, 0x09, 0xeb, 0x20, 0x3f, 0x08,\r\n",
      "  0xe9, 0xf0, 0x11, 0xfa, 0xff, 0xe9, 0x0a, 0xe8, 0xf6, 0x0f, 0x26, 0x13,\r\n",
      "  0xf8, 0x20, 0x38, 0x12, 0x06, 0x01, 0x04, 0x03, 0xf5, 0xf5, 0x03, 0xea,\r\n",
      "  0x12, 0x0c, 0x28, 0xf9, 0x04, 0x3c, 0x11, 0xfa, 0xfa, 0xed, 0x1e, 0x02,\r\n",
      "  0x01, 0xf0, 0xfb, 0xec, 0x08, 0x08, 0xfa, 0x16, 0x05, 0x41, 0x22, 0xf9,\r\n",
      "  0x08, 0xfa, 0x0e, 0xec, 0xf3, 0xee, 0x0d, 0x08, 0xf9, 0xf9, 0x05, 0xfe,\r\n",
      "  0x13, 0x4a, 0x1b, 0x02, 0xff, 0xef, 0x15, 0x14, 0xfa, 0xe1, 0xef, 0x12,\r\n",
      "  0x0a, 0x00, 0x13, 0xf0, 0x03, 0x0a, 0x11, 0xf5, 0x05, 0xec, 0x1b, 0xff,\r\n",
      "  0xf7, 0xfa, 0xfa, 0x17, 0x05, 0xfc, 0xe7, 0x1a, 0x0e, 0x24, 0x0f, 0xd4,\r\n",
      "  0xee, 0xd1, 0xfa, 0x2a, 0xee, 0x0a, 0xfe, 0x22, 0xf6, 0xf9, 0xdc, 0xf0,\r\n",
      "  0xeb, 0x2d, 0x1a, 0xd0, 0xfc, 0xec, 0x0f, 0x0d, 0x10, 0x14, 0x0f, 0x18,\r\n",
      "  0x28, 0xff, 0xcf, 0xf3, 0xf6, 0x14, 0x16, 0xe4, 0xf9, 0xe3, 0xfa, 0x1b,\r\n",
      "  0xf4, 0xf9, 0xdf, 0x19, 0x1c, 0xfa, 0xd9, 0x08, 0x08, 0x14, 0x0b, 0xee,\r\n",
      "  0x13, 0xfc, 0x0a, 0x03, 0xf1, 0xfd, 0x00, 0x12, 0xfb, 0xf0, 0xe5, 0xfc,\r\n",
      "  0x08, 0x27, 0x15, 0x03, 0xea, 0x07, 0x1d, 0xf5, 0xf8, 0x07, 0xd6, 0x17,\r\n",
      "  0xfd, 0xf0, 0xef, 0x01, 0xf5, 0x0a, 0x01, 0x1e, 0x14, 0xfe, 0xfe, 0xf7,\r\n",
      "  0x08, 0x03, 0x01, 0x07, 0xfc, 0x09, 0x0b, 0xf2, 0x0b, 0xf8, 0x00, 0x0e,\r\n",
      "  0x01, 0xf7, 0x16, 0xf1, 0xfb, 0x12, 0xe1, 0x0d, 0x09, 0xfa, 0xf9, 0x01,\r\n",
      "  0xf0, 0x01, 0x09, 0x13, 0x06, 0x14, 0x08, 0x0e, 0xf5, 0x0c, 0xdf, 0xed,\r\n",
      "  0x01, 0xf9, 0x0e, 0x04, 0xff, 0xe3, 0xf6, 0x21, 0x01, 0x04, 0x06, 0xf4,\r\n",
      "  0xdb, 0x12, 0x0a, 0xf6, 0xf3, 0x0c, 0x13, 0xff, 0x0b, 0xe2, 0xe4, 0xe4,\r\n",
      "  0xec, 0xf0, 0x0a, 0xf2, 0xef, 0xeb, 0x00, 0xf0, 0xff, 0x12, 0x0d, 0x07,\r\n",
      "  0xf0, 0xdd, 0xff, 0x09, 0x00, 0xee, 0x1a, 0xe2, 0xfb, 0xe7, 0x20, 0xf4,\r\n",
      "  0x1d, 0x15, 0x0d, 0x05, 0xfb, 0x01, 0xcf, 0x10, 0x02, 0xf2, 0x0d, 0xe1,\r\n",
      "  0xf4, 0xfd, 0xfa, 0xfc, 0x2f, 0x01, 0x04, 0x06, 0xeb, 0xc4, 0xcc, 0x02,\r\n",
      "  0x07, 0x0a, 0xe6, 0xee, 0xd7, 0x01, 0xe6, 0xd2, 0xeb, 0x00, 0xef, 0x14,\r\n",
      "  0xf5, 0xba, 0xe6, 0xf5, 0xfd, 0x07, 0xe6, 0x02, 0xe4, 0xf7, 0xf4, 0x02,\r\n",
      "  0xc5, 0x13, 0x00, 0x02, 0xf5, 0xb1, 0xcc, 0x0b, 0xf9, 0xf1, 0xf3, 0x0d,\r\n",
      "  0xd4, 0x22, 0xf5, 0xfb, 0xe1, 0xf7, 0x04, 0x00, 0xdf, 0xcb, 0xfd, 0x0d,\r\n",
      "  0xfe, 0x0b, 0x13, 0xf1, 0xde, 0x17, 0x0c, 0xf5, 0xe7, 0x04, 0x09, 0x19,\r\n",
      "  0xe5, 0xd9, 0x14, 0x22, 0x18, 0x17, 0xfd, 0xe2, 0xda, 0x28, 0xf4, 0x09,\r\n",
      "  0xe3, 0xff, 0x18, 0x1e, 0xd5, 0xde, 0x26, 0x0a, 0x14, 0x10, 0x01, 0xfa,\r\n",
      "  0xdf, 0xf1, 0xf9, 0xe3, 0x01, 0x05, 0x08, 0x05, 0xdc, 0xfd, 0x24, 0x23,\r\n",
      "  0x0a, 0x2b, 0x18, 0xeb, 0xc9, 0x0a, 0x0c, 0xf6, 0xe6, 0x1f, 0x02, 0x18,\r\n",
      "  0xd2, 0xda, 0x13, 0x26, 0x26, 0x1c, 0x16, 0xec, 0xf1, 0x24, 0xff, 0xe9,\r\n",
      "  0x01, 0x1a, 0x12, 0x1a, 0xd4, 0x04, 0x2a, 0x24, 0x1e, 0x11, 0x02, 0xf6,\r\n",
      "  0xfe, 0x2f, 0xef, 0xe2, 0x01, 0x13, 0x01, 0x0a, 0xcd, 0x03, 0x34, 0x20,\r\n",
      "  0x24, 0x1a, 0x11, 0xe8, 0xeb, 0x18, 0xe7, 0xea, 0xfb, 0x09, 0xfb, 0xf9,\r\n",
      "  0xf0, 0x13, 0x27, 0x15, 0x1d, 0x01, 0x06, 0x00, 0xce, 0x12, 0x02, 0xec,\r\n",
      "  0x0d, 0xfe, 0xf2, 0x0d, 0xe1, 0x22, 0x2f, 0x11, 0x0c, 0x0b, 0x00, 0xfc,\r\n",
      "  0xdc, 0x12, 0xe1, 0x1a, 0x02, 0xf9, 0x0d, 0x09, 0xda, 0x11, 0x2d, 0x02,\r\n",
      "  0x1a, 0xf4, 0xfc, 0xfa, 0xd3, 0x0b, 0xdd, 0xf6, 0xf3, 0x05, 0xf0, 0x02,\r\n",
      "  0xe8, 0x14, 0x3c, 0xfc, 0x08, 0xfa, 0xf4, 0xff, 0xfc, 0xf9, 0xe5, 0xf3,\r\n",
      "  0xf9, 0xdf, 0xf3, 0x12, 0xf5, 0x13, 0x3f, 0xf9, 0x01, 0xf9, 0x0a, 0xfb,\r\n",
      "  0xee, 0x04, 0xe6, 0xf0, 0xf2, 0xfa, 0xe0, 0xf8, 0xf9, 0x3f, 0x07, 0xff,\r\n",
      "  0x0a, 0xee, 0xf9, 0xe4, 0x01, 0x07, 0xf2, 0xde, 0x0f, 0xfb, 0x04, 0x12,\r\n",
      "  0xed, 0x38, 0x38, 0x08, 0xfc, 0xfe, 0x0b, 0xf4, 0xda, 0xfe, 0xf5, 0xe2,\r\n",
      "  0xfb, 0xf7, 0xf4, 0xfd, 0xeb, 0xe7, 0xef, 0xf3, 0xeb, 0xe5, 0x0b, 0xe6,\r\n",
      "  0xf3, 0xe1, 0x0d, 0xe6, 0xf7, 0x0b, 0xee, 0xfd, 0xf8, 0xfa, 0x01, 0xfb,\r\n",
      "  0xe9, 0xe8, 0xd3, 0x06, 0xf6, 0xf0, 0x19, 0x05, 0x02, 0x0b, 0xf4, 0xff,\r\n",
      "  0x0b, 0x1a, 0xd4, 0xec, 0xf1, 0xfb, 0xee, 0x05, 0x10, 0x04, 0xe5, 0x0c,\r\n",
      "  0xf9, 0xeb, 0x02, 0xd4, 0xf9, 0xf2, 0xf8, 0x0b, 0xe8, 0xfc, 0xdc, 0xf0,\r\n",
      "  0xf2, 0x00, 0xe9, 0xf5, 0xe4, 0xde, 0xe7, 0xe1, 0x0f, 0x08, 0xc4, 0xfc,\r\n",
      "  0x04, 0xf7, 0xd7, 0x0b, 0x0f, 0xdf, 0x00, 0xff, 0xd7, 0xd9, 0xee, 0xdd,\r\n",
      "  0x02, 0xb8, 0xdd, 0xf9, 0xf5, 0xed, 0xde, 0x02, 0x0e, 0xfa, 0xfc, 0x09,\r\n",
      "  0xe4, 0xdc, 0xf1, 0xc7, 0x13, 0xda, 0x0e, 0xe2, 0xe1, 0xf6, 0xf5, 0xf7,\r\n",
      "  0x01, 0xe7, 0x1d, 0xe3, 0x06, 0xf2, 0xed, 0x02, 0xfe, 0x05, 0x17, 0x19,\r\n",
      "  0x0b, 0xec, 0x19, 0xf0, 0x0c, 0xf2, 0xec, 0x0e, 0x05, 0xf6, 0xec, 0x01,\r\n",
      "  0x27, 0xe8, 0x09, 0x01, 0xf9, 0xfa, 0xf9, 0x0c, 0x00, 0xfa, 0xfe, 0xf5,\r\n",
      "  0x05, 0x0c, 0x0c, 0x09, 0x18, 0x14, 0x2a, 0xfe, 0x05, 0x04, 0x12, 0x03,\r\n",
      "  0xf2, 0xff, 0x04, 0x06, 0xf1, 0xed, 0xf9, 0x09, 0xf0, 0x17, 0x44, 0x14,\r\n",
      "  0x19, 0x0e, 0x1a, 0x17, 0xef, 0xf6, 0x1b, 0x10, 0x04, 0xd9, 0x0c, 0x13,\r\n",
      "  0x09, 0x24, 0x39, 0x15, 0x33, 0x2b, 0x10, 0x0e, 0xf2, 0x00, 0x22, 0xfd,\r\n",
      "  0x0c, 0xf6, 0x1c, 0xf9, 0xea, 0x1d, 0x2a, 0x16, 0x1d, 0x17, 0x09, 0x24,\r\n",
      "  0xf0, 0xff, 0x04, 0x02, 0xf2, 0xfe, 0x14, 0xf5, 0xf3, 0x0f, 0x3d, 0xee,\r\n",
      "  0x13, 0x29, 0xf7, 0x22, 0xfb, 0x05, 0x08, 0x07, 0xee, 0xff, 0x1b, 0xff,\r\n",
      "  0xeb, 0x26, 0x2c, 0xf6, 0x1e, 0x0f, 0xed, 0x14, 0xef, 0xf2, 0xf9, 0x06,\r\n",
      "  0xf6, 0xe7, 0xfc, 0xf4, 0xf0, 0x35, 0x2b, 0xee, 0x19, 0xfa, 0xf5, 0xf5,\r\n",
      "  0x0f, 0x12, 0xd8, 0x10, 0x16, 0xfb, 0xea, 0xdf, 0xd9, 0x21, 0x08, 0xdb,\r\n",
      "  0x03, 0xec, 0x02, 0x07, 0xfd, 0x1b, 0xf4, 0xfd, 0x0d, 0xf9, 0xcd, 0xfd,\r\n",
      "  0xd4, 0xf2, 0xeb, 0xd7, 0x00, 0x09, 0xe8, 0xf1, 0xfc, 0x14, 0xd8, 0x0e,\r\n",
      "  0xff, 0xfc, 0xec, 0xed, 0xca, 0xe7, 0xf3, 0xf0, 0xf5, 0xf9, 0xf1, 0xfd,\r\n",
      "  0xf9, 0x16, 0xee, 0xf7, 0xfe, 0xee, 0xf9, 0xfb, 0xcf, 0xeb, 0x0b, 0xde,\r\n",
      "  0xf0, 0x1b, 0xe3, 0x06, 0x04, 0x06, 0xfb, 0x0d, 0x09, 0xf0, 0x13, 0xfb,\r\n",
      "  0xfe, 0x12, 0xef, 0xff, 0xf3, 0x19, 0xec, 0x0e, 0xfe, 0x01, 0x31, 0x0e,\r\n",
      "  0xf7, 0x06, 0x16, 0xf9, 0xff, 0x04, 0xf2, 0xdf, 0xf1, 0x0d, 0xde, 0x07,\r\n",
      "  0x1b, 0xfe, 0x09, 0x11, 0x16, 0x05, 0xfe, 0xfe, 0x12, 0x09, 0x09, 0xdb,\r\n",
      "  0xe1, 0xf5, 0x1f, 0xfa, 0xf9, 0xf5, 0x13, 0xeb, 0x4f, 0x06, 0xff, 0x14,\r\n",
      "  0xef, 0x0a, 0x1f, 0x0d, 0x03, 0xde, 0x47, 0x05, 0xff, 0xf5, 0xed, 0x01,\r\n",
      "  0x3e, 0xfa, 0xef, 0xfe, 0x03, 0x00, 0xf9, 0x06, 0xe4, 0xd9, 0x0f, 0x0b,\r\n",
      "  0xfc, 0x03, 0x19, 0x07, 0x14, 0x00, 0x0d, 0xfd, 0xf5, 0xdc, 0xf0, 0x07,\r\n",
      "  0xef, 0x02, 0xf5, 0xfb, 0xd6, 0xfc, 0xf9, 0x06, 0xf7, 0x06, 0xf1, 0xf5,\r\n",
      "  0x0e, 0x17, 0x29, 0x11, 0x10, 0xf1, 0xed, 0x00, 0xf9, 0xfe, 0x10, 0x08,\r\n",
      "  0xe9, 0xf4, 0x1b, 0x07, 0x11, 0xf5, 0x0c, 0x21, 0x06, 0x04, 0x07, 0xf8,\r\n",
      "  0xcf, 0x05, 0xfa, 0xff, 0xda, 0x0d, 0x20, 0xfd, 0x2d, 0x13, 0x31, 0xfe,\r\n",
      "  0x15, 0xef, 0x01, 0x04, 0xe4, 0x0d, 0xff, 0xf3, 0xfb, 0xf8, 0x06, 0xf7,\r\n",
      "  0x0d, 0x2b, 0x14, 0x11, 0xf6, 0x1b, 0xe0, 0xfd, 0xc1, 0x06, 0xf1, 0x0e,\r\n",
      "  0xd0, 0xff, 0x06, 0xfd, 0xff, 0xea, 0x1d, 0x01, 0x01, 0x10, 0xee, 0xf7,\r\n",
      "  0xe8, 0xf1, 0x13, 0xe9, 0xed, 0xf1, 0x07, 0x03, 0x06, 0x20, 0x0d, 0xf9,\r\n",
      "  0xe6, 0xfd, 0x0c, 0xe4, 0xe5, 0xfb, 0xf8, 0xf6, 0x02, 0x09, 0xf7, 0x0d,\r\n",
      "  0x1b, 0x2f, 0x02, 0x1c, 0xf9, 0xfa, 0xe5, 0xe8, 0xd0, 0xfe, 0x10, 0xdd,\r\n",
      "  0xf1, 0xfb, 0x27, 0xe4, 0x24, 0xfb, 0xfc, 0x10, 0xfb, 0x10, 0xe6, 0xf1,\r\n",
      "  0xf7, 0x07, 0x02, 0x0d, 0xf4, 0x07, 0xfa, 0x0b, 0x17, 0x19, 0x00, 0x18,\r\n",
      "  0xef, 0x00, 0xe4, 0xff, 0xf6, 0x19, 0x11, 0xe6, 0xe4, 0xff, 0xfd, 0xe3,\r\n",
      "  0xfc, 0x01, 0xdc, 0xf5, 0xfb, 0xf9, 0xe6, 0xf4, 0xfc, 0x06, 0x0b, 0xec,\r\n",
      "  0xdc, 0xf0, 0x15, 0xeb, 0x04, 0xef, 0xe8, 0x0c, 0xec, 0x0b, 0x02, 0x05,\r\n",
      "  0xde, 0xe8, 0x02, 0xfa, 0x09, 0x08, 0x11, 0xfe, 0x00, 0xf8, 0xe8, 0x05,\r\n",
      "  0x01, 0x11, 0x03, 0xe3, 0xde, 0x20, 0x0b, 0xef, 0xe4, 0xf0, 0x08, 0xfd,\r\n",
      "  0xff, 0xd9, 0xf7, 0x00, 0x0d, 0x0c, 0xfd, 0xf5, 0xec, 0xef, 0xf8, 0xfd,\r\n",
      "  0xe5, 0x02, 0xf2, 0x07, 0xf5, 0x02, 0x04, 0xfa, 0xf0, 0x0b, 0xf8, 0x06,\r\n",
      "  0xd4, 0x05, 0x06, 0xe2, 0xe6, 0xf0, 0x13, 0xec, 0x01, 0xef, 0x13, 0x03,\r\n",
      "  0xec, 0xf0, 0x03, 0x00, 0xf5, 0xef, 0xfd, 0xfb, 0xe2, 0xf6, 0x04, 0x08,\r\n",
      "  0xf4, 0xff, 0x10, 0x01, 0xf3, 0xf2, 0x0f, 0xef, 0xdb, 0xe4, 0xf8, 0xf5,\r\n",
      "  0xf1, 0x02, 0x20, 0xfb, 0x10, 0xd6, 0xef, 0xfa, 0xdf, 0xf9, 0xed, 0xe8,\r\n",
      "  0xc4, 0xdd, 0x15, 0xe0, 0xf1, 0x16, 0xff, 0xea, 0x0a, 0x3c, 0x00, 0x11,\r\n",
      "  0x05, 0x19, 0x05, 0x13, 0xfb, 0xed, 0x22, 0x05, 0xe7, 0x26, 0x4d, 0xf4,\r\n",
      "  0xfa, 0xf1, 0x01, 0x09, 0xed, 0x02, 0xd6, 0xfa, 0x01, 0xfd, 0x23, 0xeb,\r\n",
      "  0xe1, 0x09, 0x29, 0xef, 0x0c, 0xea, 0xd3, 0x0d, 0xfe, 0x03, 0xd2, 0xf9,\r\n",
      "  0x1a, 0x14, 0x01, 0xe9, 0xf5, 0xfe, 0x21, 0xe0, 0x12, 0x07, 0xea, 0x07,\r\n",
      "  0x06, 0xf5, 0xe1, 0xfa, 0x02, 0xed, 0x08, 0xf3, 0xea, 0xfb, 0x17, 0xd7,\r\n",
      "  0xff, 0x3d, 0xf3, 0xf7, 0x06, 0x00, 0xda, 0xf0, 0x15, 0xf8, 0xe8, 0x05,\r\n",
      "  0xe0, 0xeb, 0x10, 0xdb, 0xf1, 0x0a, 0xdb, 0x0a, 0x08, 0xf9, 0xf1, 0x18,\r\n",
      "  0x10, 0x17, 0x09, 0x0b, 0xea, 0x07, 0x16, 0xcf, 0xf8, 0x0d, 0xf2, 0xfe,\r\n",
      "  0x02, 0xed, 0xe8, 0x21, 0x03, 0x10, 0xed, 0xf9, 0xe3, 0xfb, 0xfb, 0xc7,\r\n",
      "  0xe2, 0x03, 0xdb, 0xf8, 0xfd, 0x08, 0xf1, 0x15, 0x1b, 0x10, 0x0e, 0x12,\r\n",
      "  0xf3, 0xf2, 0xf9, 0xe6, 0xfc, 0xef, 0xde, 0xf5, 0xfa, 0x00, 0xe7, 0x06,\r\n",
      "  0x11, 0x09, 0xf7, 0x07, 0x0b, 0xff, 0xed, 0xdc, 0xe2, 0xfd, 0xdc, 0x0a,\r\n",
      "  0xff, 0x06, 0xcf, 0x04, 0xf7, 0x2a, 0x01, 0x0f, 0x00, 0x0d, 0x04, 0xd9,\r\n",
      "  0xe5, 0xea, 0xe0, 0xf2, 0xf2, 0xf0, 0xe5, 0xfd, 0x17, 0xfe, 0xf1, 0x06,\r\n",
      "  0xef, 0xfa, 0xf1, 0xe3, 0xfc, 0xe8, 0xe8, 0x0a, 0xfa, 0xfe, 0xcf, 0xfd,\r\n",
      "  0x02, 0x04, 0x01, 0x11, 0xe9, 0xff, 0xea, 0xe8, 0xfd, 0xe1, 0x02, 0xfb,\r\n",
      "  0xf6, 0x03, 0x02, 0x08, 0x16, 0x12, 0xea, 0x13, 0x01, 0xfe, 0xfb, 0xec,\r\n",
      "  0xfb, 0xf8, 0xdc, 0x10, 0xfb, 0xf4, 0xfe, 0xfd, 0x08, 0xfc, 0xfb, 0x05,\r\n",
      "  0x16, 0x02, 0xfd, 0xf4, 0xf2, 0xf6, 0xc7, 0x14, 0x0b, 0x01, 0xf5, 0x11,\r\n",
      "  0x1a, 0xf0, 0xf6, 0x15, 0xf8, 0xfc, 0xfc, 0xf4, 0xef, 0xfc, 0xeb, 0x15,\r\n",
      "  0xfc, 0xff, 0xf2, 0x1f, 0x15, 0xfd, 0xf4, 0x10, 0xed, 0x16, 0xe3, 0xe3,\r\n",
      "  0xed, 0xf3, 0xe1, 0x0e, 0xf7, 0x0a, 0xf2, 0x0b, 0x10, 0x0e, 0xfd, 0x19,\r\n",
      "  0xf4, 0xfc, 0xee, 0xe3, 0xfa, 0xec, 0x00, 0x2b, 0x05, 0x0e, 0xfd, 0x07,\r\n",
      "  0x0c, 0x03, 0xec, 0x0a, 0x00, 0x17, 0x09, 0xf4, 0xee, 0xf1, 0xee, 0x11,\r\n",
      "  0xf5, 0x01, 0x02, 0x11, 0xe9, 0x11, 0xfa, 0xfe, 0xfd, 0x10, 0x0e, 0x06,\r\n",
      "  0xfa, 0xf6, 0xdc, 0x17, 0x08, 0x18, 0xf8, 0x17, 0xe6, 0x05, 0xe4, 0x11,\r\n",
      "  0xef, 0x1a, 0x06, 0xd3, 0xf3, 0x0f, 0xe7, 0x09, 0xf7, 0x0f, 0x02, 0xf1,\r\n",
      "  0xfd, 0xfe, 0x00, 0x0f, 0xe9, 0x18, 0x02, 0xd4, 0x00, 0x00, 0x00, 0x00,\r\n",
      "  0x3e, 0xfe, 0xff, 0xff, 0x04, 0x00, 0x00, 0x00, 0x08, 0x00, 0x00, 0x00,\r\n",
      "  0xff, 0xff, 0xff, 0xff, 0x50, 0x01, 0x00, 0x00, 0x00, 0x00, 0x00, 0x00,\r\n",
      "  0x00, 0x00, 0x00, 0x00, 0x00, 0x00, 0x00, 0x00, 0x5e, 0xfe, 0xff, 0xff,\r\n",
      "  0x04, 0x00, 0x00, 0x00, 0x10, 0x00, 0x00, 0x00, 0xbf, 0xd2, 0xa3, 0x3e,\r\n",
      "  0x40, 0xaf, 0x60, 0xbf, 0x12, 0x62, 0x0c, 0x3f, 0xd0, 0x6f, 0xe2, 0xbe,\r\n",
      "  0x00, 0x00, 0x00, 0x00, 0x7e, 0xfe, 0xff, 0xff, 0x04, 0x00, 0x00, 0x00,\r\n",
      "  0x40, 0x00, 0x00, 0x00, 0xb7, 0x6a, 0x2f, 0xbd, 0x65, 0xdf, 0xae, 0xbe,\r\n",
      "  0x26, 0x0f, 0x84, 0x3d, 0xc0, 0x97, 0xce, 0x3e, 0x1c, 0x3e, 0xb2, 0xbc,\r\n",
      "  0x69, 0x37, 0x3c, 0xbd, 0xa6, 0xa1, 0x4d, 0xbe, 0x28, 0xc8, 0x1b, 0x3e,\r\n",
      "  0xfb, 0x32, 0x40, 0xbe, 0x83, 0x74, 0xe9, 0x3d, 0xb2, 0x62, 0x92, 0xbe,\r\n",
      "  0x09, 0x78, 0xa2, 0x3b, 0x00, 0x19, 0x83, 0x3d, 0x2f, 0xef, 0x7f, 0xbe,\r\n",
      "  0x33, 0xbd, 0xe8, 0xbd, 0xad, 0xaa, 0x06, 0x3f, 0x00, 0x00, 0x00, 0x00,\r\n",
      "  0xce, 0xfe, 0xff, 0xff, 0x04, 0x00, 0x00, 0x00, 0x40, 0x00, 0x00, 0x00,\r\n",
      "  0x6c, 0xb5, 0xd5, 0xbe, 0x65, 0x1e, 0x71, 0xbe, 0x12, 0xd1, 0xba, 0xbe,\r\n",
      "  0xd7, 0x5a, 0x2e, 0x3e, 0x7b, 0x93, 0xc2, 0xbe, 0xb9, 0xbf, 0x08, 0xbe,\r\n",
      "  0xa9, 0xa6, 0xef, 0xbe, 0xc9, 0x6c, 0x9b, 0xbc, 0x51, 0x64, 0xa2, 0x3e,\r\n",
      "  0x9e, 0x18, 0x95, 0x3c, 0xf3, 0x79, 0x7a, 0xbe, 0x37, 0x9d, 0x60, 0x3d,\r\n",
      "  0x94, 0xa1, 0xf2, 0xbd, 0x8a, 0x42, 0x41, 0x3e, 0xe2, 0x24, 0xb2, 0x3d,\r\n",
      "  0xef, 0x95, 0xf8, 0xbe, 0x00, 0x00, 0x00, 0x00, 0x1e, 0xff, 0xff, 0xff,\r\n",
      "  0x04, 0x00, 0x00, 0x00, 0x20, 0x00, 0x00, 0x00, 0x4d, 0xd1, 0xc7, 0x3d,\r\n",
      "  0x39, 0xc3, 0x74, 0xbd, 0x84, 0x55, 0xcf, 0xbe, 0x98, 0x8a, 0xc2, 0xbe,\r\n",
      "  0xeb, 0x75, 0x2c, 0x3e, 0xf0, 0x4b, 0xd4, 0xbe, 0x0c, 0xd2, 0xbc, 0xbe,\r\n",
      "  0xa3, 0x88, 0x04, 0xbf, 0x00, 0x00, 0x00, 0x00, 0x00, 0x00, 0x00, 0x00,\r\n",
      "  0x00, 0x00, 0x00, 0x00, 0x98, 0xf6, 0xff, 0xff, 0x00, 0x00, 0x00, 0x00,\r\n",
      "  0x00, 0x00, 0x00, 0x00, 0x00, 0x00, 0x00, 0x00, 0xa8, 0xf6, 0xff, 0xff,\r\n",
      "  0x00, 0x00, 0x00, 0x00, 0x00, 0x00, 0x00, 0x00, 0x0f, 0x00, 0x00, 0x00,\r\n",
      "  0x4d, 0x4c, 0x49, 0x52, 0x20, 0x43, 0x6f, 0x6e, 0x76, 0x65, 0x72, 0x74,\r\n",
      "  0x65, 0x64, 0x2e, 0x00, 0x01, 0x00, 0x00, 0x00, 0x14, 0x00, 0x00, 0x00,\r\n",
      "  0x00, 0x00, 0x0e, 0x00, 0x18, 0x00, 0x04, 0x00, 0x08, 0x00, 0x0c, 0x00,\r\n",
      "  0x10, 0x00, 0x14, 0x00, 0x0e, 0x00, 0x00, 0x00, 0x78, 0x02, 0x00, 0x00,\r\n",
      "  0x6c, 0x02, 0x00, 0x00, 0x60, 0x02, 0x00, 0x00, 0x14, 0x00, 0x00, 0x00,\r\n",
      "  0x04, 0x00, 0x00, 0x00, 0x04, 0x00, 0x00, 0x00, 0x6d, 0x61, 0x69, 0x6e,\r\n",
      "  0x00, 0x00, 0x00, 0x00, 0x08, 0x00, 0x00, 0x00, 0xfc, 0x01, 0x00, 0x00,\r\n",
      "  0x98, 0x01, 0x00, 0x00, 0x48, 0x01, 0x00, 0x00, 0xf8, 0x00, 0x00, 0x00,\r\n",
      "  0xd0, 0x00, 0x00, 0x00, 0x88, 0x00, 0x00, 0x00, 0x40, 0x00, 0x00, 0x00,\r\n",
      "  0x04, 0x00, 0x00, 0x00, 0x92, 0xfe, 0xff, 0xff, 0x00, 0x00, 0x00, 0x09,\r\n",
      "  0x04, 0x00, 0x00, 0x00, 0x24, 0x00, 0x00, 0x00, 0x18, 0x00, 0x00, 0x00,\r\n",
      "  0x0c, 0x00, 0x00, 0x00, 0x00, 0x00, 0x06, 0x00, 0x08, 0x00, 0x04, 0x00,\r\n",
      "  0x06, 0x00, 0x00, 0x00, 0x00, 0x00, 0x80, 0x3f, 0x01, 0x00, 0x00, 0x00,\r\n",
      "  0x11, 0x00, 0x00, 0x00, 0x01, 0x00, 0x00, 0x00, 0x10, 0x00, 0x00, 0x00,\r\n",
      "  0xca, 0xff, 0xff, 0xff, 0x00, 0x00, 0x00, 0x08, 0x03, 0x00, 0x00, 0x00,\r\n",
      "  0x18, 0x00, 0x00, 0x00, 0x0c, 0x00, 0x00, 0x00, 0x04, 0x00, 0x00, 0x00,\r\n",
      "  0x78, 0xf7, 0xff, 0xff, 0x01, 0x00, 0x00, 0x00, 0x10, 0x00, 0x00, 0x00,\r\n",
      "  0x03, 0x00, 0x00, 0x00, 0x0f, 0x00, 0x00, 0x00, 0x07, 0x00, 0x00, 0x00,\r\n",
      "  0x04, 0x00, 0x00, 0x00, 0x00, 0x00, 0x0e, 0x00, 0x18, 0x00, 0x08, 0x00,\r\n",
      "  0x0c, 0x00, 0x10, 0x00, 0x07, 0x00, 0x14, 0x00, 0x0e, 0x00, 0x00, 0x00,\r\n",
      "  0x00, 0x00, 0x00, 0x08, 0x03, 0x00, 0x00, 0x00, 0x1c, 0x00, 0x00, 0x00,\r\n",
      "  0x10, 0x00, 0x00, 0x00, 0x04, 0x00, 0x00, 0x00, 0x72, 0xf7, 0xff, 0xff,\r\n",
      "  0x00, 0x00, 0x00, 0x01, 0x01, 0x00, 0x00, 0x00, 0x0f, 0x00, 0x00, 0x00,\r\n",
      "  0x03, 0x00, 0x00, 0x00, 0x0e, 0x00, 0x00, 0x00, 0x06, 0x00, 0x00, 0x00,\r\n",
      "  0x03, 0x00, 0x00, 0x00, 0x00, 0x00, 0x0a, 0x00, 0x10, 0x00, 0x04, 0x00,\r\n",
      "  0x08, 0x00, 0x0c, 0x00, 0x0a, 0x00, 0x00, 0x00, 0x02, 0x00, 0x00, 0x00,\r\n",
      "  0x10, 0x00, 0x00, 0x00, 0x04, 0x00, 0x00, 0x00, 0x01, 0x00, 0x00, 0x00,\r\n",
      "  0x0e, 0x00, 0x00, 0x00, 0x02, 0x00, 0x00, 0x00, 0x0d, 0x00, 0x00, 0x00,\r\n",
      "  0x05, 0x00, 0x00, 0x00, 0x76, 0xff, 0xff, 0xff, 0x00, 0x00, 0x00, 0x05,\r\n",
      "  0x01, 0x00, 0x00, 0x00, 0x38, 0x00, 0x00, 0x00, 0x2c, 0x00, 0x00, 0x00,\r\n",
      "  0x14, 0x00, 0x00, 0x00, 0x00, 0x00, 0x0e, 0x00, 0x14, 0x00, 0x00, 0x00,\r\n",
      "  0x04, 0x00, 0x08, 0x00, 0x0c, 0x00, 0x10, 0x00, 0x0e, 0x00, 0x00, 0x00,\r\n",
      "  0x01, 0x00, 0x00, 0x00, 0x06, 0x00, 0x00, 0x00, 0x01, 0x00, 0x00, 0x00,\r\n",
      "  0x06, 0x00, 0x00, 0x00, 0x01, 0x00, 0x00, 0x00, 0x0d, 0x00, 0x00, 0x00,\r\n",
      "  0x01, 0x00, 0x00, 0x00, 0x0c, 0x00, 0x00, 0x00, 0x62, 0xff, 0xff, 0xff,\r\n",
      "  0x00, 0x00, 0x00, 0x01, 0x24, 0x00, 0x00, 0x00, 0x18, 0x00, 0x00, 0x00,\r\n",
      "  0x04, 0x00, 0x00, 0x00, 0x54, 0xff, 0xff, 0xff, 0x00, 0x00, 0x00, 0x01,\r\n",
      "  0x01, 0x00, 0x00, 0x00, 0x01, 0x00, 0x00, 0x00, 0x01, 0x00, 0x00, 0x00,\r\n",
      "  0x0c, 0x00, 0x00, 0x00, 0x03, 0x00, 0x00, 0x00, 0x0b, 0x00, 0x00, 0x00,\r\n",
      "  0x09, 0x00, 0x00, 0x00, 0x02, 0x00, 0x00, 0x00, 0x00, 0x00, 0x0e, 0x00,\r\n",
      "  0x1a, 0x00, 0x08, 0x00, 0x0c, 0x00, 0x10, 0x00, 0x07, 0x00, 0x14, 0x00,\r\n",
      "  0x0e, 0x00, 0x00, 0x00, 0x00, 0x00, 0x00, 0x05, 0x01, 0x00, 0x00, 0x00,\r\n",
      "  0x3c, 0x00, 0x00, 0x00, 0x30, 0x00, 0x00, 0x00, 0x14, 0x00, 0x00, 0x00,\r\n",
      "  0x00, 0x00, 0x0e, 0x00, 0x18, 0x00, 0x07, 0x00, 0x08, 0x00, 0x0c, 0x00,\r\n",
      "  0x10, 0x00, 0x14, 0x00, 0x0e, 0x00, 0x00, 0x00, 0x00, 0x00, 0x00, 0x01,\r\n",
      "  0x03, 0x00, 0x00, 0x00, 0x06, 0x00, 0x00, 0x00, 0x03, 0x00, 0x00, 0x00,\r\n",
      "  0x06, 0x00, 0x00, 0x00, 0x01, 0x00, 0x00, 0x00, 0x0b, 0x00, 0x00, 0x00,\r\n",
      "  0x01, 0x00, 0x00, 0x00, 0x0a, 0x00, 0x00, 0x00, 0x00, 0x00, 0x0e, 0x00,\r\n",
      "  0x14, 0x00, 0x00, 0x00, 0x08, 0x00, 0x0c, 0x00, 0x07, 0x00, 0x10, 0x00,\r\n",
      "  0x0e, 0x00, 0x00, 0x00, 0x00, 0x00, 0x00, 0x01, 0x30, 0x00, 0x00, 0x00,\r\n",
      "  0x24, 0x00, 0x00, 0x00, 0x10, 0x00, 0x00, 0x00, 0x0c, 0x00, 0x10, 0x00,\r\n",
      "  0x00, 0x00, 0x08, 0x00, 0x0c, 0x00, 0x07, 0x00, 0x0c, 0x00, 0x00, 0x00,\r\n",
      "  0x00, 0x00, 0x00, 0x01, 0x01, 0x00, 0x00, 0x00, 0x01, 0x00, 0x00, 0x00,\r\n",
      "  0x01, 0x00, 0x00, 0x00, 0x0a, 0x00, 0x00, 0x00, 0x03, 0x00, 0x00, 0x00,\r\n",
      "  0x00, 0x00, 0x00, 0x00, 0x08, 0x00, 0x00, 0x00, 0x01, 0x00, 0x00, 0x00,\r\n",
      "  0x01, 0x00, 0x00, 0x00, 0x11, 0x00, 0x00, 0x00, 0x01, 0x00, 0x00, 0x00,\r\n",
      "  0x00, 0x00, 0x00, 0x00, 0x12, 0x00, 0x00, 0x00, 0x8c, 0x06, 0x00, 0x00,\r\n",
      "  0x24, 0x06, 0x00, 0x00, 0xcc, 0x05, 0x00, 0x00, 0x78, 0x05, 0x00, 0x00,\r\n",
      "  0x24, 0x05, 0x00, 0x00, 0xd8, 0x04, 0x00, 0x00, 0x50, 0x04, 0x00, 0x00,\r\n",
      "  0x08, 0x04, 0x00, 0x00, 0xb4, 0x03, 0x00, 0x00, 0x60, 0x03, 0x00, 0x00,\r\n",
      "  0xa8, 0x02, 0x00, 0x00, 0x4c, 0x02, 0x00, 0x00, 0x94, 0x01, 0x00, 0x00,\r\n",
      "  0x38, 0x01, 0x00, 0x00, 0xec, 0x00, 0x00, 0x00, 0x88, 0x00, 0x00, 0x00,\r\n",
      "  0x3c, 0x00, 0x00, 0x00, 0x04, 0x00, 0x00, 0x00, 0xca, 0xf9, 0xff, 0xff,\r\n",
      "  0x24, 0x00, 0x00, 0x00, 0x12, 0x00, 0x00, 0x00, 0x0c, 0x00, 0x00, 0x00,\r\n",
      "  0x04, 0x00, 0x00, 0x00, 0xbc, 0xf9, 0xff, 0xff, 0x08, 0x00, 0x00, 0x00,\r\n",
      "  0x49, 0x64, 0x65, 0x6e, 0x74, 0x69, 0x74, 0x79, 0x00, 0x00, 0x00, 0x00,\r\n",
      "  0x02, 0x00, 0x00, 0x00, 0x01, 0x00, 0x00, 0x00, 0x04, 0x00, 0x00, 0x00,\r\n",
      "  0xfe, 0xf9, 0xff, 0xff, 0x38, 0x00, 0x00, 0x00, 0x11, 0x00, 0x00, 0x00,\r\n",
      "  0x0c, 0x00, 0x00, 0x00, 0x04, 0x00, 0x00, 0x00, 0xf0, 0xf9, 0xff, 0xff,\r\n",
      "  0x1c, 0x00, 0x00, 0x00, 0x73, 0x65, 0x71, 0x75, 0x65, 0x6e, 0x74, 0x69,\r\n",
      "  0x61, 0x6c, 0x5f, 0x33, 0x2f, 0x64, 0x65, 0x6e, 0x73, 0x65, 0x5f, 0x36,\r\n",
      "  0x2f, 0x42, 0x69, 0x61, 0x73, 0x41, 0x64, 0x64, 0x00, 0x00, 0x00, 0x00,\r\n",
      "  0x02, 0x00, 0x00, 0x00, 0x01, 0x00, 0x00, 0x00, 0x04, 0x00, 0x00, 0x00,\r\n",
      "  0x46, 0xfa, 0xff, 0xff, 0x50, 0x00, 0x00, 0x00, 0x10, 0x00, 0x00, 0x00,\r\n",
      "  0x0c, 0x00, 0x00, 0x00, 0x04, 0x00, 0x00, 0x00, 0x38, 0xfa, 0xff, 0xff,\r\n",
      "  0x36, 0x00, 0x00, 0x00, 0x73, 0x65, 0x71, 0x75, 0x65, 0x6e, 0x74, 0x69,\r\n",
      "  0x61, 0x6c, 0x5f, 0x33, 0x2f, 0x64, 0x65, 0x6e, 0x73, 0x65, 0x5f, 0x35,\r\n",
      "  0x2f, 0x52, 0x65, 0x6c, 0x75, 0x3b, 0x73, 0x65, 0x71, 0x75, 0x65, 0x6e,\r\n",
      "  0x74, 0x69, 0x61, 0x6c, 0x5f, 0x33, 0x2f, 0x64, 0x65, 0x6e, 0x73, 0x65,\r\n",
      "  0x5f, 0x35, 0x2f, 0x42, 0x69, 0x61, 0x73, 0x41, 0x64, 0x64, 0x00, 0x00,\r\n",
      "  0x02, 0x00, 0x00, 0x00, 0x01, 0x00, 0x00, 0x00, 0x10, 0x00, 0x00, 0x00,\r\n",
      "  0xa6, 0xfa, 0xff, 0xff, 0x38, 0x00, 0x00, 0x00, 0x0f, 0x00, 0x00, 0x00,\r\n",
      "  0x0c, 0x00, 0x00, 0x00, 0x04, 0x00, 0x00, 0x00, 0x98, 0xfa, 0xff, 0xff,\r\n",
      "  0x1e, 0x00, 0x00, 0x00, 0x73, 0x65, 0x71, 0x75, 0x65, 0x6e, 0x74, 0x69,\r\n",
      "  0x61, 0x6c, 0x5f, 0x33, 0x2f, 0x66, 0x6c, 0x61, 0x74, 0x74, 0x65, 0x6e,\r\n",
      "  0x5f, 0x32, 0x2f, 0x52, 0x65, 0x73, 0x68, 0x61, 0x70, 0x65, 0x00, 0x00,\r\n",
      "  0x02, 0x00, 0x00, 0x00, 0x01, 0x00, 0x00, 0x00, 0x50, 0x01, 0x00, 0x00,\r\n",
      "  0xee, 0xfa, 0xff, 0xff, 0x40, 0x00, 0x00, 0x00, 0x0e, 0x00, 0x00, 0x00,\r\n",
      "  0x0c, 0x00, 0x00, 0x00, 0x04, 0x00, 0x00, 0x00, 0xe0, 0xfa, 0xff, 0xff,\r\n",
      "  0x24, 0x00, 0x00, 0x00, 0x73, 0x65, 0x71, 0x75, 0x65, 0x6e, 0x74, 0x69,\r\n",
      "  0x61, 0x6c, 0x5f, 0x33, 0x2f, 0x6d, 0x61, 0x78, 0x5f, 0x70, 0x6f, 0x6f,\r\n",
      "  0x6c, 0x69, 0x6e, 0x67, 0x32, 0x64, 0x5f, 0x35, 0x2f, 0x4d, 0x61, 0x78,\r\n",
      "  0x50, 0x6f, 0x6f, 0x6c, 0x00, 0x00, 0x00, 0x00, 0x04, 0x00, 0x00, 0x00,\r\n",
      "  0x01, 0x00, 0x00, 0x00, 0x15, 0x00, 0x00, 0x00, 0x01, 0x00, 0x00, 0x00,\r\n",
      "  0x10, 0x00, 0x00, 0x00, 0x46, 0xfb, 0xff, 0xff, 0x9c, 0x00, 0x00, 0x00,\r\n",
      "  0x0d, 0x00, 0x00, 0x00, 0x0c, 0x00, 0x00, 0x00, 0x04, 0x00, 0x00, 0x00,\r\n",
      "  0x38, 0xfb, 0xff, 0xff, 0x82, 0x00, 0x00, 0x00, 0x73, 0x65, 0x71, 0x75,\r\n",
      "  0x65, 0x6e, 0x74, 0x69, 0x61, 0x6c, 0x5f, 0x33, 0x2f, 0x63, 0x6f, 0x6e,\r\n",
      "  0x76, 0x32, 0x64, 0x5f, 0x35, 0x2f, 0x52, 0x65, 0x6c, 0x75, 0x3b, 0x73,\r\n",
      "  0x65, 0x71, 0x75, 0x65, 0x6e, 0x74, 0x69, 0x61, 0x6c, 0x5f, 0x33, 0x2f,\r\n",
      "  0x63, 0x6f, 0x6e, 0x76, 0x32, 0x64, 0x5f, 0x35, 0x2f, 0x42, 0x69, 0x61,\r\n",
      "  0x73, 0x41, 0x64, 0x64, 0x3b, 0x73, 0x65, 0x71, 0x75, 0x65, 0x6e, 0x74,\r\n",
      "  0x69, 0x61, 0x6c, 0x5f, 0x33, 0x2f, 0x63, 0x6f, 0x6e, 0x76, 0x32, 0x64,\r\n",
      "  0x5f, 0x35, 0x2f, 0x43, 0x6f, 0x6e, 0x76, 0x32, 0x44, 0x3b, 0x73, 0x65,\r\n",
      "  0x71, 0x75, 0x65, 0x6e, 0x74, 0x69, 0x61, 0x6c, 0x5f, 0x33, 0x2f, 0x63,\r\n",
      "  0x6f, 0x6e, 0x76, 0x32, 0x64, 0x5f, 0x35, 0x2f, 0x42, 0x69, 0x61, 0x73,\r\n",
      "  0x41, 0x64, 0x64, 0x2f, 0x52, 0x65, 0x61, 0x64, 0x56, 0x61, 0x72, 0x69,\r\n",
      "  0x61, 0x62, 0x6c, 0x65, 0x4f, 0x70, 0x00, 0x00, 0x04, 0x00, 0x00, 0x00,\r\n",
      "  0x01, 0x00, 0x00, 0x00, 0x7e, 0x00, 0x00, 0x00, 0x01, 0x00, 0x00, 0x00,\r\n",
      "  0x10, 0x00, 0x00, 0x00, 0xfa, 0xfb, 0xff, 0xff, 0x40, 0x00, 0x00, 0x00,\r\n",
      "  0x0c, 0x00, 0x00, 0x00, 0x0c, 0x00, 0x00, 0x00, 0x04, 0x00, 0x00, 0x00,\r\n",
      "  0xec, 0xfb, 0xff, 0xff, 0x24, 0x00, 0x00, 0x00, 0x73, 0x65, 0x71, 0x75,\r\n",
      "  0x65, 0x6e, 0x74, 0x69, 0x61, 0x6c, 0x5f, 0x33, 0x2f, 0x6d, 0x61, 0x78,\r\n",
      "  0x5f, 0x70, 0x6f, 0x6f, 0x6c, 0x69, 0x6e, 0x67, 0x32, 0x64, 0x5f, 0x34,\r\n",
      "  0x2f, 0x4d, 0x61, 0x78, 0x50, 0x6f, 0x6f, 0x6c, 0x00, 0x00, 0x00, 0x00,\r\n",
      "  0x04, 0x00, 0x00, 0x00, 0x01, 0x00, 0x00, 0x00, 0x7e, 0x00, 0x00, 0x00,\r\n",
      "  0x01, 0x00, 0x00, 0x00, 0x08, 0x00, 0x00, 0x00, 0x52, 0xfc, 0xff, 0xff,\r\n",
      "  0x9c, 0x00, 0x00, 0x00, 0x0b, 0x00, 0x00, 0x00, 0x0c, 0x00, 0x00, 0x00,\r\n",
      "  0x04, 0x00, 0x00, 0x00, 0x44, 0xfc, 0xff, 0xff, 0x82, 0x00, 0x00, 0x00,\r\n",
      "  0x73, 0x65, 0x71, 0x75, 0x65, 0x6e, 0x74, 0x69, 0x61, 0x6c, 0x5f, 0x33,\r\n",
      "  0x2f, 0x63, 0x6f, 0x6e, 0x76, 0x32, 0x64, 0x5f, 0x34, 0x2f, 0x52, 0x65,\r\n",
      "  0x6c, 0x75, 0x3b, 0x73, 0x65, 0x71, 0x75, 0x65, 0x6e, 0x74, 0x69, 0x61,\r\n",
      "  0x6c, 0x5f, 0x33, 0x2f, 0x63, 0x6f, 0x6e, 0x76, 0x32, 0x64, 0x5f, 0x34,\r\n",
      "  0x2f, 0x42, 0x69, 0x61, 0x73, 0x41, 0x64, 0x64, 0x3b, 0x73, 0x65, 0x71,\r\n",
      "  0x75, 0x65, 0x6e, 0x74, 0x69, 0x61, 0x6c, 0x5f, 0x33, 0x2f, 0x63, 0x6f,\r\n",
      "  0x6e, 0x76, 0x32, 0x64, 0x5f, 0x34, 0x2f, 0x43, 0x6f, 0x6e, 0x76, 0x32,\r\n",
      "  0x44, 0x3b, 0x73, 0x65, 0x71, 0x75, 0x65, 0x6e, 0x74, 0x69, 0x61, 0x6c,\r\n",
      "  0x5f, 0x33, 0x2f, 0x63, 0x6f, 0x6e, 0x76, 0x32, 0x64, 0x5f, 0x34, 0x2f,\r\n",
      "  0x42, 0x69, 0x61, 0x73, 0x41, 0x64, 0x64, 0x2f, 0x52, 0x65, 0x61, 0x64,\r\n",
      "  0x56, 0x61, 0x72, 0x69, 0x61, 0x62, 0x6c, 0x65, 0x4f, 0x70, 0x00, 0x00,\r\n",
      "  0x04, 0x00, 0x00, 0x00, 0x01, 0x00, 0x00, 0x00, 0xf8, 0x02, 0x00, 0x00,\r\n",
      "  0x03, 0x00, 0x00, 0x00, 0x08, 0x00, 0x00, 0x00, 0x06, 0xfd, 0xff, 0xff,\r\n",
      "  0x38, 0x00, 0x00, 0x00, 0x0a, 0x00, 0x00, 0x00, 0x0c, 0x00, 0x00, 0x00,\r\n",
      "  0x04, 0x00, 0x00, 0x00, 0xf8, 0xfc, 0xff, 0xff, 0x1c, 0x00, 0x00, 0x00,\r\n",
      "  0x73, 0x65, 0x71, 0x75, 0x65, 0x6e, 0x74, 0x69, 0x61, 0x6c, 0x5f, 0x33,\r\n",
      "  0x2f, 0x63, 0x6f, 0x6e, 0x76, 0x32, 0x64, 0x5f, 0x35, 0x2f, 0x43, 0x6f,\r\n",
      "  0x6e, 0x76, 0x32, 0x44, 0x00, 0x00, 0x00, 0x00, 0x04, 0x00, 0x00, 0x00,\r\n",
      "  0x10, 0x00, 0x00, 0x00, 0x04, 0x00, 0x00, 0x00, 0x01, 0x00, 0x00, 0x00,\r\n",
      "  0x08, 0x00, 0x00, 0x00, 0x56, 0xfd, 0xff, 0xff, 0x38, 0x00, 0x00, 0x00,\r\n",
      "  0x09, 0x00, 0x00, 0x00, 0x0c, 0x00, 0x00, 0x00, 0x04, 0x00, 0x00, 0x00,\r\n",
      "  0x48, 0xfd, 0xff, 0xff, 0x1c, 0x00, 0x00, 0x00, 0x73, 0x65, 0x71, 0x75,\r\n",
      "  0x65, 0x6e, 0x74, 0x69, 0x61, 0x6c, 0x5f, 0x33, 0x2f, 0x63, 0x6f, 0x6e,\r\n",
      "  0x76, 0x32, 0x64, 0x5f, 0x34, 0x2f, 0x43, 0x6f, 0x6e, 0x76, 0x32, 0x44,\r\n",
      "  0x00, 0x00, 0x00, 0x00, 0x04, 0x00, 0x00, 0x00, 0x08, 0x00, 0x00, 0x00,\r\n",
      "  0x04, 0x00, 0x00, 0x00, 0x03, 0x00, 0x00, 0x00, 0x01, 0x00, 0x00, 0x00,\r\n",
      "  0xa6, 0xfd, 0xff, 0xff, 0x34, 0x00, 0x00, 0x00, 0x08, 0x00, 0x00, 0x00,\r\n",
      "  0x0c, 0x00, 0x00, 0x00, 0x04, 0x00, 0x00, 0x00, 0x98, 0xfd, 0xff, 0xff,\r\n",
      "  0x1b, 0x00, 0x00, 0x00, 0x73, 0x65, 0x71, 0x75, 0x65, 0x6e, 0x74, 0x69,\r\n",
      "  0x61, 0x6c, 0x5f, 0x33, 0x2f, 0x64, 0x65, 0x6e, 0x73, 0x65, 0x5f, 0x36,\r\n",
      "  0x2f, 0x4d, 0x61, 0x74, 0x4d, 0x75, 0x6c, 0x00, 0x02, 0x00, 0x00, 0x00,\r\n",
      "  0x04, 0x00, 0x00, 0x00, 0x10, 0x00, 0x00, 0x00, 0x8a, 0xff, 0xff, 0xff,\r\n",
      "  0x00, 0x00, 0x00, 0x09, 0x60, 0x00, 0x00, 0x00, 0x07, 0x00, 0x00, 0x00,\r\n",
      "  0x38, 0x00, 0x00, 0x00, 0x10, 0x00, 0x00, 0x00, 0x0c, 0x00, 0x0c, 0x00,\r\n",
      "  0x00, 0x00, 0x00, 0x00, 0x04, 0x00, 0x08, 0x00, 0x0c, 0x00, 0x00, 0x00,\r\n",
      "  0x18, 0x00, 0x00, 0x00, 0x04, 0x00, 0x00, 0x00, 0x01, 0x00, 0x00, 0x00,\r\n",
      "  0x00, 0x00, 0x00, 0x00, 0x00, 0x00, 0x00, 0x00, 0x00, 0x00, 0x00, 0x00,\r\n",
      "  0x01, 0x00, 0x00, 0x00, 0x08, 0xfb, 0xab, 0x3b, 0x1b, 0x00, 0x00, 0x00,\r\n",
      "  0x73, 0x65, 0x71, 0x75, 0x65, 0x6e, 0x74, 0x69, 0x61, 0x6c, 0x5f, 0x33,\r\n",
      "  0x2f, 0x64, 0x65, 0x6e, 0x73, 0x65, 0x5f, 0x35, 0x2f, 0x4d, 0x61, 0x74,\r\n",
      "  0x4d, 0x75, 0x6c, 0x00, 0x02, 0x00, 0x00, 0x00, 0x10, 0x00, 0x00, 0x00,\r\n",
      "  0x50, 0x01, 0x00, 0x00, 0x00, 0x00, 0x0e, 0x00, 0x18, 0x00, 0x08, 0x00,\r\n",
      "  0x07, 0x00, 0x0c, 0x00, 0x10, 0x00, 0x14, 0x00, 0x0e, 0x00, 0x00, 0x00,\r\n",
      "  0x00, 0x00, 0x00, 0x02, 0x38, 0x00, 0x00, 0x00, 0x06, 0x00, 0x00, 0x00,\r\n",
      "  0x0c, 0x00, 0x00, 0x00, 0x04, 0x00, 0x00, 0x00, 0x64, 0xfe, 0xff, 0xff,\r\n",
      "  0x1c, 0x00, 0x00, 0x00, 0x73, 0x65, 0x71, 0x75, 0x65, 0x6e, 0x74, 0x69,\r\n",
      "  0x61, 0x6c, 0x5f, 0x33, 0x2f, 0x66, 0x6c, 0x61, 0x74, 0x74, 0x65, 0x6e,\r\n",
      "  0x5f, 0x32, 0x2f, 0x43, 0x6f, 0x6e, 0x73, 0x74, 0x00, 0x00, 0x00, 0x00,\r\n",
      "  0x01, 0x00, 0x00, 0x00, 0x02, 0x00, 0x00, 0x00, 0xb6, 0xfe, 0xff, 0xff,\r\n",
      "  0x44, 0x00, 0x00, 0x00, 0x05, 0x00, 0x00, 0x00, 0x0c, 0x00, 0x00, 0x00,\r\n",
      "  0x04, 0x00, 0x00, 0x00, 0xa8, 0xfe, 0xff, 0xff, 0x2b, 0x00, 0x00, 0x00,\r\n",
      "  0x73, 0x65, 0x71, 0x75, 0x65, 0x6e, 0x74, 0x69, 0x61, 0x6c, 0x5f, 0x33,\r\n",
      "  0x2f, 0x64, 0x65, 0x6e, 0x73, 0x65, 0x5f, 0x36, 0x2f, 0x42, 0x69, 0x61,\r\n",
      "  0x73, 0x41, 0x64, 0x64, 0x2f, 0x52, 0x65, 0x61, 0x64, 0x56, 0x61, 0x72,\r\n",
      "  0x69, 0x61, 0x62, 0x6c, 0x65, 0x4f, 0x70, 0x00, 0x01, 0x00, 0x00, 0x00,\r\n",
      "  0x04, 0x00, 0x00, 0x00, 0x06, 0xff, 0xff, 0xff, 0x44, 0x00, 0x00, 0x00,\r\n",
      "  0x04, 0x00, 0x00, 0x00, 0x0c, 0x00, 0x00, 0x00, 0x04, 0x00, 0x00, 0x00,\r\n",
      "  0xf8, 0xfe, 0xff, 0xff, 0x2b, 0x00, 0x00, 0x00, 0x73, 0x65, 0x71, 0x75,\r\n",
      "  0x65, 0x6e, 0x74, 0x69, 0x61, 0x6c, 0x5f, 0x33, 0x2f, 0x64, 0x65, 0x6e,\r\n",
      "  0x73, 0x65, 0x5f, 0x35, 0x2f, 0x42, 0x69, 0x61, 0x73, 0x41, 0x64, 0x64,\r\n",
      "  0x2f, 0x52, 0x65, 0x61, 0x64, 0x56, 0x61, 0x72, 0x69, 0x61, 0x62, 0x6c,\r\n",
      "  0x65, 0x4f, 0x70, 0x00, 0x01, 0x00, 0x00, 0x00, 0x10, 0x00, 0x00, 0x00,\r\n",
      "  0x56, 0xff, 0xff, 0xff, 0x48, 0x00, 0x00, 0x00, 0x03, 0x00, 0x00, 0x00,\r\n",
      "  0x0c, 0x00, 0x00, 0x00, 0x04, 0x00, 0x00, 0x00, 0x48, 0xff, 0xff, 0xff,\r\n",
      "  0x2c, 0x00, 0x00, 0x00, 0x73, 0x65, 0x71, 0x75, 0x65, 0x6e, 0x74, 0x69,\r\n",
      "  0x61, 0x6c, 0x5f, 0x33, 0x2f, 0x63, 0x6f, 0x6e, 0x76, 0x32, 0x64, 0x5f,\r\n",
      "  0x35, 0x2f, 0x42, 0x69, 0x61, 0x73, 0x41, 0x64, 0x64, 0x2f, 0x52, 0x65,\r\n",
      "  0x61, 0x64, 0x56, 0x61, 0x72, 0x69, 0x61, 0x62, 0x6c, 0x65, 0x4f, 0x70,\r\n",
      "  0x00, 0x00, 0x00, 0x00, 0x01, 0x00, 0x00, 0x00, 0x10, 0x00, 0x00, 0x00,\r\n",
      "  0xaa, 0xff, 0xff, 0xff, 0x48, 0x00, 0x00, 0x00, 0x02, 0x00, 0x00, 0x00,\r\n",
      "  0x0c, 0x00, 0x00, 0x00, 0x04, 0x00, 0x00, 0x00, 0x9c, 0xff, 0xff, 0xff,\r\n",
      "  0x2c, 0x00, 0x00, 0x00, 0x73, 0x65, 0x71, 0x75, 0x65, 0x6e, 0x74, 0x69,\r\n",
      "  0x61, 0x6c, 0x5f, 0x33, 0x2f, 0x63, 0x6f, 0x6e, 0x76, 0x32, 0x64, 0x5f,\r\n",
      "  0x34, 0x2f, 0x42, 0x69, 0x61, 0x73, 0x41, 0x64, 0x64, 0x2f, 0x52, 0x65,\r\n",
      "  0x61, 0x64, 0x56, 0x61, 0x72, 0x69, 0x61, 0x62, 0x6c, 0x65, 0x4f, 0x70,\r\n",
      "  0x00, 0x00, 0x00, 0x00, 0x01, 0x00, 0x00, 0x00, 0x08, 0x00, 0x00, 0x00,\r\n",
      "  0x00, 0x00, 0x0e, 0x00, 0x14, 0x00, 0x04, 0x00, 0x00, 0x00, 0x08, 0x00,\r\n",
      "  0x0c, 0x00, 0x10, 0x00, 0x0e, 0x00, 0x00, 0x00, 0x2c, 0x00, 0x00, 0x00,\r\n",
      "  0x01, 0x00, 0x00, 0x00, 0x10, 0x00, 0x00, 0x00, 0x08, 0x00, 0x00, 0x00,\r\n",
      "  0x04, 0x00, 0x04, 0x00, 0x04, 0x00, 0x00, 0x00, 0x0e, 0x00, 0x00, 0x00,\r\n",
      "  0x63, 0x6f, 0x6e, 0x76, 0x32, 0x64, 0x5f, 0x34, 0x5f, 0x69, 0x6e, 0x70,\r\n",
      "  0x75, 0x74, 0x00, 0x00, 0x04, 0x00, 0x00, 0x00, 0x01, 0x00, 0x00, 0x00,\r\n",
      "  0xf8, 0x02, 0x00, 0x00, 0x03, 0x00, 0x00, 0x00, 0x01, 0x00, 0x00, 0x00,\r\n",
      "  0x05, 0x00, 0x00, 0x00, 0x4c, 0x00, 0x00, 0x00, 0x38, 0x00, 0x00, 0x00,\r\n",
      "  0x28, 0x00, 0x00, 0x00, 0x18, 0x00, 0x00, 0x00, 0x0c, 0x00, 0x00, 0x00,\r\n",
      "  0x00, 0x00, 0x06, 0x00, 0x08, 0x00, 0x07, 0x00, 0x06, 0x00, 0x00, 0x00,\r\n",
      "  0x00, 0x00, 0x00, 0x19, 0xe2, 0xff, 0xff, 0xff, 0x00, 0x00, 0x00, 0x09,\r\n",
      "  0x03, 0x00, 0x00, 0x00, 0xfa, 0xff, 0xff, 0xff, 0x00, 0x16, 0x06, 0x00,\r\n",
      "  0x06, 0x00, 0x05, 0x00, 0x06, 0x00, 0x00, 0x00, 0x00, 0x11, 0x0a, 0x00,\r\n",
      "  0x0c, 0x00, 0x07, 0x00, 0x00, 0x00, 0x08, 0x00, 0x0a, 0x00, 0x00, 0x00,\r\n",
      "  0x00, 0x00, 0x00, 0x03, 0x02, 0x00, 0x00, 0x00\r\n",
      "};\r\n",
      "unsigned int ___Model_cnn_model_quantized3_tflite_len = 11312;\r\n"
     ]
    }
   ],
   "source": [
    "!cat ../Model/cnn_opt_model3.cc"
   ]
  },
  {
   "cell_type": "code",
   "execution_count": null,
   "metadata": {},
   "outputs": [],
   "source": []
  }
 ],
 "metadata": {
  "kernelspec": {
   "display_name": "Python 3",
   "language": "python",
   "name": "python3"
  },
  "toc": {
   "base_numbering": 1,
   "nav_menu": {},
   "number_sections": true,
   "sideBar": true,
   "skip_h1_title": false,
   "title_cell": "Table of Contents",
   "title_sidebar": "Contents",
   "toc_cell": false,
   "toc_position": {},
   "toc_section_display": true,
   "toc_window_display": false
  }
 },
 "nbformat": 4,
 "nbformat_minor": 4
}
