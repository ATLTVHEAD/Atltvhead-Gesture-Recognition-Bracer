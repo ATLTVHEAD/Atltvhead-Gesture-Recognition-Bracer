{
 "cells": [
  {
   "cell_type": "code",
   "execution_count": 1,
   "metadata": {
    "ExecuteTime": {
     "end_time": "2020-07-24T21:00:17.445608Z",
     "start_time": "2020-07-24T21:00:12.589366Z"
    }
   },
   "outputs": [],
   "source": [
    "import numpy as np \n",
    "import pandas as pd \n",
    "import datetime\n",
    "import re\n",
    "import os, os.path\n",
    "import time\n",
    "from sklearn.model_selection import train_test_split\n",
    "import random\n",
    "import tensorflow as tf\n",
    "import matplotlib.pyplot as plt\n",
    "import seaborn as sb"
   ]
  },
  {
   "cell_type": "code",
   "execution_count": 6,
   "metadata": {
    "ExecuteTime": {
     "end_time": "2020-07-24T21:00:51.618359Z",
     "start_time": "2020-07-24T21:00:51.613999Z"
    },
    "tags": []
   },
   "outputs": [
    {
     "name": "stdout",
     "output_type": "stream",
     "text": [
      "/app/data/Training_Data\n"
     ]
    }
   ],
   "source": [
    "cd ../Training_Data"
   ]
  },
  {
   "cell_type": "code",
   "execution_count": 7,
   "metadata": {
    "ExecuteTime": {
     "end_time": "2020-07-24T21:00:52.136143Z",
     "start_time": "2020-07-24T21:00:52.132525Z"
    },
    "tags": []
   },
   "outputs": [],
   "source": [
    "sb.set_palette(\"husl\",4)\n",
    "sb.set_style(\"whitegrid\")"
   ]
  },
  {
   "cell_type": "code",
   "execution_count": 12,
   "metadata": {
    "ExecuteTime": {
     "end_time": "2020-07-24T21:04:53.593223Z",
     "start_time": "2020-07-24T21:04:07.970309Z"
    }
   },
   "outputs": [],
   "source": [
    "train_set = pd.read_csv('processed_train_set.csv',converters={'acceleration': eval})\n",
    "test_set = pd.read_csv('processed_test_set.csv',converters={'acceleration': eval})\n",
    "val_set = pd.read_csv('processed_val_set.csv',converters={'acceleration': eval})"
   ]
  },
  {
   "cell_type": "code",
   "execution_count": 3,
   "metadata": {
    "ExecuteTime": {
     "end_time": "2020-07-05T01:37:43.033315Z",
     "start_time": "2020-07-05T01:37:43.021214Z"
    },
    "tags": []
   },
   "outputs": [
    {
     "name": "stdout",
     "output_type": "stream",
     "text": [
      "/app/data/Model\n"
     ]
    }
   ],
   "source": [
    "cd ../Model\n"
   ]
  },
  {
   "cell_type": "code",
   "execution_count": 13,
   "metadata": {
    "ExecuteTime": {
     "end_time": "2020-07-24T21:05:29.849459Z",
     "start_time": "2020-07-24T21:05:29.837216Z"
    }
   },
   "outputs": [],
   "source": [
    "def calculate_model_size(model):\n",
    "    print(model.summary())\n",
    "    var_sizes = [\n",
    "      np.product(list(map(int, v.shape))) * v.dtype.size\n",
    "      for v in model.trainable_variables\n",
    "      ]\n",
    "    print(\"Model size:\", sum(var_sizes) / 1024, \"KB\")"
   ]
  },
  {
   "cell_type": "code",
   "execution_count": 14,
   "metadata": {
    "ExecuteTime": {
     "end_time": "2020-07-24T21:05:33.623348Z",
     "start_time": "2020-07-24T21:05:32.327188Z"
    }
   },
   "outputs": [],
   "source": [
    "samples = len(train_set['acceleration'][0])\n",
    "\n",
    "lstm_model = tf.keras.Sequential([\n",
    "      tf.keras.layers.Bidirectional(\n",
    "          tf.keras.layers.LSTM(22),\n",
    "          input_shape=(samples, 3)),  # output_shape=(batch, 44)\n",
    "      tf.keras.layers.Dense(4, activation=\"sigmoid\")  # (batch, 4)\n",
    "])\n",
    "\n",
    "cnn_model = tf.keras.Sequential([\n",
    "    tf.keras.layers.Conv2D(8, (4, 3),padding=\"same\",activation=\"relu\",\n",
    "                           input_shape=(samples, 3, 1)),  # output_shape=(batch, 128, 3, 8)\n",
    "    tf.keras.layers.MaxPool2D((3, 3)),  # (batch, 42, 1, 8)\n",
    "    tf.keras.layers.Dropout(0.1),  # (batch, 42, 1, 8)\n",
    "    tf.keras.layers.Conv2D(16, (4, 1), padding=\"same\",activation=\"relu\"),  # (batch, 42, 1, 16)\n",
    "    tf.keras.layers.MaxPool2D((3, 1), padding=\"same\"),  # (batch, 14, 1, 16)\n",
    "    tf.keras.layers.Dropout(0.1),  # (batch, 14, 1, 16)\n",
    "    tf.keras.layers.Flatten(),  # (batch, 224)\n",
    "    tf.keras.layers.Dense(16, activation=\"relu\"),  # (batch, 16)\n",
    "    tf.keras.layers.Dropout(0.1),  # (batch, 16)\n",
    "    tf.keras.layers.Dense(4, activation=\"softmax\")  # (batch, 4)\n",
    "])\n",
    "\n",
    "cnn_model2 = tf.keras.Sequential([\n",
    "    tf.keras.layers.Conv2D(8, (4, 3),padding=\"same\",activation=\"relu\",\n",
    "                           input_shape=(samples, 3, 1)),  # output_shape=(batch, 128, 3, 8)\n",
    "    tf.keras.layers.MaxPool2D((3, 3)),  # (batch, 42, 1, 8)\n",
    "    tf.keras.layers.Dropout(0.1),  # (batch, 42, 1, 8)\n",
    "    tf.keras.layers.Conv2D(16, (4, 1), padding=\"same\",activation=\"relu\"),  # (batch, 42, 1, 16)\n",
    "    tf.keras.layers.MaxPool2D((3, 1), padding=\"same\"),  # (batch, 14, 1, 16)\n",
    "    tf.keras.layers.Dropout(0.1),  # (batch, 14, 1, 16)\n",
    "    tf.keras.layers.Flatten(),  # (batch, 224)\n",
    "    tf.keras.layers.Dense(16, activation=\"relu\"),  # (batch, 16)\n",
    "    tf.keras.layers.Dropout(0.1),  # (batch, 16)\n",
    "    tf.keras.layers.Dense(4, activation=\"softmax\")  # (batch, 4)\n",
    "])"
   ]
  },
  {
   "cell_type": "code",
   "execution_count": 15,
   "metadata": {
    "ExecuteTime": {
     "end_time": "2020-07-24T21:05:42.881415Z",
     "start_time": "2020-07-24T21:05:38.556603Z"
    }
   },
   "outputs": [],
   "source": [
    "tensor_train_set = tf.data.Dataset.from_tensor_slices(\n",
    "    (np.array(train_set['acceleration'].tolist(),dtype=np.float64),\n",
    "     train_set['gesture'].tolist()))\n",
    "\n",
    "tensor_test_set = tf.data.Dataset.from_tensor_slices(\n",
    "    (np.array(test_set['acceleration'].tolist(),dtype=np.float64),\n",
    "     test_set['gesture'].tolist()))\n",
    "\n",
    "tensor_val_set = tf.data.Dataset.from_tensor_slices(\n",
    "    (np.array(val_set['acceleration'].tolist(),dtype=np.float64),\n",
    "     val_set['gesture'].tolist()))"
   ]
  },
  {
   "cell_type": "code",
   "execution_count": 16,
   "metadata": {
    "ExecuteTime": {
     "end_time": "2020-07-24T21:05:44.473498Z",
     "start_time": "2020-07-24T21:05:44.423398Z"
    },
    "tags": []
   },
   "outputs": [
    {
     "name": "stdout",
     "output_type": "stream",
     "text": [
      "Model: \"sequential\"\n",
      "_________________________________________________________________\n",
      "Layer (type)                 Output Shape              Param #   \n",
      "=================================================================\n",
      "bidirectional (Bidirectional (None, 44)                4576      \n",
      "_________________________________________________________________\n",
      "dense (Dense)                (None, 4)                 180       \n",
      "=================================================================\n",
      "Total params: 4,756\n",
      "Trainable params: 4,756\n",
      "Non-trainable params: 0\n",
      "_________________________________________________________________\n",
      "None\n",
      "Model size: 18.578125 KB\n",
      "Model: \"sequential_1\"\n",
      "_________________________________________________________________\n",
      "Layer (type)                 Output Shape              Param #   \n",
      "=================================================================\n",
      "conv2d (Conv2D)              (None, 760, 3, 8)         104       \n",
      "_________________________________________________________________\n",
      "max_pooling2d (MaxPooling2D) (None, 253, 1, 8)         0         \n",
      "_________________________________________________________________\n",
      "dropout (Dropout)            (None, 253, 1, 8)         0         \n",
      "_________________________________________________________________\n",
      "conv2d_1 (Conv2D)            (None, 253, 1, 16)        528       \n",
      "_________________________________________________________________\n",
      "max_pooling2d_1 (MaxPooling2 (None, 85, 1, 16)         0         \n",
      "_________________________________________________________________\n",
      "dropout_1 (Dropout)          (None, 85, 1, 16)         0         \n",
      "_________________________________________________________________\n",
      "flatten (Flatten)            (None, 1360)              0         \n",
      "_________________________________________________________________\n",
      "dense_1 (Dense)              (None, 16)                21776     \n",
      "_________________________________________________________________\n",
      "dropout_2 (Dropout)          (None, 16)                0         \n",
      "_________________________________________________________________\n",
      "dense_2 (Dense)              (None, 4)                 68        \n",
      "=================================================================\n",
      "Total params: 22,476\n",
      "Trainable params: 22,476\n",
      "Non-trainable params: 0\n",
      "_________________________________________________________________\n",
      "None\n",
      "Model size: 87.796875 KB\n",
      "Model: \"sequential_2\"\n",
      "_________________________________________________________________\n",
      "Layer (type)                 Output Shape              Param #   \n",
      "=================================================================\n",
      "conv2d_2 (Conv2D)            (None, 760, 3, 8)         104       \n",
      "_________________________________________________________________\n",
      "max_pooling2d_2 (MaxPooling2 (None, 253, 1, 8)         0         \n",
      "_________________________________________________________________\n",
      "dropout_3 (Dropout)          (None, 253, 1, 8)         0         \n",
      "_________________________________________________________________\n",
      "conv2d_3 (Conv2D)            (None, 253, 1, 16)        528       \n",
      "_________________________________________________________________\n",
      "max_pooling2d_3 (MaxPooling2 (None, 85, 1, 16)         0         \n",
      "_________________________________________________________________\n",
      "dropout_4 (Dropout)          (None, 85, 1, 16)         0         \n",
      "_________________________________________________________________\n",
      "flatten_1 (Flatten)          (None, 1360)              0         \n",
      "_________________________________________________________________\n",
      "dense_3 (Dense)              (None, 16)                21776     \n",
      "_________________________________________________________________\n",
      "dropout_5 (Dropout)          (None, 16)                0         \n",
      "_________________________________________________________________\n",
      "dense_4 (Dense)              (None, 4)                 68        \n",
      "=================================================================\n",
      "Total params: 22,476\n",
      "Trainable params: 22,476\n",
      "Non-trainable params: 0\n",
      "_________________________________________________________________\n",
      "None\n",
      "Model size: 87.796875 KB\n"
     ]
    }
   ],
   "source": [
    "calculate_model_size(lstm_model)\n",
    "epochs_cnn = 20\n",
    "epochs_lstm = 20\n",
    "batch_size = 64\n",
    "batch_size2 = 192\n",
    "\n",
    "lstm_model.compile(\n",
    "    optimizer=\"adam\",\n",
    "    loss=\"sparse_categorical_crossentropy\",\n",
    "    metrics=[\"accuracy\"])\n",
    "\n",
    "calculate_model_size(cnn_model)\n",
    "cnn_model.compile(\n",
    "    optimizer=\"adam\",\n",
    "    loss=\"sparse_categorical_crossentropy\",\n",
    "    metrics=[\"accuracy\"])\n",
    "\n",
    "calculate_model_size(cnn_model2)\n",
    "cnn_model2.compile(\n",
    "    optimizer=\"adam\",\n",
    "    loss=\"sparse_categorical_crossentropy\",\n",
    "    metrics=[\"accuracy\"])"
   ]
  },
  {
   "cell_type": "code",
   "execution_count": 13,
   "metadata": {
    "ExecuteTime": {
     "end_time": "2020-07-07T23:27:25.111457Z",
     "start_time": "2020-07-07T23:27:25.099952Z"
    }
   },
   "outputs": [],
   "source": [
    "tensor_train_set_lstm = tensor_train_set.batch(batch_size).repeat()\n",
    "tensor_val_set_lstm = tensor_val_set.batch(batch_size)\n",
    "tensor_test_set_lstm = tensor_test_set.batch(batch_size)"
   ]
  },
  {
   "cell_type": "code",
   "execution_count": 23,
   "metadata": {
    "ExecuteTime": {
     "end_time": "2020-07-07T23:59:02.625357Z",
     "start_time": "2020-07-07T23:49:20.844305Z"
    },
    "tags": []
   },
   "outputs": [
    {
     "name": "stdout",
     "output_type": "stream",
     "text": [
      "Epoch 1/20\n",
      "200/200 [==============================] - 50s 252ms/step - loss: 1.1708 - accuracy: 0.5038 - val_loss: 1.2219 - val_accuracy: 0.3824\n",
      "Epoch 2/20\n",
      "200/200 [==============================] - 50s 250ms/step - loss: 0.9475 - accuracy: 0.6209 - val_loss: 1.0014 - val_accuracy: 0.5588\n",
      "Epoch 3/20\n",
      "200/200 [==============================] - 50s 251ms/step - loss: 0.6700 - accuracy: 0.7546 - val_loss: 0.7682 - val_accuracy: 0.6176\n",
      "Epoch 4/20\n",
      "200/200 [==============================] - 50s 251ms/step - loss: 0.6416 - accuracy: 0.7543 - val_loss: 0.7650 - val_accuracy: 0.7647\n",
      "Epoch 5/20\n",
      "200/200 [==============================] - 49s 247ms/step - loss: 0.5170 - accuracy: 0.7993 - val_loss: 0.6845 - val_accuracy: 0.7941\n",
      "Epoch 6/20\n",
      "200/200 [==============================] - 41s 205ms/step - loss: 0.4968 - accuracy: 0.8175 - val_loss: 0.5047 - val_accuracy: 0.8529\n",
      "Epoch 7/20\n",
      "200/200 [==============================] - 44s 220ms/step - loss: 0.3459 - accuracy: 0.8813 - val_loss: 0.4133 - val_accuracy: 0.9118\n",
      "Epoch 8/20\n",
      "200/200 [==============================] - 41s 204ms/step - loss: 0.3362 - accuracy: 0.8879 - val_loss: 0.3615 - val_accuracy: 0.9118\n",
      "Epoch 9/20\n",
      "200/200 [==============================] - 40s 199ms/step - loss: 0.2522 - accuracy: 0.9184 - val_loss: 0.3362 - val_accuracy: 0.9118\n",
      "Epoch 10/20\n",
      "200/200 [==============================] - 40s 201ms/step - loss: 0.2574 - accuracy: 0.9228 - val_loss: 0.3104 - val_accuracy: 0.9118\n",
      "Epoch 11/20\n",
      "200/200 [==============================] - 40s 199ms/step - loss: 0.1656 - accuracy: 0.9499 - val_loss: 0.4189 - val_accuracy: 0.8529\n",
      "Epoch 12/20\n",
      "200/200 [==============================] - 43s 217ms/step - loss: 0.2104 - accuracy: 0.9347 - val_loss: 0.4402 - val_accuracy: 0.8235\n",
      "Epoch 13/20\n",
      "200/200 [==============================] - 40s 201ms/step - loss: 0.1673 - accuracy: 0.9492 - val_loss: 0.3098 - val_accuracy: 0.8824\n",
      "Epoch 14/20\n",
      "200/200 [==============================] - 42s 209ms/step - loss: 0.1705 - accuracy: 0.9486 - val_loss: 0.2974 - val_accuracy: 0.8824\n",
      "Epoch 15/20\n",
      "200/200 [==============================] - 41s 206ms/step - loss: 0.1066 - accuracy: 0.9692 - val_loss: 0.2614 - val_accuracy: 0.9412\n",
      "Epoch 16/20\n",
      "200/200 [==============================] - 45s 226ms/step - loss: 0.1334 - accuracy: 0.9602 - val_loss: 0.2889 - val_accuracy: 0.9118\n",
      "Epoch 17/20\n",
      "200/200 [==============================] - 42s 209ms/step - loss: 0.0891 - accuracy: 0.9723 - val_loss: 0.2735 - val_accuracy: 0.9412\n",
      "Epoch 18/20\n",
      "200/200 [==============================] - 41s 206ms/step - loss: 0.1008 - accuracy: 0.9712 - val_loss: 0.3245 - val_accuracy: 0.9118\n",
      "Epoch 19/20\n",
      "200/200 [==============================] - 40s 202ms/step - loss: 0.0702 - accuracy: 0.9793 - val_loss: 0.3380 - val_accuracy: 0.9118\n",
      "Epoch 20/20\n",
      "200/200 [==============================] - 37s 185ms/step - loss: 0.1523 - accuracy: 0.9484 - val_loss: 0.3262 - val_accuracy: 0.9412\n"
     ]
    }
   ],
   "source": [
    "history = lstm_model.fit(\n",
    "    tensor_train_set_lstm,\n",
    "    epochs=epochs_lstm,\n",
    "    validation_data=tensor_val_set_lstm,\n",
    "    steps_per_epoch=200,\n",
    "    validation_steps=int((len(val_set) - 1) / batch_size + 1))"
   ]
  },
  {
   "cell_type": "code",
   "execution_count": 24,
   "metadata": {
    "ExecuteTime": {
     "end_time": "2020-07-07T23:59:03.312069Z",
     "start_time": "2020-07-07T23:59:02.637847Z"
    },
    "tags": []
   },
   "outputs": [
    {
     "name": "stdout",
     "output_type": "stream",
     "text": [
      "1/1 [==============================] - 0s 841us/step - loss: 0.0479 - accuracy: 1.0000\n"
     ]
    }
   ],
   "source": [
    "loss_lstm, acc_lstm = lstm_model.evaluate(tensor_test_set_lstm)\n",
    "pred_lstm = np.argmax(lstm_model.predict(tensor_test_set_lstm), axis=1)\n",
    "confusion_lstm = tf.math.confusion_matrix(\n",
    "    labels=tf.constant(test_set['gesture'].to_numpy()),\n",
    "    predictions=tf.constant(pred_lstm),\n",
    "    num_classes=4)"
   ]
  },
  {
   "cell_type": "code",
   "execution_count": 25,
   "metadata": {
    "ExecuteTime": {
     "end_time": "2020-07-07T23:59:03.322360Z",
     "start_time": "2020-07-07T23:59:03.316974Z"
    },
    "tags": []
   },
   "outputs": [
    {
     "name": "stdout",
     "output_type": "stream",
     "text": [
      "tf.Tensor(\n",
      "[[14  0  0  0]\n",
      " [ 0 10  0  0]\n",
      " [ 0  0 14  0]\n",
      " [ 0  0  0  8]], shape=(4, 4), dtype=int32)\n",
      "Loss 0.04790152609348297, Accuracy 1.0\n"
     ]
    }
   ],
   "source": [
    "print(confusion_lstm)\n",
    "print(\"Loss {}, Accuracy {}\".format(loss_lstm, acc_lstm))"
   ]
  },
  {
   "cell_type": "code",
   "execution_count": 26,
   "metadata": {
    "ExecuteTime": {
     "end_time": "2020-07-07T23:59:03.656383Z",
     "start_time": "2020-07-07T23:59:03.328293Z"
    }
   },
   "outputs": [
    {
     "data": {
      "text/plain": [
       "<matplotlib.legend.Legend at 0x7f3b6d3d7d90>"
      ]
     },
     "execution_count": 26,
     "metadata": {},
     "output_type": "execute_result"
    },
    {
     "data": {
      "image/png": "[encoded data removed]",
      "text/plain": [
       "<Figure size 432x288 with 1 Axes>"
      ]
     },
     "metadata": {},
     "output_type": "display_data"
    }
   ],
   "source": [
    "plt.plot(history.history['accuracy'])\n",
    "plt.plot(history.history['val_accuracy'])\n",
    "plt.xlabel('Epochs')\n",
    "plt.ylabel('Acc')\n",
    "plt.legend(['Training','Validation'],loc='upper right')"
   ]
  },
  {
   "cell_type": "code",
   "execution_count": 27,
   "metadata": {
    "ExecuteTime": {
     "end_time": "2020-07-07T23:59:03.952694Z",
     "start_time": "2020-07-07T23:59:03.657872Z"
    }
   },
   "outputs": [
    {
     "data": {
      "text/plain": [
       "<matplotlib.legend.Legend at 0x7f3b6d355b50>"
      ]
     },
     "execution_count": 27,
     "metadata": {},
     "output_type": "execute_result"
    },
    {
     "data": {
      "image/png": "[encoded data removed]",
      "text/plain": [
       "<Figure size 432x288 with 1 Axes>"
      ]
     },
     "metadata": {},
     "output_type": "display_data"
    }
   ],
   "source": [
    "plt.plot(history.history['loss'])\n",
    "plt.plot(history.history['val_loss'])\n",
    "plt.xlabel('Epochs')\n",
    "plt.ylabel('Loss')\n",
    "plt.legend(['Training','Validation'],loc='upper right')"
   ]
  },
  {
   "cell_type": "code",
   "execution_count": 28,
   "metadata": {
    "ExecuteTime": {
     "start_time": "2020-07-07T22:58:22.981Z"
    },
    "tags": []
   },
   "outputs": [
    {
     "data": {
      "text/plain": [
       "121340"
      ]
     },
     "execution_count": 28,
     "metadata": {},
     "output_type": "execute_result"
    }
   ],
   "source": [
    "converter = tf.lite.TFLiteConverter.from_keras_model(lstm_model)\n",
    "lstm_tflite_model = converter.convert()\n",
    "\n",
    "open(\"lstm_model.tflite\", \"wb\").write(lstm_tflite_model)"
   ]
  },
  {
   "cell_type": "code",
   "execution_count": 31,
   "metadata": {},
   "outputs": [],
   "source": [
    "lstm_model.save('lstm_model.h5') "
   ]
  },
  {
   "cell_type": "code",
   "execution_count": null,
   "metadata": {
    "ExecuteTime": {
     "end_time": "2020-07-05T02:15:22.785851Z",
     "start_time": "2020-07-05T02:15:17.931532Z"
    },
    "tags": []
   },
   "outputs": [],
   "source": [
    "converter = tf.lite.TFLiteConverter.from_keras_model(lstm_model)\n",
    "converter.experimental_new_converter = True\n",
    "converter.optimizations = [tf.lite.Optimize.OPTIMIZE_FOR_SIZE]\n",
    "converter.target_spec.supported_types = [tf.float16]\n",
    "lstm_opt_tflite_model = converter.convert()\n",
    "# Save the model to disk\n",
    "open(\"lstm_model_quantized.tflite\", \"wb\").write(lstm_opt_tflite_model)"
   ]
  },
  {
   "cell_type": "code",
   "execution_count": null,
   "metadata": {
    "ExecuteTime": {
     "end_time": "2020-07-05T02:15:32.342762Z",
     "start_time": "2020-07-05T02:15:32.310067Z"
    },
    "tags": []
   },
   "outputs": [],
   "source": [
    "basic_model_size = os.path.getsize(\"lstm_model.tflite\")\n",
    "print(\"Basic model is %d bytes\" % basic_model_size)\n",
    "quantized_model_size = os.path.getsize(\"lstm_model_quantized.tflite\")\n",
    "print(\"Quantized model is %d bytes\" % quantized_model_size)\n",
    "difference = basic_model_size - quantized_model_size\n",
    "print(\"Difference is %d bytes\" % difference)"
   ]
  },
  {
   "cell_type": "code",
   "execution_count": null,
   "metadata": {},
   "outputs": [],
   "source": []
  },
  {
   "cell_type": "code",
   "execution_count": null,
   "metadata": {},
   "outputs": [],
   "source": []
  },
  {
   "cell_type": "code",
   "execution_count": 17,
   "metadata": {
    "ExecuteTime": {
     "end_time": "2020-07-24T21:05:56.774414Z",
     "start_time": "2020-07-24T21:05:56.768105Z"
    }
   },
   "outputs": [],
   "source": [
    "def reshape_function(data, label):\n",
    "    reshaped_data = tf.reshape(data, [-1, 3, 1])\n",
    "    return reshaped_data, label"
   ]
  },
  {
   "cell_type": "code",
   "execution_count": null,
   "metadata": {
    "ExecuteTime": {
     "start_time": "2020-07-07T21:10:47.639Z"
    }
   },
   "outputs": [],
   "source": [
    "train_set = pd.read_csv('processed_train_set.csv',converters={'acceleration': eval})\n",
    "test_set = pd.read_csv('processed_test_set.csv',converters={'acceleration': eval})\n",
    "val_set = pd.read_csv('processed_val_set.csv',converters={'acceleration': eval})\n",
    "\n",
    "tensor_train_set = tf.data.Dataset.from_tensor_slices(\n",
    "    (np.array(train_set['acceleration'].tolist(),dtype=np.float64),\n",
    "     train_set['gesture'].tolist()))\n",
    "\n",
    "tensor_test_set = tf.data.Dataset.from_tensor_slices(\n",
    "    (np.array(test_set['acceleration'].tolist(),dtype=np.float64),\n",
    "     test_set['gesture'].tolist()))\n",
    "\n",
    "tensor_val_set = tf.data.Dataset.from_tensor_slices(\n",
    "    (np.array(val_set['acceleration'].tolist(),dtype=np.float64),\n",
    "     val_set['gesture'].tolist()))"
   ]
  },
  {
   "cell_type": "code",
   "execution_count": 18,
   "metadata": {
    "ExecuteTime": {
     "end_time": "2020-07-24T21:06:01.341497Z",
     "start_time": "2020-07-24T21:06:01.228707Z"
    }
   },
   "outputs": [],
   "source": [
    "tensor_train_set_cnn = tensor_train_set.map(reshape_function)\n",
    "tensor_test_set_cnn = tensor_test_set.map(reshape_function)\n",
    "tensor_val_set_cnn = tensor_val_set.map(reshape_function)"
   ]
  },
  {
   "cell_type": "code",
   "execution_count": 19,
   "metadata": {
    "ExecuteTime": {
     "end_time": "2020-07-24T21:06:02.112639Z",
     "start_time": "2020-07-24T21:06:02.106807Z"
    }
   },
   "outputs": [],
   "source": [
    "tensor_train_set_cnn = tensor_train_set_cnn.batch(batch_size).repeat()\n",
    "tensor_test_set_cnn = tensor_test_set_cnn.batch(batch_size)\n",
    "tensor_val_set_cnn = tensor_val_set_cnn.batch(batch_size)"
   ]
  },
  {
   "cell_type": "code",
   "execution_count": 20,
   "metadata": {
    "ExecuteTime": {
     "end_time": "2020-07-24T21:09:28.785879Z",
     "start_time": "2020-07-24T21:06:05.003348Z"
    }
   },
   "outputs": [
    {
     "name": "stdout",
     "output_type": "stream",
     "text": [
      "Epoch 1/20\n",
      "300/300 [==============================] - 10s 35ms/step - loss: 0.8194 - accuracy: 0.6777 - val_loss: 0.4300 - val_accuracy: 0.8235\n",
      "Epoch 2/20\n",
      "300/300 [==============================] - 10s 34ms/step - loss: 0.4465 - accuracy: 0.8169 - val_loss: 0.2251 - val_accuracy: 0.9412\n",
      "Epoch 3/20\n",
      "300/300 [==============================] - 10s 33ms/step - loss: 0.2921 - accuracy: 0.8700 - val_loss: 0.2173 - val_accuracy: 0.9412\n",
      "Epoch 4/20\n",
      "300/300 [==============================] - 10s 33ms/step - loss: 0.2748 - accuracy: 0.8688 - val_loss: 0.2369 - val_accuracy: 0.9412\n",
      "Epoch 5/20\n",
      "300/300 [==============================] - 10s 33ms/step - loss: 0.2222 - accuracy: 0.8929 - val_loss: 0.1914 - val_accuracy: 0.9412\n",
      "Epoch 6/20\n",
      "300/300 [==============================] - 10s 33ms/step - loss: 0.1990 - accuracy: 0.9039 - val_loss: 0.2081 - val_accuracy: 0.9412\n",
      "Epoch 7/20\n",
      "300/300 [==============================] - 10s 34ms/step - loss: 0.1938 - accuracy: 0.9116 - val_loss: 0.2996 - val_accuracy: 0.8824\n",
      "Epoch 8/20\n",
      "300/300 [==============================] - 10s 33ms/step - loss: 0.1666 - accuracy: 0.9254 - val_loss: 0.2332 - val_accuracy: 0.9706\n",
      "Epoch 9/20\n",
      "300/300 [==============================] - 10s 33ms/step - loss: 0.1462 - accuracy: 0.9373 - val_loss: 0.2569 - val_accuracy: 0.9412\n",
      "Epoch 10/20\n",
      "300/300 [==============================] - 10s 34ms/step - loss: 0.1232 - accuracy: 0.9484 - val_loss: 0.2386 - val_accuracy: 0.9706\n",
      "Epoch 11/20\n",
      "300/300 [==============================] - 10s 34ms/step - loss: 0.1352 - accuracy: 0.9454 - val_loss: 0.3364 - val_accuracy: 0.9118\n",
      "Epoch 12/20\n",
      "300/300 [==============================] - 10s 34ms/step - loss: 0.0956 - accuracy: 0.9590 - val_loss: 0.2849 - val_accuracy: 0.9412\n",
      "Epoch 13/20\n",
      "300/300 [==============================] - 10s 34ms/step - loss: 0.0915 - accuracy: 0.9643 - val_loss: 0.2518 - val_accuracy: 0.9706\n",
      "Epoch 14/20\n",
      "300/300 [==============================] - 10s 33ms/step - loss: 0.1074 - accuracy: 0.9592 - val_loss: 0.2818 - val_accuracy: 0.9706\n",
      "Epoch 15/20\n",
      "300/300 [==============================] - 10s 34ms/step - loss: 0.1237 - accuracy: 0.9491 - val_loss: 0.2770 - val_accuracy: 0.9706\n",
      "Epoch 16/20\n",
      "300/300 [==============================] - 10s 34ms/step - loss: 0.0914 - accuracy: 0.9633 - val_loss: 0.2540 - val_accuracy: 0.9706\n",
      "Epoch 17/20\n",
      "300/300 [==============================] - 10s 34ms/step - loss: 0.0895 - accuracy: 0.9649 - val_loss: 0.3129 - val_accuracy: 0.9412\n",
      "Epoch 18/20\n",
      "300/300 [==============================] - 10s 34ms/step - loss: 0.0687 - accuracy: 0.9752 - val_loss: 0.2645 - val_accuracy: 0.9412\n",
      "Epoch 19/20\n",
      "300/300 [==============================] - 10s 34ms/step - loss: 0.0593 - accuracy: 0.9807 - val_loss: 0.2494 - val_accuracy: 0.9706\n",
      "Epoch 20/20\n",
      "300/300 [==============================] - 10s 34ms/step - loss: 0.0621 - accuracy: 0.9783 - val_loss: 0.2332 - val_accuracy: 0.9706\n"
     ]
    }
   ],
   "source": [
    "history=cnn_model.fit(\n",
    "    tensor_train_set_cnn,\n",
    "    epochs=epochs_cnn,\n",
    "    validation_data=tensor_val_set_cnn,\n",
    "    steps_per_epoch=300,\n",
    "    validation_steps=int((len(val_set) - 1) / batch_size + 1))"
   ]
  },
  {
   "cell_type": "code",
   "execution_count": 21,
   "metadata": {
    "ExecuteTime": {
     "end_time": "2020-07-24T21:13:09.496491Z",
     "start_time": "2020-07-24T21:09:28.787749Z"
    },
    "tags": []
   },
   "outputs": [
    {
     "name": "stdout",
     "output_type": "stream",
     "text": [
      "Epoch 1/20\n",
      "300/300 [==============================] - 10s 34ms/step - loss: 0.8867 - accuracy: 0.6838 - val_loss: 0.4711 - val_accuracy: 0.8438\n",
      "Epoch 2/20\n",
      "300/300 [==============================] - 10s 34ms/step - loss: 0.4619 - accuracy: 0.7952 - val_loss: 0.3019 - val_accuracy: 0.8750\n",
      "Epoch 3/20\n",
      "300/300 [==============================] - 11s 36ms/step - loss: 0.3182 - accuracy: 0.8588 - val_loss: 0.2770 - val_accuracy: 0.8438\n",
      "Epoch 4/20\n",
      "300/300 [==============================] - 11s 37ms/step - loss: 0.2427 - accuracy: 0.8880 - val_loss: 0.1187 - val_accuracy: 0.9688\n",
      "Epoch 5/20\n",
      "300/300 [==============================] - 10s 34ms/step - loss: 0.1530 - accuracy: 0.9369 - val_loss: 0.0820 - val_accuracy: 0.9688\n",
      "Epoch 6/20\n",
      "300/300 [==============================] - 10s 34ms/step - loss: 0.1238 - accuracy: 0.9508 - val_loss: 0.0649 - val_accuracy: 0.9688\n",
      "Epoch 7/20\n",
      "300/300 [==============================] - 10s 34ms/step - loss: 0.1138 - accuracy: 0.9585 - val_loss: 0.0687 - val_accuracy: 0.9688\n",
      "Epoch 8/20\n",
      "300/300 [==============================] - 11s 36ms/step - loss: 0.0952 - accuracy: 0.9604 - val_loss: 0.0375 - val_accuracy: 0.9688\n",
      "Epoch 9/20\n",
      "300/300 [==============================] - 11s 37ms/step - loss: 0.0872 - accuracy: 0.9647 - val_loss: 0.0478 - val_accuracy: 0.9688\n",
      "Epoch 10/20\n",
      "300/300 [==============================] - 11s 37ms/step - loss: 0.0774 - accuracy: 0.9683 - val_loss: 0.0595 - val_accuracy: 0.9688\n",
      "Epoch 11/20\n",
      "300/300 [==============================] - 11s 38ms/step - loss: 0.0820 - accuracy: 0.9677 - val_loss: 0.0386 - val_accuracy: 0.9688\n",
      "Epoch 12/20\n",
      "300/300 [==============================] - 11s 38ms/step - loss: 0.0692 - accuracy: 0.9725 - val_loss: 0.0326 - val_accuracy: 1.0000\n",
      "Epoch 13/20\n",
      "300/300 [==============================] - 11s 38ms/step - loss: 0.0609 - accuracy: 0.9737 - val_loss: 0.0472 - val_accuracy: 1.0000\n",
      "Epoch 14/20\n",
      "300/300 [==============================] - 11s 37ms/step - loss: 0.0622 - accuracy: 0.9748 - val_loss: 0.0287 - val_accuracy: 1.0000\n",
      "Epoch 15/20\n",
      "300/300 [==============================] - 12s 39ms/step - loss: 0.0593 - accuracy: 0.9758 - val_loss: 0.0311 - val_accuracy: 1.0000\n",
      "Epoch 16/20\n",
      "300/300 [==============================] - 11s 37ms/step - loss: 0.0522 - accuracy: 0.9786 - val_loss: 0.0336 - val_accuracy: 0.9688\n",
      "Epoch 17/20\n",
      "300/300 [==============================] - 12s 40ms/step - loss: 0.0553 - accuracy: 0.9811 - val_loss: 0.0595 - val_accuracy: 0.9375\n",
      "Epoch 18/20\n",
      "300/300 [==============================] - 11s 37ms/step - loss: 0.0369 - accuracy: 0.9867 - val_loss: 0.0674 - val_accuracy: 0.9688\n",
      "Epoch 19/20\n",
      "300/300 [==============================] - 11s 37ms/step - loss: 0.0530 - accuracy: 0.9830 - val_loss: 0.0314 - val_accuracy: 1.0000\n",
      "Epoch 20/20\n",
      "300/300 [==============================] - 11s 37ms/step - loss: 0.0365 - accuracy: 0.9880 - val_loss: 0.0235 - val_accuracy: 1.0000\n"
     ]
    }
   ],
   "source": [
    "history2=cnn_model2.fit(\n",
    "    tensor_train_set_cnn,\n",
    "    epochs=epochs_cnn,\n",
    "    validation_data=tensor_val_set_cnn,\n",
    "    steps_per_epoch=300,\n",
    "    validation_steps=int((len(val_set) - 1) / batch_size2 + 1))"
   ]
  },
  {
   "cell_type": "code",
   "execution_count": 22,
   "metadata": {
    "ExecuteTime": {
     "end_time": "2020-07-24T21:13:09.880796Z",
     "start_time": "2020-07-24T21:13:09.498653Z"
    },
    "tags": []
   },
   "outputs": [
    {
     "name": "stdout",
     "output_type": "stream",
     "text": [
      "1/1 [==============================] - 0s 1ms/step - loss: 0.1301 - accuracy: 0.9565\n",
      "1/1 [==============================] - 0s 2ms/step - loss: 0.1718 - accuracy: 0.9565\n"
     ]
    }
   ],
   "source": [
    "loss_cnn, acc_cnn = cnn_model.evaluate(tensor_test_set_cnn)\n",
    "pred_cnn = np.argmax(cnn_model.predict(tensor_test_set_cnn), axis=1)\n",
    "confusion_cnn = tf.math.confusion_matrix(\n",
    "    labels=tf.constant(test_set['gesture'].to_numpy()),\n",
    "    predictions=tf.constant(pred_cnn),\n",
    "    num_classes=4)\n",
    "\n",
    "loss_cnn2, acc_cnn2 = cnn_model2.evaluate(tensor_test_set_cnn)\n",
    "pred_cnn2 = np.argmax(cnn_model2.predict(tensor_test_set_cnn), axis=1)\n",
    "confusion_cnn2 = tf.math.confusion_matrix(\n",
    "    labels=tf.constant(test_set['gesture'].to_numpy()),\n",
    "    predictions=tf.constant(pred_cnn2),\n",
    "    num_classes=4)"
   ]
  },
  {
   "cell_type": "code",
   "execution_count": 23,
   "metadata": {
    "ExecuteTime": {
     "end_time": "2020-07-24T21:13:09.892437Z",
     "start_time": "2020-07-24T21:13:09.882691Z"
    },
    "tags": []
   },
   "outputs": [
    {
     "name": "stdout",
     "output_type": "stream",
     "text": [
      "tf.Tensor(\n",
      "[[14  0  0  0]\n",
      " [ 0 10  0  0]\n",
      " [ 0  0 14  0]\n",
      " [ 2  0  0  6]], shape=(4, 4), dtype=int32)\n",
      "Loss 0.13012997806072235, Accuracy 0.95652174949646\n",
      "tf.Tensor(\n",
      "[[12  0  2  0]\n",
      " [ 0 10  0  0]\n",
      " [ 0  0 14  0]\n",
      " [ 0  0  0  8]], shape=(4, 4), dtype=int32)\n",
      "Loss 0.17175759375095367, Accuracy 0.95652174949646\n"
     ]
    }
   ],
   "source": [
    "print(confusion_cnn)\n",
    "print(\"Loss {}, Accuracy {}\".format(loss_cnn, acc_cnn))\n",
    "print(confusion_cnn2)\n",
    "print(\"Loss {}, Accuracy {}\".format(loss_cnn2, acc_cnn2))"
   ]
  },
  {
   "cell_type": "code",
   "execution_count": 61,
   "metadata": {
    "ExecuteTime": {
     "end_time": "2020-07-07T16:48:40.511257Z",
     "start_time": "2020-07-07T16:48:40.503305Z"
    }
   },
   "outputs": [
    {
     "data": {
      "text/plain": [
       "{'loss': [0.7923407554626465,\n",
       "  0.461860328912735,\n",
       "  0.38593143224716187,\n",
       "  0.3270552456378937,\n",
       "  0.14403121173381805,\n",
       "  0.12537544965744019,\n",
       "  0.13391758501529694,\n",
       "  0.09703149646520615,\n",
       "  0.0863436907529831,\n",
       "  0.07925357669591904,\n",
       "  0.08038990944623947,\n",
       "  0.08308139443397522,\n",
       "  0.0633382573723793,\n",
       "  0.041821353137493134,\n",
       "  0.03509070351719856,\n",
       "  0.03187365457415581,\n",
       "  0.0376107282936573,\n",
       "  0.03142774850130081,\n",
       "  0.031772077083587646,\n",
       "  0.02675214409828186],\n",
       " 'accuracy': [0.7026800513267517,\n",
       "  0.7994137406349182,\n",
       "  0.8789258599281311,\n",
       "  0.8850231170654297,\n",
       "  0.9436767101287842,\n",
       "  0.9490682482719421,\n",
       "  0.9417399764060974,\n",
       "  0.957231342792511,\n",
       "  0.9621021747589111,\n",
       "  0.972257137298584,\n",
       "  0.9700881838798523,\n",
       "  0.9664468169212341,\n",
       "  0.9746649861335754,\n",
       "  0.9870184063911438,\n",
       "  0.9878778457641602,\n",
       "  0.9882223606109619,\n",
       "  0.9864426255226135,\n",
       "  0.9891645908355713,\n",
       "  0.989294707775116,\n",
       "  0.9927763938903809],\n",
       " 'val_loss': [0.3654482960700989,\n",
       "  0.33940157294273376,\n",
       "  0.30139032006263733,\n",
       "  0.2163754403591156,\n",
       "  0.2223680317401886,\n",
       "  0.19440802931785583,\n",
       "  0.30314356088638306,\n",
       "  0.1771247535943985,\n",
       "  0.27248644828796387,\n",
       "  0.2229771912097931,\n",
       "  0.3531574308872223,\n",
       "  0.2675333023071289,\n",
       "  0.3502114713191986,\n",
       "  0.21808582544326782,\n",
       "  0.24800710380077362,\n",
       "  0.3235814571380615,\n",
       "  0.35335564613342285,\n",
       "  0.28541332483291626,\n",
       "  0.2728114724159241,\n",
       "  0.366247296333313],\n",
       " 'val_accuracy': [0.8235294222831726,\n",
       "  0.8970588445663452,\n",
       "  0.9117646813392639,\n",
       "  0.9117646813392639,\n",
       "  0.9411764740943909,\n",
       "  0.9411764740943909,\n",
       "  0.8823529481887817,\n",
       "  0.9411764740943909,\n",
       "  0.9411764740943909,\n",
       "  0.9411764740943909,\n",
       "  0.9117646813392639,\n",
       "  0.9411764740943909,\n",
       "  0.9411764740943909,\n",
       "  0.9411764740943909,\n",
       "  0.9411764740943909,\n",
       "  0.9411764740943909,\n",
       "  0.9411764740943909,\n",
       "  0.9117646813392639,\n",
       "  0.9411764740943909,\n",
       "  0.9411764740943909]}"
      ]
     },
     "execution_count": 61,
     "metadata": {},
     "output_type": "execute_result"
    }
   ],
   "source": [
    "history.history"
   ]
  },
  {
   "cell_type": "code",
   "execution_count": 62,
   "metadata": {
    "ExecuteTime": {
     "end_time": "2020-07-07T22:55:58.222199Z",
     "start_time": "2020-07-07T22:55:57.947480Z"
    }
   },
   "outputs": [
    {
     "data": {
      "text/plain": [
       "<matplotlib.legend.Legend at 0x7f3b6cf4de90>"
      ]
     },
     "execution_count": 62,
     "metadata": {},
     "output_type": "execute_result"
    },
    {
     "data": {
      "image/png": "[encoded data removed]",
      "text/plain": [
       "<Figure size 432x288 with 1 Axes>"
      ]
     },
     "metadata": {},
     "output_type": "display_data"
    }
   ],
   "source": [
    "plt.plot(history.history['accuracy'])\n",
    "plt.plot(history.history['val_accuracy'])\n",
    "\n",
    "\n",
    "plt.plot(history2.history['accuracy'])\n",
    "plt.plot(history2.history['val_accuracy'])\n",
    "\n",
    "plt.xlabel('Epochs')\n",
    "plt.ylabel('Acc')\n",
    "plt.legend(['Training','Validation','Training 2', 'Validation 2'],loc='upper right')\n"
   ]
  },
  {
   "cell_type": "code",
   "execution_count": 24,
   "metadata": {
    "ExecuteTime": {
     "end_time": "2020-07-24T21:13:10.268157Z",
     "start_time": "2020-07-24T21:13:09.894914Z"
    }
   },
   "outputs": [
    {
     "data": {
      "text/plain": [
       "<matplotlib.legend.Legend at 0x7f89e023c210>"
      ]
     },
     "execution_count": 24,
     "metadata": {},
     "output_type": "execute_result"
    },
    {
     "data": {
      "image/png": "[encoded data removed]",
      "text/plain": [
       "<Figure size 432x288 with 1 Axes>"
      ]
     },
     "metadata": {},
     "output_type": "display_data"
    }
   ],
   "source": [
    "plt.plot(history.history['loss'])\n",
    "plt.plot(history.history['val_loss'])\n",
    "\n",
    "\n",
    "plt.plot(history2.history['loss'])\n",
    "plt.plot(history2.history['val_loss'])\n",
    "\n",
    "plt.xlabel('Epochs')\n",
    "plt.ylabel('Loss')\n",
    "plt.legend(['Training','Validation','Training 2', 'Validation 2'],loc='upper right')\n",
    "\n"
   ]
  },
  {
   "cell_type": "markdown",
   "metadata": {},
   "source": [
    "Overfitting if: training loss << validation loss\n",
    "\n",
    "Underfitting if: training loss >> validation loss"
   ]
  },
  {
   "cell_type": "code",
   "execution_count": 64,
   "metadata": {},
   "outputs": [],
   "source": [
    "cnn_model2.save('cnn_model.h5') "
   ]
  },
  {
   "cell_type": "code",
   "execution_count": null,
   "metadata": {},
   "outputs": [],
   "source": [
    "converter = tf.lite.TFLiteConverter.from_keras_model(cnn_model)\n",
    "cnn_tflite_model = converter.convert()\n",
    "\n",
    " open(\"cnn_model.tflite\", \"wb\").write(cnn_tflite_model)"
   ]
  },
  {
   "cell_type": "code",
   "execution_count": null,
   "metadata": {},
   "outputs": [],
   "source": [
    "converter = tf.lite.TFLiteConverter.from_keras_model(cnn_model)\n",
    "converter.optimizations = [tf.lite.Optimize.OPTIMIZE_FOR_SIZE]\n",
    "cnn_opt_tflite_model = converter.convert()\n",
    "# Save the model to disk\n",
    "open(\"cnn_model_quantized.tflite\", \"wb\").write(cnn_opt_tflite_model)"
   ]
  },
  {
   "cell_type": "code",
   "execution_count": null,
   "metadata": {
    "tags": []
   },
   "outputs": [],
   "source": [
    "basic_model_size = os.path.getsize(\"cnn_model.tflite\")\n",
    "print(\"Basic model is %d bytes\" % basic_model_size)\n",
    "quantized_model_size = os.path.getsize(\"cnn_model_quantized.tflite\")\n",
    "print(\"Quantized model is %d bytes\" % quantized_model_size)\n",
    "difference = basic_model_size - quantized_model_size\n",
    "print(\"Difference is %d bytes\" % difference)"
   ]
  },
  {
   "cell_type": "code",
   "execution_count": null,
   "metadata": {
    "ExecuteTime": {
     "end_time": "2020-07-05T01:27:51.433418Z",
     "start_time": "2020-07-05T01:27:49.772098Z"
    },
    "tags": []
   },
   "outputs": [],
   "source": [
    "# Install xxd if it is not available\n",
    "#!apt-get -qq install xxd\n",
    "# Save the file as a C source file\n",
    "#!xxd -i cnn_model_quantized.tflite > cnn_opt_model.cc\n",
    "# Print the source file\n",
    "#!cat /cnn_opt_model.cc"
   ]
  },
  {
   "cell_type": "code",
   "execution_count": null,
   "metadata": {},
   "outputs": [],
   "source": []
  }
 ],
 "metadata": {
  "kernelspec": {
   "display_name": "Python 3",
   "language": "python",
   "name": "python3"
  },
  "language_info": {
   "codemirror_mode": {
    "name": "ipython",
    "version": 3
   },
   "file_extension": ".py",
   "mimetype": "text/x-python",
   "name": "python",
   "nbconvert_exporter": "python",
   "pygments_lexer": "ipython3",
   "version": "3.7.6"
  },
  "toc": {
   "base_numbering": 1,
   "nav_menu": {},
   "number_sections": true,
   "sideBar": true,
   "skip_h1_title": false,
   "title_cell": "Table of Contents",
   "title_sidebar": "Contents",
   "toc_cell": false,
   "toc_position": {},
   "toc_section_display": true,
   "toc_window_display": false
  }
 },
 "nbformat": 4,
 "nbformat_minor": 4
}
