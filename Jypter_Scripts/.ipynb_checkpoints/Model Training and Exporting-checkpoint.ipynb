{
 "cells": [
  {
   "cell_type": "code",
   "execution_count": 1,
   "metadata": {
    "ExecuteTime": {
     "end_time": "2020-07-07T23:25:45.342277Z",
     "start_time": "2020-07-07T23:25:39.881397Z"
    }
   },
   "outputs": [],
   "source": [
    "import numpy as np \n",
    "import pandas as pd \n",
    "import datetime\n",
    "import re\n",
    "import os, os.path\n",
    "import time\n",
    "from sklearn.model_selection import train_test_split\n",
    "import random\n",
    "import tensorflow as tf\n",
    "import matplotlib.pyplot as plt\n",
    "import seaborn as sb"
   ]
  },
  {
   "cell_type": "code",
   "execution_count": 32,
   "metadata": {
    "ExecuteTime": {
     "end_time": "2020-07-07T23:25:45.349294Z",
     "start_time": "2020-07-07T23:25:45.344008Z"
    },
    "tags": []
   },
   "outputs": [
    {
     "name": "stdout",
     "output_type": "stream",
     "text": [
      "/app/data/Training_Data\n"
     ]
    }
   ],
   "source": [
    "cd ../Training_Data"
   ]
  },
  {
   "cell_type": "code",
   "execution_count": 3,
   "metadata": {
    "ExecuteTime": {
     "end_time": "2020-07-07T23:25:45.359660Z",
     "start_time": "2020-07-07T23:25:45.351515Z"
    },
    "tags": []
   },
   "outputs": [],
   "source": [
    "sb.set_palette(\"husl\",4)\n",
    "sb.set_style(\"whitegrid\")"
   ]
  },
  {
   "cell_type": "code",
   "execution_count": 4,
   "metadata": {
    "ExecuteTime": {
     "end_time": "2020-07-07T23:26:32.085418Z",
     "start_time": "2020-07-07T23:25:45.361348Z"
    }
   },
   "outputs": [],
   "source": [
    "train_set = pd.read_csv('processed_train_set.csv',converters={'acceleration': eval})\n",
    "test_set = pd.read_csv('processed_test_set.csv',converters={'acceleration': eval})\n",
    "val_set = pd.read_csv('processed_val_set.csv',converters={'acceleration': eval})"
   ]
  },
  {
   "cell_type": "code",
   "execution_count": 3,
   "metadata": {
    "ExecuteTime": {
     "end_time": "2020-07-05T01:37:43.033315Z",
     "start_time": "2020-07-05T01:37:43.021214Z"
    },
    "tags": []
   },
   "outputs": [
    {
     "name": "stdout",
     "output_type": "stream",
     "text": [
      "/app/data/Model\n"
     ]
    }
   ],
   "source": [
    "cd ../Model\n"
   ]
  },
  {
   "cell_type": "code",
   "execution_count": 7,
   "metadata": {
    "ExecuteTime": {
     "end_time": "2020-07-07T23:26:32.120064Z",
     "start_time": "2020-07-07T23:26:32.104650Z"
    }
   },
   "outputs": [],
   "source": [
    "def calculate_model_size(model):\n",
    "    print(model.summary())\n",
    "    var_sizes = [\n",
    "      np.product(list(map(int, v.shape))) * v.dtype.size\n",
    "      for v in model.trainable_variables\n",
    "      ]\n",
    "    print(\"Model size:\", sum(var_sizes) / 1024, \"KB\")"
   ]
  },
  {
   "cell_type": "code",
   "execution_count": 56,
   "metadata": {
    "ExecuteTime": {
     "end_time": "2020-07-07T23:26:33.310893Z",
     "start_time": "2020-07-07T23:26:32.124072Z"
    }
   },
   "outputs": [],
   "source": [
    "samples = len(train_set['acceleration'][0])\n",
    "\n",
    "lstm_model = tf.keras.Sequential([\n",
    "      tf.keras.layers.Bidirectional(\n",
    "          tf.keras.layers.LSTM(22),\n",
    "          input_shape=(samples, 3)),  # output_shape=(batch, 44)\n",
    "      tf.keras.layers.Dense(4, activation=\"sigmoid\")  # (batch, 4)\n",
    "])\n",
    "\n",
    "cnn_model = tf.keras.Sequential([\n",
    "    tf.keras.layers.Conv2D(8, (4, 3),padding=\"same\",activation=\"relu\",\n",
    "                           input_shape=(samples, 3, 1)),  # output_shape=(batch, 128, 3, 8)\n",
    "    tf.keras.layers.MaxPool2D((3, 3)),  # (batch, 42, 1, 8)\n",
    "    tf.keras.layers.Dropout(0.1),  # (batch, 42, 1, 8)\n",
    "    tf.keras.layers.Conv2D(16, (4, 1), padding=\"same\",activation=\"relu\"),  # (batch, 42, 1, 16)\n",
    "    tf.keras.layers.MaxPool2D((3, 1), padding=\"same\"),  # (batch, 14, 1, 16)\n",
    "    tf.keras.layers.Dropout(0.1),  # (batch, 14, 1, 16)\n",
    "    tf.keras.layers.Flatten(),  # (batch, 224)\n",
    "    tf.keras.layers.Dense(16, activation=\"relu\"),  # (batch, 16)\n",
    "    tf.keras.layers.Dropout(0.1),  # (batch, 16)\n",
    "    tf.keras.layers.Dense(4, activation=\"softmax\")  # (batch, 4)\n",
    "])\n",
    "\n",
    "cnn_model2 = tf.keras.Sequential([\n",
    "    tf.keras.layers.Conv2D(8, (4, 3),padding=\"same\",activation=\"relu\",\n",
    "                           input_shape=(samples, 3, 1)),  # output_shape=(batch, 128, 3, 8)\n",
    "    tf.keras.layers.MaxPool2D((3, 3)),  # (batch, 42, 1, 8)\n",
    "    tf.keras.layers.Dropout(0.1),  # (batch, 42, 1, 8)\n",
    "    tf.keras.layers.Conv2D(16, (4, 1), padding=\"same\",activation=\"relu\"),  # (batch, 42, 1, 16)\n",
    "    tf.keras.layers.MaxPool2D((3, 1), padding=\"same\"),  # (batch, 14, 1, 16)\n",
    "    tf.keras.layers.Dropout(0.1),  # (batch, 14, 1, 16)\n",
    "    tf.keras.layers.Flatten(),  # (batch, 224)\n",
    "    tf.keras.layers.Dense(16, activation=\"relu\"),  # (batch, 16)\n",
    "    tf.keras.layers.Dropout(0.1),  # (batch, 16)\n",
    "    tf.keras.layers.Dense(4, activation=\"softmax\")  # (batch, 4)\n",
    "])"
   ]
  },
  {
   "cell_type": "code",
   "execution_count": 9,
   "metadata": {
    "ExecuteTime": {
     "end_time": "2020-07-07T23:27:16.315828Z",
     "start_time": "2020-07-07T23:27:11.773437Z"
    }
   },
   "outputs": [],
   "source": [
    "tensor_train_set = tf.data.Dataset.from_tensor_slices(\n",
    "    (np.array(train_set['acceleration'].tolist(),dtype=np.float64),\n",
    "     train_set['gesture'].tolist()))\n",
    "\n",
    "tensor_test_set = tf.data.Dataset.from_tensor_slices(\n",
    "    (np.array(test_set['acceleration'].tolist(),dtype=np.float64),\n",
    "     test_set['gesture'].tolist()))\n",
    "\n",
    "tensor_val_set = tf.data.Dataset.from_tensor_slices(\n",
    "    (np.array(val_set['acceleration'].tolist(),dtype=np.float64),\n",
    "     val_set['gesture'].tolist()))"
   ]
  },
  {
   "cell_type": "code",
   "execution_count": 57,
   "metadata": {
    "ExecuteTime": {
     "end_time": "2020-07-07T23:49:15.449053Z",
     "start_time": "2020-07-07T23:49:15.395576Z"
    },
    "tags": []
   },
   "outputs": [
    {
     "name": "stdout",
     "output_type": "stream",
     "text": [
      "Model: \"sequential_3\"\n",
      "_________________________________________________________________\n",
      "Layer (type)                 Output Shape              Param #   \n",
      "=================================================================\n",
      "bidirectional_1 (Bidirection (None, 44)                4576      \n",
      "_________________________________________________________________\n",
      "dense_5 (Dense)              (None, 4)                 180       \n",
      "=================================================================\n",
      "Total params: 4,756\n",
      "Trainable params: 4,756\n",
      "Non-trainable params: 0\n",
      "_________________________________________________________________\n",
      "None\n",
      "Model size: 18.578125 KB\n",
      "Model: \"sequential_4\"\n",
      "_________________________________________________________________\n",
      "Layer (type)                 Output Shape              Param #   \n",
      "=================================================================\n",
      "conv2d_4 (Conv2D)            (None, 760, 3, 8)         104       \n",
      "_________________________________________________________________\n",
      "max_pooling2d_4 (MaxPooling2 (None, 253, 1, 8)         0         \n",
      "_________________________________________________________________\n",
      "dropout_6 (Dropout)          (None, 253, 1, 8)         0         \n",
      "_________________________________________________________________\n",
      "conv2d_5 (Conv2D)            (None, 253, 1, 16)        528       \n",
      "_________________________________________________________________\n",
      "max_pooling2d_5 (MaxPooling2 (None, 85, 1, 16)         0         \n",
      "_________________________________________________________________\n",
      "dropout_7 (Dropout)          (None, 85, 1, 16)         0         \n",
      "_________________________________________________________________\n",
      "flatten_2 (Flatten)          (None, 1360)              0         \n",
      "_________________________________________________________________\n",
      "dense_6 (Dense)              (None, 16)                21776     \n",
      "_________________________________________________________________\n",
      "dropout_8 (Dropout)          (None, 16)                0         \n",
      "_________________________________________________________________\n",
      "dense_7 (Dense)              (None, 4)                 68        \n",
      "=================================================================\n",
      "Total params: 22,476\n",
      "Trainable params: 22,476\n",
      "Non-trainable params: 0\n",
      "_________________________________________________________________\n",
      "None\n",
      "Model size: 87.796875 KB\n",
      "Model: \"sequential_6\"\n",
      "_________________________________________________________________\n",
      "Layer (type)                 Output Shape              Param #   \n",
      "=================================================================\n",
      "conv2d_8 (Conv2D)            (None, 760, 3, 8)         104       \n",
      "_________________________________________________________________\n",
      "max_pooling2d_8 (MaxPooling2 (None, 253, 1, 8)         0         \n",
      "_________________________________________________________________\n",
      "dropout_12 (Dropout)         (None, 253, 1, 8)         0         \n",
      "_________________________________________________________________\n",
      "conv2d_9 (Conv2D)            (None, 253, 1, 16)        528       \n",
      "_________________________________________________________________\n",
      "max_pooling2d_9 (MaxPooling2 (None, 85, 1, 16)         0         \n",
      "_________________________________________________________________\n",
      "dropout_13 (Dropout)         (None, 85, 1, 16)         0         \n",
      "_________________________________________________________________\n",
      "flatten_4 (Flatten)          (None, 1360)              0         \n",
      "_________________________________________________________________\n",
      "dense_10 (Dense)             (None, 16)                21776     \n",
      "_________________________________________________________________\n",
      "dropout_14 (Dropout)         (None, 16)                0         \n",
      "_________________________________________________________________\n",
      "dense_11 (Dense)             (None, 4)                 68        \n",
      "=================================================================\n",
      "Total params: 22,476\n",
      "Trainable params: 22,476\n",
      "Non-trainable params: 0\n",
      "_________________________________________________________________\n",
      "None\n",
      "Model size: 87.796875 KB\n"
     ]
    }
   ],
   "source": [
    "calculate_model_size(lstm_model)\n",
    "epochs_cnn = 20\n",
    "epochs_lstm = 20\n",
    "batch_size = 64\n",
    "batch_size2 = 192\n",
    "\n",
    "lstm_model.compile(\n",
    "    optimizer=\"adam\",\n",
    "    loss=\"sparse_categorical_crossentropy\",\n",
    "    metrics=[\"accuracy\"])\n",
    "\n",
    "calculate_model_size(cnn_model)\n",
    "cnn_model.compile(\n",
    "    optimizer=\"adam\",\n",
    "    loss=\"sparse_categorical_crossentropy\",\n",
    "    metrics=[\"accuracy\"])\n",
    "\n",
    "calculate_model_size(cnn_model2)\n",
    "cnn_model2.compile(\n",
    "    optimizer=\"adam\",\n",
    "    loss=\"sparse_categorical_crossentropy\",\n",
    "    metrics=[\"accuracy\"])"
   ]
  },
  {
   "cell_type": "code",
   "execution_count": 13,
   "metadata": {
    "ExecuteTime": {
     "end_time": "2020-07-07T23:27:25.111457Z",
     "start_time": "2020-07-07T23:27:25.099952Z"
    }
   },
   "outputs": [],
   "source": [
    "tensor_train_set_lstm = tensor_train_set.batch(batch_size).repeat()\n",
    "tensor_val_set_lstm = tensor_val_set.batch(batch_size)\n",
    "tensor_test_set_lstm = tensor_test_set.batch(batch_size)"
   ]
  },
  {
   "cell_type": "code",
   "execution_count": 23,
   "metadata": {
    "ExecuteTime": {
     "end_time": "2020-07-07T23:59:02.625357Z",
     "start_time": "2020-07-07T23:49:20.844305Z"
    },
    "tags": []
   },
   "outputs": [
    {
     "name": "stdout",
     "output_type": "stream",
     "text": [
      "Epoch 1/20\n",
      "200/200 [==============================] - 50s 252ms/step - loss: 1.1708 - accuracy: 0.5038 - val_loss: 1.2219 - val_accuracy: 0.3824\n",
      "Epoch 2/20\n",
      "200/200 [==============================] - 50s 250ms/step - loss: 0.9475 - accuracy: 0.6209 - val_loss: 1.0014 - val_accuracy: 0.5588\n",
      "Epoch 3/20\n",
      "200/200 [==============================] - 50s 251ms/step - loss: 0.6700 - accuracy: 0.7546 - val_loss: 0.7682 - val_accuracy: 0.6176\n",
      "Epoch 4/20\n",
      "200/200 [==============================] - 50s 251ms/step - loss: 0.6416 - accuracy: 0.7543 - val_loss: 0.7650 - val_accuracy: 0.7647\n",
      "Epoch 5/20\n",
      "200/200 [==============================] - 49s 247ms/step - loss: 0.5170 - accuracy: 0.7993 - val_loss: 0.6845 - val_accuracy: 0.7941\n",
      "Epoch 6/20\n",
      "200/200 [==============================] - 41s 205ms/step - loss: 0.4968 - accuracy: 0.8175 - val_loss: 0.5047 - val_accuracy: 0.8529\n",
      "Epoch 7/20\n",
      "200/200 [==============================] - 44s 220ms/step - loss: 0.3459 - accuracy: 0.8813 - val_loss: 0.4133 - val_accuracy: 0.9118\n",
      "Epoch 8/20\n",
      "200/200 [==============================] - 41s 204ms/step - loss: 0.3362 - accuracy: 0.8879 - val_loss: 0.3615 - val_accuracy: 0.9118\n",
      "Epoch 9/20\n",
      "200/200 [==============================] - 40s 199ms/step - loss: 0.2522 - accuracy: 0.9184 - val_loss: 0.3362 - val_accuracy: 0.9118\n",
      "Epoch 10/20\n",
      "200/200 [==============================] - 40s 201ms/step - loss: 0.2574 - accuracy: 0.9228 - val_loss: 0.3104 - val_accuracy: 0.9118\n",
      "Epoch 11/20\n",
      "200/200 [==============================] - 40s 199ms/step - loss: 0.1656 - accuracy: 0.9499 - val_loss: 0.4189 - val_accuracy: 0.8529\n",
      "Epoch 12/20\n",
      "200/200 [==============================] - 43s 217ms/step - loss: 0.2104 - accuracy: 0.9347 - val_loss: 0.4402 - val_accuracy: 0.8235\n",
      "Epoch 13/20\n",
      "200/200 [==============================] - 40s 201ms/step - loss: 0.1673 - accuracy: 0.9492 - val_loss: 0.3098 - val_accuracy: 0.8824\n",
      "Epoch 14/20\n",
      "200/200 [==============================] - 42s 209ms/step - loss: 0.1705 - accuracy: 0.9486 - val_loss: 0.2974 - val_accuracy: 0.8824\n",
      "Epoch 15/20\n",
      "200/200 [==============================] - 41s 206ms/step - loss: 0.1066 - accuracy: 0.9692 - val_loss: 0.2614 - val_accuracy: 0.9412\n",
      "Epoch 16/20\n",
      "200/200 [==============================] - 45s 226ms/step - loss: 0.1334 - accuracy: 0.9602 - val_loss: 0.2889 - val_accuracy: 0.9118\n",
      "Epoch 17/20\n",
      "200/200 [==============================] - 42s 209ms/step - loss: 0.0891 - accuracy: 0.9723 - val_loss: 0.2735 - val_accuracy: 0.9412\n",
      "Epoch 18/20\n",
      "200/200 [==============================] - 41s 206ms/step - loss: 0.1008 - accuracy: 0.9712 - val_loss: 0.3245 - val_accuracy: 0.9118\n",
      "Epoch 19/20\n",
      "200/200 [==============================] - 40s 202ms/step - loss: 0.0702 - accuracy: 0.9793 - val_loss: 0.3380 - val_accuracy: 0.9118\n",
      "Epoch 20/20\n",
      "200/200 [==============================] - 37s 185ms/step - loss: 0.1523 - accuracy: 0.9484 - val_loss: 0.3262 - val_accuracy: 0.9412\n"
     ]
    }
   ],
   "source": [
    "history = lstm_model.fit(\n",
    "    tensor_train_set_lstm,\n",
    "    epochs=epochs_lstm,\n",
    "    validation_data=tensor_val_set_lstm,\n",
    "    steps_per_epoch=200,\n",
    "    validation_steps=int((len(val_set) - 1) / batch_size + 1))"
   ]
  },
  {
   "cell_type": "code",
   "execution_count": 24,
   "metadata": {
    "ExecuteTime": {
     "end_time": "2020-07-07T23:59:03.312069Z",
     "start_time": "2020-07-07T23:59:02.637847Z"
    },
    "tags": []
   },
   "outputs": [
    {
     "name": "stdout",
     "output_type": "stream",
     "text": [
      "1/1 [==============================] - 0s 841us/step - loss: 0.0479 - accuracy: 1.0000\n"
     ]
    }
   ],
   "source": [
    "loss_lstm, acc_lstm = lstm_model.evaluate(tensor_test_set_lstm)\n",
    "pred_lstm = np.argmax(lstm_model.predict(tensor_test_set_lstm), axis=1)\n",
    "confusion_lstm = tf.math.confusion_matrix(\n",
    "    labels=tf.constant(test_set['gesture'].to_numpy()),\n",
    "    predictions=tf.constant(pred_lstm),\n",
    "    num_classes=4)"
   ]
  },
  {
   "cell_type": "code",
   "execution_count": 25,
   "metadata": {
    "ExecuteTime": {
     "end_time": "2020-07-07T23:59:03.322360Z",
     "start_time": "2020-07-07T23:59:03.316974Z"
    },
    "tags": []
   },
   "outputs": [
    {
     "name": "stdout",
     "output_type": "stream",
     "text": [
      "tf.Tensor(\n",
      "[[14  0  0  0]\n",
      " [ 0 10  0  0]\n",
      " [ 0  0 14  0]\n",
      " [ 0  0  0  8]], shape=(4, 4), dtype=int32)\n",
      "Loss 0.04790152609348297, Accuracy 1.0\n"
     ]
    }
   ],
   "source": [
    "print(confusion_lstm)\n",
    "print(\"Loss {}, Accuracy {}\".format(loss_lstm, acc_lstm))"
   ]
  },
  {
   "cell_type": "code",
   "execution_count": 26,
   "metadata": {
    "ExecuteTime": {
     "end_time": "2020-07-07T23:59:03.656383Z",
     "start_time": "2020-07-07T23:59:03.328293Z"
    }
   },
   "outputs": [
    {
     "data": {
      "text/plain": [
       "<matplotlib.legend.Legend at 0x7f3b6d3d7d90>"
      ]
     },
     "execution_count": 26,
     "metadata": {},
     "output_type": "execute_result"
    },
    {
     "data": {
      "image/png": "[encoded data removed]",
      "text/plain": [
       "<Figure size 432x288 with 1 Axes>"
      ]
     },
     "metadata": {},
     "output_type": "display_data"
    }
   ],
   "source": [
    "plt.plot(history.history['accuracy'])\n",
    "plt.plot(history.history['val_accuracy'])\n",
    "plt.xlabel('Epochs')\n",
    "plt.ylabel('Acc')\n",
    "plt.legend(['Training','Validation'],loc='upper right')"
   ]
  },
  {
   "cell_type": "code",
   "execution_count": 27,
   "metadata": {
    "ExecuteTime": {
     "end_time": "2020-07-07T23:59:03.952694Z",
     "start_time": "2020-07-07T23:59:03.657872Z"
    }
   },
   "outputs": [
    {
     "data": {
      "text/plain": [
       "<matplotlib.legend.Legend at 0x7f3b6d355b50>"
      ]
     },
     "execution_count": 27,
     "metadata": {},
     "output_type": "execute_result"
    },
    {
     "data": {
      "image/png": "[encoded data removed]",
      "text/plain": [
       "<Figure size 432x288 with 1 Axes>"
      ]
     },
     "metadata": {},
     "output_type": "display_data"
    }
   ],
   "source": [
    "plt.plot(history.history['loss'])\n",
    "plt.plot(history.history['val_loss'])\n",
    "plt.xlabel('Epochs')\n",
    "plt.ylabel('Loss')\n",
    "plt.legend(['Training','Validation'],loc='upper right')"
   ]
  },
  {
   "cell_type": "code",
   "execution_count": 28,
   "metadata": {
    "ExecuteTime": {
     "start_time": "2020-07-07T22:58:22.981Z"
    },
    "tags": []
   },
   "outputs": [
    {
     "data": {
      "text/plain": [
       "121340"
      ]
     },
     "execution_count": 28,
     "metadata": {},
     "output_type": "execute_result"
    }
   ],
   "source": [
    "converter = tf.lite.TFLiteConverter.from_keras_model(lstm_model)\n",
    "lstm_tflite_model = converter.convert()\n",
    "\n",
    "open(\"lstm_model.tflite\", \"wb\").write(lstm_tflite_model)"
   ]
  },
  {
   "cell_type": "code",
   "execution_count": 31,
   "metadata": {},
   "outputs": [],
   "source": [
    "lstm_model.save('lstm_model.h5') "
   ]
  },
  {
   "cell_type": "code",
   "execution_count": null,
   "metadata": {
    "ExecuteTime": {
     "end_time": "2020-07-05T02:15:22.785851Z",
     "start_time": "2020-07-05T02:15:17.931532Z"
    },
    "tags": []
   },
   "outputs": [],
   "source": [
    "converter = tf.lite.TFLiteConverter.from_keras_model(lstm_model)\n",
    "converter.experimental_new_converter = True\n",
    "converter.optimizations = [tf.lite.Optimize.OPTIMIZE_FOR_SIZE]\n",
    "converter.target_spec.supported_types = [tf.float16]\n",
    "lstm_opt_tflite_model = converter.convert()\n",
    "# Save the model to disk\n",
    "open(\"lstm_model_quantized.tflite\", \"wb\").write(lstm_opt_tflite_model)"
   ]
  },
  {
   "cell_type": "code",
   "execution_count": null,
   "metadata": {
    "ExecuteTime": {
     "end_time": "2020-07-05T02:15:32.342762Z",
     "start_time": "2020-07-05T02:15:32.310067Z"
    },
    "tags": []
   },
   "outputs": [],
   "source": [
    "basic_model_size = os.path.getsize(\"lstm_model.tflite\")\n",
    "print(\"Basic model is %d bytes\" % basic_model_size)\n",
    "quantized_model_size = os.path.getsize(\"lstm_model_quantized.tflite\")\n",
    "print(\"Quantized model is %d bytes\" % quantized_model_size)\n",
    "difference = basic_model_size - quantized_model_size\n",
    "print(\"Difference is %d bytes\" % difference)"
   ]
  },
  {
   "cell_type": "code",
   "execution_count": null,
   "metadata": {},
   "outputs": [],
   "source": []
  },
  {
   "cell_type": "code",
   "execution_count": null,
   "metadata": {},
   "outputs": [],
   "source": []
  },
  {
   "cell_type": "code",
   "execution_count": 33,
   "metadata": {
    "ExecuteTime": {
     "end_time": "2020-07-07T21:38:58.923078Z",
     "start_time": "2020-07-07T21:38:58.919901Z"
    }
   },
   "outputs": [],
   "source": [
    "def reshape_function(data, label):\n",
    "    reshaped_data = tf.reshape(data, [-1, 3, 1])\n",
    "    return reshaped_data, label"
   ]
  },
  {
   "cell_type": "code",
   "execution_count": null,
   "metadata": {
    "ExecuteTime": {
     "start_time": "2020-07-07T21:10:47.639Z"
    }
   },
   "outputs": [],
   "source": [
    "train_set = pd.read_csv('processed_train_set.csv',converters={'acceleration': eval})\n",
    "test_set = pd.read_csv('processed_test_set.csv',converters={'acceleration': eval})\n",
    "val_set = pd.read_csv('processed_val_set.csv',converters={'acceleration': eval})\n",
    "\n",
    "tensor_train_set = tf.data.Dataset.from_tensor_slices(\n",
    "    (np.array(train_set['acceleration'].tolist(),dtype=np.float64),\n",
    "     train_set['gesture'].tolist()))\n",
    "\n",
    "tensor_test_set = tf.data.Dataset.from_tensor_slices(\n",
    "    (np.array(test_set['acceleration'].tolist(),dtype=np.float64),\n",
    "     test_set['gesture'].tolist()))\n",
    "\n",
    "tensor_val_set = tf.data.Dataset.from_tensor_slices(\n",
    "    (np.array(val_set['acceleration'].tolist(),dtype=np.float64),\n",
    "     val_set['gesture'].tolist()))"
   ]
  },
  {
   "cell_type": "code",
   "execution_count": 34,
   "metadata": {
    "ExecuteTime": {
     "end_time": "2020-07-07T21:39:01.733408Z",
     "start_time": "2020-07-07T21:39:01.622945Z"
    }
   },
   "outputs": [],
   "source": [
    "tensor_train_set_cnn = tensor_train_set.map(reshape_function)\n",
    "tensor_test_set_cnn = tensor_test_set.map(reshape_function)\n",
    "tensor_val_set_cnn = tensor_val_set.map(reshape_function)"
   ]
  },
  {
   "cell_type": "code",
   "execution_count": 35,
   "metadata": {
    "ExecuteTime": {
     "end_time": "2020-07-07T21:39:02.534970Z",
     "start_time": "2020-07-07T21:39:02.520939Z"
    }
   },
   "outputs": [],
   "source": [
    "tensor_train_set_cnn = tensor_train_set_cnn.batch(batch_size).repeat()\n",
    "tensor_test_set_cnn = tensor_test_set_cnn.batch(batch_size)\n",
    "tensor_val_set_cnn = tensor_val_set_cnn.batch(batch_size)"
   ]
  },
  {
   "cell_type": "code",
   "execution_count": 36,
   "metadata": {
    "ExecuteTime": {
     "end_time": "2020-07-07T22:40:53.985385Z",
     "start_time": "2020-07-07T22:37:30.797338Z"
    }
   },
   "outputs": [
    {
     "name": "stdout",
     "output_type": "stream",
     "text": [
      "Epoch 1/20\n",
      "300/300 [==============================] - 9s 31ms/step - loss: 0.7923 - accuracy: 0.7027 - val_loss: 0.3654 - val_accuracy: 0.8235\n",
      "Epoch 2/20\n",
      "300/300 [==============================] - 9s 30ms/step - loss: 0.4619 - accuracy: 0.7994 - val_loss: 0.3394 - val_accuracy: 0.8971\n",
      "Epoch 3/20\n",
      "300/300 [==============================] - 10s 32ms/step - loss: 0.3859 - accuracy: 0.8789 - val_loss: 0.3014 - val_accuracy: 0.9118\n",
      "Epoch 4/20\n",
      "300/300 [==============================] - 9s 30ms/step - loss: 0.3271 - accuracy: 0.8850 - val_loss: 0.2164 - val_accuracy: 0.9118\n",
      "Epoch 5/20\n",
      "300/300 [==============================] - 9s 30ms/step - loss: 0.1440 - accuracy: 0.9437 - val_loss: 0.2224 - val_accuracy: 0.9412\n",
      "Epoch 6/20\n",
      "300/300 [==============================] - 9s 30ms/step - loss: 0.1254 - accuracy: 0.9491 - val_loss: 0.1944 - val_accuracy: 0.9412\n",
      "Epoch 7/20\n",
      "300/300 [==============================] - 9s 30ms/step - loss: 0.1339 - accuracy: 0.9417 - val_loss: 0.3031 - val_accuracy: 0.8824\n",
      "Epoch 8/20\n",
      "300/300 [==============================] - 9s 31ms/step - loss: 0.0970 - accuracy: 0.9572 - val_loss: 0.1771 - val_accuracy: 0.9412\n",
      "Epoch 9/20\n",
      "300/300 [==============================] - 10s 33ms/step - loss: 0.0863 - accuracy: 0.9621 - val_loss: 0.2725 - val_accuracy: 0.9412\n",
      "Epoch 10/20\n",
      "300/300 [==============================] - 9s 30ms/step - loss: 0.0793 - accuracy: 0.9723 - val_loss: 0.2230 - val_accuracy: 0.9412\n",
      "Epoch 11/20\n",
      "300/300 [==============================] - 9s 31ms/step - loss: 0.0804 - accuracy: 0.9701 - val_loss: 0.3532 - val_accuracy: 0.9118\n",
      "Epoch 12/20\n",
      "300/300 [==============================] - 9s 30ms/step - loss: 0.0831 - accuracy: 0.9664 - val_loss: 0.2675 - val_accuracy: 0.9412\n",
      "Epoch 13/20\n",
      "300/300 [==============================] - 9s 30ms/step - loss: 0.0633 - accuracy: 0.9747 - val_loss: 0.3502 - val_accuracy: 0.9412\n",
      "Epoch 14/20\n",
      "300/300 [==============================] - 9s 30ms/step - loss: 0.0418 - accuracy: 0.9870 - val_loss: 0.2181 - val_accuracy: 0.9412\n",
      "Epoch 15/20\n",
      "300/300 [==============================] - 9s 31ms/step - loss: 0.0351 - accuracy: 0.9879 - val_loss: 0.2480 - val_accuracy: 0.9412\n",
      "Epoch 16/20\n",
      "300/300 [==============================] - 9s 31ms/step - loss: 0.0319 - accuracy: 0.9882 - val_loss: 0.3236 - val_accuracy: 0.9412\n",
      "Epoch 17/20\n",
      "300/300 [==============================] - 9s 31ms/step - loss: 0.0376 - accuracy: 0.9864 - val_loss: 0.3534 - val_accuracy: 0.9412\n",
      "Epoch 18/20\n",
      "300/300 [==============================] - 9s 31ms/step - loss: 0.0314 - accuracy: 0.9892 - val_loss: 0.2854 - val_accuracy: 0.9118\n",
      "Epoch 19/20\n",
      "300/300 [==============================] - 9s 31ms/step - loss: 0.0318 - accuracy: 0.9893 - val_loss: 0.2728 - val_accuracy: 0.9412\n",
      "Epoch 20/20\n",
      "300/300 [==============================] - 9s 32ms/step - loss: 0.0268 - accuracy: 0.9928 - val_loss: 0.3662 - val_accuracy: 0.9412\n"
     ]
    }
   ],
   "source": [
    "history=cnn_model.fit(\n",
    "    tensor_train_set_cnn,\n",
    "    epochs=epochs_cnn,\n",
    "    validation_data=tensor_val_set_cnn,\n",
    "    steps_per_epoch=300,\n",
    "    validation_steps=int((len(val_set) - 1) / batch_size + 1))"
   ]
  },
  {
   "cell_type": "code",
   "execution_count": 58,
   "metadata": {
    "ExecuteTime": {
     "end_time": "2020-07-07T22:54:23.028974Z",
     "start_time": "2020-07-07T22:52:09.353533Z"
    },
    "tags": []
   },
   "outputs": [
    {
     "name": "stdout",
     "output_type": "stream",
     "text": [
      "Epoch 1/20\n",
      "300/300 [==============================] - 10s 33ms/step - loss: 1.0697 - accuracy: 0.6120 - val_loss: 0.5285 - val_accuracy: 0.9688\n",
      "Epoch 2/20\n",
      "300/300 [==============================] - 10s 34ms/step - loss: 0.4746 - accuracy: 0.8213 - val_loss: 0.1681 - val_accuracy: 0.9688\n",
      "Epoch 3/20\n",
      "300/300 [==============================] - 10s 34ms/step - loss: 0.2677 - accuracy: 0.8985 - val_loss: 0.1371 - val_accuracy: 0.9688\n",
      "Epoch 4/20\n",
      "300/300 [==============================] - 10s 33ms/step - loss: 0.2491 - accuracy: 0.9102 - val_loss: 0.0807 - val_accuracy: 0.9688\n",
      "Epoch 5/20\n",
      "300/300 [==============================] - 10s 33ms/step - loss: 0.1721 - accuracy: 0.9327 - val_loss: 0.1018 - val_accuracy: 0.9688\n",
      "Epoch 6/20\n",
      "300/300 [==============================] - 10s 33ms/step - loss: 0.1633 - accuracy: 0.9404 - val_loss: 0.0235 - val_accuracy: 1.0000\n",
      "Epoch 7/20\n",
      "300/300 [==============================] - 10s 34ms/step - loss: 0.1333 - accuracy: 0.9539 - val_loss: 0.2143 - val_accuracy: 0.9062\n",
      "Epoch 8/20\n",
      "300/300 [==============================] - 10s 33ms/step - loss: 0.1265 - accuracy: 0.9549 - val_loss: 0.0536 - val_accuracy: 0.9688\n",
      "Epoch 9/20\n",
      "300/300 [==============================] - 10s 34ms/step - loss: 0.1224 - accuracy: 0.9577 - val_loss: 0.0372 - val_accuracy: 1.0000\n",
      "Epoch 10/20\n",
      "300/300 [==============================] - 10s 34ms/step - loss: 0.0992 - accuracy: 0.9639 - val_loss: 0.1047 - val_accuracy: 0.9688\n",
      "Epoch 11/20\n",
      "300/300 [==============================] - 10s 34ms/step - loss: 0.1004 - accuracy: 0.9662 - val_loss: 0.1540 - val_accuracy: 0.9062\n",
      "Epoch 12/20\n",
      "300/300 [==============================] - 10s 34ms/step - loss: 0.0696 - accuracy: 0.9760 - val_loss: 0.1222 - val_accuracy: 0.9688\n",
      "Epoch 13/20\n",
      "300/300 [==============================] - 10s 34ms/step - loss: 0.0690 - accuracy: 0.9759 - val_loss: 0.0099 - val_accuracy: 1.0000\n",
      "Epoch 14/20\n",
      "300/300 [==============================] - 10s 34ms/step - loss: 0.0626 - accuracy: 0.9806 - val_loss: 0.0183 - val_accuracy: 1.0000\n",
      "Epoch 15/20\n",
      "300/300 [==============================] - 10s 34ms/step - loss: 0.0521 - accuracy: 0.9816 - val_loss: 0.0208 - val_accuracy: 1.0000\n",
      "Epoch 16/20\n",
      "300/300 [==============================] - 10s 35ms/step - loss: 0.0415 - accuracy: 0.9863 - val_loss: 0.0031 - val_accuracy: 1.0000\n",
      "Epoch 17/20\n",
      "300/300 [==============================] - 10s 35ms/step - loss: 0.0369 - accuracy: 0.9883 - val_loss: 0.0442 - val_accuracy: 0.9688\n",
      "Epoch 18/20\n",
      "300/300 [==============================] - 10s 34ms/step - loss: 0.0596 - accuracy: 0.9823 - val_loss: 0.0263 - val_accuracy: 0.9688\n",
      "Epoch 19/20\n",
      "300/300 [==============================] - 10s 35ms/step - loss: 0.0390 - accuracy: 0.9876 - val_loss: 0.0418 - val_accuracy: 0.9688\n",
      "Epoch 20/20\n",
      "300/300 [==============================] - 10s 35ms/step - loss: 0.0438 - accuracy: 0.9868 - val_loss: 0.0102 - val_accuracy: 1.0000\n"
     ]
    }
   ],
   "source": [
    "history2=cnn_model2.fit(\n",
    "    tensor_train_set_cnn,\n",
    "    epochs=epochs_cnn,\n",
    "    validation_data=tensor_val_set_cnn,\n",
    "    steps_per_epoch=300,\n",
    "    validation_steps=int((len(val_set) - 1) / batch_size2 + 1))"
   ]
  },
  {
   "cell_type": "code",
   "execution_count": 59,
   "metadata": {
    "ExecuteTime": {
     "end_time": "2020-07-07T22:54:54.158889Z",
     "start_time": "2020-07-07T22:54:54.014207Z"
    },
    "tags": []
   },
   "outputs": [
    {
     "name": "stdout",
     "output_type": "stream",
     "text": [
      "1/1 [==============================] - 0s 1ms/step - loss: 0.0121 - accuracy: 1.0000\n",
      "1/1 [==============================] - 0s 1ms/step - loss: 0.0071 - accuracy: 1.0000\n"
     ]
    }
   ],
   "source": [
    "loss_cnn, acc_cnn = cnn_model.evaluate(tensor_test_set_cnn)\n",
    "pred_cnn = np.argmax(cnn_model.predict(tensor_test_set_cnn), axis=1)\n",
    "confusion_cnn = tf.math.confusion_matrix(\n",
    "    labels=tf.constant(test_set['gesture'].to_numpy()),\n",
    "    predictions=tf.constant(pred_cnn),\n",
    "    num_classes=4)\n",
    "\n",
    "loss_cnn2, acc_cnn2 = cnn_model2.evaluate(tensor_test_set_cnn)\n",
    "pred_cnn2 = np.argmax(cnn_model2.predict(tensor_test_set_cnn), axis=1)\n",
    "confusion_cnn2 = tf.math.confusion_matrix(\n",
    "    labels=tf.constant(test_set['gesture'].to_numpy()),\n",
    "    predictions=tf.constant(pred_cnn2),\n",
    "    num_classes=4)"
   ]
  },
  {
   "cell_type": "code",
   "execution_count": 60,
   "metadata": {
    "ExecuteTime": {
     "end_time": "2020-07-07T22:54:58.820678Z",
     "start_time": "2020-07-07T22:54:58.814336Z"
    },
    "tags": []
   },
   "outputs": [
    {
     "name": "stdout",
     "output_type": "stream",
     "text": [
      "tf.Tensor(\n",
      "[[14  0  0  0]\n",
      " [ 0 10  0  0]\n",
      " [ 0  0 14  0]\n",
      " [ 0  0  0  8]], shape=(4, 4), dtype=int32)\n",
      "Loss 0.012079626321792603, Accuracy 1.0\n",
      "tf.Tensor(\n",
      "[[14  0  0  0]\n",
      " [ 0 10  0  0]\n",
      " [ 0  0 14  0]\n",
      " [ 0  0  0  8]], shape=(4, 4), dtype=int32)\n",
      "Loss 0.007122741546481848, Accuracy 1.0\n"
     ]
    }
   ],
   "source": [
    "print(confusion_cnn)\n",
    "print(\"Loss {}, Accuracy {}\".format(loss_cnn, acc_cnn))\n",
    "print(confusion_cnn2)\n",
    "print(\"Loss {}, Accuracy {}\".format(loss_cnn2, acc_cnn2))"
   ]
  },
  {
   "cell_type": "code",
   "execution_count": 61,
   "metadata": {
    "ExecuteTime": {
     "end_time": "2020-07-07T16:48:40.511257Z",
     "start_time": "2020-07-07T16:48:40.503305Z"
    }
   },
   "outputs": [
    {
     "data": {
      "text/plain": [
       "{'loss': [0.7923407554626465,\n",
       "  0.461860328912735,\n",
       "  0.38593143224716187,\n",
       "  0.3270552456378937,\n",
       "  0.14403121173381805,\n",
       "  0.12537544965744019,\n",
       "  0.13391758501529694,\n",
       "  0.09703149646520615,\n",
       "  0.0863436907529831,\n",
       "  0.07925357669591904,\n",
       "  0.08038990944623947,\n",
       "  0.08308139443397522,\n",
       "  0.0633382573723793,\n",
       "  0.041821353137493134,\n",
       "  0.03509070351719856,\n",
       "  0.03187365457415581,\n",
       "  0.0376107282936573,\n",
       "  0.03142774850130081,\n",
       "  0.031772077083587646,\n",
       "  0.02675214409828186],\n",
       " 'accuracy': [0.7026800513267517,\n",
       "  0.7994137406349182,\n",
       "  0.8789258599281311,\n",
       "  0.8850231170654297,\n",
       "  0.9436767101287842,\n",
       "  0.9490682482719421,\n",
       "  0.9417399764060974,\n",
       "  0.957231342792511,\n",
       "  0.9621021747589111,\n",
       "  0.972257137298584,\n",
       "  0.9700881838798523,\n",
       "  0.9664468169212341,\n",
       "  0.9746649861335754,\n",
       "  0.9870184063911438,\n",
       "  0.9878778457641602,\n",
       "  0.9882223606109619,\n",
       "  0.9864426255226135,\n",
       "  0.9891645908355713,\n",
       "  0.989294707775116,\n",
       "  0.9927763938903809],\n",
       " 'val_loss': [0.3654482960700989,\n",
       "  0.33940157294273376,\n",
       "  0.30139032006263733,\n",
       "  0.2163754403591156,\n",
       "  0.2223680317401886,\n",
       "  0.19440802931785583,\n",
       "  0.30314356088638306,\n",
       "  0.1771247535943985,\n",
       "  0.27248644828796387,\n",
       "  0.2229771912097931,\n",
       "  0.3531574308872223,\n",
       "  0.2675333023071289,\n",
       "  0.3502114713191986,\n",
       "  0.21808582544326782,\n",
       "  0.24800710380077362,\n",
       "  0.3235814571380615,\n",
       "  0.35335564613342285,\n",
       "  0.28541332483291626,\n",
       "  0.2728114724159241,\n",
       "  0.366247296333313],\n",
       " 'val_accuracy': [0.8235294222831726,\n",
       "  0.8970588445663452,\n",
       "  0.9117646813392639,\n",
       "  0.9117646813392639,\n",
       "  0.9411764740943909,\n",
       "  0.9411764740943909,\n",
       "  0.8823529481887817,\n",
       "  0.9411764740943909,\n",
       "  0.9411764740943909,\n",
       "  0.9411764740943909,\n",
       "  0.9117646813392639,\n",
       "  0.9411764740943909,\n",
       "  0.9411764740943909,\n",
       "  0.9411764740943909,\n",
       "  0.9411764740943909,\n",
       "  0.9411764740943909,\n",
       "  0.9411764740943909,\n",
       "  0.9117646813392639,\n",
       "  0.9411764740943909,\n",
       "  0.9411764740943909]}"
      ]
     },
     "execution_count": 61,
     "metadata": {},
     "output_type": "execute_result"
    }
   ],
   "source": [
    "history.history"
   ]
  },
  {
   "cell_type": "code",
   "execution_count": 62,
   "metadata": {
    "ExecuteTime": {
     "end_time": "2020-07-07T22:55:58.222199Z",
     "start_time": "2020-07-07T22:55:57.947480Z"
    }
   },
   "outputs": [
    {
     "data": {
      "text/plain": [
       "<matplotlib.legend.Legend at 0x7f3b6cf4de90>"
      ]
     },
     "execution_count": 62,
     "metadata": {},
     "output_type": "execute_result"
    },
    {
     "data": {
      "image/png": "[encoded data removed]",
      "text/plain": [
       "<Figure size 432x288 with 1 Axes>"
      ]
     },
     "metadata": {},
     "output_type": "display_data"
    }
   ],
   "source": [
    "plt.plot(history.history['accuracy'])\n",
    "plt.plot(history.history['val_accuracy'])\n",
    "\n",
    "\n",
    "plt.plot(history2.history['accuracy'])\n",
    "plt.plot(history2.history['val_accuracy'])\n",
    "\n",
    "plt.xlabel('Epochs')\n",
    "plt.ylabel('Acc')\n",
    "plt.legend(['Training','Validation','Training 2', 'Validation 2'],loc='upper right')\n"
   ]
  },
  {
   "cell_type": "code",
   "execution_count": 63,
   "metadata": {
    "ExecuteTime": {
     "end_time": "2020-07-07T22:56:53.481093Z",
     "start_time": "2020-07-07T22:56:53.206328Z"
    }
   },
   "outputs": [
    {
     "data": {
      "text/plain": [
       "<matplotlib.legend.Legend at 0x7f3b6cedef10>"
      ]
     },
     "execution_count": 63,
     "metadata": {},
     "output_type": "execute_result"
    },
    {
     "data": {
      "image/png": "[encoded data removed]",
      "text/plain": [
       "<Figure size 432x288 with 1 Axes>"
      ]
     },
     "metadata": {},
     "output_type": "display_data"
    }
   ],
   "source": [
    "plt.plot(history.history['loss'])\n",
    "plt.plot(history.history['val_loss'])\n",
    "\n",
    "\n",
    "plt.plot(history2.history['loss'])\n",
    "plt.plot(history2.history['val_loss'])\n",
    "\n",
    "plt.xlabel('Epochs')\n",
    "plt.ylabel('Loss')\n",
    "plt.legend(['Training','Validation','Training 2', 'Validation 2'],loc='upper right')\n",
    "\n"
   ]
  },
  {
   "cell_type": "markdown",
   "metadata": {},
   "source": []
  },
  {
   "cell_type": "code",
   "execution_count": 64,
   "metadata": {},
   "outputs": [],
   "source": [
    "cnn_model2.save('cnn_model.h5') "
   ]
  },
  {
   "cell_type": "code",
   "execution_count": null,
   "metadata": {},
   "outputs": [],
   "source": [
    "converter = tf.lite.TFLiteConverter.from_keras_model(cnn_model)\n",
    "cnn_tflite_model = converter.convert()\n",
    "\n",
    " open(\"cnn_model.tflite\", \"wb\").write(cnn_tflite_model)"
   ]
  },
  {
   "cell_type": "code",
   "execution_count": null,
   "metadata": {},
   "outputs": [],
   "source": [
    "converter = tf.lite.TFLiteConverter.from_keras_model(cnn_model)\n",
    "converter.optimizations = [tf.lite.Optimize.OPTIMIZE_FOR_SIZE]\n",
    "cnn_opt_tflite_model = converter.convert()\n",
    "# Save the model to disk\n",
    "open(\"cnn_model_quantized.tflite\", \"wb\").write(cnn_opt_tflite_model)"
   ]
  },
  {
   "cell_type": "code",
   "execution_count": null,
   "metadata": {
    "tags": []
   },
   "outputs": [],
   "source": [
    "basic_model_size = os.path.getsize(\"cnn_model.tflite\")\n",
    "print(\"Basic model is %d bytes\" % basic_model_size)\n",
    "quantized_model_size = os.path.getsize(\"cnn_model_quantized.tflite\")\n",
    "print(\"Quantized model is %d bytes\" % quantized_model_size)\n",
    "difference = basic_model_size - quantized_model_size\n",
    "print(\"Difference is %d bytes\" % difference)"
   ]
  },
  {
   "cell_type": "code",
   "execution_count": null,
   "metadata": {
    "ExecuteTime": {
     "end_time": "2020-07-05T01:27:51.433418Z",
     "start_time": "2020-07-05T01:27:49.772098Z"
    },
    "tags": []
   },
   "outputs": [],
   "source": [
    "# Install xxd if it is not available\n",
    "#!apt-get -qq install xxd\n",
    "# Save the file as a C source file\n",
    "#!xxd -i cnn_model_quantized.tflite > cnn_opt_model.cc\n",
    "# Print the source file\n",
    "#!cat /cnn_opt_model.cc"
   ]
  },
  {
   "cell_type": "code",
   "execution_count": null,
   "metadata": {},
   "outputs": [],
   "source": []
  }
 ],
 "metadata": {
  "kernelspec": {
   "display_name": "Python 3",
   "language": "python",
   "name": "python3"
  },
  "toc": {
   "base_numbering": 1,
   "nav_menu": {},
   "number_sections": true,
   "sideBar": true,
   "skip_h1_title": false,
   "title_cell": "Table of Contents",
   "title_sidebar": "Contents",
   "toc_cell": false,
   "toc_position": {},
   "toc_section_display": true,
   "toc_window_display": false
  }
 },
 "nbformat": 4,
 "nbformat_minor": 4
}
