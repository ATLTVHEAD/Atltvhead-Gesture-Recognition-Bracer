{
 "cells": [
  {
   "cell_type": "code",
   "execution_count": 3,
   "metadata": {
    "ExecuteTime": {
     "end_time": "2020-07-04T17:28:36.403248Z",
     "start_time": "2020-07-04T17:28:32.709991Z"
    }
   },
   "outputs": [],
   "source": [
    "import numpy as np \n",
    "import pandas as pd \n",
    "import datetime\n",
    "import re\n",
    "import os, os.path\n",
    "import time\n",
    "from sklearn.model_selection import train_test_split\n",
    "import random\n",
    "import tensorflow as tf"
   ]
  },
  {
   "cell_type": "code",
   "execution_count": null,
   "metadata": {},
   "outputs": [],
   "source": []
  },
  {
   "cell_type": "markdown",
   "metadata": {},
   "source": [
    "# Save to Single File"
   ]
  },
  {
   "cell_type": "markdown",
   "metadata": {},
   "source": [
    "Lets change our directory to the training data. Then go through all folders and files, appending all the data to a single data frame. Finally export that dataframe to a csv file."
   ]
  },
  {
   "cell_type": "code",
   "execution_count": 2,
   "metadata": {
    "ExecuteTime": {
     "end_time": "2020-07-03T16:35:20.231336Z",
     "start_time": "2020-07-03T16:35:20.223587Z"
    }
   },
   "outputs": [
    {
     "name": "stdout",
     "output_type": "stream",
     "text": [
      "/app/data/Training_Data\n"
     ]
    }
   ],
   "source": [
    "cd ../Training_Data"
   ]
  },
  {
   "cell_type": "code",
   "execution_count": 3,
   "metadata": {
    "ExecuteTime": {
     "end_time": "2020-07-02T22:50:56.945173Z",
     "start_time": "2020-07-02T22:50:52.497645Z"
    }
   },
   "outputs": [],
   "source": [
    "folders = [\"fist_pump\",\"single_wave\",\"speed_mode\",\"random_motion\"]\n",
    "files =[]\n",
    "completedf = pd.DataFrame(columns=['gesture','acceleration'])\n",
    "for idx1,folder in enumerate(folders):\n",
    "    files = os.listdir(folder)\n",
    "    for idx2,file in enumerate(files):\n",
    "        df_temp = pd.read_csv(folder+'/'+file)\n",
    "        #print(df_temp[['Acc_X','Acc_Y','Acc_Z','Gyro_X', 'Gyro_Y', 'Gyro_Z']].to_numpy())\n",
    "        x=df_temp[['Acc_X','Acc_Y','Acc_Z']].to_numpy()\n",
    "        series = pd.Series(data={'gesture': folder, 'acceleration':x.tolist()})\n",
    "        df_temp2= pd.DataFrame([series])\n",
    "        completedf=pd.concat([completedf,df_temp2], ignore_index=True)  \n",
    "completedf.to_csv('complete_data.csv', index=False)"
   ]
  },
  {
   "cell_type": "markdown",
   "metadata": {},
   "source": [
    "# Split data into Training, Validation, and Testing"
   ]
  },
  {
   "cell_type": "markdown",
   "metadata": {},
   "source": [
    "## Using Scikit Learn"
   ]
  },
  {
   "cell_type": "code",
   "execution_count": 25,
   "metadata": {
    "ExecuteTime": {
     "end_time": "2020-07-02T22:55:58.005052Z",
     "start_time": "2020-07-02T22:55:57.438203Z"
    }
   },
   "outputs": [
    {
     "name": "stdout",
     "output_type": "stream",
     "text": [
      "len of train_set: 168\n",
      "len of test_set: 23\n",
      "len of val_set: 34\n"
     ]
    }
   ],
   "source": [
    "train_ratio = 0.75\n",
    "validation_ratio = 0.15\n",
    "test_ratio = 0.10\n",
    "\n",
    "# train is now 75% of the entire data set\n",
    "# the _junk suffix means that we drop that variable completely\n",
    "train_set, test_set = train_test_split(completedf, test_size=1 - train_ratio, random_state=0)\n",
    "\n",
    "# test is now 10% of the initial data set\n",
    "# validation is now 15% of the initial data set\n",
    "val_set, test_set = train_test_split(test_set, test_size=test_ratio/\n",
    "                                     (test_ratio + validation_ratio), random_state=0) \n",
    "print('len of train_set: '+ str(len(train_set)))\n",
    "print('len of test_set: '+ str(len(test_set)))\n",
    "print('len of val_set: '+ str(len(val_set)))\n",
    "#print(x_train, x_val, x_test)\n",
    "train_set.to_csv('train_set.csv', index=False)\n",
    "test_set.to_csv('test_set.csv', index=False)\n",
    "val_set.to_csv('val_set.csv', index=False)"
   ]
  },
  {
   "cell_type": "code",
   "execution_count": 28,
   "metadata": {
    "ExecuteTime": {
     "end_time": "2020-07-02T22:56:42.000973Z",
     "start_time": "2020-07-02T22:56:41.960877Z"
    }
   },
   "outputs": [
    {
     "name": "stdout",
     "output_type": "stream",
     "text": [
      "len of train_set Speed mode: 18\n",
      "len of val_set Speed mode: 4\n",
      "len of test_set Speed mode: 4\n",
      "len of train_set fist_pump: 49\n",
      "len of val_set fist_pump: 6\n",
      "len of test_set fist_pump: 5\n",
      "len of train_set single_wave: 43\n",
      "len of val_set single_wave: 11\n",
      "len of test_set single_wave: 7\n",
      "len of train_set random_motion: 58\n",
      "len of val_set random_motion: 13\n",
      "len of test_set random_motion: 7\n"
     ]
    }
   ],
   "source": [
    "print('len of train_set Speed mode: '+ str(len(train_set.query('gesture == \"speed_mode\"'))))\n",
    "print('len of val_set Speed mode: '+ str(len(val_set.query('gesture == \"speed_mode\"'))))\n",
    "print('len of test_set Speed mode: '+ str(len(test_set.query('gesture == \"speed_mode\"'))))\n",
    "\n",
    "print('len of train_set fist_pump: '+ str(len(train_set.query('gesture == \"fist_pump\"'))))\n",
    "print('len of val_set fist_pump: '+ str(len(val_set.query('gesture == \"fist_pump\"'))))\n",
    "print('len of test_set fist_pump: '+ str(len(test_set.query('gesture == \"fist_pump\"'))))\n",
    "\n",
    "print('len of train_set single_wave: '+ str(len(train_set.query('gesture == \"single_wave\"'))))\n",
    "print('len of val_set single_wave: '+ str(len(val_set.query('gesture == \"single_wave\"'))))\n",
    "print('len of test_set single_wave: '+ str(len(test_set.query('gesture == \"single_wave\"'))))\n",
    "\n",
    "print('len of train_set random_motion: '+ str(len(train_set.query('gesture == \"random_motion\"'))))\n",
    "print('len of val_set random_motion: '+ str(len(val_set.query('gesture == \"random_motion\"'))))\n",
    "print('len of test_set random_motion: '+ str(len(test_set.query('gesture == \"random_motion\"'))))"
   ]
  },
  {
   "cell_type": "markdown",
   "metadata": {},
   "source": [
    "## Using Pandas"
   ]
  },
  {
   "cell_type": "code",
   "execution_count": null,
   "metadata": {},
   "outputs": [],
   "source": [
    "completedf_copy= completedf.copy()\n",
    "train_set1 = completedf_copy.sample(frac=0.75, random_state=4)\n",
    "test_set1 = completedf_copy.drop(train_set1.index)\n",
    "val_set1 = test_set1.sample(frac=0.6, random_state=4)\n",
    "test_set1 = test_set1.drop(val_set.index)"
   ]
  },
  {
   "cell_type": "code",
   "execution_count": null,
   "metadata": {},
   "outputs": [],
   "source": [
    "print(len(train_set),len(val_set),len(test_set))\n",
    "\n",
    "print('len of x_train Speed mode: '+ str(len(train_set.query('gesture == \"speed_mode\"'))))\n",
    "print('len of x_val Speed mode: '+ str(len(x_val.query('gesture == \"speed_mode\"'))))\n",
    "print('len of x_test Speed mode: '+ str(len(test_set.query('gesture == \"speed_mode\"'))))\n",
    "\n",
    "print('len of x_train fist_pump: '+ str(len(train_set.query('gesture == \"fist_pump\"'))))\n",
    "print('len of x_val fist_pump: '+ str(len(x_val.query('gesture == \"fist_pump\"'))))\n",
    "print('len of x_test fist_pump: '+ str(len(test_set.query('gesture == \"fist_pump\"'))))\n",
    "\n",
    "print('len of x_train single_wave: '+ str(len(train_set.query('gesture == \"single_wave\"'))))\n",
    "print('len of x_val single_wave: '+ str(len(x_val.query('gesture == \"single_wave\"'))))\n",
    "print('len of x_test single_wave: '+ str(len(test_set.query('gesture == \"single_wave\"'))))\n",
    "\n",
    "print('len of x_train random_motion: '+ str(len(train_set.query('gesture == \"random_motion\"'))))\n",
    "print('len of x_val random_motion: '+ str(len(x_val.query('gesture == \"random_motion\"'))))\n",
    "print('len of x_test random_motion: '+ str(len(test_set.query('gesture == \"random_motion\"'))))"
   ]
  },
  {
   "cell_type": "markdown",
   "metadata": {},
   "source": [
    "# Data Processing"
   ]
  },
  {
   "cell_type": "markdown",
   "metadata": {},
   "source": [
    "## Load Data From CSV"
   ]
  },
  {
   "cell_type": "code",
   "execution_count": 2,
   "metadata": {
    "ExecuteTime": {
     "end_time": "2020-07-04T17:28:30.319072Z",
     "start_time": "2020-07-04T17:28:30.308722Z"
    }
   },
   "outputs": [
    {
     "name": "stdout",
     "output_type": "stream",
     "text": [
      "/app/data/Training_Data\n"
     ]
    }
   ],
   "source": [
    "cd ../Training_Data"
   ]
  },
  {
   "cell_type": "code",
   "execution_count": 4,
   "metadata": {
    "ExecuteTime": {
     "end_time": "2020-07-04T17:28:39.964916Z",
     "start_time": "2020-07-04T17:28:38.774597Z"
    }
   },
   "outputs": [],
   "source": [
    "train_set = pd.read_csv('train_set.csv',converters={'acceleration': eval})\n",
    "test_set = pd.read_csv('test_set.csv',converters={'acceleration': eval})\n",
    "val_set = pd.read_csv('val_set.csv',converters={'acceleration': eval})"
   ]
  },
  {
   "cell_type": "markdown",
   "metadata": {},
   "source": [
    "## Augment Training Data"
   ]
  },
  {
   "cell_type": "markdown",
   "metadata": {},
   "source": [
    "Why I'm augmenting my Training Data. At the time of creation, I have 168 gesture recordings. each consisting of roughly 750 samples. That is too small a number of samples to really train a model. I want to create a tensorflow lite model I can put onto my micro-controller. So how to get more gesture recordings? \n",
    "\n",
    "1) I can take more data points, but this will take me some time\n",
    "\n",
    "2) I can manipulate and save that manipulated recording as a new sample. \n",
    "\n",
    "Augmentation has another advantage over just creating more data, it helps to reduce overfitting. \n",
    "\n",
    "\n",
    "What augmentation makes sense for for my data? My data is a time series of x,y,z accelerations, of my arm moving. Thinking about myself, I can do the gesture faster and slower, more theatrical or reserved, and more cleanly or more sloppily. Luckily, I can mimic those types of changes with different algorithms. \n",
    "\n",
    "1) Increase and decrease the magnitudes of the xyz data\n",
    "\n",
    "2) Shift the data to complete faster or slower. Time stretch/shrink\n",
    "\n",
    "3) Add some noise to the data points\n",
    "\n",
    "4) Increase and decrease the the xyz data uniformly \n",
    "\n",
    "5) Shift the time window around the data, making the data start sooner or later"
   ]
  },
  {
   "cell_type": "code",
   "execution_count": 5,
   "metadata": {
    "ExecuteTime": {
     "end_time": "2020-07-04T17:28:44.890586Z",
     "start_time": "2020-07-04T17:28:41.725876Z"
    }
   },
   "outputs": [],
   "source": [
    "fract=[(3, 2), (5, 3), (2, 3), (3, 4), (9, 5), (6, 5), (4, 5)] #for creating magnitues\n",
    "#magnitude shifting \n",
    "accel_sets = train_set['acceleration'].to_numpy()\n",
    "magnitude_set = []\n",
    "magnitude_labels=[]\n",
    "magnitudedf=pd.DataFrame(columns=['gesture','acceleration'])\n",
    "for idx1, aset in enumerate(accel_sets):\n",
    "    for molecule, denominator in fract:\n",
    "        magSeries = pd.Series(data={'gesture': train_set['gesture'][idx1],\n",
    "                                    'acceleration':(np.array(aset, dtype=np.float32) * \n",
    "                                                    molecule / denominator).tolist()})\n",
    "        magnitudedf_temp=pd.DataFrame([magSeries])\n",
    "        magnitudedf=pd.concat([magnitudedf,magnitudedf_temp], ignore_index=True) "
   ]
  },
  {
   "cell_type": "code",
   "execution_count": 6,
   "metadata": {
    "ExecuteTime": {
     "end_time": "2020-07-04T17:28:49.707261Z",
     "start_time": "2020-07-04T17:28:44.893859Z"
    }
   },
   "outputs": [],
   "source": [
    "# Time stretch and shrink\n",
    "def time_wrapping(molecule, denominator, data):\n",
    "    \"\"\"Generate (molecule/denominator)x speed data.\"\"\"\n",
    "    tmp_data = [[0 for i in range(len(data[0]))] \n",
    "                for j in range((int(len(data) / molecule) - 1) * denominator)]\n",
    "    for i in range(int(len(data) / molecule) - 1):\n",
    "        for j in range(len(data[i])):\n",
    "            for k in range(denominator):\n",
    "                tmp_data[denominator * i +\n",
    "                         k][j] = (data[molecule * i + k][j] * (denominator - k) +\n",
    "                                  data[molecule * i + k + 1][j] * k) / denominator\n",
    "    return tmp_data\n",
    "\n",
    "timedf=pd.DataFrame(columns=['gesture','acceleration'])\n",
    "for idx1, aset in enumerate(accel_sets):\n",
    "    shiftedAccels =[]\n",
    "    for molecule, denominator in fract:\n",
    "        shiftedAccels=time_wrapping(molecule, denominator, aset)\n",
    "        timeSeries = pd.Series(data={'gesture': train_set['gesture'][idx1],\n",
    "                                     'acceleration':shiftedAccels})\n",
    "        timedf_temp=pd.DataFrame([timeSeries])\n",
    "        timedf=pd.concat([timedf,timedf_temp], ignore_index=True) "
   ]
  },
  {
   "cell_type": "code",
   "execution_count": 7,
   "metadata": {
    "ExecuteTime": {
     "end_time": "2020-07-04T17:28:52.849343Z",
     "start_time": "2020-07-04T17:28:49.710117Z"
    }
   },
   "outputs": [],
   "source": [
    "# Add Noise \n",
    "noisedf=pd.DataFrame(columns=['gesture','acceleration'])\n",
    "noiseyAccels =[]\n",
    "for idx1, aset in enumerate(accel_sets):\n",
    "    for t in range(5):\n",
    "        tmp_data = [[0 for i in range(len(aset[0]))] for j in range(len(aset))]\n",
    "        for q in range(len(aset)):\n",
    "            for j in range(len(aset[q])):\n",
    "                  tmp_data[q][j] = aset[q][j] + 4 * random.random()\n",
    "        noiseSeries = pd.Series(data={'gesture': train_set['gesture'][idx1],\n",
    "                                      'acceleration':tmp_data})  \n",
    "        noisedf_temp=pd.DataFrame([noiseSeries])\n",
    "        noisedf=pd.concat([noisedf,noisedf_temp], ignore_index=True)"
   ]
  },
  {
   "cell_type": "code",
   "execution_count": 8,
   "metadata": {
    "ExecuteTime": {
     "end_time": "2020-07-04T17:28:55.036347Z",
     "start_time": "2020-07-04T17:28:52.851050Z"
    }
   },
   "outputs": [],
   "source": [
    "# Shift data uniformily up or down in mag\n",
    "shiftdf=pd.DataFrame(columns=['gesture','acceleration'])\n",
    "for idx1, aset in enumerate(accel_sets):\n",
    "    for i in range(5):\n",
    "        shiftSeries = pd.Series(data={'gesture': train_set['gesture'][idx1],\n",
    "                                      'acceleration':(np.array(aset, dtype=np.float32)+\n",
    "                                                      ((random.random()- 0.5)*50)).tolist()})\n",
    "        shiftdf_temp=pd.DataFrame([shiftSeries])\n",
    "        shiftdf=pd.concat([shiftdf,shiftdf_temp], ignore_index=True)"
   ]
  },
  {
   "cell_type": "markdown",
   "metadata": {},
   "source": [
    "Lets add all the databases together "
   ]
  },
  {
   "cell_type": "code",
   "execution_count": 9,
   "metadata": {
    "ExecuteTime": {
     "end_time": "2020-07-04T17:28:55.048134Z",
     "start_time": "2020-07-04T17:28:55.038119Z"
    }
   },
   "outputs": [],
   "source": [
    "processedTrain_set = pd.DataFrame(columns=['gesture','acceleration'])\n",
    "processedTrain_set = pd.concat([train_set,magnitudedf, timedf, noisedf, shiftdf], \n",
    "                              ignore_index=True)\n",
    "processedTrain_set.to_csv('augment_train_data.csv', index=False)"
   ]
  },
  {
   "cell_type": "markdown",
   "metadata": {},
   "source": [
    "## Gesture Length's Inconsistency "
   ]
  },
  {
   "cell_type": "markdown",
   "metadata": {},
   "source": [
    "You can see in the Arduino sketch and the subsequent python data logging sketch that I did not give it a sampling rate, or the frequency at which samples are taken. So I will have an inconsistent number of data points for each motion captured. With an unknown number of data points in each sample it can become difficult to train a machine learning model. So why did I choose to do this to my data?\n",
    "\n",
    "1. I wanted to test the consistency of my sensor and micro-controller real max data acquisition. With this knowledge I can set a fast but realistic sampling rate. \n",
    "2. The real world is filled with messy data. I wanted to gather a data set that I would have to process to use in model training. \n",
    "\n",
    "\n",
    "From the Data exploration it seems that the number of samples for each motion is roughly between 250-260 samples per second or 750-780 samples for a single gesture. \n",
    "The output of the processed data should be a consistent number, because we need a known number of inputs into our model. This number will be 760 data points. "
   ]
  },
  {
   "cell_type": "code",
   "execution_count": 13,
   "metadata": {
    "ExecuteTime": {
     "end_time": "2020-07-04T17:29:17.894571Z",
     "start_time": "2020-07-04T17:29:17.889279Z"
    },
    "scrolled": true
   },
   "outputs": [
    {
     "name": "stdout",
     "output_type": "stream",
     "text": [
      "760.8633333333333\n"
     ]
    }
   ],
   "source": []
  },
  {
   "cell_type": "code",
   "execution_count": 12,
   "metadata": {
    "ExecuteTime": {
     "end_time": "2020-07-04T17:29:16.704578Z",
     "start_time": "2020-07-04T17:29:16.701864Z"
    }
   },
   "outputs": [],
   "source": [
    "proc_acc = processedTrain_set['acceleration'].to_numpy()\n",
    "\n",
    "lensum=0\n",
    "for gest in proc_acc:\n",
    "    lensum+=len(gest)  \n",
    "print(lensum/len(proc_acc))"
   ]
  },
  {
   "cell_type": "code",
   "execution_count": 14,
   "metadata": {
    "ExecuteTime": {
     "end_time": "2020-07-04T17:29:21.416621Z",
     "start_time": "2020-07-04T17:29:21.410379Z"
    }
   },
   "outputs": [],
   "source": [
    "  def pad(data, seq_length, dim):\n",
    "    \"\"\"Get neighbour padding.\"\"\"\n",
    "    noise_level = 1\n",
    "    padded_data = []\n",
    "    # Before- Neighbour padding\n",
    "    tmp_data = (np.random.rand(seq_length, dim) - 0.5) * noise_level + data[0]\n",
    "    tmp_data[(seq_length -\n",
    "              min(len(data), seq_length)):] = data[:min(len(data), seq_length)]\n",
    "    padded_data.append(tmp_data)\n",
    "    # After- Neighbour padding\n",
    "    tmp_data = (np.random.rand(seq_length, dim) - 0.5) * noise_level + data[-1]\n",
    "    tmp_data[:min(len(data), seq_length)] = data[:min(len(data), seq_length)]\n",
    "    padded_data.append(tmp_data)\n",
    "    return padded_data"
   ]
  },
  {
   "cell_type": "code",
   "execution_count": null,
   "metadata": {
    "ExecuteTime": {
     "end_time": "2020-07-03T15:45:44.936059Z",
     "start_time": "2020-07-03T15:45:40.373940Z"
    }
   },
   "outputs": [],
   "source": []
  },
  {
   "cell_type": "code",
   "execution_count": 15,
   "metadata": {
    "ExecuteTime": {
     "end_time": "2020-07-04T17:31:15.095089Z",
     "start_time": "2020-07-04T17:29:23.590733Z"
    }
   },
   "outputs": [],
   "source": [
    "pad_train_df = pd.DataFrame(columns=['gesture','acceleration'])\n",
    "for idx4, proacc in enumerate(proc_acc):\n",
    "    pad_acc = pad(proacc,760,3)\n",
    "    for half in pad_acc:\n",
    "        padSeries = pd.Series(data={'gesture': processedTrain_set['gesture'][idx4],\n",
    "                                      'acceleration': half.tolist()})\n",
    "        paddf_temp=pd.DataFrame([padSeries])\n",
    "        pad_train_df=pd.concat([pad_train_df,paddf_temp], ignore_index=True)\n",
    "    "
   ]
  },
  {
   "cell_type": "code",
   "execution_count": 16,
   "metadata": {
    "ExecuteTime": {
     "end_time": "2020-07-04T17:31:15.588724Z",
     "start_time": "2020-07-04T17:31:15.141833Z"
    }
   },
   "outputs": [],
   "source": [
    "proc_acc = test_set['acceleration'].to_numpy()\n",
    "\n",
    "pad_test_df = pd.DataFrame(columns=['gesture','acceleration'])\n",
    "for idx4, proacc in enumerate(proc_acc):\n",
    "    pad_acc = pad(proacc,760,3)\n",
    "    for half in pad_acc:\n",
    "        padSeries = pd.Series(data={'gesture': test_set['gesture'][idx4],\n",
    "                                      'acceleration': half.tolist()})\n",
    "        paddf_temp=pd.DataFrame([padSeries])\n",
    "        pad_test_df=pd.concat([pad_test_df,paddf_temp], ignore_index=True)"
   ]
  },
  {
   "cell_type": "code",
   "execution_count": 17,
   "metadata": {
    "ExecuteTime": {
     "end_time": "2020-07-04T17:31:16.004536Z",
     "start_time": "2020-07-04T17:31:15.599412Z"
    }
   },
   "outputs": [],
   "source": [
    "proc_acc = val_set['acceleration'].to_numpy()\n",
    "\n",
    "pad_val_df = pd.DataFrame(columns=['gesture','acceleration'])\n",
    "for idx4, proacc in enumerate(proc_acc):\n",
    "    pad_acc = pad(proacc,760,3)\n",
    "    for half in pad_acc:\n",
    "        padSeries = pd.Series(data={'gesture': val_set['gesture'][idx4],\n",
    "                                      'acceleration': half.tolist()})\n",
    "        paddf_temp=pd.DataFrame([padSeries])\n",
    "        pad_val_df=pd.concat([pad_val_df,paddf_temp], ignore_index=True)"
   ]
  },
  {
   "cell_type": "code",
   "execution_count": 18,
   "metadata": {
    "ExecuteTime": {
     "end_time": "2020-07-04T17:31:16.050391Z",
     "start_time": "2020-07-04T17:31:16.012808Z"
    }
   },
   "outputs": [],
   "source": [
    "gest_id = {'single_wave': 0, 'fist_pump': 1, 'random_motion': 2, 'speed_mode': 3}\n",
    "pad_train_df['gesture'] = pad_train_df['gesture'].apply(lambda x: gest_id[x])\n",
    "pad_test_df['gesture'] = pad_test_df['gesture'].apply(lambda x: gest_id[x])\n",
    "pad_val_df['gesture'] = pad_val_df['gesture'].apply(lambda x: gest_id[x])"
   ]
  },
  {
   "cell_type": "code",
   "execution_count": null,
   "metadata": {
    "ExecuteTime": {
     "end_time": "2020-07-03T16:09:18.460423Z",
     "start_time": "2020-07-03T16:09:18.443200Z"
    }
   },
   "outputs": [],
   "source": []
  },
  {
   "cell_type": "code",
   "execution_count": 19,
   "metadata": {
    "ExecuteTime": {
     "end_time": "2020-07-04T17:31:44.431507Z",
     "start_time": "2020-07-04T17:31:16.052674Z"
    }
   },
   "outputs": [],
   "source": [
    "pad_val_df.to_csv('processed_val_set.csv', index=False)\n",
    "pad_test_df.to_csv('processed_test_set.csv', index=False)\n",
    "pad_train_df.to_csv('processed_train_set.csv', index=False)"
   ]
  },
  {
   "cell_type": "code",
   "execution_count": null,
   "metadata": {},
   "outputs": [],
   "source": []
  }
 ],
 "metadata": {
  "kernelspec": {
   "display_name": "Python 3",
   "language": "python",
   "name": "python3"
  },
  "language_info": {
   "codemirror_mode": {
    "name": "ipython",
    "version": 3
   },
   "file_extension": ".py",
   "mimetype": "text/x-python",
   "name": "python",
   "nbconvert_exporter": "python",
   "pygments_lexer": "ipython3",
   "version": "3.7.6"
  },
  "toc": {
   "base_numbering": 1,
   "nav_menu": {},
   "number_sections": true,
   "sideBar": true,
   "skip_h1_title": false,
   "title_cell": "Table of Contents",
   "title_sidebar": "Contents",
   "toc_cell": false,
   "toc_position": {},
   "toc_section_display": true,
   "toc_window_display": false
  }
 },
 "nbformat": 4,
 "nbformat_minor": 4
}
